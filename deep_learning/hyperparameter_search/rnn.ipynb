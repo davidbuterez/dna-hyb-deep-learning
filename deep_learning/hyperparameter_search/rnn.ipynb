{
 "cells": [
  {
   "cell_type": "markdown",
   "source": [
    "### Parts adapted from optuna code"
   ],
   "metadata": {}
  },
  {
   "cell_type": "code",
   "execution_count": 151,
   "source": [
    "MAX_LEN = 26\r\n",
    "LR = 0.0001\r\n",
    "BATCH_SIZE = 256"
   ],
   "outputs": [],
   "metadata": {}
  },
  {
   "cell_type": "code",
   "execution_count": 152,
   "source": [
    "import os\r\n",
    "import numpy as np\r\n",
    "import pandas as pd\r\n",
    "import deepdish as dd\r\n",
    "\r\n",
    "import pytorch_lightning as pl\r\n",
    "from pytorch_lightning.callbacks import EarlyStopping\r\n",
    "from pytorch_lightning.callbacks import ModelCheckpoint\r\n",
    "from pytorch_lightning.loggers import CometLogger\r\n",
    "\r\n",
    "import torch\r\n",
    "import torch.nn.functional as F\r\n",
    "from torch import nn\r\n",
    "from torch.utils.data import Dataset, DataLoader\r\n",
    "\r\n",
    "import optuna\r\n",
    "from optuna.integration import PyTorchLightningPruningCallback\r\n",
    "from torchnlp.encoders.text import CharacterEncoder, StaticTokenizerEncoder"
   ],
   "outputs": [],
   "metadata": {}
  },
  {
   "cell_type": "code",
   "execution_count": 153,
   "source": [
    "from sklearn.metrics import confusion_matrix, precision_recall_fscore_support, roc_auc_score, roc_curve, matthews_corrcoef, plot_confusion_matrix\r\n",
    "from collections import defaultdict\r\n",
    "import seaborn as sns"
   ],
   "outputs": [],
   "metadata": {}
  },
  {
   "cell_type": "code",
   "execution_count": 155,
   "source": [
    "def split(X, y, split):\r\n",
    "    X_train, y_train, X_test, y_test = [], [], [], []\r\n",
    "    hist = [[], [], []]\r\n",
    "    for i, val in enumerate(y):\r\n",
    "        if val < 0.1:\r\n",
    "            hist[0].append((X[i], val))\r\n",
    "        elif val <= 0.90:\r\n",
    "            hist[1].append((X[i], val))\r\n",
    "        else:\r\n",
    "            hist[2].append((X[i], val))\r\n",
    "            \r\n",
    "    for h in hist:\r\n",
    "        np.random.shuffle(h)\r\n",
    "        limit = int(len(h) * split)\r\n",
    "        d1, d2 = h[:limit], h[limit:]\r\n",
    "        for pair in d1:\r\n",
    "            X_train.append(pair[0])\r\n",
    "            y_train.append(pair[1])\r\n",
    "        for pair in d2:\r\n",
    "            X_test.append(pair[0])\r\n",
    "            y_test.append(pair[1])\r\n",
    "            \r\n",
    "    return X_train, y_train, X_test, y_test"
   ],
   "outputs": [],
   "metadata": {}
  },
  {
   "cell_type": "code",
   "execution_count": 175,
   "source": [
    "class RNNRegression(pl.LightningModule):\r\n",
    "    def __init__(self, trial, vocab_size):\r\n",
    "        super(RNNRegression, self).__init__()\r\n",
    "        self.out_predictions = []\r\n",
    "        self.trial = trial\r\n",
    "        \r\n",
    "        self.emb_dim = trial.suggest_categorical('emb_dim', [16, 32, 64])\r\n",
    "        self.rnn_num_layers = trial.suggest_int('rnn_num_layers', 1, 4)\r\n",
    "        self.rnn_dropout = trial.suggest_float('rnn_dropout', 0.1, 0.5)\r\n",
    "        self.rnn_hidden_size = trial.suggest_categorical('rnn_hidden_size', (32, 64, 100))\r\n",
    "        self.classifier_dropout = trial.suggest_float('classifier_dropout', 0.1, 0.5)        \r\n",
    "        self.batch_size = trial.suggest_categorical('batch_size', (64, 128, 256))\r\n",
    "        self.lr = self.trial.suggest_loguniform('lr', 1e-4, 1e-1)\r\n",
    "        \r\n",
    "        print('Training RNN with: %d LSTM layers -- %d LSTM hidden size -- %.2f LSTM dropout -- %d embedding size -- %.2f classifier dropout -- %d batch size -- %.3f lr' % (self.rnn_num_layers, self.rnn_hidden_size, self.rnn_dropout, self.emb_dim, self.classifier_dropout, self.batch_size, self.lr))\r\n",
    "        \r\n",
    "        self.embeddings = nn.Embedding(vocab_size, self.emb_dim)\r\n",
    "        self.rnn = nn.LSTM(input_size=self.emb_dim, hidden_size=self.rnn_hidden_size, num_layers=self.rnn_num_layers, dropout=self.rnn_dropout, bidirectional=True, batch_first=True)\r\n",
    "        self.dropout = nn.Dropout(self.classifier_dropout)\r\n",
    "        self.linear = nn.Linear(2 * self.rnn_hidden_size, 1)\r\n",
    "        \r\n",
    "\r\n",
    "    def forward(self, x):\r\n",
    "        x = self.embeddings(x.long())\r\n",
    "        x, _ = self.rnn(x)\r\n",
    "        cls_token_emb = x[:, 0, :]\r\n",
    "        x = self.dropout(cls_token_emb)\r\n",
    "        x = self.linear(x)\r\n",
    "        return x\r\n",
    "    \r\n",
    "\r\n",
    "    def training_step(self, batch, batch_idx):\r\n",
    "        x, y = batch\r\n",
    "        train_out = self(x)\r\n",
    "        loss = F.mse_loss(torch.squeeze(train_out), y)\r\n",
    "        self.log('train_loss', loss)\r\n",
    "        return loss\r\n",
    "\r\n",
    "    \r\n",
    "    def configure_optimizers(self):\r\n",
    "        return torch.optim.Adam(self.parameters(), self.lr)\r\n",
    "    \r\n",
    "            \r\n",
    "    def validation_step(self, batch, batch_idx):\r\n",
    "        x, y = batch\r\n",
    "        val_out = self(x)\r\n",
    "        val_loss = F.mse_loss(torch.squeeze(val_out), y)\r\n",
    "        self.log('val_loss', val_loss)\r\n",
    "        return val_loss\r\n",
    "    \r\n",
    "            \r\n",
    "    def test_step(self, batch, batch_idx):\r\n",
    "        x, y = batch\r\n",
    "        test_out = self(x)\r\n",
    "        self.out_predictions.append(test_out)\r\n",
    "        test_loss = F.mse_loss(torch.squeeze(test_out), y)\r\n",
    "        self.log('test_loss', test_loss)\r\n",
    "        return test_loss\r\n",
    "    \r\n",
    "    \r\n",
    "    def train_dataloader(self):\r\n",
    "        return torch.utils.data.DataLoader(\r\n",
    "            list(zip(X_train, y_train)),\r\n",
    "            batch_size=self.batch_size,\r\n",
    "            shuffle=True,\r\n",
    "        )\r\n",
    "    \r\n",
    "\r\n",
    "    def val_dataloader(self):\r\n",
    "        return torch.utils.data.DataLoader(\r\n",
    "            list(zip(X_val, y_val)),\r\n",
    "            batch_size=self.batch_size,\r\n",
    "            shuffle=False,\r\n",
    "        )\r\n",
    "    \r\n",
    "    \r\n",
    "    def test_dataloader(self):\r\n",
    "        return torch.utils.data.DataLoader(\r\n",
    "            list(zip(X_test, y_test)),\r\n",
    "            batch_size=self.batch_size,\r\n",
    "            shuffle=False,\r\n",
    "        )"
   ],
   "outputs": [],
   "metadata": {}
  },
  {
   "cell_type": "code",
   "execution_count": 158,
   "source": [
    "train = dd.io.load('../splits/train.h5')\r\n",
    "val = dd.io.load('../splits/val.h5')\r\n",
    "test = dd.io.load('../splits/test.h5')\r\n",
    "y_train = np.load('../splits/y_train.npy')\r\n",
    "y_val = np.load('../splits/y_val.npy')\r\n",
    "y_test = np.load('../splits/y_test.npy')"
   ],
   "outputs": [],
   "metadata": {}
  },
  {
   "cell_type": "code",
   "execution_count": 159,
   "source": [
    "y_train = y_train * 100\r\n",
    "y_val = y_val * 100\r\n",
    "y_test = y_test * 100"
   ],
   "outputs": [],
   "metadata": {}
  },
  {
   "cell_type": "code",
   "execution_count": 160,
   "source": [
    "all_seqs = set()"
   ],
   "outputs": [],
   "metadata": {}
  },
  {
   "cell_type": "code",
   "execution_count": 161,
   "source": [
    "all_seqs.update([item[0] for item in train])\r\n",
    "all_seqs.update([item[1] for item in train])\r\n",
    "all_seqs.update([item[0] for item in val])\r\n",
    "all_seqs.update([item[1] for item in val])\r\n",
    "all_seqs.update([item[0] for item in test])\r\n",
    "all_seqs.update([item[1] for item in test])"
   ],
   "outputs": [],
   "metadata": {}
  },
  {
   "cell_type": "code",
   "execution_count": 162,
   "source": [
    "encoder = CharacterEncoder(all_seqs)"
   ],
   "outputs": [],
   "metadata": {}
  },
  {
   "cell_type": "code",
   "execution_count": 163,
   "source": [
    "encoder.vocab"
   ],
   "outputs": [
    {
     "output_type": "execute_result",
     "data": {
      "text/plain": [
       "['<pad>', '<unk>', '</s>', '<s>', '<copy>', 'A', 'C', 'T', 'G']"
      ]
     },
     "metadata": {},
     "execution_count": 163
    }
   ],
   "metadata": {}
  },
  {
   "cell_type": "code",
   "execution_count": 164,
   "source": [
    "enc_dict = dict(zip(encoder.vocab, range(len(encoder.vocab))))"
   ],
   "outputs": [],
   "metadata": {}
  },
  {
   "cell_type": "code",
   "execution_count": 165,
   "source": [
    "from torchnlp.encoders.text.default_reserved_tokens import DEFAULT_SOS_INDEX\r\n",
    "from torchnlp.encoders.text.default_reserved_tokens import DEFAULT_EOS_INDEX\r\n",
    "from torchnlp.encoders.text.default_reserved_tokens import DEFAULT_PADDING_INDEX"
   ],
   "outputs": [],
   "metadata": {}
  },
  {
   "cell_type": "code",
   "execution_count": 166,
   "source": [
    "def encode_for_rnn(seq, max_len):\r\n",
    "    # Default padding index is zero for the character encoder\r\n",
    "    nucl_dict = {'A': enc_dict['A'], 'C': enc_dict['C'], 'G': enc_dict['G'], 'T': enc_dict['T']}\r\n",
    "    mat = np.zeros(max_len, dtype=int)\r\n",
    "    \r\n",
    "    for i, nucl in enumerate(seq):\r\n",
    "        mat[i] = nucl_dict[nucl]\r\n",
    "    return mat\r\n",
    "\r\n",
    "def encode_pair_for_rnn(seq1, seq2, max_len):\r\n",
    "    enc1 = encode_for_rnn(seq1, max_len)\r\n",
    "    enc2 = encode_for_rnn(seq2, max_len)\r\n",
    "    return np.hstack((np.array([DEFAULT_SOS_INDEX]), enc1, np.array([DEFAULT_EOS_INDEX]), enc2, np.array([DEFAULT_EOS_INDEX])))"
   ],
   "outputs": [],
   "metadata": {}
  },
  {
   "cell_type": "code",
   "execution_count": 167,
   "source": [
    "X_train = [encode_pair_for_rnn(item[0], item[1], MAX_LEN) for item in train]\n",
    "X_val = [encode_pair_for_rnn(item[0], item[1], MAX_LEN) for item in val]\n",
    "X_test = [encode_pair_for_rnn(item[0], item[1], MAX_LEN) for item in test]"
   ],
   "outputs": [],
   "metadata": {}
  },
  {
   "cell_type": "code",
   "execution_count": 168,
   "source": [
    "X_train = np.array(X_train, dtype=np.dtype('d'))\n",
    "X_val = np.array(X_val, dtype=np.dtype('d'))\n",
    "X_test = np.array(X_test, dtype=np.dtype('d'))"
   ],
   "outputs": [],
   "metadata": {}
  },
  {
   "cell_type": "code",
   "execution_count": 169,
   "source": [
    "torch.set_default_tensor_type(torch.DoubleTensor)\n",
    "torch.set_default_dtype(torch.double)"
   ],
   "outputs": [],
   "metadata": {}
  },
  {
   "cell_type": "code",
   "execution_count": 170,
   "source": [
    "class MetricsCallback(pl.Callback):\n",
    "    \"\"\"PyTorch Lightning metric callback.\"\"\"\n",
    "\n",
    "    def __init__(self):\n",
    "        super().__init__()\n",
    "        self.metrics = []\n",
    "\n",
    "    def on_validation_end(self, trainer, pl_module):\n",
    "        self.metrics.append(trainer.callback_metrics)"
   ],
   "outputs": [],
   "metadata": {}
  },
  {
   "cell_type": "code",
   "execution_count": 172,
   "source": [
    "DIR = os.getcwd()\n",
    "MODEL_DIR = os.path.join(DIR, \"model_saved\")"
   ],
   "outputs": [],
   "metadata": {}
  },
  {
   "cell_type": "code",
   "execution_count": 173,
   "source": [
    "def objective(trial):\n",
    "    # Filenames for each trial must be made unique in order to access each checkpoint.\n",
    "    checkpoint_callback = pl.callbacks.ModelCheckpoint(\n",
    "        os.path.join(MODEL_DIR, \"trial_{}\".format(trial.number), \"{epoch}\"), monitor=\"val_loss\"\n",
    "    )\n",
    "    \n",
    "\n",
    "    # The default logger in PyTorch Lightning writes to event files to be consumed by\n",
    "    # TensorBoard. We don't use any logger here as it requires us to implement several abstract\n",
    "    # methods. Instead we setup a simple callback, that saves metrics from each validation step.\n",
    "    metrics_callback = MetricsCallback()\n",
    "    trainer = pl.Trainer(\n",
    "        max_epochs=5,\n",
    "        gpus=[0],\n",
    "        callbacks=[checkpoint_callback, metrics_callback, PyTorchLightningPruningCallback(trial, monitor=\"val_loss\")],\n",
    "    )\n",
    "\n",
    "    model = RNNRegression(trial, len(encoder.vocab))\n",
    "    trainer.fit(model)\n",
    "\n",
    "    return metrics_callback.metrics[-1][\"val_loss\"].item()"
   ],
   "outputs": [],
   "metadata": {}
  },
  {
   "cell_type": "code",
   "execution_count": null,
   "source": [
    "pruner = optuna.pruners.HyperbandPruner()\n",
    "\n",
    "study = optuna.create_study(direction=\"minimize\", pruner=pruner)\n",
    "study.optimize(objective, n_trials=50)\n",
    "\n",
    "print(\"Number of finished trials: {}\".format(len(study.trials)))\n",
    "\n",
    "print(\"Best trial:\")\n",
    "trial = study.best_trial\n",
    "\n",
    "print(\"  Value: {}\".format(trial.value))\n",
    "\n",
    "print(\"  Params: \")\n",
    "for key, value in trial.params.items():\n",
    "    print(\"    {}: {}\".format(key, value))"
   ],
   "outputs": [
    {
     "output_type": "stream",
     "name": "stderr",
     "text": [
      "\u001b[32m[I 2021-01-13 16:58:59,552]\u001b[0m A new study created in memory with name: no-name-6ebcb3d1-eecc-46f8-9381-54c3a3a7c97d\u001b[0m\n",
      "GPU available: True, used: True\n",
      "TPU available: None, using: 0 TPU cores\n",
      "LOCAL_RANK: 0 - CUDA_VISIBLE_DEVICES: [0,1]\n",
      "C:\\ProgramData\\Anaconda3\\envs\\pt-light-1.7.0\\lib\\site-packages\\torch\\nn\\modules\\rnn.py:58: UserWarning: dropout option adds dropout after all but last recurrent layer, so non-zero dropout expects num_layers greater than 1, but got dropout=0.2543327381422479 and num_layers=1\n",
      "  warnings.warn(\"dropout option adds dropout after all but last \"\n",
      "\n",
      "  | Name       | Type      | Params\n",
      "-----------------------------------------\n",
      "0 | embeddings | Embedding | 576   \n",
      "1 | rnn        | LSTM      | 66.6 K\n",
      "2 | dropout    | Dropout   | 0     \n",
      "3 | linear     | Linear    | 129   \n",
      "-----------------------------------------\n",
      "67.3 K    Trainable params\n",
      "0         Non-trainable params\n",
      "67.3 K    Total params\n"
     ]
    },
    {
     "output_type": "stream",
     "name": "stdout",
     "text": [
      "Training RNN with: 1 LSTM layers -- 64 LSTM hidden size -- 0.25 LSTM dropout -- 64 embedding size -- 0.20 classifier dropout -- 256 batch size -- 0.022 lr\n"
     ]
    },
    {
     "output_type": "display_data",
     "data": {
      "text/plain": [
       "Validation sanity check: |                                                                       | 0/? [00:00<…"
      ],
      "application/vnd.jupyter.widget-view+json": {
       "model_id": "",
       "version_major": 2,
       "version_minor": 0
      }
     },
     "metadata": {}
    },
    {
     "output_type": "display_data",
     "data": {
      "text/plain": [
       "Training: |                                                                                      | 0/? [00:00<…"
      ],
      "application/vnd.jupyter.widget-view+json": {
       "model_id": "4ce7fb81dc3a450f88fa2c56d61cdcc0",
       "version_major": 2,
       "version_minor": 0
      }
     },
     "metadata": {}
    },
    {
     "output_type": "display_data",
     "data": {
      "text/plain": [
       "Validating: |                                                                                    | 0/? [00:00<…"
      ],
      "application/vnd.jupyter.widget-view+json": {
       "model_id": "",
       "version_major": 2,
       "version_minor": 0
      }
     },
     "metadata": {}
    },
    {
     "output_type": "display_data",
     "data": {
      "text/plain": [
       "Validating: |                                                                                    | 0/? [00:00<…"
      ],
      "application/vnd.jupyter.widget-view+json": {
       "model_id": "",
       "version_major": 2,
       "version_minor": 0
      }
     },
     "metadata": {}
    },
    {
     "output_type": "display_data",
     "data": {
      "text/plain": [
       "Validating: |                                                                                    | 0/? [00:00<…"
      ],
      "application/vnd.jupyter.widget-view+json": {
       "model_id": "",
       "version_major": 2,
       "version_minor": 0
      }
     },
     "metadata": {}
    },
    {
     "output_type": "display_data",
     "data": {
      "text/plain": [
       "Validating: |                                                                                    | 0/? [00:00<…"
      ],
      "application/vnd.jupyter.widget-view+json": {
       "model_id": "",
       "version_major": 2,
       "version_minor": 0
      }
     },
     "metadata": {}
    },
    {
     "output_type": "display_data",
     "data": {
      "text/plain": [
       "Validating: |                                                                                    | 0/? [00:00<…"
      ],
      "application/vnd.jupyter.widget-view+json": {
       "model_id": "",
       "version_major": 2,
       "version_minor": 0
      }
     },
     "metadata": {}
    },
    {
     "output_type": "stream",
     "name": "stderr",
     "text": [
      "\u001b[32m[I 2021-01-13 17:37:38,167]\u001b[0m Trial 0 finished with value: 1914.484130859375 and parameters: {'emb_dim': 64, 'rnn_num_layers': 1, 'rnn_dropout': 0.2543327381422479, 'rnn_hidden_size': 64, 'classifier_dropout': 0.20442676131051318, 'batch_size': 256, 'lr': 0.02156036427505703}. Best is trial 0 with value: 1914.484130859375.\u001b[0m\n",
      "GPU available: True, used: True\n",
      "TPU available: None, using: 0 TPU cores\n",
      "LOCAL_RANK: 0 - CUDA_VISIBLE_DEVICES: [0,1]\n",
      "\n",
      "  | Name       | Type      | Params\n",
      "-----------------------------------------\n",
      "0 | embeddings | Embedding | 288   \n",
      "1 | rnn        | LSTM      | 832 K \n",
      "2 | dropout    | Dropout   | 0     \n",
      "3 | linear     | Linear    | 201   \n",
      "-----------------------------------------\n",
      "832 K     Trainable params\n",
      "0         Non-trainable params\n",
      "832 K     Total params\n"
     ]
    },
    {
     "output_type": "stream",
     "name": "stdout",
     "text": [
      "Training RNN with: 4 LSTM layers -- 100 LSTM hidden size -- 0.18 LSTM dropout -- 32 embedding size -- 0.18 classifier dropout -- 256 batch size -- 0.008 lr\n"
     ]
    },
    {
     "output_type": "display_data",
     "data": {
      "text/plain": [
       "Validation sanity check: |                                                                       | 0/? [00:00<…"
      ],
      "application/vnd.jupyter.widget-view+json": {
       "model_id": "",
       "version_major": 2,
       "version_minor": 0
      }
     },
     "metadata": {}
    },
    {
     "output_type": "display_data",
     "data": {
      "text/plain": [
       "Training: |                                                                                      | 0/? [00:00<…"
      ],
      "application/vnd.jupyter.widget-view+json": {
       "model_id": "70b0f226dd5d442c80159f80770cb925",
       "version_major": 2,
       "version_minor": 0
      }
     },
     "metadata": {}
    },
    {
     "output_type": "display_data",
     "data": {
      "text/plain": [
       "Validating: |                                                                                    | 0/? [00:00<…"
      ],
      "application/vnd.jupyter.widget-view+json": {
       "model_id": "",
       "version_major": 2,
       "version_minor": 0
      }
     },
     "metadata": {}
    },
    {
     "output_type": "display_data",
     "data": {
      "text/plain": [
       "Validating: |                                                                                    | 0/? [00:00<…"
      ],
      "application/vnd.jupyter.widget-view+json": {
       "model_id": "",
       "version_major": 2,
       "version_minor": 0
      }
     },
     "metadata": {}
    },
    {
     "output_type": "display_data",
     "data": {
      "text/plain": [
       "Validating: |                                                                                    | 0/? [00:00<…"
      ],
      "application/vnd.jupyter.widget-view+json": {
       "model_id": "",
       "version_major": 2,
       "version_minor": 0
      }
     },
     "metadata": {}
    },
    {
     "output_type": "display_data",
     "data": {
      "text/plain": [
       "Validating: |                                                                                    | 0/? [00:00<…"
      ],
      "application/vnd.jupyter.widget-view+json": {
       "model_id": "",
       "version_major": 2,
       "version_minor": 0
      }
     },
     "metadata": {}
    },
    {
     "output_type": "display_data",
     "data": {
      "text/plain": [
       "Validating: |                                                                                    | 0/? [00:00<…"
      ],
      "application/vnd.jupyter.widget-view+json": {
       "model_id": "",
       "version_major": 2,
       "version_minor": 0
      }
     },
     "metadata": {}
    },
    {
     "output_type": "stream",
     "name": "stderr",
     "text": [
      "\u001b[32m[I 2021-01-14 00:55:29,754]\u001b[0m Trial 1 finished with value: 1914.5076904296875 and parameters: {'emb_dim': 32, 'rnn_num_layers': 4, 'rnn_dropout': 0.17894970186349637, 'rnn_hidden_size': 100, 'classifier_dropout': 0.17682073181772143, 'batch_size': 256, 'lr': 0.007915814929969959}. Best is trial 0 with value: 1914.484130859375.\u001b[0m\n",
      "GPU available: True, used: True\n",
      "TPU available: None, using: 0 TPU cores\n",
      "LOCAL_RANK: 0 - CUDA_VISIBLE_DEVICES: [0,1]\n",
      "\n",
      "  | Name       | Type      | Params\n",
      "-----------------------------------------\n",
      "0 | embeddings | Embedding | 288   \n",
      "1 | rnn        | LSTM      | 92.2 K\n",
      "2 | dropout    | Dropout   | 0     \n",
      "3 | linear     | Linear    | 65    \n",
      "-----------------------------------------\n",
      "92.5 K    Trainable params\n",
      "0         Non-trainable params\n",
      "92.5 K    Total params\n"
     ]
    },
    {
     "output_type": "stream",
     "name": "stdout",
     "text": [
      "Training RNN with: 4 LSTM layers -- 32 LSTM hidden size -- 0.20 LSTM dropout -- 32 embedding size -- 0.41 classifier dropout -- 128 batch size -- 0.054 lr\n"
     ]
    },
    {
     "output_type": "display_data",
     "data": {
      "text/plain": [
       "Validation sanity check: |                                                                       | 0/? [00:00<…"
      ],
      "application/vnd.jupyter.widget-view+json": {
       "model_id": "",
       "version_major": 2,
       "version_minor": 0
      }
     },
     "metadata": {}
    },
    {
     "output_type": "display_data",
     "data": {
      "text/plain": [
       "Training: |                                                                                      | 0/? [00:00<…"
      ],
      "application/vnd.jupyter.widget-view+json": {
       "model_id": "a9a87a05506f4ff2b835f92c853ab13c",
       "version_major": 2,
       "version_minor": 0
      }
     },
     "metadata": {}
    },
    {
     "output_type": "display_data",
     "data": {
      "text/plain": [
       "Validating: |                                                                                    | 0/? [00:00<…"
      ],
      "application/vnd.jupyter.widget-view+json": {
       "model_id": "",
       "version_major": 2,
       "version_minor": 0
      }
     },
     "metadata": {}
    },
    {
     "output_type": "display_data",
     "data": {
      "text/plain": [
       "Validating: |                                                                                    | 0/? [00:00<…"
      ],
      "application/vnd.jupyter.widget-view+json": {
       "model_id": "",
       "version_major": 2,
       "version_minor": 0
      }
     },
     "metadata": {}
    },
    {
     "output_type": "display_data",
     "data": {
      "text/plain": [
       "Validating: |                                                                                    | 0/? [00:00<…"
      ],
      "application/vnd.jupyter.widget-view+json": {
       "model_id": "",
       "version_major": 2,
       "version_minor": 0
      }
     },
     "metadata": {}
    },
    {
     "output_type": "display_data",
     "data": {
      "text/plain": [
       "Validating: |                                                                                    | 0/? [00:00<…"
      ],
      "application/vnd.jupyter.widget-view+json": {
       "model_id": "",
       "version_major": 2,
       "version_minor": 0
      }
     },
     "metadata": {}
    },
    {
     "output_type": "display_data",
     "data": {
      "text/plain": [
       "Validating: |                                                                                    | 0/? [00:00<…"
      ],
      "application/vnd.jupyter.widget-view+json": {
       "model_id": "",
       "version_major": 2,
       "version_minor": 0
      }
     },
     "metadata": {}
    },
    {
     "output_type": "stream",
     "name": "stderr",
     "text": [
      "\u001b[32m[I 2021-01-14 06:44:15,083]\u001b[0m Trial 2 finished with value: 1917.0574951171875 and parameters: {'emb_dim': 32, 'rnn_num_layers': 4, 'rnn_dropout': 0.2047524596856407, 'rnn_hidden_size': 32, 'classifier_dropout': 0.4053578208870078, 'batch_size': 128, 'lr': 0.05448743606499471}. Best is trial 0 with value: 1914.484130859375.\u001b[0m\n",
      "GPU available: True, used: True\n",
      "TPU available: None, using: 0 TPU cores\n",
      "LOCAL_RANK: 0 - CUDA_VISIBLE_DEVICES: [0,1]\n",
      "\n",
      "  | Name       | Type      | Params\n",
      "-----------------------------------------\n",
      "0 | embeddings | Embedding | 288   \n",
      "1 | rnn        | LSTM      | 92.2 K\n",
      "2 | dropout    | Dropout   | 0     \n",
      "3 | linear     | Linear    | 65    \n",
      "-----------------------------------------\n",
      "92.5 K    Trainable params\n",
      "0         Non-trainable params\n",
      "92.5 K    Total params\n"
     ]
    },
    {
     "output_type": "stream",
     "name": "stdout",
     "text": [
      "Training RNN with: 4 LSTM layers -- 32 LSTM hidden size -- 0.33 LSTM dropout -- 32 embedding size -- 0.41 classifier dropout -- 64 batch size -- 0.012 lr\n"
     ]
    },
    {
     "output_type": "display_data",
     "data": {
      "text/plain": [
       "Validation sanity check: |                                                                       | 0/? [00:00<…"
      ],
      "application/vnd.jupyter.widget-view+json": {
       "model_id": "",
       "version_major": 2,
       "version_minor": 0
      }
     },
     "metadata": {}
    },
    {
     "output_type": "display_data",
     "data": {
      "text/plain": [
       "Training: |                                                                                      | 0/? [00:00<…"
      ],
      "application/vnd.jupyter.widget-view+json": {
       "model_id": "991c33573e4040c981424d929267f841",
       "version_major": 2,
       "version_minor": 0
      }
     },
     "metadata": {}
    },
    {
     "output_type": "display_data",
     "data": {
      "text/plain": [
       "Validating: |                                                                                    | 0/? [00:00<…"
      ],
      "application/vnd.jupyter.widget-view+json": {
       "model_id": "",
       "version_major": 2,
       "version_minor": 0
      }
     },
     "metadata": {}
    },
    {
     "output_type": "display_data",
     "data": {
      "text/plain": [
       "Validating: |                                                                                    | 0/? [00:00<…"
      ],
      "application/vnd.jupyter.widget-view+json": {
       "model_id": "",
       "version_major": 2,
       "version_minor": 0
      }
     },
     "metadata": {}
    },
    {
     "output_type": "display_data",
     "data": {
      "text/plain": [
       "Validating: |                                                                                    | 0/? [00:00<…"
      ],
      "application/vnd.jupyter.widget-view+json": {
       "model_id": "",
       "version_major": 2,
       "version_minor": 0
      }
     },
     "metadata": {}
    },
    {
     "output_type": "display_data",
     "data": {
      "text/plain": [
       "Validating: |                                                                                    | 0/? [00:00<…"
      ],
      "application/vnd.jupyter.widget-view+json": {
       "model_id": "",
       "version_major": 2,
       "version_minor": 0
      }
     },
     "metadata": {}
    },
    {
     "output_type": "display_data",
     "data": {
      "text/plain": [
       "Validating: |                                                                                    | 0/? [00:00<…"
      ],
      "application/vnd.jupyter.widget-view+json": {
       "model_id": "",
       "version_major": 2,
       "version_minor": 0
      }
     },
     "metadata": {}
    },
    {
     "output_type": "stream",
     "name": "stderr",
     "text": [
      "\u001b[32m[I 2021-01-14 16:08:24,803]\u001b[0m Trial 3 finished with value: 1916.9569091796875 and parameters: {'emb_dim': 32, 'rnn_num_layers': 4, 'rnn_dropout': 0.3256889997384095, 'rnn_hidden_size': 32, 'classifier_dropout': 0.41198192011165924, 'batch_size': 64, 'lr': 0.011862820724622618}. Best is trial 0 with value: 1914.484130859375.\u001b[0m\n",
      "GPU available: True, used: True\n",
      "TPU available: None, using: 0 TPU cores\n",
      "LOCAL_RANK: 0 - CUDA_VISIBLE_DEVICES: [0,1]\n",
      "C:\\ProgramData\\Anaconda3\\envs\\pt-light-1.7.0\\lib\\site-packages\\torch\\nn\\modules\\rnn.py:58: UserWarning: dropout option adds dropout after all but last recurrent layer, so non-zero dropout expects num_layers greater than 1, but got dropout=0.35160873505299706 and num_layers=1\n",
      "  warnings.warn(\"dropout option adds dropout after all but last \"\n",
      "\n",
      "  | Name       | Type      | Params\n",
      "-----------------------------------------\n",
      "0 | embeddings | Embedding | 288   \n",
      "1 | rnn        | LSTM      | 50.2 K\n",
      "2 | dropout    | Dropout   | 0     \n",
      "3 | linear     | Linear    | 129   \n",
      "-----------------------------------------\n",
      "50.6 K    Trainable params\n",
      "0         Non-trainable params\n",
      "50.6 K    Total params\n"
     ]
    },
    {
     "output_type": "stream",
     "name": "stdout",
     "text": [
      "Training RNN with: 1 LSTM layers -- 64 LSTM hidden size -- 0.35 LSTM dropout -- 32 embedding size -- 0.18 classifier dropout -- 256 batch size -- 0.000 lr\n"
     ]
    },
    {
     "output_type": "display_data",
     "data": {
      "text/plain": [
       "Validation sanity check: |                                                                       | 0/? [00:00<…"
      ],
      "application/vnd.jupyter.widget-view+json": {
       "model_id": "",
       "version_major": 2,
       "version_minor": 0
      }
     },
     "metadata": {}
    },
    {
     "output_type": "display_data",
     "data": {
      "text/plain": [
       "Training: |                                                                                      | 0/? [00:00<…"
      ],
      "application/vnd.jupyter.widget-view+json": {
       "model_id": "11f5e8dac9204500aecf4a8e039b814b",
       "version_major": 2,
       "version_minor": 0
      }
     },
     "metadata": {}
    },
    {
     "output_type": "display_data",
     "data": {
      "text/plain": [
       "Validating: |                                                                                    | 0/? [00:00<…"
      ],
      "application/vnd.jupyter.widget-view+json": {
       "model_id": "",
       "version_major": 2,
       "version_minor": 0
      }
     },
     "metadata": {}
    },
    {
     "output_type": "display_data",
     "data": {
      "text/plain": [
       "Validating: |                                                                                    | 0/? [00:00<…"
      ],
      "application/vnd.jupyter.widget-view+json": {
       "model_id": "",
       "version_major": 2,
       "version_minor": 0
      }
     },
     "metadata": {}
    },
    {
     "output_type": "display_data",
     "data": {
      "text/plain": [
       "Validating: |                                                                                    | 0/? [00:00<…"
      ],
      "application/vnd.jupyter.widget-view+json": {
       "model_id": "",
       "version_major": 2,
       "version_minor": 0
      }
     },
     "metadata": {}
    },
    {
     "output_type": "display_data",
     "data": {
      "text/plain": [
       "Validating: |                                                                                    | 0/? [00:00<…"
      ],
      "application/vnd.jupyter.widget-view+json": {
       "model_id": "",
       "version_major": 2,
       "version_minor": 0
      }
     },
     "metadata": {}
    },
    {
     "output_type": "display_data",
     "data": {
      "text/plain": [
       "Validating: |                                                                                    | 0/? [00:00<…"
      ],
      "application/vnd.jupyter.widget-view+json": {
       "model_id": "",
       "version_major": 2,
       "version_minor": 0
      }
     },
     "metadata": {}
    },
    {
     "output_type": "stream",
     "name": "stderr",
     "text": [
      "\u001b[32m[I 2021-01-14 16:49:23,169]\u001b[0m Trial 4 finished with value: 248.65655517578125 and parameters: {'emb_dim': 32, 'rnn_num_layers': 1, 'rnn_dropout': 0.35160873505299706, 'rnn_hidden_size': 64, 'classifier_dropout': 0.17590544936121116, 'batch_size': 256, 'lr': 0.0003369189953022087}. Best is trial 4 with value: 248.65655517578125.\u001b[0m\n",
      "GPU available: True, used: True\n",
      "TPU available: None, using: 0 TPU cores\n",
      "LOCAL_RANK: 0 - CUDA_VISIBLE_DEVICES: [0,1]\n",
      "C:\\ProgramData\\Anaconda3\\envs\\pt-light-1.7.0\\lib\\site-packages\\torch\\nn\\modules\\rnn.py:58: UserWarning: dropout option adds dropout after all but last recurrent layer, so non-zero dropout expects num_layers greater than 1, but got dropout=0.43639847286122724 and num_layers=1\n",
      "  warnings.warn(\"dropout option adds dropout after all but last \"\n",
      "\n",
      "  | Name       | Type      | Params\n",
      "-----------------------------------------\n",
      "0 | embeddings | Embedding | 576   \n",
      "1 | rnn        | LSTM      | 132 K \n",
      "2 | dropout    | Dropout   | 0     \n",
      "3 | linear     | Linear    | 201   \n",
      "-----------------------------------------\n",
      "133 K     Trainable params\n",
      "0         Non-trainable params\n",
      "133 K     Total params\n"
     ]
    },
    {
     "output_type": "stream",
     "name": "stdout",
     "text": [
      "Training RNN with: 1 LSTM layers -- 100 LSTM hidden size -- 0.44 LSTM dropout -- 64 embedding size -- 0.31 classifier dropout -- 256 batch size -- 0.000 lr\n"
     ]
    },
    {
     "output_type": "display_data",
     "data": {
      "text/plain": [
       "Validation sanity check: |                                                                       | 0/? [00:00<…"
      ],
      "application/vnd.jupyter.widget-view+json": {
       "model_id": "",
       "version_major": 2,
       "version_minor": 0
      }
     },
     "metadata": {}
    },
    {
     "output_type": "display_data",
     "data": {
      "text/plain": [
       "Training: |                                                                                      | 0/? [00:00<…"
      ],
      "application/vnd.jupyter.widget-view+json": {
       "model_id": "f1007413051246ed9116914e3488bbaf",
       "version_major": 2,
       "version_minor": 0
      }
     },
     "metadata": {}
    },
    {
     "output_type": "display_data",
     "data": {
      "text/plain": [
       "Validating: |                                                                                    | 0/? [00:00<…"
      ],
      "application/vnd.jupyter.widget-view+json": {
       "model_id": "",
       "version_major": 2,
       "version_minor": 0
      }
     },
     "metadata": {}
    },
    {
     "output_type": "display_data",
     "data": {
      "text/plain": [
       "Validating: |                                                                                    | 0/? [00:00<…"
      ],
      "application/vnd.jupyter.widget-view+json": {
       "model_id": "",
       "version_major": 2,
       "version_minor": 0
      }
     },
     "metadata": {}
    },
    {
     "output_type": "display_data",
     "data": {
      "text/plain": [
       "Validating: |                                                                                    | 0/? [00:00<…"
      ],
      "application/vnd.jupyter.widget-view+json": {
       "model_id": "",
       "version_major": 2,
       "version_minor": 0
      }
     },
     "metadata": {}
    },
    {
     "output_type": "display_data",
     "data": {
      "text/plain": [
       "Validating: |                                                                                    | 0/? [00:00<…"
      ],
      "application/vnd.jupyter.widget-view+json": {
       "model_id": "c7e70e2c98af47f7a8d67279e2748955",
       "version_major": 2,
       "version_minor": 0
      }
     },
     "metadata": {}
    },
    {
     "output_type": "stream",
     "name": "stderr",
     "text": [
      "\u001b[32m[I 2021-01-14 17:40:35,143]\u001b[0m Trial 5 pruned. Trial was pruned at epoch 3.\u001b[0m\n",
      "GPU available: True, used: True\n",
      "TPU available: None, using: 0 TPU cores\n",
      "LOCAL_RANK: 0 - CUDA_VISIBLE_DEVICES: [0,1]\n",
      "\n",
      "  | Name       | Type      | Params\n",
      "-----------------------------------------\n",
      "0 | embeddings | Embedding | 576   \n",
      "1 | rnn        | LSTM      | 50.2 K\n",
      "2 | dropout    | Dropout   | 0     \n",
      "3 | linear     | Linear    | 65    \n",
      "-----------------------------------------\n",
      "50.8 K    Trainable params\n",
      "0         Non-trainable params\n",
      "50.8 K    Total params\n"
     ]
    },
    {
     "output_type": "stream",
     "name": "stdout",
     "text": [
      "Training RNN with: 2 LSTM layers -- 32 LSTM hidden size -- 0.44 LSTM dropout -- 64 embedding size -- 0.19 classifier dropout -- 128 batch size -- 0.020 lr\n"
     ]
    },
    {
     "output_type": "display_data",
     "data": {
      "text/plain": [
       "Validation sanity check: |                                                                       | 0/? [00:00<…"
      ],
      "application/vnd.jupyter.widget-view+json": {
       "model_id": "",
       "version_major": 2,
       "version_minor": 0
      }
     },
     "metadata": {}
    },
    {
     "output_type": "display_data",
     "data": {
      "text/plain": [
       "Training: |                                                                                      | 0/? [00:00<…"
      ],
      "application/vnd.jupyter.widget-view+json": {
       "model_id": "a489ac20f97447768c7223b291e995c4",
       "version_major": 2,
       "version_minor": 0
      }
     },
     "metadata": {}
    },
    {
     "output_type": "display_data",
     "data": {
      "text/plain": [
       "Validating: |                                                                                    | 0/? [00:00<…"
      ],
      "application/vnd.jupyter.widget-view+json": {
       "model_id": "",
       "version_major": 2,
       "version_minor": 0
      }
     },
     "metadata": {}
    },
    {
     "output_type": "display_data",
     "data": {
      "text/plain": [
       "Validating: |                                                                                    | 0/? [00:00<…"
      ],
      "application/vnd.jupyter.widget-view+json": {
       "model_id": "",
       "version_major": 2,
       "version_minor": 0
      }
     },
     "metadata": {}
    },
    {
     "output_type": "display_data",
     "data": {
      "text/plain": [
       "Validating: |                                                                                    | 0/? [00:00<…"
      ],
      "application/vnd.jupyter.widget-view+json": {
       "model_id": "",
       "version_major": 2,
       "version_minor": 0
      }
     },
     "metadata": {}
    },
    {
     "output_type": "display_data",
     "data": {
      "text/plain": [
       "Validating: |                                                                                    | 0/? [00:00<…"
      ],
      "application/vnd.jupyter.widget-view+json": {
       "model_id": "53c1238ba74f4d7588c10fdeb7b83fc9",
       "version_major": 2,
       "version_minor": 0
      }
     },
     "metadata": {}
    },
    {
     "output_type": "stream",
     "name": "stderr",
     "text": [
      "\u001b[32m[I 2021-01-14 19:28:55,020]\u001b[0m Trial 6 pruned. Trial was pruned at epoch 3.\u001b[0m\n",
      "GPU available: True, used: True\n",
      "TPU available: None, using: 0 TPU cores\n",
      "LOCAL_RANK: 0 - CUDA_VISIBLE_DEVICES: [0,1]\n",
      "C:\\ProgramData\\Anaconda3\\envs\\pt-light-1.7.0\\lib\\site-packages\\torch\\nn\\modules\\rnn.py:58: UserWarning: dropout option adds dropout after all but last recurrent layer, so non-zero dropout expects num_layers greater than 1, but got dropout=0.48717121648112494 and num_layers=1\n",
      "  warnings.warn(\"dropout option adds dropout after all but last \"\n",
      "\n",
      "  | Name       | Type      | Params\n",
      "-----------------------------------------\n",
      "0 | embeddings | Embedding | 576   \n",
      "1 | rnn        | LSTM      | 132 K \n",
      "2 | dropout    | Dropout   | 0     \n",
      "3 | linear     | Linear    | 201   \n",
      "-----------------------------------------\n",
      "133 K     Trainable params\n",
      "0         Non-trainable params\n",
      "133 K     Total params\n"
     ]
    },
    {
     "output_type": "stream",
     "name": "stdout",
     "text": [
      "Training RNN with: 1 LSTM layers -- 100 LSTM hidden size -- 0.49 LSTM dropout -- 64 embedding size -- 0.48 classifier dropout -- 64 batch size -- 0.002 lr\n"
     ]
    },
    {
     "output_type": "display_data",
     "data": {
      "text/plain": [
       "Validation sanity check: |                                                                       | 0/? [00:00<…"
      ],
      "application/vnd.jupyter.widget-view+json": {
       "model_id": "",
       "version_major": 2,
       "version_minor": 0
      }
     },
     "metadata": {}
    },
    {
     "output_type": "display_data",
     "data": {
      "text/plain": [
       "Training: |                                                                                      | 0/? [00:00<…"
      ],
      "application/vnd.jupyter.widget-view+json": {
       "model_id": "37af29c9f6e64293b5a58dc77a4cc032",
       "version_major": 2,
       "version_minor": 0
      }
     },
     "metadata": {}
    },
    {
     "output_type": "display_data",
     "data": {
      "text/plain": [
       "Validating: |                                                                                    | 0/? [00:00<…"
      ],
      "application/vnd.jupyter.widget-view+json": {
       "model_id": "",
       "version_major": 2,
       "version_minor": 0
      }
     },
     "metadata": {}
    },
    {
     "output_type": "display_data",
     "data": {
      "text/plain": [
       "Validating: |                                                                                    | 0/? [00:00<…"
      ],
      "application/vnd.jupyter.widget-view+json": {
       "model_id": "",
       "version_major": 2,
       "version_minor": 0
      }
     },
     "metadata": {}
    },
    {
     "output_type": "display_data",
     "data": {
      "text/plain": [
       "Validating: |                                                                                    | 0/? [00:00<…"
      ],
      "application/vnd.jupyter.widget-view+json": {
       "model_id": "",
       "version_major": 2,
       "version_minor": 0
      }
     },
     "metadata": {}
    },
    {
     "output_type": "display_data",
     "data": {
      "text/plain": [
       "Validating: |                                                                                    | 0/? [00:00<…"
      ],
      "application/vnd.jupyter.widget-view+json": {
       "model_id": "5e7d0ee47e8d48519b70a47436ae2ec6",
       "version_major": 2,
       "version_minor": 0
      }
     },
     "metadata": {}
    },
    {
     "output_type": "stream",
     "name": "stderr",
     "text": [
      "\u001b[32m[I 2021-01-14 21:15:31,605]\u001b[0m Trial 7 pruned. Trial was pruned at epoch 3.\u001b[0m\n",
      "GPU available: True, used: True\n",
      "TPU available: None, using: 0 TPU cores\n",
      "LOCAL_RANK: 0 - CUDA_VISIBLE_DEVICES: [0,1]\n",
      "\n",
      "  | Name       | Type      | Params\n",
      "-----------------------------------------\n",
      "0 | embeddings | Embedding | 288   \n",
      "1 | rnn        | LSTM      | 149 K \n",
      "2 | dropout    | Dropout   | 0     \n",
      "3 | linear     | Linear    | 129   \n",
      "-----------------------------------------\n",
      "149 K     Trainable params\n",
      "0         Non-trainable params\n",
      "149 K     Total params\n"
     ]
    },
    {
     "output_type": "stream",
     "name": "stdout",
     "text": [
      "Training RNN with: 2 LSTM layers -- 64 LSTM hidden size -- 0.35 LSTM dropout -- 32 embedding size -- 0.13 classifier dropout -- 64 batch size -- 0.001 lr\n"
     ]
    },
    {
     "output_type": "display_data",
     "data": {
      "text/plain": [
       "Validation sanity check: |                                                                       | 0/? [00:00<…"
      ],
      "application/vnd.jupyter.widget-view+json": {
       "model_id": "",
       "version_major": 2,
       "version_minor": 0
      }
     },
     "metadata": {}
    },
    {
     "output_type": "display_data",
     "data": {
      "text/plain": [
       "Training: |                                                                                      | 0/? [00:00<…"
      ],
      "application/vnd.jupyter.widget-view+json": {
       "model_id": "ea479c6decb749da94399bc81ff366fc",
       "version_major": 2,
       "version_minor": 0
      }
     },
     "metadata": {}
    },
    {
     "output_type": "display_data",
     "data": {
      "text/plain": [
       "Validating: |                                                                                    | 0/? [00:00<…"
      ],
      "application/vnd.jupyter.widget-view+json": {
       "model_id": "",
       "version_major": 2,
       "version_minor": 0
      }
     },
     "metadata": {}
    },
    {
     "output_type": "display_data",
     "data": {
      "text/plain": [
       "Validating: |                                                                                    | 0/? [00:00<…"
      ],
      "application/vnd.jupyter.widget-view+json": {
       "model_id": "70c2ef637aea4a8089f612b4ba6b28fc",
       "version_major": 2,
       "version_minor": 0
      }
     },
     "metadata": {}
    },
    {
     "output_type": "stream",
     "name": "stderr",
     "text": [
      "\u001b[32m[I 2021-01-14 23:03:21,872]\u001b[0m Trial 8 pruned. Trial was pruned at epoch 1.\u001b[0m\n",
      "GPU available: True, used: True\n",
      "TPU available: None, using: 0 TPU cores\n",
      "LOCAL_RANK: 0 - CUDA_VISIBLE_DEVICES: [0,1]\n",
      "\n",
      "  | Name       | Type      | Params\n",
      "-----------------------------------------\n",
      "0 | embeddings | Embedding | 144   \n",
      "1 | rnn        | LSTM      | 577 K \n",
      "2 | dropout    | Dropout   | 0     \n",
      "3 | linear     | Linear    | 201   \n",
      "-----------------------------------------\n",
      "577 K     Trainable params\n",
      "0         Non-trainable params\n",
      "577 K     Total params\n"
     ]
    },
    {
     "output_type": "stream",
     "name": "stdout",
     "text": [
      "Training RNN with: 3 LSTM layers -- 100 LSTM hidden size -- 0.40 LSTM dropout -- 16 embedding size -- 0.28 classifier dropout -- 64 batch size -- 0.100 lr\n"
     ]
    },
    {
     "output_type": "display_data",
     "data": {
      "text/plain": [
       "Validation sanity check: |                                                                       | 0/? [00:00<…"
      ],
      "application/vnd.jupyter.widget-view+json": {
       "model_id": "",
       "version_major": 2,
       "version_minor": 0
      }
     },
     "metadata": {}
    },
    {
     "output_type": "display_data",
     "data": {
      "text/plain": [
       "Training: |                                                                                      | 0/? [00:00<…"
      ],
      "application/vnd.jupyter.widget-view+json": {
       "model_id": "7eac8493b0d94849938e605682dc77ed",
       "version_major": 2,
       "version_minor": 0
      }
     },
     "metadata": {}
    },
    {
     "output_type": "display_data",
     "data": {
      "text/plain": [
       "Validating: |                                                                                    | 0/? [00:00<…"
      ],
      "application/vnd.jupyter.widget-view+json": {
       "model_id": "",
       "version_major": 2,
       "version_minor": 0
      }
     },
     "metadata": {}
    },
    {
     "output_type": "display_data",
     "data": {
      "text/plain": [
       "Validating: |                                                                                    | 0/? [00:00<…"
      ],
      "application/vnd.jupyter.widget-view+json": {
       "model_id": "cafaaf2669694bcf859a02f9b4506137",
       "version_major": 2,
       "version_minor": 0
      }
     },
     "metadata": {}
    },
    {
     "output_type": "stream",
     "name": "stderr",
     "text": [
      "\u001b[32m[I 2021-01-15 02:48:35,705]\u001b[0m Trial 9 pruned. Trial was pruned at epoch 1.\u001b[0m\n",
      "GPU available: True, used: True\n",
      "TPU available: None, using: 0 TPU cores\n",
      "LOCAL_RANK: 0 - CUDA_VISIBLE_DEVICES: [0,1]\n",
      "\n",
      "  | Name       | Type      | Params\n",
      "-----------------------------------------\n",
      "0 | embeddings | Embedding | 144   \n",
      "1 | rnn        | LSTM      | 141 K \n",
      "2 | dropout    | Dropout   | 0     \n",
      "3 | linear     | Linear    | 129   \n",
      "-----------------------------------------\n",
      "141 K     Trainable params\n",
      "0         Non-trainable params\n",
      "141 K     Total params\n"
     ]
    },
    {
     "output_type": "stream",
     "name": "stdout",
     "text": [
      "Training RNN with: 2 LSTM layers -- 64 LSTM hidden size -- 0.11 LSTM dropout -- 16 embedding size -- 0.27 classifier dropout -- 256 batch size -- 0.000 lr\n"
     ]
    },
    {
     "output_type": "display_data",
     "data": {
      "text/plain": [
       "Validation sanity check: |                                                                       | 0/? [00:00<…"
      ],
      "application/vnd.jupyter.widget-view+json": {
       "model_id": "",
       "version_major": 2,
       "version_minor": 0
      }
     },
     "metadata": {}
    },
    {
     "output_type": "display_data",
     "data": {
      "text/plain": [
       "Training: |                                                                                      | 0/? [00:00<…"
      ],
      "application/vnd.jupyter.widget-view+json": {
       "model_id": "44ba0d32251540c0a01ce325bfde85b2",
       "version_major": 2,
       "version_minor": 0
      }
     },
     "metadata": {}
    },
    {
     "output_type": "display_data",
     "data": {
      "text/plain": [
       "Validating: |                                                                                    | 0/? [00:00<…"
      ],
      "application/vnd.jupyter.widget-view+json": {
       "model_id": "",
       "version_major": 2,
       "version_minor": 0
      }
     },
     "metadata": {}
    },
    {
     "output_type": "display_data",
     "data": {
      "text/plain": [
       "Validating: |                                                                                    | 0/? [00:00<…"
      ],
      "application/vnd.jupyter.widget-view+json": {
       "model_id": "b5f7120a893b43a0889ddb2ce03ac099",
       "version_major": 2,
       "version_minor": 0
      }
     },
     "metadata": {}
    },
    {
     "output_type": "stream",
     "name": "stderr",
     "text": [
      "\u001b[32m[I 2021-01-15 03:24:05,776]\u001b[0m Trial 10 pruned. Trial was pruned at epoch 1.\u001b[0m\n",
      "GPU available: True, used: True\n",
      "TPU available: None, using: 0 TPU cores\n",
      "LOCAL_RANK: 0 - CUDA_VISIBLE_DEVICES: [0,1]\n",
      "C:\\ProgramData\\Anaconda3\\envs\\pt-light-1.7.0\\lib\\site-packages\\torch\\nn\\modules\\rnn.py:58: UserWarning: dropout option adds dropout after all but last recurrent layer, so non-zero dropout expects num_layers greater than 1, but got dropout=0.24380840248944596 and num_layers=1\n",
      "  warnings.warn(\"dropout option adds dropout after all but last \"\n",
      "\n",
      "  | Name       | Type      | Params\n",
      "-----------------------------------------\n",
      "0 | embeddings | Embedding | 576   \n",
      "1 | rnn        | LSTM      | 66.6 K\n",
      "2 | dropout    | Dropout   | 0     \n",
      "3 | linear     | Linear    | 129   \n",
      "-----------------------------------------\n",
      "67.3 K    Trainable params\n",
      "0         Non-trainable params\n",
      "67.3 K    Total params\n"
     ]
    },
    {
     "output_type": "stream",
     "name": "stdout",
     "text": [
      "Training RNN with: 1 LSTM layers -- 64 LSTM hidden size -- 0.24 LSTM dropout -- 64 embedding size -- 0.11 classifier dropout -- 256 batch size -- 0.000 lr\n"
     ]
    },
    {
     "output_type": "display_data",
     "data": {
      "text/plain": [
       "Validation sanity check: |                                                                       | 0/? [00:00<…"
      ],
      "application/vnd.jupyter.widget-view+json": {
       "model_id": "",
       "version_major": 2,
       "version_minor": 0
      }
     },
     "metadata": {}
    },
    {
     "output_type": "display_data",
     "data": {
      "text/plain": [
       "Training: |                                                                                      | 0/? [00:00<…"
      ],
      "application/vnd.jupyter.widget-view+json": {
       "model_id": "8ccbcaf124bf4b1ca92b79189420769a",
       "version_major": 2,
       "version_minor": 0
      }
     },
     "metadata": {}
    },
    {
     "output_type": "display_data",
     "data": {
      "text/plain": [
       "Validating: |                                                                                    | 0/? [00:00<…"
      ],
      "application/vnd.jupyter.widget-view+json": {
       "model_id": "",
       "version_major": 2,
       "version_minor": 0
      }
     },
     "metadata": {}
    },
    {
     "output_type": "display_data",
     "data": {
      "text/plain": [
       "Validating: |                                                                                    | 0/? [00:00<…"
      ],
      "application/vnd.jupyter.widget-view+json": {
       "model_id": "",
       "version_major": 2,
       "version_minor": 0
      }
     },
     "metadata": {}
    },
    {
     "output_type": "display_data",
     "data": {
      "text/plain": [
       "Validating: |                                                                                    | 0/? [00:00<…"
      ],
      "application/vnd.jupyter.widget-view+json": {
       "model_id": "",
       "version_major": 2,
       "version_minor": 0
      }
     },
     "metadata": {}
    },
    {
     "output_type": "display_data",
     "data": {
      "text/plain": [
       "Validating: |                                                                                    | 0/? [00:00<…"
      ],
      "application/vnd.jupyter.widget-view+json": {
       "model_id": "",
       "version_major": 2,
       "version_minor": 0
      }
     },
     "metadata": {}
    },
    {
     "output_type": "display_data",
     "data": {
      "text/plain": [
       "Validating: |                                                                                    | 0/? [00:00<…"
      ],
      "application/vnd.jupyter.widget-view+json": {
       "model_id": "",
       "version_major": 2,
       "version_minor": 0
      }
     },
     "metadata": {}
    },
    {
     "output_type": "stream",
     "name": "stderr",
     "text": [
      "\u001b[32m[I 2021-01-15 03:58:52,018]\u001b[0m Trial 11 finished with value: 226.88267517089844 and parameters: {'emb_dim': 64, 'rnn_num_layers': 1, 'rnn_dropout': 0.24380840248944596, 'rnn_hidden_size': 64, 'classifier_dropout': 0.10781965880340352, 'batch_size': 256, 'lr': 0.0003580477839991631}. Best is trial 11 with value: 226.88267517089844.\u001b[0m\n",
      "GPU available: True, used: True\n",
      "TPU available: None, using: 0 TPU cores\n",
      "LOCAL_RANK: 0 - CUDA_VISIBLE_DEVICES: [0,1]\n",
      "C:\\ProgramData\\Anaconda3\\envs\\pt-light-1.7.0\\lib\\site-packages\\torch\\nn\\modules\\rnn.py:58: UserWarning: dropout option adds dropout after all but last recurrent layer, so non-zero dropout expects num_layers greater than 1, but got dropout=0.26605486428700814 and num_layers=1\n",
      "  warnings.warn(\"dropout option adds dropout after all but last \"\n",
      "\n",
      "  | Name       | Type      | Params\n",
      "-----------------------------------------\n",
      "0 | embeddings | Embedding | 288   \n",
      "1 | rnn        | LSTM      | 50.2 K\n",
      "2 | dropout    | Dropout   | 0     \n",
      "3 | linear     | Linear    | 129   \n",
      "-----------------------------------------\n",
      "50.6 K    Trainable params\n",
      "0         Non-trainable params\n",
      "50.6 K    Total params\n"
     ]
    },
    {
     "output_type": "stream",
     "name": "stdout",
     "text": [
      "Training RNN with: 1 LSTM layers -- 64 LSTM hidden size -- 0.27 LSTM dropout -- 32 embedding size -- 0.10 classifier dropout -- 256 batch size -- 0.000 lr\n"
     ]
    },
    {
     "output_type": "display_data",
     "data": {
      "text/plain": [
       "Validation sanity check: |                                                                       | 0/? [00:00<…"
      ],
      "application/vnd.jupyter.widget-view+json": {
       "model_id": "",
       "version_major": 2,
       "version_minor": 0
      }
     },
     "metadata": {}
    },
    {
     "output_type": "display_data",
     "data": {
      "text/plain": [
       "Training: |                                                                                      | 0/? [00:00<…"
      ],
      "application/vnd.jupyter.widget-view+json": {
       "model_id": "b4787e045c7944b2bb382abdaab0fe59",
       "version_major": 2,
       "version_minor": 0
      }
     },
     "metadata": {}
    },
    {
     "output_type": "display_data",
     "data": {
      "text/plain": [
       "Validating: |                                                                                    | 0/? [00:00<…"
      ],
      "application/vnd.jupyter.widget-view+json": {
       "model_id": "",
       "version_major": 2,
       "version_minor": 0
      }
     },
     "metadata": {}
    },
    {
     "output_type": "display_data",
     "data": {
      "text/plain": [
       "Validating: |                                                                                    | 0/? [00:00<…"
      ],
      "application/vnd.jupyter.widget-view+json": {
       "model_id": "",
       "version_major": 2,
       "version_minor": 0
      }
     },
     "metadata": {}
    },
    {
     "output_type": "display_data",
     "data": {
      "text/plain": [
       "Validating: |                                                                                    | 0/? [00:00<…"
      ],
      "application/vnd.jupyter.widget-view+json": {
       "model_id": "",
       "version_major": 2,
       "version_minor": 0
      }
     },
     "metadata": {}
    },
    {
     "output_type": "display_data",
     "data": {
      "text/plain": [
       "Validating: |                                                                                    | 0/? [00:00<…"
      ],
      "application/vnd.jupyter.widget-view+json": {
       "model_id": "12f289c31480424c94faa1ead5fcd09c",
       "version_major": 2,
       "version_minor": 0
      }
     },
     "metadata": {}
    },
    {
     "output_type": "stream",
     "name": "stderr",
     "text": [
      "\u001b[32m[I 2021-01-15 04:26:05,611]\u001b[0m Trial 12 pruned. Trial was pruned at epoch 3.\u001b[0m\n",
      "GPU available: True, used: True\n",
      "TPU available: None, using: 0 TPU cores\n",
      "LOCAL_RANK: 0 - CUDA_VISIBLE_DEVICES: [0,1]\n",
      "\n",
      "  | Name       | Type      | Params\n",
      "-----------------------------------------\n",
      "0 | embeddings | Embedding | 576   \n",
      "1 | rnn        | LSTM      | 265 K \n",
      "2 | dropout    | Dropout   | 0     \n",
      "3 | linear     | Linear    | 129   \n",
      "-----------------------------------------\n",
      "265 K     Trainable params\n",
      "0         Non-trainable params\n",
      "265 K     Total params\n"
     ]
    },
    {
     "output_type": "stream",
     "name": "stdout",
     "text": [
      "Training RNN with: 3 LSTM layers -- 64 LSTM hidden size -- 0.36 LSTM dropout -- 64 embedding size -- 0.10 classifier dropout -- 256 batch size -- 0.000 lr\n"
     ]
    },
    {
     "output_type": "display_data",
     "data": {
      "text/plain": [
       "Validation sanity check: |                                                                       | 0/? [00:00<…"
      ],
      "application/vnd.jupyter.widget-view+json": {
       "model_id": "",
       "version_major": 2,
       "version_minor": 0
      }
     },
     "metadata": {}
    },
    {
     "output_type": "display_data",
     "data": {
      "text/plain": [
       "Training: |                                                                                      | 0/? [00:00<…"
      ],
      "application/vnd.jupyter.widget-view+json": {
       "model_id": "90db7197c35f4543ae22f5549b55fe6c",
       "version_major": 2,
       "version_minor": 0
      }
     },
     "metadata": {}
    },
    {
     "output_type": "display_data",
     "data": {
      "text/plain": [
       "Validating: |                                                                                    | 0/? [00:00<…"
      ],
      "application/vnd.jupyter.widget-view+json": {
       "model_id": "",
       "version_major": 2,
       "version_minor": 0
      }
     },
     "metadata": {}
    },
    {
     "output_type": "display_data",
     "data": {
      "text/plain": [
       "Validating: |                                                                                    | 0/? [00:00<…"
      ],
      "application/vnd.jupyter.widget-view+json": {
       "model_id": "",
       "version_major": 2,
       "version_minor": 0
      }
     },
     "metadata": {}
    },
    {
     "output_type": "display_data",
     "data": {
      "text/plain": [
       "Validating: |                                                                                    | 0/? [00:00<…"
      ],
      "application/vnd.jupyter.widget-view+json": {
       "model_id": "",
       "version_major": 2,
       "version_minor": 0
      }
     },
     "metadata": {}
    },
    {
     "output_type": "display_data",
     "data": {
      "text/plain": [
       "Validating: |                                                                                    | 0/? [00:00<…"
      ],
      "application/vnd.jupyter.widget-view+json": {
       "model_id": "",
       "version_major": 2,
       "version_minor": 0
      }
     },
     "metadata": {}
    },
    {
     "output_type": "display_data",
     "data": {
      "text/plain": [
       "Validating: |                                                                                    | 0/? [00:00<…"
      ],
      "application/vnd.jupyter.widget-view+json": {
       "model_id": "",
       "version_major": 2,
       "version_minor": 0
      }
     },
     "metadata": {}
    },
    {
     "output_type": "stream",
     "name": "stderr",
     "text": [
      "\u001b[32m[I 2021-01-15 06:56:39,763]\u001b[0m Trial 13 finished with value: 161.0430145263672 and parameters: {'emb_dim': 64, 'rnn_num_layers': 3, 'rnn_dropout': 0.3644582305450334, 'rnn_hidden_size': 64, 'classifier_dropout': 0.10352911812989089, 'batch_size': 256, 'lr': 0.00041734485851228025}. Best is trial 13 with value: 161.0430145263672.\u001b[0m\n",
      "GPU available: True, used: True\n",
      "TPU available: None, using: 0 TPU cores\n",
      "LOCAL_RANK: 0 - CUDA_VISIBLE_DEVICES: [0,1]\n",
      "\n",
      "  | Name       | Type      | Params\n",
      "-----------------------------------------\n",
      "0 | embeddings | Embedding | 576   \n",
      "1 | rnn        | LSTM      | 265 K \n",
      "2 | dropout    | Dropout   | 0     \n",
      "3 | linear     | Linear    | 129   \n",
      "-----------------------------------------\n",
      "265 K     Trainable params\n",
      "0         Non-trainable params\n",
      "265 K     Total params\n"
     ]
    },
    {
     "output_type": "stream",
     "name": "stdout",
     "text": [
      "Training RNN with: 3 LSTM layers -- 64 LSTM hidden size -- 0.29 LSTM dropout -- 64 embedding size -- 0.11 classifier dropout -- 256 batch size -- 0.001 lr\n"
     ]
    },
    {
     "output_type": "display_data",
     "data": {
      "text/plain": [
       "Validation sanity check: |                                                                       | 0/? [00:00<…"
      ],
      "application/vnd.jupyter.widget-view+json": {
       "model_id": "",
       "version_major": 2,
       "version_minor": 0
      }
     },
     "metadata": {}
    },
    {
     "output_type": "display_data",
     "data": {
      "text/plain": [
       "Training: |                                                                                      | 0/? [00:00<…"
      ],
      "application/vnd.jupyter.widget-view+json": {
       "model_id": "c7589bbd29ec4b7fa422940f069e6450",
       "version_major": 2,
       "version_minor": 0
      }
     },
     "metadata": {}
    },
    {
     "output_type": "display_data",
     "data": {
      "text/plain": [
       "Validating: |                                                                                    | 0/? [00:00<…"
      ],
      "application/vnd.jupyter.widget-view+json": {
       "model_id": "",
       "version_major": 2,
       "version_minor": 0
      }
     },
     "metadata": {}
    },
    {
     "output_type": "display_data",
     "data": {
      "text/plain": [
       "Validating: |                                                                                    | 0/? [00:00<…"
      ],
      "application/vnd.jupyter.widget-view+json": {
       "model_id": "",
       "version_major": 2,
       "version_minor": 0
      }
     },
     "metadata": {}
    },
    {
     "output_type": "display_data",
     "data": {
      "text/plain": [
       "Validating: |                                                                                    | 0/? [00:00<…"
      ],
      "application/vnd.jupyter.widget-view+json": {
       "model_id": "",
       "version_major": 2,
       "version_minor": 0
      }
     },
     "metadata": {}
    },
    {
     "output_type": "display_data",
     "data": {
      "text/plain": [
       "Validating: |                                                                                    | 0/? [00:00<…"
      ],
      "application/vnd.jupyter.widget-view+json": {
       "model_id": "",
       "version_major": 2,
       "version_minor": 0
      }
     },
     "metadata": {}
    },
    {
     "output_type": "display_data",
     "data": {
      "text/plain": [
       "Validating: |                                                                                    | 0/? [00:00<…"
      ],
      "application/vnd.jupyter.widget-view+json": {
       "model_id": "",
       "version_major": 2,
       "version_minor": 0
      }
     },
     "metadata": {}
    },
    {
     "output_type": "stream",
     "name": "stderr",
     "text": [
      "\u001b[32m[I 2021-01-15 09:27:45,372]\u001b[0m Trial 14 finished with value: 138.62908935546875 and parameters: {'emb_dim': 64, 'rnn_num_layers': 3, 'rnn_dropout': 0.285163524062981, 'rnn_hidden_size': 64, 'classifier_dropout': 0.10663414626482554, 'batch_size': 256, 'lr': 0.0006810598648837018}. Best is trial 14 with value: 138.62908935546875.\u001b[0m\n",
      "GPU available: True, used: True\n",
      "TPU available: None, using: 0 TPU cores\n",
      "LOCAL_RANK: 0 - CUDA_VISIBLE_DEVICES: [0,1]\n",
      "\n",
      "  | Name       | Type      | Params\n",
      "-----------------------------------------\n",
      "0 | embeddings | Embedding | 576   \n",
      "1 | rnn        | LSTM      | 265 K \n",
      "2 | dropout    | Dropout   | 0     \n",
      "3 | linear     | Linear    | 129   \n",
      "-----------------------------------------\n",
      "265 K     Trainable params\n",
      "0         Non-trainable params\n",
      "265 K     Total params\n"
     ]
    },
    {
     "output_type": "stream",
     "name": "stdout",
     "text": [
      "Training RNN with: 3 LSTM layers -- 64 LSTM hidden size -- 0.30 LSTM dropout -- 64 embedding size -- 0.10 classifier dropout -- 256 batch size -- 0.001 lr\n"
     ]
    },
    {
     "output_type": "display_data",
     "data": {
      "text/plain": [
       "Validation sanity check: |                                                                       | 0/? [00:00<…"
      ],
      "application/vnd.jupyter.widget-view+json": {
       "model_id": "",
       "version_major": 2,
       "version_minor": 0
      }
     },
     "metadata": {}
    },
    {
     "output_type": "display_data",
     "data": {
      "text/plain": [
       "Training: |                                                                                      | 0/? [00:00<…"
      ],
      "application/vnd.jupyter.widget-view+json": {
       "model_id": "1f6c369d7f3747c9a8949e71fdb944f1",
       "version_major": 2,
       "version_minor": 0
      }
     },
     "metadata": {}
    },
    {
     "output_type": "display_data",
     "data": {
      "text/plain": [
       "Validating: |                                                                                    | 0/? [00:00<…"
      ],
      "application/vnd.jupyter.widget-view+json": {
       "model_id": "",
       "version_major": 2,
       "version_minor": 0
      }
     },
     "metadata": {}
    },
    {
     "output_type": "display_data",
     "data": {
      "text/plain": [
       "Validating: |                                                                                    | 0/? [00:00<…"
      ],
      "application/vnd.jupyter.widget-view+json": {
       "model_id": "",
       "version_major": 2,
       "version_minor": 0
      }
     },
     "metadata": {}
    },
    {
     "output_type": "display_data",
     "data": {
      "text/plain": [
       "Validating: |                                                                                    | 0/? [00:00<…"
      ],
      "application/vnd.jupyter.widget-view+json": {
       "model_id": "",
       "version_major": 2,
       "version_minor": 0
      }
     },
     "metadata": {}
    },
    {
     "output_type": "display_data",
     "data": {
      "text/plain": [
       "Validating: |                                                                                    | 0/? [00:00<…"
      ],
      "application/vnd.jupyter.widget-view+json": {
       "model_id": "",
       "version_major": 2,
       "version_minor": 0
      }
     },
     "metadata": {}
    },
    {
     "output_type": "display_data",
     "data": {
      "text/plain": [
       "Validating: |                                                                                    | 0/? [00:00<…"
      ],
      "application/vnd.jupyter.widget-view+json": {
       "model_id": "",
       "version_major": 2,
       "version_minor": 0
      }
     },
     "metadata": {}
    },
    {
     "output_type": "stream",
     "name": "stderr",
     "text": [
      "\u001b[32m[I 2021-01-15 12:03:04,577]\u001b[0m Trial 15 finished with value: 133.0936737060547 and parameters: {'emb_dim': 64, 'rnn_num_layers': 3, 'rnn_dropout': 0.29576069634688745, 'rnn_hidden_size': 64, 'classifier_dropout': 0.10114037741287485, 'batch_size': 256, 'lr': 0.0010076902458607795}. Best is trial 15 with value: 133.0936737060547.\u001b[0m\n",
      "GPU available: True, used: True\n",
      "TPU available: None, using: 0 TPU cores\n",
      "LOCAL_RANK: 0 - CUDA_VISIBLE_DEVICES: [0,1]\n",
      "\n",
      "  | Name       | Type      | Params\n",
      "-----------------------------------------\n",
      "0 | embeddings | Embedding | 576   \n",
      "1 | rnn        | LSTM      | 265 K \n",
      "2 | dropout    | Dropout   | 0     \n",
      "3 | linear     | Linear    | 129   \n",
      "-----------------------------------------\n",
      "265 K     Trainable params\n",
      "0         Non-trainable params\n",
      "265 K     Total params\n"
     ]
    },
    {
     "output_type": "stream",
     "name": "stdout",
     "text": [
      "Training RNN with: 3 LSTM layers -- 64 LSTM hidden size -- 0.30 LSTM dropout -- 64 embedding size -- 0.24 classifier dropout -- 128 batch size -- 0.001 lr\n"
     ]
    },
    {
     "output_type": "display_data",
     "data": {
      "text/plain": [
       "Validation sanity check: |                                                                       | 0/? [00:00<…"
      ],
      "application/vnd.jupyter.widget-view+json": {
       "model_id": "",
       "version_major": 2,
       "version_minor": 0
      }
     },
     "metadata": {}
    },
    {
     "output_type": "display_data",
     "data": {
      "text/plain": [
       "Training: |                                                                                      | 0/? [00:00<…"
      ],
      "application/vnd.jupyter.widget-view+json": {
       "model_id": "80dfc76c22a14e5f938b0b1cf8779a0d",
       "version_major": 2,
       "version_minor": 0
      }
     },
     "metadata": {}
    },
    {
     "output_type": "display_data",
     "data": {
      "text/plain": [
       "Validating: |                                                                                    | 0/? [00:00<…"
      ],
      "application/vnd.jupyter.widget-view+json": {
       "model_id": "",
       "version_major": 2,
       "version_minor": 0
      }
     },
     "metadata": {}
    },
    {
     "output_type": "display_data",
     "data": {
      "text/plain": [
       "Validating: |                                                                                    | 0/? [00:00<…"
      ],
      "application/vnd.jupyter.widget-view+json": {
       "model_id": "",
       "version_major": 2,
       "version_minor": 0
      }
     },
     "metadata": {}
    },
    {
     "output_type": "display_data",
     "data": {
      "text/plain": [
       "Validating: |                                                                                    | 0/? [00:00<…"
      ],
      "application/vnd.jupyter.widget-view+json": {
       "model_id": "",
       "version_major": 2,
       "version_minor": 0
      }
     },
     "metadata": {}
    },
    {
     "output_type": "display_data",
     "data": {
      "text/plain": [
       "Validating: |                                                                                    | 0/? [00:00<…"
      ],
      "application/vnd.jupyter.widget-view+json": {
       "model_id": "",
       "version_major": 2,
       "version_minor": 0
      }
     },
     "metadata": {}
    },
    {
     "output_type": "display_data",
     "data": {
      "text/plain": [
       "Validating: |                                                                                    | 0/? [00:00<…"
      ],
      "application/vnd.jupyter.widget-view+json": {
       "model_id": "",
       "version_major": 2,
       "version_minor": 0
      }
     },
     "metadata": {}
    },
    {
     "output_type": "stream",
     "name": "stderr",
     "text": [
      "\u001b[32m[I 2021-01-15 16:42:02,952]\u001b[0m Trial 16 finished with value: 133.89718627929688 and parameters: {'emb_dim': 64, 'rnn_num_layers': 3, 'rnn_dropout': 0.30094418248504007, 'rnn_hidden_size': 64, 'classifier_dropout': 0.2403408133728749, 'batch_size': 128, 'lr': 0.0012122070174398504}. Best is trial 15 with value: 133.0936737060547.\u001b[0m\n",
      "GPU available: True, used: True\n",
      "TPU available: None, using: 0 TPU cores\n",
      "LOCAL_RANK: 0 - CUDA_VISIBLE_DEVICES: [0,1]\n",
      "\n",
      "  | Name       | Type      | Params\n",
      "-----------------------------------------\n",
      "0 | embeddings | Embedding | 576   \n",
      "1 | rnn        | LSTM      | 265 K \n",
      "2 | dropout    | Dropout   | 0     \n",
      "3 | linear     | Linear    | 129   \n",
      "-----------------------------------------\n",
      "265 K     Trainable params\n",
      "0         Non-trainable params\n",
      "265 K     Total params\n"
     ]
    },
    {
     "output_type": "stream",
     "name": "stdout",
     "text": [
      "Training RNN with: 3 LSTM layers -- 64 LSTM hidden size -- 0.15 LSTM dropout -- 64 embedding size -- 0.24 classifier dropout -- 128 batch size -- 0.004 lr\n"
     ]
    },
    {
     "output_type": "display_data",
     "data": {
      "text/plain": [
       "Validation sanity check: |                                                                       | 0/? [00:00<…"
      ],
      "application/vnd.jupyter.widget-view+json": {
       "model_id": "",
       "version_major": 2,
       "version_minor": 0
      }
     },
     "metadata": {}
    },
    {
     "output_type": "display_data",
     "data": {
      "text/plain": [
       "Training: |                                                                                      | 0/? [00:00<…"
      ],
      "application/vnd.jupyter.widget-view+json": {
       "model_id": "be8f11e31ed34cd4a071fe7c7adcc1fe",
       "version_major": 2,
       "version_minor": 0
      }
     },
     "metadata": {}
    },
    {
     "output_type": "display_data",
     "data": {
      "text/plain": [
       "Validating: |                                                                                    | 0/? [00:00<…"
      ],
      "application/vnd.jupyter.widget-view+json": {
       "model_id": "",
       "version_major": 2,
       "version_minor": 0
      }
     },
     "metadata": {}
    },
    {
     "output_type": "display_data",
     "data": {
      "text/plain": [
       "Validating: |                                                                                    | 0/? [00:00<…"
      ],
      "application/vnd.jupyter.widget-view+json": {
       "model_id": "",
       "version_major": 2,
       "version_minor": 0
      }
     },
     "metadata": {}
    },
    {
     "output_type": "display_data",
     "data": {
      "text/plain": [
       "Validating: |                                                                                    | 0/? [00:00<…"
      ],
      "application/vnd.jupyter.widget-view+json": {
       "model_id": "",
       "version_major": 2,
       "version_minor": 0
      }
     },
     "metadata": {}
    },
    {
     "output_type": "display_data",
     "data": {
      "text/plain": [
       "Validating: |                                                                                    | 0/? [00:00<…"
      ],
      "application/vnd.jupyter.widget-view+json": {
       "model_id": "123ef2030d4e43468dd0bec7a518fbab",
       "version_major": 2,
       "version_minor": 0
      }
     },
     "metadata": {}
    },
    {
     "output_type": "stream",
     "name": "stderr",
     "text": [
      "\u001b[32m[I 2021-01-15 20:20:52,501]\u001b[0m Trial 17 pruned. Trial was pruned at epoch 3.\u001b[0m\n",
      "GPU available: True, used: True\n",
      "TPU available: None, using: 0 TPU cores\n",
      "LOCAL_RANK: 0 - CUDA_VISIBLE_DEVICES: [0,1]\n",
      "\n",
      "  | Name       | Type      | Params\n",
      "-----------------------------------------\n",
      "0 | embeddings | Embedding | 144   \n",
      "1 | rnn        | LSTM      | 240 K \n",
      "2 | dropout    | Dropout   | 0     \n",
      "3 | linear     | Linear    | 129   \n",
      "-----------------------------------------\n",
      "240 K     Trainable params\n",
      "0         Non-trainable params\n",
      "240 K     Total params\n"
     ]
    },
    {
     "output_type": "stream",
     "name": "stdout",
     "text": [
      "Training RNN with: 3 LSTM layers -- 64 LSTM hidden size -- 0.31 LSTM dropout -- 16 embedding size -- 0.35 classifier dropout -- 128 batch size -- 0.001 lr\n"
     ]
    },
    {
     "output_type": "display_data",
     "data": {
      "text/plain": [
       "Validation sanity check: |                                                                       | 0/? [00:00<…"
      ],
      "application/vnd.jupyter.widget-view+json": {
       "model_id": "",
       "version_major": 2,
       "version_minor": 0
      }
     },
     "metadata": {}
    },
    {
     "output_type": "display_data",
     "data": {
      "text/plain": [
       "Training: |                                                                                      | 0/? [00:00<…"
      ],
      "application/vnd.jupyter.widget-view+json": {
       "model_id": "24c91dd019394ee0876b71c9f334ee89",
       "version_major": 2,
       "version_minor": 0
      }
     },
     "metadata": {}
    },
    {
     "output_type": "display_data",
     "data": {
      "text/plain": [
       "Validating: |                                                                                    | 0/? [00:00<…"
      ],
      "application/vnd.jupyter.widget-view+json": {
       "model_id": "",
       "version_major": 2,
       "version_minor": 0
      }
     },
     "metadata": {}
    },
    {
     "output_type": "display_data",
     "data": {
      "text/plain": [
       "Validating: |                                                                                    | 0/? [00:00<…"
      ],
      "application/vnd.jupyter.widget-view+json": {
       "model_id": "ae8195c0bfa04ee98bda0c6bf51392e0",
       "version_major": 2,
       "version_minor": 0
      }
     },
     "metadata": {}
    },
    {
     "output_type": "stream",
     "name": "stderr",
     "text": [
      "\u001b[32m[I 2021-01-15 22:12:30,256]\u001b[0m Trial 18 pruned. Trial was pruned at epoch 1.\u001b[0m\n",
      "GPU available: True, used: True\n",
      "TPU available: None, using: 0 TPU cores\n",
      "LOCAL_RANK: 0 - CUDA_VISIBLE_DEVICES: [0,1]\n",
      "\n",
      "  | Name       | Type      | Params\n",
      "-----------------------------------------\n",
      "0 | embeddings | Embedding | 576   \n",
      "1 | rnn        | LSTM      | 165 K \n",
      "2 | dropout    | Dropout   | 0     \n",
      "3 | linear     | Linear    | 129   \n",
      "-----------------------------------------\n",
      "166 K     Trainable params\n",
      "0         Non-trainable params\n",
      "166 K     Total params\n"
     ]
    },
    {
     "output_type": "stream",
     "name": "stdout",
     "text": [
      "Training RNN with: 2 LSTM layers -- 64 LSTM hidden size -- 0.39 LSTM dropout -- 64 embedding size -- 0.23 classifier dropout -- 128 batch size -- 0.003 lr\n"
     ]
    },
    {
     "output_type": "display_data",
     "data": {
      "text/plain": [
       "Validation sanity check: |                                                                       | 0/? [00:00<…"
      ],
      "application/vnd.jupyter.widget-view+json": {
       "model_id": "",
       "version_major": 2,
       "version_minor": 0
      }
     },
     "metadata": {}
    },
    {
     "output_type": "display_data",
     "data": {
      "text/plain": [
       "Training: |                                                                                      | 0/? [00:00<…"
      ],
      "application/vnd.jupyter.widget-view+json": {
       "model_id": "b98b9c5d247e447680748e59d436cc17",
       "version_major": 2,
       "version_minor": 0
      }
     },
     "metadata": {}
    },
    {
     "output_type": "display_data",
     "data": {
      "text/plain": [
       "Validating: |                                                                                    | 0/? [00:00<…"
      ],
      "application/vnd.jupyter.widget-view+json": {
       "model_id": "",
       "version_major": 2,
       "version_minor": 0
      }
     },
     "metadata": {}
    },
    {
     "output_type": "display_data",
     "data": {
      "text/plain": [
       "Validating: |                                                                                    | 0/? [00:00<…"
      ],
      "application/vnd.jupyter.widget-view+json": {
       "model_id": "5c56c8e37b52463e99a15b1238914609",
       "version_major": 2,
       "version_minor": 0
      }
     },
     "metadata": {}
    },
    {
     "output_type": "stream",
     "name": "stderr",
     "text": [
      "\u001b[32m[I 2021-01-15 23:20:28,181]\u001b[0m Trial 19 pruned. Trial was pruned at epoch 1.\u001b[0m\n",
      "GPU available: True, used: True\n",
      "TPU available: None, using: 0 TPU cores\n",
      "LOCAL_RANK: 0 - CUDA_VISIBLE_DEVICES: [0,1]\n",
      "\n",
      "  | Name       | Type      | Params\n",
      "-----------------------------------------\n",
      "0 | embeddings | Embedding | 576   \n",
      "1 | rnn        | LSTM      | 100 K \n",
      "2 | dropout    | Dropout   | 0     \n",
      "3 | linear     | Linear    | 65    \n",
      "-----------------------------------------\n",
      "100 K     Trainable params\n",
      "0         Non-trainable params\n",
      "100 K     Total params\n"
     ]
    },
    {
     "output_type": "stream",
     "name": "stdout",
     "text": [
      "Training RNN with: 4 LSTM layers -- 32 LSTM hidden size -- 0.22 LSTM dropout -- 64 embedding size -- 0.35 classifier dropout -- 128 batch size -- 0.002 lr\n"
     ]
    },
    {
     "output_type": "display_data",
     "data": {
      "text/plain": [
       "Validation sanity check: |                                                                       | 0/? [00:00<…"
      ],
      "application/vnd.jupyter.widget-view+json": {
       "model_id": "",
       "version_major": 2,
       "version_minor": 0
      }
     },
     "metadata": {}
    },
    {
     "output_type": "display_data",
     "data": {
      "text/plain": [
       "Training: |                                                                                      | 0/? [00:00<…"
      ],
      "application/vnd.jupyter.widget-view+json": {
       "model_id": "020357f8446942e7819258270e48690f",
       "version_major": 2,
       "version_minor": 0
      }
     },
     "metadata": {}
    },
    {
     "output_type": "display_data",
     "data": {
      "text/plain": [
       "Validating: |                                                                                    | 0/? [00:00<…"
      ],
      "application/vnd.jupyter.widget-view+json": {
       "model_id": "",
       "version_major": 2,
       "version_minor": 0
      }
     },
     "metadata": {}
    },
    {
     "output_type": "display_data",
     "data": {
      "text/plain": [
       "Validating: |                                                                                    | 0/? [00:00<…"
      ],
      "application/vnd.jupyter.widget-view+json": {
       "model_id": "",
       "version_major": 2,
       "version_minor": 0
      }
     },
     "metadata": {}
    },
    {
     "output_type": "display_data",
     "data": {
      "text/plain": [
       "Validating: |                                                                                    | 0/? [00:00<…"
      ],
      "application/vnd.jupyter.widget-view+json": {
       "model_id": "",
       "version_major": 2,
       "version_minor": 0
      }
     },
     "metadata": {}
    },
    {
     "output_type": "display_data",
     "data": {
      "text/plain": [
       "Validating: |                                                                                    | 0/? [00:00<…"
      ],
      "application/vnd.jupyter.widget-view+json": {
       "model_id": "ebc51a35dcc14c10ae744c2c63f252b0",
       "version_major": 2,
       "version_minor": 0
      }
     },
     "metadata": {}
    },
    {
     "output_type": "stream",
     "name": "stderr",
     "text": [
      "\u001b[32m[I 2021-01-16 03:26:15,591]\u001b[0m Trial 20 pruned. Trial was pruned at epoch 3.\u001b[0m\n",
      "GPU available: True, used: True\n",
      "TPU available: None, using: 0 TPU cores\n",
      "LOCAL_RANK: 0 - CUDA_VISIBLE_DEVICES: [0,1]\n",
      "\n",
      "  | Name       | Type      | Params\n",
      "-----------------------------------------\n",
      "0 | embeddings | Embedding | 576   \n",
      "1 | rnn        | LSTM      | 265 K \n",
      "2 | dropout    | Dropout   | 0     \n",
      "3 | linear     | Linear    | 129   \n",
      "-----------------------------------------\n",
      "265 K     Trainable params\n",
      "0         Non-trainable params\n",
      "265 K     Total params\n"
     ]
    },
    {
     "output_type": "stream",
     "name": "stdout",
     "text": [
      "Training RNN with: 3 LSTM layers -- 64 LSTM hidden size -- 0.29 LSTM dropout -- 64 embedding size -- 0.15 classifier dropout -- 256 batch size -- 0.001 lr\n"
     ]
    },
    {
     "output_type": "display_data",
     "data": {
      "text/plain": [
       "Validation sanity check: |                                                                       | 0/? [00:00<…"
      ],
      "application/vnd.jupyter.widget-view+json": {
       "model_id": "",
       "version_major": 2,
       "version_minor": 0
      }
     },
     "metadata": {}
    },
    {
     "output_type": "display_data",
     "data": {
      "text/plain": [
       "Training: |                                                                                      | 0/? [00:00<…"
      ],
      "application/vnd.jupyter.widget-view+json": {
       "model_id": "8206f9ede7f74e58be477a7af5ac15c2",
       "version_major": 2,
       "version_minor": 0
      }
     },
     "metadata": {}
    },
    {
     "output_type": "display_data",
     "data": {
      "text/plain": [
       "Validating: |                                                                                    | 0/? [00:00<…"
      ],
      "application/vnd.jupyter.widget-view+json": {
       "model_id": "",
       "version_major": 2,
       "version_minor": 0
      }
     },
     "metadata": {}
    },
    {
     "output_type": "display_data",
     "data": {
      "text/plain": [
       "Validating: |                                                                                    | 0/? [00:00<…"
      ],
      "application/vnd.jupyter.widget-view+json": {
       "model_id": "",
       "version_major": 2,
       "version_minor": 0
      }
     },
     "metadata": {}
    },
    {
     "output_type": "display_data",
     "data": {
      "text/plain": [
       "Validating: |                                                                                    | 0/? [00:00<…"
      ],
      "application/vnd.jupyter.widget-view+json": {
       "model_id": "",
       "version_major": 2,
       "version_minor": 0
      }
     },
     "metadata": {}
    },
    {
     "output_type": "display_data",
     "data": {
      "text/plain": [
       "Validating: |                                                                                    | 0/? [00:00<…"
      ],
      "application/vnd.jupyter.widget-view+json": {
       "model_id": "5bf25547eb2947309520f1f87ff67b93",
       "version_major": 2,
       "version_minor": 0
      }
     },
     "metadata": {}
    },
    {
     "output_type": "stream",
     "name": "stderr",
     "text": [
      "\u001b[32m[I 2021-01-16 05:29:59,731]\u001b[0m Trial 21 pruned. Trial was pruned at epoch 3.\u001b[0m\n",
      "GPU available: True, used: True\n",
      "TPU available: None, using: 0 TPU cores\n",
      "LOCAL_RANK: 0 - CUDA_VISIBLE_DEVICES: [0,1]\n",
      "\n",
      "  | Name       | Type      | Params\n",
      "-----------------------------------------\n",
      "0 | embeddings | Embedding | 576   \n",
      "1 | rnn        | LSTM      | 265 K \n",
      "2 | dropout    | Dropout   | 0     \n",
      "3 | linear     | Linear    | 129   \n",
      "-----------------------------------------\n",
      "265 K     Trainable params\n",
      "0         Non-trainable params\n",
      "265 K     Total params\n"
     ]
    },
    {
     "output_type": "stream",
     "name": "stdout",
     "text": [
      "Training RNN with: 3 LSTM layers -- 64 LSTM hidden size -- 0.28 LSTM dropout -- 64 embedding size -- 0.15 classifier dropout -- 256 batch size -- 0.001 lr\n"
     ]
    },
    {
     "output_type": "display_data",
     "data": {
      "text/plain": [
       "Validation sanity check: |                                                                       | 0/? [00:00<…"
      ],
      "application/vnd.jupyter.widget-view+json": {
       "model_id": "",
       "version_major": 2,
       "version_minor": 0
      }
     },
     "metadata": {}
    },
    {
     "output_type": "display_data",
     "data": {
      "text/plain": [
       "Training: |                                                                                      | 0/? [00:00<…"
      ],
      "application/vnd.jupyter.widget-view+json": {
       "model_id": "d32661a3c79d472b95d1171163ba7f42",
       "version_major": 2,
       "version_minor": 0
      }
     },
     "metadata": {}
    },
    {
     "output_type": "display_data",
     "data": {
      "text/plain": [
       "Validating: |                                                                                    | 0/? [00:00<…"
      ],
      "application/vnd.jupyter.widget-view+json": {
       "model_id": "",
       "version_major": 2,
       "version_minor": 0
      }
     },
     "metadata": {}
    },
    {
     "output_type": "display_data",
     "data": {
      "text/plain": [
       "Validating: |                                                                                    | 0/? [00:00<…"
      ],
      "application/vnd.jupyter.widget-view+json": {
       "model_id": "",
       "version_major": 2,
       "version_minor": 0
      }
     },
     "metadata": {}
    },
    {
     "output_type": "display_data",
     "data": {
      "text/plain": [
       "Validating: |                                                                                    | 0/? [00:00<…"
      ],
      "application/vnd.jupyter.widget-view+json": {
       "model_id": "",
       "version_major": 2,
       "version_minor": 0
      }
     },
     "metadata": {}
    },
    {
     "output_type": "display_data",
     "data": {
      "text/plain": [
       "Validating: |                                                                                    | 0/? [00:00<…"
      ],
      "application/vnd.jupyter.widget-view+json": {
       "model_id": "",
       "version_major": 2,
       "version_minor": 0
      }
     },
     "metadata": {}
    },
    {
     "output_type": "display_data",
     "data": {
      "text/plain": [
       "Validating: |                                                                                    | 0/? [00:00<…"
      ],
      "application/vnd.jupyter.widget-view+json": {
       "model_id": "",
       "version_major": 2,
       "version_minor": 0
      }
     },
     "metadata": {}
    },
    {
     "output_type": "stream",
     "name": "stderr",
     "text": [
      "\u001b[32m[I 2021-01-16 08:04:07,515]\u001b[0m Trial 22 finished with value: 160.68899536132812 and parameters: {'emb_dim': 64, 'rnn_num_layers': 3, 'rnn_dropout': 0.28379098095814725, 'rnn_hidden_size': 64, 'classifier_dropout': 0.14792375459260426, 'batch_size': 256, 'lr': 0.0007139310328801212}. Best is trial 15 with value: 133.0936737060547.\u001b[0m\n",
      "GPU available: True, used: True\n",
      "TPU available: None, using: 0 TPU cores\n",
      "LOCAL_RANK: 0 - CUDA_VISIBLE_DEVICES: [0,1]\n",
      "\n",
      "  | Name       | Type      | Params\n",
      "-----------------------------------------\n",
      "0 | embeddings | Embedding | 576   \n",
      "1 | rnn        | LSTM      | 265 K \n",
      "2 | dropout    | Dropout   | 0     \n",
      "3 | linear     | Linear    | 129   \n",
      "-----------------------------------------\n",
      "265 K     Trainable params\n",
      "0         Non-trainable params\n",
      "265 K     Total params\n"
     ]
    },
    {
     "output_type": "stream",
     "name": "stdout",
     "text": [
      "Training RNN with: 3 LSTM layers -- 64 LSTM hidden size -- 0.32 LSTM dropout -- 64 embedding size -- 0.13 classifier dropout -- 128 batch size -- 0.000 lr\n"
     ]
    },
    {
     "output_type": "display_data",
     "data": {
      "text/plain": [
       "Validation sanity check: |                                                                       | 0/? [00:00<…"
      ],
      "application/vnd.jupyter.widget-view+json": {
       "model_id": "",
       "version_major": 2,
       "version_minor": 0
      }
     },
     "metadata": {}
    },
    {
     "output_type": "display_data",
     "data": {
      "text/plain": [
       "Training: |                                                                                      | 0/? [00:00<…"
      ],
      "application/vnd.jupyter.widget-view+json": {
       "model_id": "e67d5dc1505c42e6b49a001cf0428781",
       "version_major": 2,
       "version_minor": 0
      }
     },
     "metadata": {}
    },
    {
     "output_type": "display_data",
     "data": {
      "text/plain": [
       "Validating: |                                                                                    | 0/? [00:00<…"
      ],
      "application/vnd.jupyter.widget-view+json": {
       "model_id": "",
       "version_major": 2,
       "version_minor": 0
      }
     },
     "metadata": {}
    },
    {
     "output_type": "display_data",
     "data": {
      "text/plain": [
       "Validating: |                                                                                    | 0/? [00:00<…"
      ],
      "application/vnd.jupyter.widget-view+json": {
       "model_id": "",
       "version_major": 2,
       "version_minor": 0
      }
     },
     "metadata": {}
    },
    {
     "output_type": "display_data",
     "data": {
      "text/plain": [
       "Validating: |                                                                                    | 0/? [00:00<…"
      ],
      "application/vnd.jupyter.widget-view+json": {
       "model_id": "",
       "version_major": 2,
       "version_minor": 0
      }
     },
     "metadata": {}
    },
    {
     "output_type": "display_data",
     "data": {
      "text/plain": [
       "Validating: |                                                                                    | 0/? [00:00<…"
      ],
      "application/vnd.jupyter.widget-view+json": {
       "model_id": "",
       "version_major": 2,
       "version_minor": 0
      }
     },
     "metadata": {}
    },
    {
     "output_type": "display_data",
     "data": {
      "text/plain": [
       "Validating: |                                                                                    | 0/? [00:00<…"
      ],
      "application/vnd.jupyter.widget-view+json": {
       "model_id": "",
       "version_major": 2,
       "version_minor": 0
      }
     },
     "metadata": {}
    },
    {
     "output_type": "stream",
     "name": "stderr",
     "text": [
      "\u001b[32m[I 2021-01-16 12:20:29,347]\u001b[0m Trial 23 finished with value: 152.46685791015625 and parameters: {'emb_dim': 64, 'rnn_num_layers': 3, 'rnn_dropout': 0.32079668104725023, 'rnn_hidden_size': 64, 'classifier_dropout': 0.1255636979498584, 'batch_size': 128, 'lr': 0.00020089003824598964}. Best is trial 15 with value: 133.0936737060547.\u001b[0m\n",
      "GPU available: True, used: True\n",
      "TPU available: None, using: 0 TPU cores\n",
      "LOCAL_RANK: 0 - CUDA_VISIBLE_DEVICES: [0,1]\n",
      "\n",
      "  | Name       | Type      | Params\n",
      "-----------------------------------------\n",
      "0 | embeddings | Embedding | 576   \n",
      "1 | rnn        | LSTM      | 265 K \n",
      "2 | dropout    | Dropout   | 0     \n",
      "3 | linear     | Linear    | 129   \n",
      "-----------------------------------------\n",
      "265 K     Trainable params\n",
      "0         Non-trainable params\n",
      "265 K     Total params\n"
     ]
    },
    {
     "output_type": "stream",
     "name": "stdout",
     "text": [
      "Training RNN with: 3 LSTM layers -- 64 LSTM hidden size -- 0.23 LSTM dropout -- 64 embedding size -- 0.23 classifier dropout -- 256 batch size -- 0.002 lr\n"
     ]
    },
    {
     "output_type": "display_data",
     "data": {
      "text/plain": [
       "Validation sanity check: |                                                                       | 0/? [00:00<…"
      ],
      "application/vnd.jupyter.widget-view+json": {
       "model_id": "",
       "version_major": 2,
       "version_minor": 0
      }
     },
     "metadata": {}
    },
    {
     "output_type": "display_data",
     "data": {
      "text/plain": [
       "Training: |                                                                                      | 0/? [00:00<…"
      ],
      "application/vnd.jupyter.widget-view+json": {
       "model_id": "33e35bba7dac4f1dbf2fae81dcf88d9b",
       "version_major": 2,
       "version_minor": 0
      }
     },
     "metadata": {}
    },
    {
     "output_type": "display_data",
     "data": {
      "text/plain": [
       "Validating: |                                                                                    | 0/? [00:00<…"
      ],
      "application/vnd.jupyter.widget-view+json": {
       "model_id": "",
       "version_major": 2,
       "version_minor": 0
      }
     },
     "metadata": {}
    },
    {
     "output_type": "display_data",
     "data": {
      "text/plain": [
       "Validating: |                                                                                    | 0/? [00:00<…"
      ],
      "application/vnd.jupyter.widget-view+json": {
       "model_id": "c40d432d555d48f3a767cbaecf020c92",
       "version_major": 2,
       "version_minor": 0
      }
     },
     "metadata": {}
    },
    {
     "output_type": "stream",
     "name": "stderr",
     "text": [
      "\u001b[32m[I 2021-01-16 13:25:35,868]\u001b[0m Trial 24 pruned. Trial was pruned at epoch 1.\u001b[0m\n",
      "GPU available: True, used: True\n",
      "TPU available: None, using: 0 TPU cores\n",
      "LOCAL_RANK: 0 - CUDA_VISIBLE_DEVICES: [0,1]\n",
      "\n",
      "  | Name       | Type      | Params\n",
      "-----------------------------------------\n",
      "0 | embeddings | Embedding | 576   \n",
      "1 | rnn        | LSTM      | 165 K \n",
      "2 | dropout    | Dropout   | 0     \n",
      "3 | linear     | Linear    | 129   \n",
      "-----------------------------------------\n",
      "166 K     Trainable params\n",
      "0         Non-trainable params\n",
      "166 K     Total params\n"
     ]
    },
    {
     "output_type": "stream",
     "name": "stdout",
     "text": [
      "Training RNN with: 2 LSTM layers -- 64 LSTM hidden size -- 0.27 LSTM dropout -- 64 embedding size -- 0.16 classifier dropout -- 256 batch size -- 0.001 lr\n"
     ]
    },
    {
     "output_type": "display_data",
     "data": {
      "text/plain": [
       "Validation sanity check: |                                                                       | 0/? [00:00<…"
      ],
      "application/vnd.jupyter.widget-view+json": {
       "model_id": "",
       "version_major": 2,
       "version_minor": 0
      }
     },
     "metadata": {}
    },
    {
     "output_type": "display_data",
     "data": {
      "text/plain": [
       "Training: |                                                                                      | 0/? [00:00<…"
      ],
      "application/vnd.jupyter.widget-view+json": {
       "model_id": "457df6ca05f94bc6893d34485b896d22",
       "version_major": 2,
       "version_minor": 0
      }
     },
     "metadata": {}
    },
    {
     "output_type": "display_data",
     "data": {
      "text/plain": [
       "Validating: |                                                                                    | 0/? [00:00<…"
      ],
      "application/vnd.jupyter.widget-view+json": {
       "model_id": "",
       "version_major": 2,
       "version_minor": 0
      }
     },
     "metadata": {}
    },
    {
     "output_type": "display_data",
     "data": {
      "text/plain": [
       "Validating: |                                                                                    | 0/? [00:00<…"
      ],
      "application/vnd.jupyter.widget-view+json": {
       "model_id": "",
       "version_major": 2,
       "version_minor": 0
      }
     },
     "metadata": {}
    },
    {
     "output_type": "display_data",
     "data": {
      "text/plain": [
       "Validating: |                                                                                    | 0/? [00:00<…"
      ],
      "application/vnd.jupyter.widget-view+json": {
       "model_id": "",
       "version_major": 2,
       "version_minor": 0
      }
     },
     "metadata": {}
    },
    {
     "output_type": "display_data",
     "data": {
      "text/plain": [
       "Validating: |                                                                                    | 0/? [00:00<…"
      ],
      "application/vnd.jupyter.widget-view+json": {
       "model_id": "f164a7c875d2496cbef563923bf87c0a",
       "version_major": 2,
       "version_minor": 0
      }
     },
     "metadata": {}
    },
    {
     "output_type": "stream",
     "name": "stderr",
     "text": [
      "\u001b[32m[I 2021-01-16 14:41:27,468]\u001b[0m Trial 25 pruned. Trial was pruned at epoch 3.\u001b[0m\n",
      "GPU available: True, used: True\n",
      "TPU available: None, using: 0 TPU cores\n",
      "LOCAL_RANK: 0 - CUDA_VISIBLE_DEVICES: [0,1]\n",
      "\n",
      "  | Name       | Type      | Params\n",
      "-----------------------------------------\n",
      "0 | embeddings | Embedding | 576   \n",
      "1 | rnn        | LSTM      | 364 K \n",
      "2 | dropout    | Dropout   | 0     \n",
      "3 | linear     | Linear    | 129   \n",
      "-----------------------------------------\n",
      "365 K     Trainable params\n",
      "0         Non-trainable params\n",
      "365 K     Total params\n"
     ]
    },
    {
     "output_type": "stream",
     "name": "stdout",
     "text": [
      "Training RNN with: 4 LSTM layers -- 64 LSTM hidden size -- 0.33 LSTM dropout -- 64 embedding size -- 0.32 classifier dropout -- 128 batch size -- 0.005 lr\n"
     ]
    },
    {
     "output_type": "display_data",
     "data": {
      "text/plain": [
       "Validation sanity check: |                                                                       | 0/? [00:00<…"
      ],
      "application/vnd.jupyter.widget-view+json": {
       "model_id": "",
       "version_major": 2,
       "version_minor": 0
      }
     },
     "metadata": {}
    },
    {
     "output_type": "display_data",
     "data": {
      "text/plain": [
       "Training: |                                                                                      | 0/? [00:00<…"
      ],
      "application/vnd.jupyter.widget-view+json": {
       "model_id": "510a527cfb7a402e8514a0abaa226342",
       "version_major": 2,
       "version_minor": 0
      }
     },
     "metadata": {}
    },
    {
     "output_type": "display_data",
     "data": {
      "text/plain": [
       "Validating: |                                                                                    | 0/? [00:00<…"
      ],
      "application/vnd.jupyter.widget-view+json": {
       "model_id": "",
       "version_major": 2,
       "version_minor": 0
      }
     },
     "metadata": {}
    },
    {
     "output_type": "display_data",
     "data": {
      "text/plain": [
       "Validating: |                                                                                    | 0/? [00:00<…"
      ],
      "application/vnd.jupyter.widget-view+json": {
       "model_id": "",
       "version_major": 2,
       "version_minor": 0
      }
     },
     "metadata": {}
    },
    {
     "output_type": "display_data",
     "data": {
      "text/plain": [
       "Validating: |                                                                                    | 0/? [00:00<…"
      ],
      "application/vnd.jupyter.widget-view+json": {
       "model_id": "",
       "version_major": 2,
       "version_minor": 0
      }
     },
     "metadata": {}
    },
    {
     "output_type": "display_data",
     "data": {
      "text/plain": [
       "Validating: |                                                                                    | 0/? [00:00<…"
      ],
      "application/vnd.jupyter.widget-view+json": {
       "model_id": "f437341b7f5b485880a33024f7032512",
       "version_major": 2,
       "version_minor": 0
      }
     },
     "metadata": {}
    },
    {
     "output_type": "stream",
     "name": "stderr",
     "text": [
      "\u001b[32m[I 2021-01-16 20:13:31,961]\u001b[0m Trial 26 pruned. Trial was pruned at epoch 3.\u001b[0m\n",
      "GPU available: True, used: True\n",
      "TPU available: None, using: 0 TPU cores\n",
      "LOCAL_RANK: 0 - CUDA_VISIBLE_DEVICES: [0,1]\n",
      "\n",
      "  | Name       | Type      | Params\n",
      "-----------------------------------------\n",
      "0 | embeddings | Embedding | 144   \n",
      "1 | rnn        | LSTM      | 240 K \n",
      "2 | dropout    | Dropout   | 0     \n",
      "3 | linear     | Linear    | 129   \n",
      "-----------------------------------------\n",
      "240 K     Trainable params\n",
      "0         Non-trainable params\n",
      "240 K     Total params\n"
     ]
    },
    {
     "output_type": "stream",
     "name": "stdout",
     "text": [
      "Training RNN with: 3 LSTM layers -- 64 LSTM hidden size -- 0.30 LSTM dropout -- 16 embedding size -- 0.39 classifier dropout -- 256 batch size -- 0.000 lr\n"
     ]
    },
    {
     "output_type": "display_data",
     "data": {
      "text/plain": [
       "Validation sanity check: |                                                                       | 0/? [00:00<…"
      ],
      "application/vnd.jupyter.widget-view+json": {
       "model_id": "",
       "version_major": 2,
       "version_minor": 0
      }
     },
     "metadata": {}
    },
    {
     "output_type": "display_data",
     "data": {
      "text/plain": [
       "Training: |                                                                                      | 0/? [00:00<…"
      ],
      "application/vnd.jupyter.widget-view+json": {
       "model_id": "764d2093c21043e89fba389c4eb90bcf",
       "version_major": 2,
       "version_minor": 0
      }
     },
     "metadata": {}
    },
    {
     "output_type": "display_data",
     "data": {
      "text/plain": [
       "Validating: |                                                                                    | 0/? [00:00<…"
      ],
      "application/vnd.jupyter.widget-view+json": {
       "model_id": "",
       "version_major": 2,
       "version_minor": 0
      }
     },
     "metadata": {}
    },
    {
     "output_type": "display_data",
     "data": {
      "text/plain": [
       "Validating: |                                                                                    | 0/? [00:00<…"
      ],
      "application/vnd.jupyter.widget-view+json": {
       "model_id": "",
       "version_major": 2,
       "version_minor": 0
      }
     },
     "metadata": {}
    },
    {
     "output_type": "display_data",
     "data": {
      "text/plain": [
       "Validating: |                                                                                    | 0/? [00:00<…"
      ],
      "application/vnd.jupyter.widget-view+json": {
       "model_id": "",
       "version_major": 2,
       "version_minor": 0
      }
     },
     "metadata": {}
    },
    {
     "output_type": "display_data",
     "data": {
      "text/plain": [
       "Validating: |                                                                                    | 0/? [00:00<…"
      ],
      "application/vnd.jupyter.widget-view+json": {
       "model_id": "958e503cbd6b4e0aa699d1abc0922758",
       "version_major": 2,
       "version_minor": 0
      }
     },
     "metadata": {}
    },
    {
     "output_type": "stream",
     "name": "stderr",
     "text": [
      "\u001b[32m[I 2021-01-16 22:16:46,967]\u001b[0m Trial 27 pruned. Trial was pruned at epoch 3.\u001b[0m\n",
      "GPU available: True, used: True\n",
      "TPU available: None, using: 0 TPU cores\n",
      "LOCAL_RANK: 0 - CUDA_VISIBLE_DEVICES: [0,1]\n",
      "\n",
      "  | Name       | Type      | Params\n",
      "-----------------------------------------\n",
      "0 | embeddings | Embedding | 576   \n",
      "1 | rnn        | LSTM      | 265 K \n",
      "2 | dropout    | Dropout   | 0     \n",
      "3 | linear     | Linear    | 129   \n",
      "-----------------------------------------\n",
      "265 K     Trainable params\n",
      "0         Non-trainable params\n",
      "265 K     Total params\n"
     ]
    },
    {
     "output_type": "stream",
     "name": "stdout",
     "text": [
      "Training RNN with: 3 LSTM layers -- 64 LSTM hidden size -- 0.18 LSTM dropout -- 64 embedding size -- 0.47 classifier dropout -- 128 batch size -- 0.001 lr\n"
     ]
    },
    {
     "output_type": "display_data",
     "data": {
      "text/plain": [
       "Validation sanity check: |                                                                       | 0/? [00:00<…"
      ],
      "application/vnd.jupyter.widget-view+json": {
       "model_id": "",
       "version_major": 2,
       "version_minor": 0
      }
     },
     "metadata": {}
    },
    {
     "output_type": "display_data",
     "data": {
      "text/plain": [
       "Training: |                                                                                      | 0/? [00:00<…"
      ],
      "application/vnd.jupyter.widget-view+json": {
       "model_id": "b75f9274dc6d40deaf167012b4cdb672",
       "version_major": 2,
       "version_minor": 0
      }
     },
     "metadata": {}
    },
    {
     "output_type": "display_data",
     "data": {
      "text/plain": [
       "Validating: |                                                                                    | 0/? [00:00<…"
      ],
      "application/vnd.jupyter.widget-view+json": {
       "model_id": "",
       "version_major": 2,
       "version_minor": 0
      }
     },
     "metadata": {}
    },
    {
     "output_type": "display_data",
     "data": {
      "text/plain": [
       "Validating: |                                                                                    | 0/? [00:00<…"
      ],
      "application/vnd.jupyter.widget-view+json": {
       "model_id": "",
       "version_major": 2,
       "version_minor": 0
      }
     },
     "metadata": {}
    },
    {
     "output_type": "display_data",
     "data": {
      "text/plain": [
       "Validating: |                                                                                    | 0/? [00:00<…"
      ],
      "application/vnd.jupyter.widget-view+json": {
       "model_id": "",
       "version_major": 2,
       "version_minor": 0
      }
     },
     "metadata": {}
    },
    {
     "output_type": "display_data",
     "data": {
      "text/plain": [
       "Validating: |                                                                                    | 0/? [00:00<…"
      ],
      "application/vnd.jupyter.widget-view+json": {
       "model_id": "",
       "version_major": 2,
       "version_minor": 0
      }
     },
     "metadata": {}
    },
    {
     "output_type": "display_data",
     "data": {
      "text/plain": [
       "Validating: |                                                                                    | 0/? [00:00<…"
      ],
      "application/vnd.jupyter.widget-view+json": {
       "model_id": "",
       "version_major": 2,
       "version_minor": 0
      }
     },
     "metadata": {}
    },
    {
     "output_type": "stream",
     "name": "stderr",
     "text": [
      "\u001b[32m[I 2021-01-17 02:35:35,116]\u001b[0m Trial 28 finished with value: 124.3340072631836 and parameters: {'emb_dim': 64, 'rnn_num_layers': 3, 'rnn_dropout': 0.18303483458279038, 'rnn_hidden_size': 64, 'classifier_dropout': 0.4723490227330891, 'batch_size': 128, 'lr': 0.0010203445768274513}. Best is trial 28 with value: 124.3340072631836.\u001b[0m\n",
      "GPU available: True, used: True\n",
      "TPU available: None, using: 0 TPU cores\n",
      "LOCAL_RANK: 0 - CUDA_VISIBLE_DEVICES: [0,1]\n",
      "\n",
      "  | Name       | Type      | Params\n",
      "-----------------------------------------\n",
      "0 | embeddings | Embedding | 576   \n",
      "1 | rnn        | LSTM      | 165 K \n",
      "2 | dropout    | Dropout   | 0     \n",
      "3 | linear     | Linear    | 129   \n",
      "-----------------------------------------\n",
      "166 K     Trainable params\n",
      "0         Non-trainable params\n",
      "166 K     Total params\n"
     ]
    },
    {
     "output_type": "stream",
     "name": "stdout",
     "text": [
      "Training RNN with: 2 LSTM layers -- 64 LSTM hidden size -- 0.10 LSTM dropout -- 64 embedding size -- 0.49 classifier dropout -- 128 batch size -- 0.002 lr\n"
     ]
    },
    {
     "output_type": "display_data",
     "data": {
      "text/plain": [
       "Validation sanity check: |                                                                       | 0/? [00:00<…"
      ],
      "application/vnd.jupyter.widget-view+json": {
       "model_id": "",
       "version_major": 2,
       "version_minor": 0
      }
     },
     "metadata": {}
    },
    {
     "output_type": "display_data",
     "data": {
      "text/plain": [
       "Training: |                                                                                      | 0/? [00:00<…"
      ],
      "application/vnd.jupyter.widget-view+json": {
       "model_id": "98b9b41d3c3b4941a51d1eda24d96cdb",
       "version_major": 2,
       "version_minor": 0
      }
     },
     "metadata": {}
    },
    {
     "output_type": "display_data",
     "data": {
      "text/plain": [
       "Validating: |                                                                                    | 0/? [00:00<…"
      ],
      "application/vnd.jupyter.widget-view+json": {
       "model_id": "",
       "version_major": 2,
       "version_minor": 0
      }
     },
     "metadata": {}
    },
    {
     "output_type": "display_data",
     "data": {
      "text/plain": [
       "Validating: |                                                                                    | 0/? [00:00<…"
      ],
      "application/vnd.jupyter.widget-view+json": {
       "model_id": "db3862b9103c4645a4920434178828a1",
       "version_major": 2,
       "version_minor": 0
      }
     },
     "metadata": {}
    },
    {
     "output_type": "stream",
     "name": "stderr",
     "text": [
      "\u001b[32m[I 2021-01-17 03:34:08,371]\u001b[0m Trial 29 pruned. Trial was pruned at epoch 1.\u001b[0m\n",
      "GPU available: True, used: True\n",
      "TPU available: None, using: 0 TPU cores\n",
      "LOCAL_RANK: 0 - CUDA_VISIBLE_DEVICES: [0,1]\n",
      "\n",
      "  | Name       | Type      | Params\n",
      "-----------------------------------------\n",
      "0 | embeddings | Embedding | 576   \n",
      "1 | rnn        | LSTM      | 364 K \n",
      "2 | dropout    | Dropout   | 0     \n",
      "3 | linear     | Linear    | 129   \n",
      "-----------------------------------------\n",
      "365 K     Trainable params\n",
      "0         Non-trainable params\n",
      "365 K     Total params\n"
     ]
    },
    {
     "output_type": "stream",
     "name": "stdout",
     "text": [
      "Training RNN with: 4 LSTM layers -- 64 LSTM hidden size -- 0.13 LSTM dropout -- 64 embedding size -- 0.44 classifier dropout -- 128 batch size -- 0.002 lr\n"
     ]
    },
    {
     "output_type": "display_data",
     "data": {
      "text/plain": [
       "Validation sanity check: |                                                                       | 0/? [00:00<…"
      ],
      "application/vnd.jupyter.widget-view+json": {
       "model_id": "",
       "version_major": 2,
       "version_minor": 0
      }
     },
     "metadata": {}
    },
    {
     "output_type": "display_data",
     "data": {
      "text/plain": [
       "Training: |                                                                                      | 0/? [00:00<…"
      ],
      "application/vnd.jupyter.widget-view+json": {
       "model_id": "a5908e1474c441b4a0959f8dec419758",
       "version_major": 2,
       "version_minor": 0
      }
     },
     "metadata": {}
    },
    {
     "output_type": "display_data",
     "data": {
      "text/plain": [
       "Validating: |                                                                                    | 0/? [00:00<…"
      ],
      "application/vnd.jupyter.widget-view+json": {
       "model_id": "",
       "version_major": 2,
       "version_minor": 0
      }
     },
     "metadata": {}
    },
    {
     "output_type": "display_data",
     "data": {
      "text/plain": [
       "Validating: |                                                                                    | 0/? [00:00<…"
      ],
      "application/vnd.jupyter.widget-view+json": {
       "model_id": "f48a9546563d4cceb4708014ab3100c9",
       "version_major": 2,
       "version_minor": 0
      }
     },
     "metadata": {}
    },
    {
     "output_type": "stream",
     "name": "stderr",
     "text": [
      "\u001b[32m[I 2021-01-17 06:14:17,231]\u001b[0m Trial 30 pruned. Trial was pruned at epoch 1.\u001b[0m\n",
      "GPU available: True, used: True\n",
      "TPU available: None, using: 0 TPU cores\n",
      "LOCAL_RANK: 0 - CUDA_VISIBLE_DEVICES: [0,1]\n",
      "\n",
      "  | Name       | Type      | Params\n",
      "-----------------------------------------\n",
      "0 | embeddings | Embedding | 576   \n",
      "1 | rnn        | LSTM      | 265 K \n",
      "2 | dropout    | Dropout   | 0     \n",
      "3 | linear     | Linear    | 129   \n",
      "-----------------------------------------\n",
      "265 K     Trainable params\n",
      "0         Non-trainable params\n",
      "265 K     Total params\n"
     ]
    },
    {
     "output_type": "stream",
     "name": "stdout",
     "text": [
      "Training RNN with: 3 LSTM layers -- 64 LSTM hidden size -- 0.18 LSTM dropout -- 64 embedding size -- 0.21 classifier dropout -- 128 batch size -- 0.001 lr\n"
     ]
    },
    {
     "output_type": "display_data",
     "data": {
      "text/plain": [
       "Validation sanity check: |                                                                       | 0/? [00:00<…"
      ],
      "application/vnd.jupyter.widget-view+json": {
       "model_id": "",
       "version_major": 2,
       "version_minor": 0
      }
     },
     "metadata": {}
    },
    {
     "output_type": "display_data",
     "data": {
      "text/plain": [
       "Training: |                                                                                      | 0/? [00:00<…"
      ],
      "application/vnd.jupyter.widget-view+json": {
       "model_id": "20eebf396b494fa98826440279dd3700",
       "version_major": 2,
       "version_minor": 0
      }
     },
     "metadata": {}
    },
    {
     "output_type": "display_data",
     "data": {
      "text/plain": [
       "Validating: |                                                                                    | 0/? [00:00<…"
      ],
      "application/vnd.jupyter.widget-view+json": {
       "model_id": "",
       "version_major": 2,
       "version_minor": 0
      }
     },
     "metadata": {}
    },
    {
     "output_type": "display_data",
     "data": {
      "text/plain": [
       "Validating: |                                                                                    | 0/? [00:00<…"
      ],
      "application/vnd.jupyter.widget-view+json": {
       "model_id": "",
       "version_major": 2,
       "version_minor": 0
      }
     },
     "metadata": {}
    },
    {
     "output_type": "display_data",
     "data": {
      "text/plain": [
       "Validating: |                                                                                    | 0/? [00:00<…"
      ],
      "application/vnd.jupyter.widget-view+json": {
       "model_id": "",
       "version_major": 2,
       "version_minor": 0
      }
     },
     "metadata": {}
    },
    {
     "output_type": "display_data",
     "data": {
      "text/plain": [
       "Validating: |                                                                                    | 0/? [00:00<…"
      ],
      "application/vnd.jupyter.widget-view+json": {
       "model_id": "",
       "version_major": 2,
       "version_minor": 0
      }
     },
     "metadata": {}
    },
    {
     "output_type": "display_data",
     "data": {
      "text/plain": [
       "Validating: |                                                                                    | 0/? [00:00<…"
      ],
      "application/vnd.jupyter.widget-view+json": {
       "model_id": "",
       "version_major": 2,
       "version_minor": 0
      }
     },
     "metadata": {}
    },
    {
     "output_type": "stream",
     "name": "stderr",
     "text": [
      "\u001b[32m[I 2021-01-17 10:24:14,520]\u001b[0m Trial 31 finished with value: 133.37997436523438 and parameters: {'emb_dim': 64, 'rnn_num_layers': 3, 'rnn_dropout': 0.18161663882475187, 'rnn_hidden_size': 64, 'classifier_dropout': 0.20922711929329624, 'batch_size': 128, 'lr': 0.000994547820840891}. Best is trial 28 with value: 124.3340072631836.\u001b[0m\n",
      "GPU available: True, used: True\n",
      "TPU available: None, using: 0 TPU cores\n",
      "LOCAL_RANK: 0 - CUDA_VISIBLE_DEVICES: [0,1]\n",
      "\n",
      "  | Name       | Type      | Params\n",
      "-----------------------------------------\n",
      "0 | embeddings | Embedding | 576   \n",
      "1 | rnn        | LSTM      | 265 K \n",
      "2 | dropout    | Dropout   | 0     \n",
      "3 | linear     | Linear    | 129   \n",
      "-----------------------------------------\n",
      "265 K     Trainable params\n",
      "0         Non-trainable params\n",
      "265 K     Total params\n"
     ]
    },
    {
     "output_type": "stream",
     "name": "stdout",
     "text": [
      "Training RNN with: 3 LSTM layers -- 64 LSTM hidden size -- 0.18 LSTM dropout -- 64 embedding size -- 0.20 classifier dropout -- 128 batch size -- 0.001 lr\n"
     ]
    },
    {
     "output_type": "display_data",
     "data": {
      "text/plain": [
       "Validation sanity check: |                                                                       | 0/? [00:00<…"
      ],
      "application/vnd.jupyter.widget-view+json": {
       "model_id": "",
       "version_major": 2,
       "version_minor": 0
      }
     },
     "metadata": {}
    },
    {
     "output_type": "display_data",
     "data": {
      "text/plain": [
       "Training: |                                                                                      | 0/? [00:00<…"
      ],
      "application/vnd.jupyter.widget-view+json": {
       "model_id": "1cc0c9a45b8648009378c3a19a5d91d7",
       "version_major": 2,
       "version_minor": 0
      }
     },
     "metadata": {}
    },
    {
     "output_type": "display_data",
     "data": {
      "text/plain": [
       "Validating: |                                                                                    | 0/? [00:00<…"
      ],
      "application/vnd.jupyter.widget-view+json": {
       "model_id": "",
       "version_major": 2,
       "version_minor": 0
      }
     },
     "metadata": {}
    },
    {
     "output_type": "display_data",
     "data": {
      "text/plain": [
       "Validating: |                                                                                    | 0/? [00:00<…"
      ],
      "application/vnd.jupyter.widget-view+json": {
       "model_id": "",
       "version_major": 2,
       "version_minor": 0
      }
     },
     "metadata": {}
    },
    {
     "output_type": "display_data",
     "data": {
      "text/plain": [
       "Validating: |                                                                                    | 0/? [00:00<…"
      ],
      "application/vnd.jupyter.widget-view+json": {
       "model_id": "",
       "version_major": 2,
       "version_minor": 0
      }
     },
     "metadata": {}
    },
    {
     "output_type": "display_data",
     "data": {
      "text/plain": [
       "Validating: |                                                                                    | 0/? [00:00<…"
      ],
      "application/vnd.jupyter.widget-view+json": {
       "model_id": "",
       "version_major": 2,
       "version_minor": 0
      }
     },
     "metadata": {}
    },
    {
     "output_type": "display_data",
     "data": {
      "text/plain": [
       "Validating: |                                                                                    | 0/? [00:00<…"
      ],
      "application/vnd.jupyter.widget-view+json": {
       "model_id": "",
       "version_major": 2,
       "version_minor": 0
      }
     },
     "metadata": {}
    },
    {
     "output_type": "stream",
     "name": "stderr",
     "text": [
      "\u001b[32m[I 2021-01-17 14:48:22,723]\u001b[0m Trial 32 finished with value: 141.3159637451172 and parameters: {'emb_dim': 64, 'rnn_num_layers': 3, 'rnn_dropout': 0.1807717783996796, 'rnn_hidden_size': 64, 'classifier_dropout': 0.20140576894213452, 'batch_size': 128, 'lr': 0.0009479873552140602}. Best is trial 28 with value: 124.3340072631836.\u001b[0m\n",
      "GPU available: True, used: True\n",
      "TPU available: None, using: 0 TPU cores\n",
      "LOCAL_RANK: 0 - CUDA_VISIBLE_DEVICES: [0,1]\n",
      "\n",
      "  | Name       | Type      | Params\n",
      "-----------------------------------------\n",
      "0 | embeddings | Embedding | 576   \n",
      "1 | rnn        | LSTM      | 265 K \n",
      "2 | dropout    | Dropout   | 0     \n",
      "3 | linear     | Linear    | 129   \n",
      "-----------------------------------------\n",
      "265 K     Trainable params\n",
      "0         Non-trainable params\n",
      "265 K     Total params\n"
     ]
    },
    {
     "output_type": "stream",
     "name": "stdout",
     "text": [
      "Training RNN with: 3 LSTM layers -- 64 LSTM hidden size -- 0.17 LSTM dropout -- 64 embedding size -- 0.28 classifier dropout -- 128 batch size -- 0.001 lr\n"
     ]
    },
    {
     "output_type": "display_data",
     "data": {
      "text/plain": [
       "Validation sanity check: |                                                                       | 0/? [00:00<…"
      ],
      "application/vnd.jupyter.widget-view+json": {
       "model_id": "",
       "version_major": 2,
       "version_minor": 0
      }
     },
     "metadata": {}
    },
    {
     "output_type": "display_data",
     "data": {
      "text/plain": [
       "Training: |                                                                                      | 0/? [00:00<…"
      ],
      "application/vnd.jupyter.widget-view+json": {
       "model_id": "400db9be179544908abaad4c2f54cbac",
       "version_major": 2,
       "version_minor": 0
      }
     },
     "metadata": {}
    },
    {
     "output_type": "display_data",
     "data": {
      "text/plain": [
       "Validating: |                                                                                    | 0/? [00:00<…"
      ],
      "application/vnd.jupyter.widget-view+json": {
       "model_id": "",
       "version_major": 2,
       "version_minor": 0
      }
     },
     "metadata": {}
    },
    {
     "output_type": "display_data",
     "data": {
      "text/plain": [
       "Validating: |                                                                                    | 0/? [00:00<…"
      ],
      "application/vnd.jupyter.widget-view+json": {
       "model_id": "",
       "version_major": 2,
       "version_minor": 0
      }
     },
     "metadata": {}
    },
    {
     "output_type": "display_data",
     "data": {
      "text/plain": [
       "Validating: |                                                                                    | 0/? [00:00<…"
      ],
      "application/vnd.jupyter.widget-view+json": {
       "model_id": "",
       "version_major": 2,
       "version_minor": 0
      }
     },
     "metadata": {}
    },
    {
     "output_type": "display_data",
     "data": {
      "text/plain": [
       "Validating: |                                                                                    | 0/? [00:00<…"
      ],
      "application/vnd.jupyter.widget-view+json": {
       "model_id": "",
       "version_major": 2,
       "version_minor": 0
      }
     },
     "metadata": {}
    },
    {
     "output_type": "display_data",
     "data": {
      "text/plain": [
       "Validating: |                                                                                    | 0/? [00:00<…"
      ],
      "application/vnd.jupyter.widget-view+json": {
       "model_id": "",
       "version_major": 2,
       "version_minor": 0
      }
     },
     "metadata": {}
    },
    {
     "output_type": "stream",
     "name": "stderr",
     "text": [
      "\u001b[32m[I 2021-01-17 19:19:25,299]\u001b[0m Trial 33 finished with value: 117.47273254394531 and parameters: {'emb_dim': 64, 'rnn_num_layers': 3, 'rnn_dropout': 0.169109914339857, 'rnn_hidden_size': 64, 'classifier_dropout': 0.2757714241475076, 'batch_size': 128, 'lr': 0.0005820252808369572}. Best is trial 33 with value: 117.47273254394531.\u001b[0m\n",
      "GPU available: True, used: True\n",
      "TPU available: None, using: 0 TPU cores\n",
      "LOCAL_RANK: 0 - CUDA_VISIBLE_DEVICES: [0,1]\n",
      "\n",
      "  | Name       | Type      | Params\n",
      "-----------------------------------------\n",
      "0 | embeddings | Embedding | 576   \n",
      "1 | rnn        | LSTM      | 100 K \n",
      "2 | dropout    | Dropout   | 0     \n",
      "3 | linear     | Linear    | 65    \n",
      "-----------------------------------------\n",
      "100 K     Trainable params\n",
      "0         Non-trainable params\n",
      "100 K     Total params\n"
     ]
    },
    {
     "output_type": "stream",
     "name": "stdout",
     "text": [
      "Training RNN with: 4 LSTM layers -- 32 LSTM hidden size -- 0.18 LSTM dropout -- 64 embedding size -- 0.28 classifier dropout -- 128 batch size -- 0.001 lr\n"
     ]
    },
    {
     "output_type": "display_data",
     "data": {
      "text/plain": [
       "Validation sanity check: |                                                                       | 0/? [00:00<…"
      ],
      "application/vnd.jupyter.widget-view+json": {
       "model_id": "",
       "version_major": 2,
       "version_minor": 0
      }
     },
     "metadata": {}
    },
    {
     "output_type": "display_data",
     "data": {
      "text/plain": [
       "Training: |                                                                                      | 0/? [00:00<…"
      ],
      "application/vnd.jupyter.widget-view+json": {
       "model_id": "4f63bc34d0844a088d8bf7734d727285",
       "version_major": 2,
       "version_minor": 0
      }
     },
     "metadata": {}
    },
    {
     "output_type": "display_data",
     "data": {
      "text/plain": [
       "Validating: |                                                                                    | 0/? [00:00<…"
      ],
      "application/vnd.jupyter.widget-view+json": {
       "model_id": "",
       "version_major": 2,
       "version_minor": 0
      }
     },
     "metadata": {}
    },
    {
     "output_type": "display_data",
     "data": {
      "text/plain": [
       "Validating: |                                                                                    | 0/? [00:00<…"
      ],
      "application/vnd.jupyter.widget-view+json": {
       "model_id": "",
       "version_major": 2,
       "version_minor": 0
      }
     },
     "metadata": {}
    },
    {
     "output_type": "display_data",
     "data": {
      "text/plain": [
       "Validating: |                                                                                    | 0/? [00:00<…"
      ],
      "application/vnd.jupyter.widget-view+json": {
       "model_id": "",
       "version_major": 2,
       "version_minor": 0
      }
     },
     "metadata": {}
    },
    {
     "output_type": "display_data",
     "data": {
      "text/plain": [
       "Validating: |                                                                                    | 0/? [00:00<…"
      ],
      "application/vnd.jupyter.widget-view+json": {
       "model_id": "77011bbcf76b4ae491961171379d375a",
       "version_major": 2,
       "version_minor": 0
      }
     },
     "metadata": {}
    },
    {
     "output_type": "stream",
     "name": "stderr",
     "text": [
      "\u001b[32m[I 2021-01-17 23:31:25,099]\u001b[0m Trial 34 pruned. Trial was pruned at epoch 3.\u001b[0m\n",
      "GPU available: True, used: True\n",
      "TPU available: None, using: 0 TPU cores\n",
      "LOCAL_RANK: 0 - CUDA_VISIBLE_DEVICES: [0,1]\n",
      "\n",
      "  | Name       | Type      | Params\n",
      "-----------------------------------------\n",
      "0 | embeddings | Embedding | 576   \n",
      "1 | rnn        | LSTM      | 616 K \n",
      "2 | dropout    | Dropout   | 0     \n",
      "3 | linear     | Linear    | 201   \n",
      "-----------------------------------------\n",
      "616 K     Trainable params\n",
      "0         Non-trainable params\n",
      "616 K     Total params\n"
     ]
    },
    {
     "output_type": "stream",
     "name": "stdout",
     "text": [
      "Training RNN with: 3 LSTM layers -- 100 LSTM hidden size -- 0.15 LSTM dropout -- 64 embedding size -- 0.36 classifier dropout -- 128 batch size -- 0.008 lr\n"
     ]
    },
    {
     "output_type": "display_data",
     "data": {
      "text/plain": [
       "Validation sanity check: |                                                                       | 0/? [00:00<…"
      ],
      "application/vnd.jupyter.widget-view+json": {
       "model_id": "",
       "version_major": 2,
       "version_minor": 0
      }
     },
     "metadata": {}
    },
    {
     "output_type": "display_data",
     "data": {
      "text/plain": [
       "Training: |                                                                                      | 0/? [00:00<…"
      ],
      "application/vnd.jupyter.widget-view+json": {
       "model_id": "574665ba9e074cc08c5f8cae07757d04",
       "version_major": 2,
       "version_minor": 0
      }
     },
     "metadata": {}
    },
    {
     "output_type": "display_data",
     "data": {
      "text/plain": [
       "Validating: |                                                                                    | 0/? [00:00<…"
      ],
      "application/vnd.jupyter.widget-view+json": {
       "model_id": "",
       "version_major": 2,
       "version_minor": 0
      }
     },
     "metadata": {}
    },
    {
     "output_type": "display_data",
     "data": {
      "text/plain": [
       "Validating: |                                                                                    | 0/? [00:00<…"
      ],
      "application/vnd.jupyter.widget-view+json": {
       "model_id": "33abe46e48174b74a87378ff91a23800",
       "version_major": 2,
       "version_minor": 0
      }
     },
     "metadata": {}
    },
    {
     "output_type": "stream",
     "name": "stderr",
     "text": [
      "\u001b[32m[I 2021-01-18 02:08:44,959]\u001b[0m Trial 35 pruned. Trial was pruned at epoch 1.\u001b[0m\n",
      "GPU available: True, used: True\n",
      "TPU available: None, using: 0 TPU cores\n",
      "LOCAL_RANK: 0 - CUDA_VISIBLE_DEVICES: [0,1]\n",
      "\n",
      "  | Name       | Type      | Params\n",
      "-----------------------------------------\n",
      "0 | embeddings | Embedding | 576   \n",
      "1 | rnn        | LSTM      | 364 K \n",
      "2 | dropout    | Dropout   | 0     \n",
      "3 | linear     | Linear    | 129   \n",
      "-----------------------------------------\n",
      "365 K     Trainable params\n",
      "0         Non-trainable params\n",
      "365 K     Total params\n"
     ]
    },
    {
     "output_type": "stream",
     "name": "stdout",
     "text": [
      "Training RNN with: 4 LSTM layers -- 64 LSTM hidden size -- 0.20 LSTM dropout -- 64 embedding size -- 0.26 classifier dropout -- 128 batch size -- 0.000 lr\n"
     ]
    },
    {
     "output_type": "display_data",
     "data": {
      "text/plain": [
       "Validation sanity check: |                                                                       | 0/? [00:00<…"
      ],
      "application/vnd.jupyter.widget-view+json": {
       "model_id": "",
       "version_major": 2,
       "version_minor": 0
      }
     },
     "metadata": {}
    },
    {
     "output_type": "display_data",
     "data": {
      "text/plain": [
       "Training: |                                                                                      | 0/? [00:00<…"
      ],
      "application/vnd.jupyter.widget-view+json": {
       "model_id": "efbe42cb277b4b26939a980f0bf0f3c3",
       "version_major": 2,
       "version_minor": 0
      }
     },
     "metadata": {}
    },
    {
     "output_type": "display_data",
     "data": {
      "text/plain": [
       "Validating: |                                                                                    | 0/? [00:00<…"
      ],
      "application/vnd.jupyter.widget-view+json": {
       "model_id": "",
       "version_major": 2,
       "version_minor": 0
      }
     },
     "metadata": {}
    },
    {
     "output_type": "display_data",
     "data": {
      "text/plain": [
       "Validating: |                                                                                    | 0/? [00:00<…"
      ],
      "application/vnd.jupyter.widget-view+json": {
       "model_id": "",
       "version_major": 2,
       "version_minor": 0
      }
     },
     "metadata": {}
    },
    {
     "output_type": "display_data",
     "data": {
      "text/plain": [
       "Validating: |                                                                                    | 0/? [00:00<…"
      ],
      "application/vnd.jupyter.widget-view+json": {
       "model_id": "",
       "version_major": 2,
       "version_minor": 0
      }
     },
     "metadata": {}
    },
    {
     "output_type": "display_data",
     "data": {
      "text/plain": [
       "Validating: |                                                                                    | 0/? [00:00<…"
      ],
      "application/vnd.jupyter.widget-view+json": {
       "model_id": "",
       "version_major": 2,
       "version_minor": 0
      }
     },
     "metadata": {}
    },
    {
     "output_type": "display_data",
     "data": {
      "text/plain": [
       "Validating: |                                                                                    | 0/? [00:00<…"
      ],
      "application/vnd.jupyter.widget-view+json": {
       "model_id": "",
       "version_major": 2,
       "version_minor": 0
      }
     },
     "metadata": {}
    },
    {
     "output_type": "stream",
     "name": "stderr",
     "text": [
      "\u001b[32m[I 2021-01-18 08:47:00,857]\u001b[0m Trial 36 finished with value: 143.99374389648438 and parameters: {'emb_dim': 64, 'rnn_num_layers': 4, 'rnn_dropout': 0.19867040126164165, 'rnn_hidden_size': 64, 'classifier_dropout': 0.26470666309108737, 'batch_size': 128, 'lr': 0.0002488367012334401}. Best is trial 33 with value: 117.47273254394531.\u001b[0m\n",
      "GPU available: True, used: True\n",
      "TPU available: None, using: 0 TPU cores\n",
      "LOCAL_RANK: 0 - CUDA_VISIBLE_DEVICES: [0,1]\n",
      "\n",
      "  | Name       | Type      | Params\n",
      "-----------------------------------------\n",
      "0 | embeddings | Embedding | 288   \n",
      "1 | rnn        | LSTM      | 248 K \n",
      "2 | dropout    | Dropout   | 0     \n",
      "3 | linear     | Linear    | 129   \n",
      "-----------------------------------------\n",
      "249 K     Trainable params\n",
      "0         Non-trainable params\n",
      "249 K     Total params\n"
     ]
    },
    {
     "output_type": "stream",
     "name": "stdout",
     "text": [
      "Training RNN with: 3 LSTM layers -- 64 LSTM hidden size -- 0.24 LSTM dropout -- 32 embedding size -- 0.22 classifier dropout -- 128 batch size -- 0.001 lr\n"
     ]
    },
    {
     "output_type": "display_data",
     "data": {
      "text/plain": [
       "Validation sanity check: |                                                                       | 0/? [00:00<…"
      ],
      "application/vnd.jupyter.widget-view+json": {
       "model_id": "",
       "version_major": 2,
       "version_minor": 0
      }
     },
     "metadata": {}
    },
    {
     "output_type": "display_data",
     "data": {
      "text/plain": [
       "Training: |                                                                                      | 0/? [00:00<…"
      ],
      "application/vnd.jupyter.widget-view+json": {
       "model_id": "2606e187e6c7498e8cd64dd19c8a3998",
       "version_major": 2,
       "version_minor": 0
      }
     },
     "metadata": {}
    },
    {
     "output_type": "display_data",
     "data": {
      "text/plain": [
       "Validating: |                                                                                    | 0/? [00:00<…"
      ],
      "application/vnd.jupyter.widget-view+json": {
       "model_id": "",
       "version_major": 2,
       "version_minor": 0
      }
     },
     "metadata": {}
    },
    {
     "output_type": "display_data",
     "data": {
      "text/plain": [
       "Validating: |                                                                                    | 0/? [00:00<…"
      ],
      "application/vnd.jupyter.widget-view+json": {
       "model_id": "",
       "version_major": 2,
       "version_minor": 0
      }
     },
     "metadata": {}
    },
    {
     "output_type": "display_data",
     "data": {
      "text/plain": [
       "Validating: |                                                                                    | 0/? [00:00<…"
      ],
      "application/vnd.jupyter.widget-view+json": {
       "model_id": "",
       "version_major": 2,
       "version_minor": 0
      }
     },
     "metadata": {}
    },
    {
     "output_type": "display_data",
     "data": {
      "text/plain": [
       "Validating: |                                                                                    | 0/? [00:00<…"
      ],
      "application/vnd.jupyter.widget-view+json": {
       "model_id": "",
       "version_major": 2,
       "version_minor": 0
      }
     },
     "metadata": {}
    },
    {
     "output_type": "display_data",
     "data": {
      "text/plain": [
       "Validating: |                                                                                    | 0/? [00:00<…"
      ],
      "application/vnd.jupyter.widget-view+json": {
       "model_id": "",
       "version_major": 2,
       "version_minor": 0
      }
     },
     "metadata": {}
    },
    {
     "output_type": "stream",
     "name": "stderr",
     "text": [
      "\u001b[32m[I 2021-01-18 13:01:56,945]\u001b[0m Trial 37 finished with value: 114.94227600097656 and parameters: {'emb_dim': 32, 'rnn_num_layers': 3, 'rnn_dropout': 0.2412375022122436, 'rnn_hidden_size': 64, 'classifier_dropout': 0.21659149581080556, 'batch_size': 128, 'lr': 0.0005974060251967456}. Best is trial 37 with value: 114.94227600097656.\u001b[0m\n",
      "GPU available: True, used: True\n",
      "TPU available: None, using: 0 TPU cores\n",
      "LOCAL_RANK: 0 - CUDA_VISIBLE_DEVICES: [0,1]\n",
      "\n",
      "  | Name       | Type      | Params\n",
      "-----------------------------------------\n",
      "0 | embeddings | Embedding | 288   \n",
      "1 | rnn        | LSTM      | 42.0 K\n",
      "2 | dropout    | Dropout   | 0     \n",
      "3 | linear     | Linear    | 65    \n",
      "-----------------------------------------\n",
      "42.3 K    Trainable params\n",
      "0         Non-trainable params\n",
      "42.3 K    Total params\n"
     ]
    },
    {
     "output_type": "stream",
     "name": "stdout",
     "text": [
      "Training RNN with: 2 LSTM layers -- 32 LSTM hidden size -- 0.24 LSTM dropout -- 32 embedding size -- 0.30 classifier dropout -- 128 batch size -- 0.000 lr\n"
     ]
    },
    {
     "output_type": "display_data",
     "data": {
      "text/plain": [
       "Validation sanity check: |                                                                       | 0/? [00:00<…"
      ],
      "application/vnd.jupyter.widget-view+json": {
       "model_id": "",
       "version_major": 2,
       "version_minor": 0
      }
     },
     "metadata": {}
    },
    {
     "output_type": "display_data",
     "data": {
      "text/plain": [
       "Training: |                                                                                      | 0/? [00:00<…"
      ],
      "application/vnd.jupyter.widget-view+json": {
       "model_id": "2dd31639ee9d4a2a956cff9c02c15224",
       "version_major": 2,
       "version_minor": 0
      }
     },
     "metadata": {}
    },
    {
     "output_type": "display_data",
     "data": {
      "text/plain": [
       "Validating: |                                                                                    | 0/? [00:00<…"
      ],
      "application/vnd.jupyter.widget-view+json": {
       "model_id": "",
       "version_major": 2,
       "version_minor": 0
      }
     },
     "metadata": {}
    },
    {
     "output_type": "display_data",
     "data": {
      "text/plain": [
       "Validating: |                                                                                    | 0/? [00:00<…"
      ],
      "application/vnd.jupyter.widget-view+json": {
       "model_id": "45643eeb25de4513862dec1ac95335ee",
       "version_major": 2,
       "version_minor": 0
      }
     },
     "metadata": {}
    },
    {
     "output_type": "stream",
     "name": "stderr",
     "text": [
      "\u001b[32m[I 2021-01-18 13:59:13,436]\u001b[0m Trial 38 pruned. Trial was pruned at epoch 1.\u001b[0m\n",
      "GPU available: True, used: True\n",
      "TPU available: None, using: 0 TPU cores\n",
      "LOCAL_RANK: 0 - CUDA_VISIBLE_DEVICES: [0,1]\n",
      "\n",
      "  | Name       | Type      | Params\n",
      "-----------------------------------------\n",
      "0 | embeddings | Embedding | 288   \n",
      "1 | rnn        | LSTM      | 832 K \n",
      "2 | dropout    | Dropout   | 0     \n",
      "3 | linear     | Linear    | 201   \n",
      "-----------------------------------------\n",
      "832 K     Trainable params\n",
      "0         Non-trainable params\n",
      "832 K     Total params\n"
     ]
    },
    {
     "output_type": "stream",
     "name": "stdout",
     "text": [
      "Training RNN with: 4 LSTM layers -- 100 LSTM hidden size -- 0.23 LSTM dropout -- 32 embedding size -- 0.18 classifier dropout -- 64 batch size -- 0.001 lr\n"
     ]
    },
    {
     "output_type": "display_data",
     "data": {
      "text/plain": [
       "Validation sanity check: |                                                                       | 0/? [00:00<…"
      ],
      "application/vnd.jupyter.widget-view+json": {
       "model_id": "",
       "version_major": 2,
       "version_minor": 0
      }
     },
     "metadata": {}
    },
    {
     "output_type": "display_data",
     "data": {
      "text/plain": [
       "Training: |                                                                                      | 0/? [00:00<…"
      ],
      "application/vnd.jupyter.widget-view+json": {
       "model_id": "c73e0e92833b455db286f6c402e2ea79",
       "version_major": 2,
       "version_minor": 0
      }
     },
     "metadata": {}
    },
    {
     "output_type": "display_data",
     "data": {
      "text/plain": [
       "Validating: |                                                                                    | 0/? [00:00<…"
      ],
      "application/vnd.jupyter.widget-view+json": {
       "model_id": "",
       "version_major": 2,
       "version_minor": 0
      }
     },
     "metadata": {}
    },
    {
     "output_type": "display_data",
     "data": {
      "text/plain": [
       "Validating: |                                                                                    | 0/? [00:00<…"
      ],
      "application/vnd.jupyter.widget-view+json": {
       "model_id": "9ddafb559fb946b4a2bf234ffd180f5e",
       "version_major": 2,
       "version_minor": 0
      }
     },
     "metadata": {}
    },
    {
     "output_type": "stream",
     "name": "stderr",
     "text": [
      "\u001b[32m[I 2021-01-18 19:51:13,556]\u001b[0m Trial 39 pruned. Trial was pruned at epoch 1.\u001b[0m\n",
      "GPU available: True, used: True\n",
      "TPU available: None, using: 0 TPU cores\n",
      "LOCAL_RANK: 0 - CUDA_VISIBLE_DEVICES: [0,1]\n",
      "\n",
      "  | Name       | Type      | Params\n",
      "-----------------------------------------\n",
      "0 | embeddings | Embedding | 288   \n",
      "1 | rnn        | LSTM      | 248 K \n",
      "2 | dropout    | Dropout   | 0     \n",
      "3 | linear     | Linear    | 129   \n",
      "-----------------------------------------\n",
      "249 K     Trainable params\n",
      "0         Non-trainable params\n",
      "249 K     Total params\n"
     ]
    },
    {
     "output_type": "stream",
     "name": "stdout",
     "text": [
      "Training RNN with: 3 LSTM layers -- 64 LSTM hidden size -- 0.16 LSTM dropout -- 32 embedding size -- 0.38 classifier dropout -- 128 batch size -- 0.000 lr\n"
     ]
    },
    {
     "output_type": "display_data",
     "data": {
      "text/plain": [
       "Validation sanity check: |                                                                       | 0/? [00:00<…"
      ],
      "application/vnd.jupyter.widget-view+json": {
       "model_id": "",
       "version_major": 2,
       "version_minor": 0
      }
     },
     "metadata": {}
    },
    {
     "output_type": "display_data",
     "data": {
      "text/plain": [
       "Training: |                                                                                      | 0/? [00:00<…"
      ],
      "application/vnd.jupyter.widget-view+json": {
       "model_id": "bfa72cc041b840a4b87b7a0c6e819032",
       "version_major": 2,
       "version_minor": 0
      }
     },
     "metadata": {}
    },
    {
     "output_type": "display_data",
     "data": {
      "text/plain": [
       "Validating: |                                                                                    | 0/? [00:00<…"
      ],
      "application/vnd.jupyter.widget-view+json": {
       "model_id": "",
       "version_major": 2,
       "version_minor": 0
      }
     },
     "metadata": {}
    },
    {
     "output_type": "display_data",
     "data": {
      "text/plain": [
       "Validating: |                                                                                    | 0/? [00:00<…"
      ],
      "application/vnd.jupyter.widget-view+json": {
       "model_id": "",
       "version_major": 2,
       "version_minor": 0
      }
     },
     "metadata": {}
    },
    {
     "output_type": "display_data",
     "data": {
      "text/plain": [
       "Validating: |                                                                                    | 0/? [00:00<…"
      ],
      "application/vnd.jupyter.widget-view+json": {
       "model_id": "",
       "version_major": 2,
       "version_minor": 0
      }
     },
     "metadata": {}
    },
    {
     "output_type": "display_data",
     "data": {
      "text/plain": [
       "Validating: |                                                                                    | 0/? [00:00<…"
      ],
      "application/vnd.jupyter.widget-view+json": {
       "model_id": "adbed920e1a549719eb5f38ecf5fa830",
       "version_major": 2,
       "version_minor": 0
      }
     },
     "metadata": {}
    },
    {
     "output_type": "stream",
     "name": "stderr",
     "text": [
      "\u001b[32m[I 2021-01-18 23:25:29,331]\u001b[0m Trial 40 pruned. Trial was pruned at epoch 3.\u001b[0m\n",
      "GPU available: True, used: True\n",
      "TPU available: None, using: 0 TPU cores\n",
      "LOCAL_RANK: 0 - CUDA_VISIBLE_DEVICES: [0,1]\n",
      "\n",
      "  | Name       | Type      | Params\n",
      "-----------------------------------------\n",
      "0 | embeddings | Embedding | 288   \n",
      "1 | rnn        | LSTM      | 248 K \n",
      "2 | dropout    | Dropout   | 0     \n",
      "3 | linear     | Linear    | 129   \n",
      "-----------------------------------------\n",
      "249 K     Trainable params\n",
      "0         Non-trainable params\n",
      "249 K     Total params\n"
     ]
    },
    {
     "output_type": "stream",
     "name": "stdout",
     "text": [
      "Training RNN with: 3 LSTM layers -- 64 LSTM hidden size -- 0.20 LSTM dropout -- 32 embedding size -- 0.22 classifier dropout -- 128 batch size -- 0.001 lr\n"
     ]
    },
    {
     "output_type": "display_data",
     "data": {
      "text/plain": [
       "Validation sanity check: |                                                                       | 0/? [00:00<…"
      ],
      "application/vnd.jupyter.widget-view+json": {
       "model_id": "",
       "version_major": 2,
       "version_minor": 0
      }
     },
     "metadata": {}
    },
    {
     "output_type": "display_data",
     "data": {
      "text/plain": [
       "Training: |                                                                                      | 0/? [00:00<…"
      ],
      "application/vnd.jupyter.widget-view+json": {
       "model_id": "77e52ac420184d0cb2da1959da304754",
       "version_major": 2,
       "version_minor": 0
      }
     },
     "metadata": {}
    },
    {
     "output_type": "display_data",
     "data": {
      "text/plain": [
       "Validating: |                                                                                    | 0/? [00:00<…"
      ],
      "application/vnd.jupyter.widget-view+json": {
       "model_id": "",
       "version_major": 2,
       "version_minor": 0
      }
     },
     "metadata": {}
    },
    {
     "output_type": "display_data",
     "data": {
      "text/plain": [
       "Validating: |                                                                                    | 0/? [00:00<…"
      ],
      "application/vnd.jupyter.widget-view+json": {
       "model_id": "",
       "version_major": 2,
       "version_minor": 0
      }
     },
     "metadata": {}
    },
    {
     "output_type": "display_data",
     "data": {
      "text/plain": [
       "Validating: |                                                                                    | 0/? [00:00<…"
      ],
      "application/vnd.jupyter.widget-view+json": {
       "model_id": "",
       "version_major": 2,
       "version_minor": 0
      }
     },
     "metadata": {}
    },
    {
     "output_type": "display_data",
     "data": {
      "text/plain": [
       "Validating: |                                                                                    | 0/? [00:00<…"
      ],
      "application/vnd.jupyter.widget-view+json": {
       "model_id": "2ac27fc054b942fc8a8c74177987071a",
       "version_major": 2,
       "version_minor": 0
      }
     },
     "metadata": {}
    },
    {
     "output_type": "stream",
     "name": "stderr",
     "text": [
      "\u001b[32m[I 2021-01-19 02:55:37,982]\u001b[0m Trial 41 pruned. Trial was pruned at epoch 3.\u001b[0m\n",
      "GPU available: True, used: True\n",
      "TPU available: None, using: 0 TPU cores\n",
      "LOCAL_RANK: 0 - CUDA_VISIBLE_DEVICES: [0,1]\n",
      "\n",
      "  | Name       | Type      | Params\n",
      "-----------------------------------------\n",
      "0 | embeddings | Embedding | 288   \n",
      "1 | rnn        | LSTM      | 248 K \n",
      "2 | dropout    | Dropout   | 0     \n",
      "3 | linear     | Linear    | 129   \n",
      "-----------------------------------------\n",
      "249 K     Trainable params\n",
      "0         Non-trainable params\n",
      "249 K     Total params\n"
     ]
    },
    {
     "output_type": "stream",
     "name": "stdout",
     "text": [
      "Training RNN with: 3 LSTM layers -- 64 LSTM hidden size -- 0.13 LSTM dropout -- 32 embedding size -- 0.21 classifier dropout -- 128 batch size -- 0.003 lr\n"
     ]
    },
    {
     "output_type": "display_data",
     "data": {
      "text/plain": [
       "Validation sanity check: |                                                                       | 0/? [00:00<…"
      ],
      "application/vnd.jupyter.widget-view+json": {
       "model_id": "",
       "version_major": 2,
       "version_minor": 0
      }
     },
     "metadata": {}
    },
    {
     "output_type": "display_data",
     "data": {
      "text/plain": [
       "Training: |                                                                                      | 0/? [00:00<…"
      ],
      "application/vnd.jupyter.widget-view+json": {
       "model_id": "8508bba5b2f540d0a511f3a53bbf2002",
       "version_major": 2,
       "version_minor": 0
      }
     },
     "metadata": {}
    }
   ],
   "metadata": {}
  }
 ],
 "metadata": {
  "kernelspec": {
   "display_name": "pt1.8-cuda11.1",
   "language": "python",
   "name": "pt1.8-cuda11.1"
  },
  "language_info": {
   "codemirror_mode": {
    "name": "ipython",
    "version": 3
   },
   "file_extension": ".py",
   "mimetype": "text/x-python",
   "name": "python",
   "nbconvert_exporter": "python",
   "pygments_lexer": "ipython3",
   "version": "3.8.5"
  }
 },
 "nbformat": 4,
 "nbformat_minor": 4
}
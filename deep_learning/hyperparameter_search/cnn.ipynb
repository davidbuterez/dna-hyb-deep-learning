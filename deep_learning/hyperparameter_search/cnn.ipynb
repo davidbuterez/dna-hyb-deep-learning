{
 "cells": [
  {
   "cell_type": "code",
   "execution_count": 1,
   "source": [
    "MAX_LEN = 26"
   ],
   "outputs": [],
   "metadata": {}
  },
  {
   "cell_type": "code",
   "execution_count": 2,
   "source": [
    "import os\r\n",
    "import pprint\r\n",
    "import numpy as np\r\n",
    "import pandas as pd\r\n",
    "import deepdish as dd\r\n",
    "\r\n",
    "import pytorch_lightning as pl\r\n",
    "from pytorch_lightning.callbacks import EarlyStopping, ModelCheckpoint\r\n",
    "\r\n",
    "import torch\r\n",
    "import torch.nn.functional as F\r\n",
    "from torch import nn\r\n",
    "from torch.utils.data import Dataset, DataLoader\r\n",
    "\r\n",
    "import optuna\r\n",
    "from optuna.integration import PyTorchLightningPruningCallback\r\n",
    "from torchnlp.encoders.text import CharacterEncoder, StaticTokenizerEncoder"
   ],
   "outputs": [],
   "metadata": {}
  },
  {
   "cell_type": "code",
   "execution_count": 3,
   "source": [
    "from sklearn.metrics import confusion_matrix, precision_recall_fscore_support, roc_auc_score, roc_curve, matthews_corrcoef, plot_confusion_matrix\r\n",
    "from collections import defaultdict"
   ],
   "outputs": [],
   "metadata": {}
  },
  {
   "cell_type": "code",
   "execution_count": null,
   "source": [
    "def encode(seq, max_len):\r\n",
    "    nucl_dict = {'A': 0, 'C': 1, 'G': 2, 'T': 3}\r\n",
    "    mat = np.zeros((4, max_len), dtype=int)\r\n",
    "    \r\n",
    "    for i, nucl in enumerate(seq):\r\n",
    "        mat[nucl_dict[nucl]][i] = 1\r\n",
    "\r\n",
    "    return mat\r\n",
    "\r\n",
    "def encode_pair(seq1, seq2, max_len):\r\n",
    "    enc1 = encode(seq1, max_len)\r\n",
    "    enc2 = encode(seq2, max_len)\r\n",
    "    return np.array([enc1, enc2])"
   ],
   "outputs": [],
   "metadata": {}
  },
  {
   "cell_type": "code",
   "execution_count": 6,
   "source": [
    "# Adapted froms PyTorch forums\r\n",
    "import math\r\n",
    "\r\n",
    "def num2tuple(num):\r\n",
    "    return num if isinstance(num, tuple) else (num, num)\r\n",
    "\r\n",
    "def conv2d_output_shape(h_w, kernel_size=1, stride=1, pad=0, dilation=1):\r\n",
    "    h_w, kernel_size, stride, pad, dilation = num2tuple(h_w), \\\r\n",
    "        num2tuple(kernel_size), num2tuple(stride), num2tuple(pad), num2tuple(dilation)\r\n",
    "    pad = num2tuple(pad[0]), num2tuple(pad[1])\r\n",
    "    \r\n",
    "    h = math.floor((h_w[0] + sum(pad[0]) - dilation[0]*(kernel_size[0]-1) - 1) / stride[0] + 1)\r\n",
    "    w = math.floor((h_w[1] + sum(pad[1]) - dilation[1]*(kernel_size[1]-1) - 1) / stride[1] + 1)\r\n",
    "    \r\n",
    "    return h, w"
   ],
   "outputs": [],
   "metadata": {}
  },
  {
   "cell_type": "code",
   "execution_count": 7,
   "source": [
    "class CNNRegression(pl.LightningModule):\r\n",
    "    def __init__(self, trial):\r\n",
    "        super(CNNRegression, self).__init__()\r\n",
    "        self.out_predictions = []\r\n",
    "        self.trial = trial\r\n",
    "        \r\n",
    "        self.param_trial_dict = {}\r\n",
    "        self.out_size = 0\r\n",
    "\r\n",
    "        self.param_trial_dict['conv2d_size'] = trial.suggest_int('conv2d_size', 9, 13)\r\n",
    "        self.param_trial_dict['conv2d_filter'] = trial.suggest_int('conv2d_filter', 256, 768)\r\n",
    "        self.param_trial_dict['conv2d_dropout'] = trial.suggest_float('conv2d_dropout', 0.1, 0.5)\r\n",
    "\r\n",
    "        self.param_trial_dict['conv1d_size1'] = trial.suggest_int('conv1d_size1', 7, 11)\r\n",
    "        self.param_trial_dict['conv1d_size2'] = trial.suggest_int('conv1d_size2', 3, 7)\r\n",
    "        self.param_trial_dict['conv1d_size3'] = trial.suggest_int('conv1d_size3', 3, 7)\r\n",
    "        self.param_trial_dict['conv1d_size4'] = trial.suggest_int('conv1d_size4', 1, 3)\r\n",
    "\r\n",
    "        self.param_trial_dict['conv1d_filter1'] = trial.suggest_int('conv1d_filter1', 256, 768)\r\n",
    "        self.param_trial_dict['conv1d_filter2'] = trial.suggest_int('conv1d_filter2', 256, 768)\r\n",
    "        self.param_trial_dict['conv1d_filter3'] = trial.suggest_int('conv1d_filter3', 128, 384)\r\n",
    "        self.param_trial_dict['conv1d_filter4'] = trial.suggest_int('conv1d_filter4', 32, 128)\r\n",
    "\r\n",
    "        self.param_trial_dict['conv1d_dropout1'] = trial.suggest_float('conv1d_dropout1', 0.0, 0.5)\r\n",
    "        self.param_trial_dict['conv1d_dropout2'] = trial.suggest_float('conv1d_dropout2', 0.0, 0.5)\r\n",
    "        self.param_trial_dict['conv1d_dropout3'] = trial.suggest_float('conv1d_dropout3', 0.0, 0.5)\r\n",
    "        self.param_trial_dict['conv1d_dropout4'] = trial.suggest_float('conv1d_dropout4', 0.0, 0.5)\r\n",
    "\r\n",
    "        self.out_size = conv2d_output_shape((4, MAX_LEN), kernel_size=(4, self.param_trial_dict['conv2d_size']))\r\n",
    "        self.out_size = conv2d_output_shape(self.out_size, kernel_size=(1, self.param_trial_dict['conv1d_size1']))\r\n",
    "        self.out_size = conv2d_output_shape(self.out_size, kernel_size=(1, self.param_trial_dict['conv1d_size2']))\r\n",
    "        self.out_size = conv2d_output_shape(self.out_size, kernel_size=(1, self.param_trial_dict['conv1d_size3']))\r\n",
    "        self.out_size = conv2d_output_shape(self.out_size, kernel_size=(1, self.param_trial_dict['conv1d_size4']))\r\n",
    "        self.out_size = self.out_size[1]\r\n",
    "            \r\n",
    "        if self.out_size < 3:\r\n",
    "            raise optuna.TrialPruned()\r\n",
    "            \r\n",
    "        print('Trial parameters:')\r\n",
    "        pprint.PrettyPrinter(indent=4).pprint(self.param_trial_dict)\r\n",
    "                    \r\n",
    "        self.conv2d_block = nn.Sequential(\r\n",
    "            nn.Conv2d(2, self.param_trial_dict['conv2d_filter'], (4, self.param_trial_dict['conv2d_size'])),\r\n",
    "            nn.ReLU(),\r\n",
    "            nn.BatchNorm2d(self.param_trial_dict['conv2d_filter']),\r\n",
    "            nn.Dropout2d(self.param_trial_dict['conv2d_dropout']),\r\n",
    "        )\r\n",
    "        \r\n",
    "        self.conv1d_block = nn.Sequential(\r\n",
    "            nn.Conv1d(self.param_trial_dict['conv2d_filter'], self.param_trial_dict['conv1d_filter1'], self.param_trial_dict['conv1d_size1']),\r\n",
    "            nn.ReLU(),\r\n",
    "            nn.Dropout(self.param_trial_dict['conv1d_dropout1']),\r\n",
    "            nn.BatchNorm1d(self.param_trial_dict['conv1d_filter1']),\r\n",
    "            nn.Conv1d(self.param_trial_dict['conv1d_filter1'], self.param_trial_dict['conv1d_filter2'], self.param_trial_dict['conv1d_size2']),\r\n",
    "            nn.ReLU(),\r\n",
    "            nn.Dropout(self.param_trial_dict['conv1d_dropout2']),\r\n",
    "            nn.BatchNorm1d(self.param_trial_dict['conv1d_filter2']),\r\n",
    "            nn.Conv1d(self.param_trial_dict['conv1d_filter2'], self.param_trial_dict['conv1d_filter3'], self.param_trial_dict['conv1d_size3']),\r\n",
    "            nn.ReLU(),\r\n",
    "            nn.Dropout(self.param_trial_dict['conv1d_dropout3']),\r\n",
    "            nn.BatchNorm1d(self.param_trial_dict['conv1d_filter3']),\r\n",
    "            nn.Conv1d(self.param_trial_dict['conv1d_filter3'], self.param_trial_dict['conv1d_filter4'], self.param_trial_dict['conv1d_size4']),\r\n",
    "            nn.ReLU(),\r\n",
    "            nn.Dropout(self.param_trial_dict['conv1d_dropout4']),\r\n",
    "            nn.BatchNorm1d(self.param_trial_dict['conv1d_filter4']),\r\n",
    "        )\r\n",
    "        \r\n",
    "        print(self.conv1d_block)\r\n",
    "                \r\n",
    "        self.param_trial_dict['lin_size1'] = trial.suggest_int('lin_size1', max(self.param_trial_dict['conv1d_filter4'] * self.out_size - 500, 0), self.param_trial_dict['conv1d_filter4'] * self.out_size)\r\n",
    "        self.param_trial_dict['lin_size2'] = trial.suggest_int('lin_size2', 16, max(self.param_trial_dict['lin_size1'] - 50, 32))\r\n",
    "        \r\n",
    "        self.param_trial_dict['lin_dropout1'] = trial.suggest_float('lin_dropout1', 0.1, 0.5)\r\n",
    "        self.param_trial_dict['lin_dropout2'] = trial.suggest_float('lin_dropout2', 0.1, 0.5)\r\n",
    "            \r\n",
    "        print('Flattened size: %d' % (self.param_trial_dict['conv1d_filter4'] * self.out_size,))\r\n",
    "        self.lin_block = nn.Sequential(\r\n",
    "            nn.Linear(self.param_trial_dict['conv1d_filter4'] * self.out_size, self.param_trial_dict['lin_size1']),\r\n",
    "            nn.ReLU(),\r\n",
    "            nn.Dropout(self.param_trial_dict['lin_dropout1']),\r\n",
    "            nn.Linear(self.param_trial_dict['lin_size1'], self.param_trial_dict['lin_size2']),\r\n",
    "            nn.ReLU(),\r\n",
    "            nn.Dropout(self.param_trial_dict['lin_dropout2']),\r\n",
    "            nn.Linear(self.param_trial_dict['lin_size2'], 1)\r\n",
    "        )\r\n",
    "        \r\n",
    "        self.param_trial_dict['lr'] = self.trial.suggest_loguniform('lr', 0.0001, 0.1)\r\n",
    "        self.param_trial_dict['batch_size'] = trial.suggest_categorical('batch_size', (256, 512, 1024, 2048, 4096, 8096))\r\n",
    "        \r\n",
    "\r\n",
    "    def forward(self, x):\r\n",
    "        x = self.conv2d_block(x)\r\n",
    "        x = self.conv1d_block(torch.squeeze(x))\r\n",
    "        x = x.view(x.size(0), -1)\r\n",
    "        x = self.lin_block(x)\r\n",
    "        return x\r\n",
    "\r\n",
    "    def training_step(self, batch, batch_idx):\r\n",
    "        x, y = batch\r\n",
    "        loss = F.mse_loss(torch.squeeze(self(x)), y)\r\n",
    "        self.log('train_loss', loss, on_step=False, on_epoch=True, prog_bar=True, logger=True)\r\n",
    "        return loss\r\n",
    "\r\n",
    "    def configure_optimizers(self):\r\n",
    "        return torch.optim.Adam(self.parameters(), lr=self.param_trial_dict['lr'])\r\n",
    "            \r\n",
    "    def validation_step(self, batch, batch_idx):\r\n",
    "        x, y = batch\r\n",
    "        val_loss = F.mse_loss(torch.squeeze(self(x)), y)\r\n",
    "        self.log('val_loss', val_loss, on_step=False, on_epoch=True, prog_bar=True, logger=True)\r\n",
    "        return val_loss\r\n",
    "            \r\n",
    "    def test_step(self, batch, batch_idx):\r\n",
    "        x, y = batch\r\n",
    "        test_out = self(x)\r\n",
    "        self.out_predictions.append(test_out)\r\n",
    "        test_loss = F.mse_loss(torch.squeeze(test_out), y)\r\n",
    "        self.log('test_loss', test_loss, on_step=False, on_epoch=True, prog_bar=True, logger=True)\r\n",
    "        return test_loss\r\n",
    "    \r\n",
    "    def train_dataloader(self):\r\n",
    "        return torch.utils.data.DataLoader(\r\n",
    "            list(zip(X_train, y_train)),\r\n",
    "            batch_size=self.param_trial_dict['batch_size'],\r\n",
    "            shuffle=True,\r\n",
    "        )\r\n",
    "\r\n",
    "    def val_dataloader(self):\r\n",
    "        return torch.utils.data.DataLoader(\r\n",
    "            list(zip(X_val, y_val)),\r\n",
    "            batch_size=self.param_trial_dict['batch_size'],\r\n",
    "            shuffle=False,\r\n",
    "        )\r\n",
    "    \r\n",
    "    def test_dataloader(self):\r\n",
    "        return torch.utils.data.DataLoader(\r\n",
    "            list(zip(X_test, y_test)),\r\n",
    "            batch_size=self.param_trial_dict['batch_size'],\r\n",
    "            shuffle=False,\r\n",
    "        )"
   ],
   "outputs": [],
   "metadata": {}
  },
  {
   "cell_type": "code",
   "execution_count": 8,
   "source": [
    "train = dd.io.load('../splits/train.h5')\r\n",
    "val = dd.io.load('../splits/val.h5')\r\n",
    "test = dd.io.load('../splits/test.h5')\r\n",
    "y_train = np.load('../splits/y_train.npy')\r\n",
    "y_val = np.load('../splits/y_val.npy')\r\n",
    "y_test = np.load('../splits/y_test.npy')"
   ],
   "outputs": [],
   "metadata": {}
  },
  {
   "cell_type": "code",
   "execution_count": 9,
   "source": [
    "y_train = y_train * 100\r\n",
    "y_val = y_val * 100\r\n",
    "y_test = y_test * 100"
   ],
   "outputs": [],
   "metadata": {}
  },
  {
   "cell_type": "code",
   "execution_count": 10,
   "source": [
    "X_train = [encode_pair(item[0], item[1], MAX_LEN) for item in train]\r\n",
    "X_val = [encode_pair(item[0], item[1], MAX_LEN) for item in val]\r\n",
    "X_test = [encode_pair(item[0], item[1], MAX_LEN) for item in test]"
   ],
   "outputs": [],
   "metadata": {}
  },
  {
   "cell_type": "code",
   "execution_count": 11,
   "source": [
    "X_train = np.array(X_train, dtype=np.dtype('d'))\r\n",
    "X_val = np.array(X_val, dtype=np.dtype('d'))\r\n",
    "X_test = np.array(X_test, dtype=np.dtype('d'))"
   ],
   "outputs": [],
   "metadata": {}
  },
  {
   "cell_type": "code",
   "execution_count": 12,
   "source": [
    "torch.set_default_tensor_type(torch.DoubleTensor)\r\n",
    "torch.set_default_dtype(torch.double)"
   ],
   "outputs": [],
   "metadata": {}
  },
  {
   "cell_type": "code",
   "execution_count": 13,
   "source": [
    "class MetricsCallback(pl.Callback):\r\n",
    "    \"\"\"PyTorch Lightning metric callback.\"\"\"\r\n",
    "\r\n",
    "    def __init__(self):\r\n",
    "        super().__init__()\r\n",
    "        self.metrics = []\r\n",
    "\r\n",
    "    def on_validation_end(self, trainer, pl_module):\r\n",
    "        self.metrics.append(trainer.callback_metrics)"
   ],
   "outputs": [],
   "metadata": {}
  },
  {
   "cell_type": "code",
   "execution_count": 14,
   "source": [
    "DIR = os.getcwd()\r\n",
    "MODEL_DIR = os.path.join(DIR, \"model_saved\")"
   ],
   "outputs": [],
   "metadata": {}
  },
  {
   "cell_type": "code",
   "execution_count": 15,
   "source": [
    "def objective(trial):\r\n",
    "    # Filenames for each trial must be made unique in order to access each checkpoint.\r\n",
    "    checkpoint_callback = pl.callbacks.ModelCheckpoint(\r\n",
    "        os.path.join(MODEL_DIR, \"trial_{}\".format(trial.number), \"{epoch}\"), monitor=\"val_loss\"\r\n",
    "    )\r\n",
    "\r\n",
    "    # The default logger in PyTorch Lightning writes to event files to be consumed by\r\n",
    "    # TensorBoard. We don't use any logger here as it requires us to implement several abstract\r\n",
    "    # methods. Instead we setup a simple callback, that saves metrics from each validation step.\r\n",
    "    metrics_callback = MetricsCallback()\r\n",
    "    trainer = pl.Trainer(\r\n",
    "        max_epochs=5,\r\n",
    "        gpus=[0],\r\n",
    "        callbacks=[checkpoint_callback, metrics_callback, PyTorchLightningPruningCallback(trial, monitor=\"val_loss\")],\r\n",
    "    )\r\n",
    "\r\n",
    "    model = CNNRegression(trial)\r\n",
    "    trainer.fit(model)\r\n",
    "\r\n",
    "    return metrics_callback.metrics[-1][\"val_loss\"].item()"
   ],
   "outputs": [],
   "metadata": {}
  },
  {
   "cell_type": "code",
   "execution_count": 16,
   "source": [
    "pruner = optuna.pruners.HyperbandPruner()\r\n",
    "\r\n",
    "study = optuna.create_study(direction=\"minimize\", pruner=pruner)\r\n",
    "study.optimize(objective, show_progress_bar=True)\r\n",
    "\r\n",
    "print(\"Number of finished trials: {}\".format(len(study.trials)))\r\n",
    "\r\n",
    "print(\"Best trial:\")\r\n",
    "trial = study.best_trial\r\n",
    "\r\n",
    "print(\"  Value: {}\".format(trial.value))\r\n",
    "\r\n",
    "print(\"  Params: \")\r\n",
    "for key, value in trial.params.items():\r\n",
    "    print(\"    {}: {}\".format(key, value))"
   ],
   "outputs": [
    {
     "output_type": "stream",
     "name": "stderr",
     "text": [
      "\u001b[32m[I 2021-01-28 18:59:38,586]\u001b[0m A new study created in memory with name: no-name-cea013f7-15e2-41e6-a5e3-8429cb632977\u001b[0m\n",
      "C:\\Users\\david\\miniconda3\\envs\\pt1.8-cuda11.1\\lib\\site-packages\\optuna\\progress_bar.py:47: ExperimentalWarning: Progress bar is experimental (supported from v1.2.0). The interface can change in the future.\n",
      "  self._init_valid()\n"
     ]
    },
    {
     "output_type": "display_data",
     "data": {
      "text/plain": [
       "0it [00:00, ?it/s]"
      ],
      "application/vnd.jupyter.widget-view+json": {
       "model_id": "01b9dcee05644b46abbdec3f5df08ed4",
       "version_major": 2,
       "version_minor": 0
      }
     },
     "metadata": {}
    },
    {
     "output_type": "stream",
     "name": "stderr",
     "text": [
      "GPU available: True, used: True\n",
      "TPU available: None, using: 0 TPU cores\n",
      "LOCAL_RANK: 0 - CUDA_VISIBLE_DEVICES: [0]\n",
      "GPU available: True, used: True\n",
      "TPU available: None, using: 0 TPU cores\n",
      "LOCAL_RANK: 0 - CUDA_VISIBLE_DEVICES: [0]\n",
      "GPU available: True, used: True\n",
      "TPU available: None, using: 0 TPU cores\n",
      "LOCAL_RANK: 0 - CUDA_VISIBLE_DEVICES: [0]\n",
      "GPU available: True, used: True\n",
      "TPU available: None, using: 0 TPU cores\n",
      "LOCAL_RANK: 0 - CUDA_VISIBLE_DEVICES: [0]\n",
      "GPU available: True, used: True\n",
      "TPU available: None, using: 0 TPU cores\n",
      "LOCAL_RANK: 0 - CUDA_VISIBLE_DEVICES: [0]\n",
      "GPU available: True, used: True\n",
      "TPU available: None, using: 0 TPU cores\n",
      "LOCAL_RANK: 0 - CUDA_VISIBLE_DEVICES: [0]\n",
      "GPU available: True, used: True\n",
      "TPU available: None, using: 0 TPU cores\n",
      "LOCAL_RANK: 0 - CUDA_VISIBLE_DEVICES: [0]\n"
     ]
    },
    {
     "output_type": "stream",
     "name": "stdout",
     "text": [
      "\u001b[32m[I 2021-01-28 18:59:38,641]\u001b[0m Trial 0 pruned. \u001b[0m\n",
      "\u001b[32m[I 2021-01-28 18:59:38,644]\u001b[0m Trial 1 pruned. \u001b[0m\n",
      "\u001b[32m[I 2021-01-28 18:59:38,649]\u001b[0m Trial 2 pruned. \u001b[0m\n",
      "\u001b[32m[I 2021-01-28 18:59:38,652]\u001b[0m Trial 3 pruned. \u001b[0m\n",
      "\u001b[32m[I 2021-01-28 18:59:38,655]\u001b[0m Trial 4 pruned. \u001b[0m\n",
      "\u001b[32m[I 2021-01-28 18:59:38,659]\u001b[0m Trial 5 pruned. \u001b[0m\n",
      "Trial parameters:\n",
      "{   'conv1d_dropout1': 0.45390805833966574,\n",
      "    'conv1d_dropout2': 0.47585675153757695,\n",
      "    'conv1d_dropout3': 0.4083015860453671,\n",
      "    'conv1d_dropout4': 0.3054092411048428,\n",
      "    'conv1d_filter1': 659,\n",
      "    'conv1d_filter2': 475,\n",
      "    'conv1d_filter3': 348,\n",
      "    'conv1d_filter4': 116,\n",
      "    'conv1d_size1': 7,\n",
      "    'conv1d_size2': 5,\n",
      "    'conv1d_size3': 3,\n",
      "    'conv1d_size4': 1,\n",
      "    'conv2d_dropout': 0.4570931393837364,\n",
      "    'conv2d_filter': 698,\n",
      "    'conv2d_size': 9}\n",
      "Sequential(\n",
      "  (0): Conv1d(698, 659, kernel_size=(7,), stride=(1,))\n",
      "  (1): ReLU()\n",
      "  (2): Dropout(p=0.45390805833966574, inplace=False)\n",
      "  (3): BatchNorm1d(659, eps=1e-05, momentum=0.1, affine=True, track_running_stats=True)\n",
      "  (4): Conv1d(659, 475, kernel_size=(5,), stride=(1,))\n",
      "  (5): ReLU()\n",
      "  (6): Dropout(p=0.47585675153757695, inplace=False)\n",
      "  (7): BatchNorm1d(475, eps=1e-05, momentum=0.1, affine=True, track_running_stats=True)\n",
      "  (8): Conv1d(475, 348, kernel_size=(3,), stride=(1,))\n",
      "  (9): ReLU()\n",
      "  (10): Dropout(p=0.4083015860453671, inplace=False)\n",
      "  (11): BatchNorm1d(348, eps=1e-05, momentum=0.1, affine=True, track_running_stats=True)\n",
      "  (12): Conv1d(348, 116, kernel_size=(1,), stride=(1,))\n",
      "  (13): ReLU()\n",
      "  (14): Dropout(p=0.3054092411048428, inplace=False)\n",
      "  (15): BatchNorm1d(116, eps=1e-05, momentum=0.1, affine=True, track_running_stats=True)\n",
      ")\n",
      "Flattened size: 696\n",
      "{'conv2d_size': 9, 'conv2d_filter': 698, 'conv2d_dropout': 0.4570931393837364, 'conv1d_size1': 7, 'conv1d_size2': 5, 'conv1d_size3': 3, 'conv1d_size4': 1, 'conv1d_filter1': 659, 'conv1d_filter2': 475, 'conv1d_filter3': 348, 'conv1d_filter4': 116, 'conv1d_dropout1': 0.45390805833966574, 'conv1d_dropout2': 0.47585675153757695, 'conv1d_dropout3': 0.4083015860453671, 'conv1d_dropout4': 0.3054092411048428, 'lin_size1': 486, 'lin_size2': 153, 'lin_dropout1': 0.1474265331040454, 'lin_dropout2': 0.20733790788050133, 'lr': 0.018634320186421176, 'batch_size': 8096}\n"
     ]
    },
    {
     "output_type": "stream",
     "name": "stderr",
     "text": [
      "\n",
      "  | Name         | Type       | Params\n",
      "--------------------------------------------\n",
      "0 | conv2d_block | Sequential | 52.4 K\n",
      "1 | conv1d_block | Sequential | 5.3 M \n",
      "2 | lin_block    | Sequential | 413 K \n",
      "--------------------------------------------\n",
      "5.8 M     Trainable params\n",
      "0         Non-trainable params\n",
      "5.8 M     Total params\n"
     ]
    },
    {
     "output_type": "display_data",
     "data": {
      "text/plain": [
       "Validation sanity check: 0it [00:00, ?it/s]"
      ],
      "application/vnd.jupyter.widget-view+json": {
       "model_id": "",
       "version_major": 2,
       "version_minor": 0
      }
     },
     "metadata": {}
    },
    {
     "output_type": "display_data",
     "data": {
      "text/plain": [
       "Training: 0it [00:00, ?it/s]"
      ],
      "application/vnd.jupyter.widget-view+json": {
       "model_id": "7643e933e438425797ffddc3a4ed52a5",
       "version_major": 2,
       "version_minor": 0
      }
     },
     "metadata": {}
    },
    {
     "output_type": "display_data",
     "data": {
      "text/plain": [
       "Validating: 0it [00:00, ?it/s]"
      ],
      "application/vnd.jupyter.widget-view+json": {
       "model_id": "",
       "version_major": 2,
       "version_minor": 0
      }
     },
     "metadata": {}
    },
    {
     "output_type": "display_data",
     "data": {
      "text/plain": [
       "Validating: 0it [00:00, ?it/s]"
      ],
      "application/vnd.jupyter.widget-view+json": {
       "model_id": "",
       "version_major": 2,
       "version_minor": 0
      }
     },
     "metadata": {}
    },
    {
     "output_type": "display_data",
     "data": {
      "text/plain": [
       "Validating: 0it [00:00, ?it/s]"
      ],
      "application/vnd.jupyter.widget-view+json": {
       "model_id": "",
       "version_major": 2,
       "version_minor": 0
      }
     },
     "metadata": {}
    },
    {
     "output_type": "display_data",
     "data": {
      "text/plain": [
       "Validating: 0it [00:00, ?it/s]"
      ],
      "application/vnd.jupyter.widget-view+json": {
       "model_id": "",
       "version_major": 2,
       "version_minor": 0
      }
     },
     "metadata": {}
    },
    {
     "output_type": "display_data",
     "data": {
      "text/plain": [
       "Validating: 0it [00:00, ?it/s]"
      ],
      "application/vnd.jupyter.widget-view+json": {
       "model_id": "",
       "version_major": 2,
       "version_minor": 0
      }
     },
     "metadata": {}
    },
    {
     "output_type": "stream",
     "name": "stderr",
     "text": [
      "GPU available: True, used: True\n",
      "TPU available: None, using: 0 TPU cores\n",
      "LOCAL_RANK: 0 - CUDA_VISIBLE_DEVICES: [0]\n",
      "GPU available: True, used: True\n",
      "TPU available: None, using: 0 TPU cores\n",
      "LOCAL_RANK: 0 - CUDA_VISIBLE_DEVICES: [0]\n",
      "GPU available: True, used: True\n",
      "TPU available: None, using: 0 TPU cores\n",
      "LOCAL_RANK: 0 - CUDA_VISIBLE_DEVICES: [0]\n",
      "GPU available: True, used: True\n",
      "TPU available: None, using: 0 TPU cores\n",
      "LOCAL_RANK: 0 - CUDA_VISIBLE_DEVICES: [0]\n",
      "GPU available: True, used: True\n",
      "TPU available: None, using: 0 TPU cores\n",
      "LOCAL_RANK: 0 - CUDA_VISIBLE_DEVICES: [0]\n",
      "GPU available: True, used: True\n",
      "TPU available: None, using: 0 TPU cores\n",
      "LOCAL_RANK: 0 - CUDA_VISIBLE_DEVICES: [0]\n",
      "GPU available: True, used: True\n",
      "TPU available: None, using: 0 TPU cores\n",
      "LOCAL_RANK: 0 - CUDA_VISIBLE_DEVICES: [0]\n",
      "GPU available: True, used: True\n",
      "TPU available: None, using: 0 TPU cores\n",
      "LOCAL_RANK: 0 - CUDA_VISIBLE_DEVICES: [0]\n",
      "GPU available: True, used: True\n",
      "TPU available: None, using: 0 TPU cores\n",
      "LOCAL_RANK: 0 - CUDA_VISIBLE_DEVICES: [0]\n"
     ]
    },
    {
     "output_type": "stream",
     "name": "stdout",
     "text": [
      "\u001b[32m[I 2021-01-28 21:40:13,877]\u001b[0m Trial 6 finished with value: 426.2589416503906 and parameters: {'conv2d_size': 9, 'conv2d_filter': 698, 'conv2d_dropout': 0.4570931393837364, 'conv1d_size1': 7, 'conv1d_size2': 5, 'conv1d_size3': 3, 'conv1d_size4': 1, 'conv1d_filter1': 659, 'conv1d_filter2': 475, 'conv1d_filter3': 348, 'conv1d_filter4': 116, 'conv1d_dropout1': 0.45390805833966574, 'conv1d_dropout2': 0.47585675153757695, 'conv1d_dropout3': 0.4083015860453671, 'conv1d_dropout4': 0.3054092411048428, 'lin_size1': 486, 'lin_size2': 153, 'lin_dropout1': 0.1474265331040454, 'lin_dropout2': 0.20733790788050133, 'lr': 0.018634320186421176, 'batch_size': 8096}. Best is trial 6 with value: 426.2589416503906.\u001b[0m\n",
      "\u001b[32m[I 2021-01-28 21:40:13,882]\u001b[0m Trial 7 pruned. \u001b[0m\n",
      "\u001b[32m[I 2021-01-28 21:40:13,885]\u001b[0m Trial 8 pruned. \u001b[0m\n",
      "\u001b[32m[I 2021-01-28 21:40:13,889]\u001b[0m Trial 9 pruned. \u001b[0m\n",
      "\u001b[32m[I 2021-01-28 21:40:13,917]\u001b[0m Trial 10 pruned. \u001b[0m\n",
      "\u001b[32m[I 2021-01-28 21:40:13,945]\u001b[0m Trial 11 pruned. \u001b[0m\n",
      "\u001b[32m[I 2021-01-28 21:40:13,973]\u001b[0m Trial 12 pruned. \u001b[0m\n",
      "\u001b[32m[I 2021-01-28 21:40:14,004]\u001b[0m Trial 13 pruned. \u001b[0m\n",
      "\u001b[32m[I 2021-01-28 21:40:14,031]\u001b[0m Trial 14 pruned. \u001b[0m\n",
      "Trial parameters:\n",
      "{   'conv1d_dropout1': 0.3537293522309609,\n",
      "    'conv1d_dropout2': 0.41824394048530655,\n",
      "    'conv1d_dropout3': 0.48210360852885914,\n",
      "    'conv1d_dropout4': 0.39745830398530607,\n",
      "    'conv1d_filter1': 490,\n",
      "    'conv1d_filter2': 759,\n",
      "    'conv1d_filter3': 336,\n",
      "    'conv1d_filter4': 67,\n",
      "    'conv1d_size1': 7,\n",
      "    'conv1d_size2': 6,\n",
      "    'conv1d_size3': 5,\n",
      "    'conv1d_size4': 1,\n",
      "    'conv2d_dropout': 0.33845212716898676,\n",
      "    'conv2d_filter': 673,\n",
      "    'conv2d_size': 9}\n"
     ]
    },
    {
     "output_type": "stream",
     "name": "stderr",
     "text": [
      "\n",
      "  | Name         | Type       | Params\n",
      "--------------------------------------------\n",
      "0 | conv2d_block | Sequential | 50.5 K\n",
      "1 | conv1d_block | Sequential | 5.8 M \n",
      "2 | lin_block    | Sequential | 70.9 K\n",
      "--------------------------------------------\n",
      "6.0 M     Trainable params\n",
      "0         Non-trainable params\n",
      "6.0 M     Total params\n"
     ]
    },
    {
     "output_type": "stream",
     "name": "stdout",
     "text": [
      "Sequential(\n",
      "  (0): Conv1d(673, 490, kernel_size=(7,), stride=(1,))\n",
      "  (1): ReLU()\n",
      "  (2): Dropout(p=0.3537293522309609, inplace=False)\n",
      "  (3): BatchNorm1d(490, eps=1e-05, momentum=0.1, affine=True, track_running_stats=True)\n",
      "  (4): Conv1d(490, 759, kernel_size=(6,), stride=(1,))\n",
      "  (5): ReLU()\n",
      "  (6): Dropout(p=0.41824394048530655, inplace=False)\n",
      "  (7): BatchNorm1d(759, eps=1e-05, momentum=0.1, affine=True, track_running_stats=True)\n",
      "  (8): Conv1d(759, 336, kernel_size=(5,), stride=(1,))\n",
      "  (9): ReLU()\n",
      "  (10): Dropout(p=0.48210360852885914, inplace=False)\n",
      "  (11): BatchNorm1d(336, eps=1e-05, momentum=0.1, affine=True, track_running_stats=True)\n",
      "  (12): Conv1d(336, 67, kernel_size=(1,), stride=(1,))\n",
      "  (13): ReLU()\n",
      "  (14): Dropout(p=0.39745830398530607, inplace=False)\n",
      "  (15): BatchNorm1d(67, eps=1e-05, momentum=0.1, affine=True, track_running_stats=True)\n",
      ")\n",
      "Flattened size: 201\n",
      "{'conv2d_size': 9, 'conv2d_filter': 673, 'conv2d_dropout': 0.33845212716898676, 'conv1d_size1': 7, 'conv1d_size2': 6, 'conv1d_size3': 5, 'conv1d_size4': 1, 'conv1d_filter1': 490, 'conv1d_filter2': 759, 'conv1d_filter3': 336, 'conv1d_filter4': 67, 'conv1d_dropout1': 0.3537293522309609, 'conv1d_dropout2': 0.41824394048530655, 'conv1d_dropout3': 0.48210360852885914, 'conv1d_dropout4': 0.39745830398530607, 'lin_size1': 201, 'lin_size2': 149, 'lin_dropout1': 0.11872437402041708, 'lin_dropout2': 0.21323807182337767, 'lr': 0.023074730921251774, 'batch_size': 8096}\n"
     ]
    },
    {
     "output_type": "display_data",
     "data": {
      "text/plain": [
       "Validation sanity check: 0it [00:00, ?it/s]"
      ],
      "application/vnd.jupyter.widget-view+json": {
       "model_id": "",
       "version_major": 2,
       "version_minor": 0
      }
     },
     "metadata": {}
    },
    {
     "output_type": "display_data",
     "data": {
      "text/plain": [
       "Training: 0it [00:00, ?it/s]"
      ],
      "application/vnd.jupyter.widget-view+json": {
       "model_id": "632ad111301d4a68adc9d85226f9554e",
       "version_major": 2,
       "version_minor": 0
      }
     },
     "metadata": {}
    },
    {
     "output_type": "display_data",
     "data": {
      "text/plain": [
       "Validating: 0it [00:00, ?it/s]"
      ],
      "application/vnd.jupyter.widget-view+json": {
       "model_id": "",
       "version_major": 2,
       "version_minor": 0
      }
     },
     "metadata": {}
    },
    {
     "output_type": "display_data",
     "data": {
      "text/plain": [
       "Validating: 0it [00:00, ?it/s]"
      ],
      "application/vnd.jupyter.widget-view+json": {
       "model_id": "",
       "version_major": 2,
       "version_minor": 0
      }
     },
     "metadata": {}
    },
    {
     "output_type": "display_data",
     "data": {
      "text/plain": [
       "Validating: 0it [00:00, ?it/s]"
      ],
      "application/vnd.jupyter.widget-view+json": {
       "model_id": "",
       "version_major": 2,
       "version_minor": 0
      }
     },
     "metadata": {}
    },
    {
     "output_type": "display_data",
     "data": {
      "text/plain": [
       "Validating: 0it [00:00, ?it/s]"
      ],
      "application/vnd.jupyter.widget-view+json": {
       "model_id": "",
       "version_major": 2,
       "version_minor": 0
      }
     },
     "metadata": {}
    },
    {
     "output_type": "display_data",
     "data": {
      "text/plain": [
       "Validating: 0it [00:00, ?it/s]"
      ],
      "application/vnd.jupyter.widget-view+json": {
       "model_id": "",
       "version_major": 2,
       "version_minor": 0
      }
     },
     "metadata": {}
    },
    {
     "output_type": "stream",
     "name": "stderr",
     "text": [
      "GPU available: True, used: True\n",
      "TPU available: None, using: 0 TPU cores\n",
      "LOCAL_RANK: 0 - CUDA_VISIBLE_DEVICES: [0]\n",
      "GPU available: True, used: True\n",
      "TPU available: None, using: 0 TPU cores\n",
      "LOCAL_RANK: 0 - CUDA_VISIBLE_DEVICES: [0]\n",
      "GPU available: True, used: True\n",
      "TPU available: None, using: 0 TPU cores\n",
      "LOCAL_RANK: 0 - CUDA_VISIBLE_DEVICES: [0]\n",
      "GPU available: True, used: True\n",
      "TPU available: None, using: 0 TPU cores\n",
      "LOCAL_RANK: 0 - CUDA_VISIBLE_DEVICES: [0]\n",
      "GPU available: True, used: True\n",
      "TPU available: None, using: 0 TPU cores\n",
      "LOCAL_RANK: 0 - CUDA_VISIBLE_DEVICES: [0]\n",
      "GPU available: True, used: True\n",
      "TPU available: None, using: 0 TPU cores\n",
      "LOCAL_RANK: 0 - CUDA_VISIBLE_DEVICES: [0]\n",
      "GPU available: True, used: True\n",
      "TPU available: None, using: 0 TPU cores\n",
      "LOCAL_RANK: 0 - CUDA_VISIBLE_DEVICES: [0]\n",
      "GPU available: True, used: True\n",
      "TPU available: None, using: 0 TPU cores\n",
      "LOCAL_RANK: 0 - CUDA_VISIBLE_DEVICES: [0]\n",
      "GPU available: True, used: True\n",
      "TPU available: None, using: 0 TPU cores\n",
      "LOCAL_RANK: 0 - CUDA_VISIBLE_DEVICES: [0]\n",
      "GPU available: True, used: True\n",
      "TPU available: None, using: 0 TPU cores\n",
      "LOCAL_RANK: 0 - CUDA_VISIBLE_DEVICES: [0]\n"
     ]
    },
    {
     "output_type": "stream",
     "name": "stdout",
     "text": [
      "\u001b[32m[I 2021-01-29 00:13:52,096]\u001b[0m Trial 15 finished with value: 109.58216094970703 and parameters: {'conv2d_size': 9, 'conv2d_filter': 673, 'conv2d_dropout': 0.33845212716898676, 'conv1d_size1': 7, 'conv1d_size2': 6, 'conv1d_size3': 5, 'conv1d_size4': 1, 'conv1d_filter1': 490, 'conv1d_filter2': 759, 'conv1d_filter3': 336, 'conv1d_filter4': 67, 'conv1d_dropout1': 0.3537293522309609, 'conv1d_dropout2': 0.41824394048530655, 'conv1d_dropout3': 0.48210360852885914, 'conv1d_dropout4': 0.39745830398530607, 'lin_size1': 201, 'lin_size2': 149, 'lin_dropout1': 0.11872437402041708, 'lin_dropout2': 0.21323807182337767, 'lr': 0.023074730921251774, 'batch_size': 8096}. Best is trial 15 with value: 109.58216094970703.\u001b[0m\n",
      "\u001b[32m[I 2021-01-29 00:13:52,125]\u001b[0m Trial 16 pruned. \u001b[0m\n",
      "\u001b[32m[I 2021-01-29 00:13:52,129]\u001b[0m Trial 17 pruned. \u001b[0m\n",
      "\u001b[32m[I 2021-01-29 00:13:52,157]\u001b[0m Trial 18 pruned. \u001b[0m\n",
      "\u001b[32m[I 2021-01-29 00:13:52,162]\u001b[0m Trial 19 pruned. \u001b[0m\n",
      "\u001b[32m[I 2021-01-29 00:13:52,190]\u001b[0m Trial 20 pruned. \u001b[0m\n",
      "\u001b[32m[I 2021-01-29 00:13:52,221]\u001b[0m Trial 21 pruned. \u001b[0m\n",
      "\u001b[32m[I 2021-01-29 00:13:52,226]\u001b[0m Trial 22 pruned. \u001b[0m\n",
      "\u001b[32m[I 2021-01-29 00:13:52,253]\u001b[0m Trial 23 pruned. \u001b[0m\n",
      "\u001b[32m[I 2021-01-29 00:13:52,258]\u001b[0m Trial 24 pruned. \u001b[0m\n",
      "Trial parameters:\n",
      "{   'conv1d_dropout1': 0.14032680072601594,\n",
      "    'conv1d_dropout2': 0.09750146465044818,\n",
      "    'conv1d_dropout3': 0.2534934748816221,\n",
      "    'conv1d_dropout4': 0.3945496594080993,\n",
      "    'conv1d_filter1': 396,\n",
      "    'conv1d_filter2': 472,\n",
      "    'conv1d_filter3': 316,\n",
      "    'conv1d_filter4': 86,\n",
      "    'conv1d_size1': 9,\n",
      "    'conv1d_size2': 4,\n",
      "    'conv1d_size3': 3,\n",
      "    'conv1d_size4': 3,\n",
      "    'conv2d_dropout': 0.10963201975871312,\n",
      "    'conv2d_filter': 392,\n",
      "    'conv2d_size': 9}\n",
      "Sequential(\n",
      "  (0): Conv1d(392, 396, kernel_size=(9,), stride=(1,))\n",
      "  (1): ReLU()\n",
      "  (2): Dropout(p=0.14032680072601594, inplace=False)\n",
      "  (3): BatchNorm1d(396, eps=1e-05, momentum=0.1, affine=True, track_running_stats=True)\n",
      "  (4): Conv1d(396, 472, kernel_size=(4,), stride=(1,))\n",
      "  (5): ReLU()\n",
      "  (6): Dropout(p=0.09750146465044818, inplace=False)\n",
      "  (7): BatchNorm1d(472, eps=1e-05, momentum=0.1, affine=True, track_running_stats=True)\n",
      "  (8): Conv1d(472, 316, kernel_size=(3,), stride=(1,))\n",
      "  (9): ReLU()\n",
      "  (10): Dropout(p=0.2534934748816221, inplace=False)\n",
      "  (11): BatchNorm1d(316, eps=1e-05, momentum=0.1, affine=True, track_running_stats=True)\n",
      "  (12): Conv1d(316, 86, kernel_size=(3,), stride=(1,))\n",
      "  (13): ReLU()\n",
      "  (14): Dropout(p=0.3945496594080993, inplace=False)\n",
      "  (15): BatchNorm1d(86, eps=1e-05, momentum=0.1, affine=True, track_running_stats=True)\n",
      ")\n",
      "Flattened size: 258\n"
     ]
    },
    {
     "output_type": "stream",
     "name": "stderr",
     "text": [
      "\n",
      "  | Name         | Type       | Params\n",
      "--------------------------------------------\n",
      "0 | conv2d_block | Sequential | 29.4 K\n",
      "1 | conv1d_block | Sequential | 2.7 M \n",
      "2 | lin_block    | Sequential | 56.0 K\n",
      "--------------------------------------------\n",
      "2.8 M     Trainable params\n",
      "0         Non-trainable params\n",
      "2.8 M     Total params\n"
     ]
    },
    {
     "output_type": "stream",
     "name": "stdout",
     "text": [
      "{'conv2d_size': 9, 'conv2d_filter': 392, 'conv2d_dropout': 0.10963201975871312, 'conv1d_size1': 9, 'conv1d_size2': 4, 'conv1d_size3': 3, 'conv1d_size4': 3, 'conv1d_filter1': 396, 'conv1d_filter2': 472, 'conv1d_filter3': 316, 'conv1d_filter4': 86, 'conv1d_dropout1': 0.14032680072601594, 'conv1d_dropout2': 0.09750146465044818, 'conv1d_dropout3': 0.2534934748816221, 'conv1d_dropout4': 0.3945496594080993, 'lin_size1': 178, 'lin_size2': 55, 'lin_dropout1': 0.25218142154431417, 'lin_dropout2': 0.296575431938408, 'lr': 0.00023064953417912997, 'batch_size': 256}\n"
     ]
    },
    {
     "output_type": "display_data",
     "data": {
      "text/plain": [
       "Validation sanity check: 0it [00:00, ?it/s]"
      ],
      "application/vnd.jupyter.widget-view+json": {
       "model_id": "",
       "version_major": 2,
       "version_minor": 0
      }
     },
     "metadata": {}
    },
    {
     "output_type": "display_data",
     "data": {
      "text/plain": [
       "Training: 0it [00:00, ?it/s]"
      ],
      "application/vnd.jupyter.widget-view+json": {
       "model_id": "03aef9adbcec48b4a871b8c2c3cb7737",
       "version_major": 2,
       "version_minor": 0
      }
     },
     "metadata": {}
    },
    {
     "output_type": "display_data",
     "data": {
      "text/plain": [
       "Validating: 0it [00:00, ?it/s]"
      ],
      "application/vnd.jupyter.widget-view+json": {
       "model_id": "",
       "version_major": 2,
       "version_minor": 0
      }
     },
     "metadata": {}
    },
    {
     "output_type": "display_data",
     "data": {
      "text/plain": [
       "Validating: 0it [00:00, ?it/s]"
      ],
      "application/vnd.jupyter.widget-view+json": {
       "model_id": "",
       "version_major": 2,
       "version_minor": 0
      }
     },
     "metadata": {}
    },
    {
     "output_type": "display_data",
     "data": {
      "text/plain": [
       "Validating: 0it [00:00, ?it/s]"
      ],
      "application/vnd.jupyter.widget-view+json": {
       "model_id": "",
       "version_major": 2,
       "version_minor": 0
      }
     },
     "metadata": {}
    },
    {
     "output_type": "display_data",
     "data": {
      "text/plain": [
       "Validating: 0it [00:00, ?it/s]"
      ],
      "application/vnd.jupyter.widget-view+json": {
       "model_id": "",
       "version_major": 2,
       "version_minor": 0
      }
     },
     "metadata": {}
    },
    {
     "output_type": "display_data",
     "data": {
      "text/plain": [
       "Validating: 0it [00:00, ?it/s]"
      ],
      "application/vnd.jupyter.widget-view+json": {
       "model_id": "",
       "version_major": 2,
       "version_minor": 0
      }
     },
     "metadata": {}
    },
    {
     "output_type": "stream",
     "name": "stderr",
     "text": [
      "GPU available: True, used: True\n",
      "TPU available: None, using: 0 TPU cores\n",
      "LOCAL_RANK: 0 - CUDA_VISIBLE_DEVICES: [0]\n",
      "GPU available: True, used: True\n",
      "TPU available: None, using: 0 TPU cores\n",
      "LOCAL_RANK: 0 - CUDA_VISIBLE_DEVICES: [0]\n",
      "GPU available: True, used: True\n",
      "TPU available: None, using: 0 TPU cores\n",
      "LOCAL_RANK: 0 - CUDA_VISIBLE_DEVICES: [0]\n",
      "GPU available: True, used: True\n",
      "TPU available: None, using: 0 TPU cores\n",
      "LOCAL_RANK: 0 - CUDA_VISIBLE_DEVICES: [0]\n",
      "GPU available: True, used: True\n",
      "TPU available: None, using: 0 TPU cores\n",
      "LOCAL_RANK: 0 - CUDA_VISIBLE_DEVICES: [0]\n",
      "GPU available: True, used: True\n",
      "TPU available: None, using: 0 TPU cores\n",
      "LOCAL_RANK: 0 - CUDA_VISIBLE_DEVICES: [0]\n",
      "\n",
      "  | Name         | Type       | Params\n",
      "--------------------------------------------\n",
      "0 | conv2d_block | Sequential | 41.0 K\n",
      "1 | conv1d_block | Sequential | 2.5 M \n",
      "2 | lin_block    | Sequential | 18.3 K\n",
      "--------------------------------------------\n",
      "2.5 M     Trainable params\n",
      "0         Non-trainable params\n",
      "2.5 M     Total params\n"
     ]
    },
    {
     "output_type": "stream",
     "name": "stdout",
     "text": [
      "\u001b[32m[I 2021-01-29 01:34:29,614]\u001b[0m Trial 25 finished with value: 84.05036926269531 and parameters: {'conv2d_size': 9, 'conv2d_filter': 392, 'conv2d_dropout': 0.10963201975871312, 'conv1d_size1': 9, 'conv1d_size2': 4, 'conv1d_size3': 3, 'conv1d_size4': 3, 'conv1d_filter1': 396, 'conv1d_filter2': 472, 'conv1d_filter3': 316, 'conv1d_filter4': 86, 'conv1d_dropout1': 0.14032680072601594, 'conv1d_dropout2': 0.09750146465044818, 'conv1d_dropout3': 0.2534934748816221, 'conv1d_dropout4': 0.3945496594080993, 'lin_size1': 178, 'lin_size2': 55, 'lin_dropout1': 0.25218142154431417, 'lin_dropout2': 0.296575431938408, 'lr': 0.00023064953417912997, 'batch_size': 256}. Best is trial 25 with value: 84.05036926269531.\u001b[0m\n",
      "\u001b[32m[I 2021-01-29 01:34:29,619]\u001b[0m Trial 26 pruned. \u001b[0m\n",
      "\u001b[32m[I 2021-01-29 01:34:29,624]\u001b[0m Trial 27 pruned. \u001b[0m\n",
      "\u001b[32m[I 2021-01-29 01:34:29,652]\u001b[0m Trial 28 pruned. \u001b[0m\n",
      "\u001b[32m[I 2021-01-29 01:34:29,657]\u001b[0m Trial 29 pruned. \u001b[0m\n",
      "\u001b[32m[I 2021-01-29 01:34:29,662]\u001b[0m Trial 30 pruned. \u001b[0m\n",
      "Trial parameters:\n",
      "{   'conv1d_dropout1': 0.005769708362327153,\n",
      "    'conv1d_dropout2': 0.1771307927642176,\n",
      "    'conv1d_dropout3': 0.1270858178173383,\n",
      "    'conv1d_dropout4': 0.46543778117677614,\n",
      "    'conv1d_filter1': 272,\n",
      "    'conv1d_filter2': 488,\n",
      "    'conv1d_filter3': 362,\n",
      "    'conv1d_filter4': 39,\n",
      "    'conv1d_size1': 9,\n",
      "    'conv1d_size2': 3,\n",
      "    'conv1d_size3': 4,\n",
      "    'conv1d_size4': 3,\n",
      "    'conv2d_dropout': 0.12126767938108313,\n",
      "    'conv2d_filter': 547,\n",
      "    'conv2d_size': 9}\n",
      "Sequential(\n",
      "  (0): Conv1d(547, 272, kernel_size=(9,), stride=(1,))\n",
      "  (1): ReLU()\n",
      "  (2): Dropout(p=0.005769708362327153, inplace=False)\n",
      "  (3): BatchNorm1d(272, eps=1e-05, momentum=0.1, affine=True, track_running_stats=True)\n",
      "  (4): Conv1d(272, 488, kernel_size=(3,), stride=(1,))\n",
      "  (5): ReLU()\n",
      "  (6): Dropout(p=0.1771307927642176, inplace=False)\n",
      "  (7): BatchNorm1d(488, eps=1e-05, momentum=0.1, affine=True, track_running_stats=True)\n",
      "  (8): Conv1d(488, 362, kernel_size=(4,), stride=(1,))\n",
      "  (9): ReLU()\n",
      "  (10): Dropout(p=0.1270858178173383, inplace=False)\n",
      "  (11): BatchNorm1d(362, eps=1e-05, momentum=0.1, affine=True, track_running_stats=True)\n",
      "  (12): Conv1d(362, 39, kernel_size=(3,), stride=(1,))\n",
      "  (13): ReLU()\n",
      "  (14): Dropout(p=0.46543778117677614, inplace=False)\n",
      "  (15): BatchNorm1d(39, eps=1e-05, momentum=0.1, affine=True, track_running_stats=True)\n",
      ")\n",
      "Flattened size: 117\n",
      "{'conv2d_size': 9, 'conv2d_filter': 547, 'conv2d_dropout': 0.12126767938108313, 'conv1d_size1': 9, 'conv1d_size2': 3, 'conv1d_size3': 4, 'conv1d_size4': 3, 'conv1d_filter1': 272, 'conv1d_filter2': 488, 'conv1d_filter3': 362, 'conv1d_filter4': 39, 'conv1d_dropout1': 0.005769708362327153, 'conv1d_dropout2': 0.1771307927642176, 'conv1d_dropout3': 0.1270858178173383, 'conv1d_dropout4': 0.46543778117677614, 'lin_size1': 106, 'lin_size2': 54, 'lin_dropout1': 0.24941233732331755, 'lin_dropout2': 0.29714874968160365, 'lr': 0.00013134174571447995, 'batch_size': 256}\n"
     ]
    },
    {
     "output_type": "display_data",
     "data": {
      "text/plain": [
       "Validation sanity check: 0it [00:00, ?it/s]"
      ],
      "application/vnd.jupyter.widget-view+json": {
       "model_id": "",
       "version_major": 2,
       "version_minor": 0
      }
     },
     "metadata": {}
    },
    {
     "output_type": "display_data",
     "data": {
      "text/plain": [
       "Training: 0it [00:00, ?it/s]"
      ],
      "application/vnd.jupyter.widget-view+json": {
       "model_id": "d34315f680a640afac4757073b180d44",
       "version_major": 2,
       "version_minor": 0
      }
     },
     "metadata": {}
    },
    {
     "output_type": "display_data",
     "data": {
      "text/plain": [
       "Validating: 0it [00:00, ?it/s]"
      ],
      "application/vnd.jupyter.widget-view+json": {
       "model_id": "",
       "version_major": 2,
       "version_minor": 0
      }
     },
     "metadata": {}
    },
    {
     "output_type": "display_data",
     "data": {
      "text/plain": [
       "Validating: 0it [00:00, ?it/s]"
      ],
      "application/vnd.jupyter.widget-view+json": {
       "model_id": "",
       "version_major": 2,
       "version_minor": 0
      }
     },
     "metadata": {}
    },
    {
     "output_type": "display_data",
     "data": {
      "text/plain": [
       "Validating: 0it [00:00, ?it/s]"
      ],
      "application/vnd.jupyter.widget-view+json": {
       "model_id": "",
       "version_major": 2,
       "version_minor": 0
      }
     },
     "metadata": {}
    },
    {
     "output_type": "display_data",
     "data": {
      "text/plain": [
       "Validating: 0it [00:00, ?it/s]"
      ],
      "application/vnd.jupyter.widget-view+json": {
       "model_id": "99909bdb31a34a3f8013981c0b8366d8",
       "version_major": 2,
       "version_minor": 0
      }
     },
     "metadata": {}
    },
    {
     "output_type": "stream",
     "name": "stderr",
     "text": [
      "GPU available: True, used: True\n",
      "TPU available: None, using: 0 TPU cores\n",
      "LOCAL_RANK: 0 - CUDA_VISIBLE_DEVICES: [0]\n",
      "GPU available: True, used: True\n",
      "TPU available: None, using: 0 TPU cores\n",
      "LOCAL_RANK: 0 - CUDA_VISIBLE_DEVICES: [0]\n",
      "GPU available: True, used: True\n",
      "TPU available: None, using: 0 TPU cores\n",
      "LOCAL_RANK: 0 - CUDA_VISIBLE_DEVICES: [0]\n",
      "\n",
      "  | Name         | Type       | Params\n",
      "--------------------------------------------\n",
      "0 | conv2d_block | Sequential | 41.8 K\n",
      "1 | conv1d_block | Sequential | 2.5 M \n",
      "2 | lin_block    | Sequential | 25.5 K\n",
      "--------------------------------------------\n",
      "2.6 M     Trainable params\n",
      "0         Non-trainable params\n",
      "2.6 M     Total params\n"
     ]
    },
    {
     "output_type": "stream",
     "name": "stdout",
     "text": [
      "\u001b[32m[I 2021-01-29 02:31:57,790]\u001b[0m Trial 31 pruned. Trial was pruned at epoch 3.\u001b[0m\n",
      "\u001b[32m[I 2021-01-29 02:31:57,819]\u001b[0m Trial 32 pruned. \u001b[0m\n",
      "\u001b[32m[I 2021-01-29 02:31:57,849]\u001b[0m Trial 33 pruned. \u001b[0m\n",
      "Trial parameters:\n",
      "{   'conv1d_dropout1': 0.0023810928739125825,\n",
      "    'conv1d_dropout2': 0.17078118730443628,\n",
      "    'conv1d_dropout3': 0.11630792405910961,\n",
      "    'conv1d_dropout4': 0.4837545917859338,\n",
      "    'conv1d_filter1': 262,\n",
      "    'conv1d_filter2': 506,\n",
      "    'conv1d_filter3': 380,\n",
      "    'conv1d_filter4': 45,\n",
      "    'conv1d_size1': 9,\n",
      "    'conv1d_size2': 3,\n",
      "    'conv1d_size3': 4,\n",
      "    'conv1d_size4': 3,\n",
      "    'conv2d_dropout': 0.10721427479001895,\n",
      "    'conv2d_filter': 557,\n",
      "    'conv2d_size': 9}\n",
      "Sequential(\n",
      "  (0): Conv1d(557, 262, kernel_size=(9,), stride=(1,))\n",
      "  (1): ReLU()\n",
      "  (2): Dropout(p=0.0023810928739125825, inplace=False)\n",
      "  (3): BatchNorm1d(262, eps=1e-05, momentum=0.1, affine=True, track_running_stats=True)\n",
      "  (4): Conv1d(262, 506, kernel_size=(3,), stride=(1,))\n",
      "  (5): ReLU()\n",
      "  (6): Dropout(p=0.17078118730443628, inplace=False)\n",
      "  (7): BatchNorm1d(506, eps=1e-05, momentum=0.1, affine=True, track_running_stats=True)\n",
      "  (8): Conv1d(506, 380, kernel_size=(4,), stride=(1,))\n",
      "  (9): ReLU()\n",
      "  (10): Dropout(p=0.11630792405910961, inplace=False)\n",
      "  (11): BatchNorm1d(380, eps=1e-05, momentum=0.1, affine=True, track_running_stats=True)\n",
      "  (12): Conv1d(380, 45, kernel_size=(3,), stride=(1,))\n",
      "  (13): ReLU()\n",
      "  (14): Dropout(p=0.4837545917859338, inplace=False)\n",
      "  (15): BatchNorm1d(45, eps=1e-05, momentum=0.1, affine=True, track_running_stats=True)\n",
      ")\n",
      "Flattened size: 135\n",
      "{'conv2d_size': 9, 'conv2d_filter': 557, 'conv2d_dropout': 0.10721427479001895, 'conv1d_size1': 9, 'conv1d_size2': 3, 'conv1d_size3': 4, 'conv1d_size4': 3, 'conv1d_filter1': 262, 'conv1d_filter2': 506, 'conv1d_filter3': 380, 'conv1d_filter4': 45, 'conv1d_dropout1': 0.0023810928739125825, 'conv1d_dropout2': 0.17078118730443628, 'conv1d_dropout3': 0.11630792405910961, 'conv1d_dropout4': 0.4837545917859338, 'lin_size1': 133, 'lin_size2': 55, 'lin_dropout1': 0.23994158153964984, 'lin_dropout2': 0.30259822638690714, 'lr': 0.00013961094955328518, 'batch_size': 256}\n"
     ]
    },
    {
     "output_type": "display_data",
     "data": {
      "text/plain": [
       "Validation sanity check: 0it [00:00, ?it/s]"
      ],
      "application/vnd.jupyter.widget-view+json": {
       "model_id": "",
       "version_major": 2,
       "version_minor": 0
      }
     },
     "metadata": {}
    },
    {
     "output_type": "display_data",
     "data": {
      "text/plain": [
       "Training: 0it [00:00, ?it/s]"
      ],
      "application/vnd.jupyter.widget-view+json": {
       "model_id": "83d09566e70f4cd09d916f7960795fba",
       "version_major": 2,
       "version_minor": 0
      }
     },
     "metadata": {}
    },
    {
     "output_type": "display_data",
     "data": {
      "text/plain": [
       "Validating: 0it [00:00, ?it/s]"
      ],
      "application/vnd.jupyter.widget-view+json": {
       "model_id": "",
       "version_major": 2,
       "version_minor": 0
      }
     },
     "metadata": {}
    },
    {
     "output_type": "display_data",
     "data": {
      "text/plain": [
       "Validating: 0it [00:00, ?it/s]"
      ],
      "application/vnd.jupyter.widget-view+json": {
       "model_id": "",
       "version_major": 2,
       "version_minor": 0
      }
     },
     "metadata": {}
    },
    {
     "output_type": "display_data",
     "data": {
      "text/plain": [
       "Validating: 0it [00:00, ?it/s]"
      ],
      "application/vnd.jupyter.widget-view+json": {
       "model_id": "",
       "version_major": 2,
       "version_minor": 0
      }
     },
     "metadata": {}
    },
    {
     "output_type": "display_data",
     "data": {
      "text/plain": [
       "Validating: 0it [00:00, ?it/s]"
      ],
      "application/vnd.jupyter.widget-view+json": {
       "model_id": "3086de65ccb0448eb79a7313498d12ea",
       "version_major": 2,
       "version_minor": 0
      }
     },
     "metadata": {}
    },
    {
     "output_type": "stream",
     "name": "stderr",
     "text": [
      "GPU available: True, used: True\n",
      "TPU available: None, using: 0 TPU cores\n",
      "LOCAL_RANK: 0 - CUDA_VISIBLE_DEVICES: [0]\n",
      "\n",
      "  | Name         | Type       | Params\n",
      "--------------------------------------------\n",
      "0 | conv2d_block | Sequential | 39.2 K\n",
      "1 | conv1d_block | Sequential | 2.6 M \n",
      "2 | lin_block    | Sequential | 5.1 K \n",
      "--------------------------------------------\n",
      "2.7 M     Trainable params\n",
      "0         Non-trainable params\n",
      "2.7 M     Total params\n"
     ]
    },
    {
     "output_type": "stream",
     "name": "stdout",
     "text": [
      "\u001b[32m[I 2021-01-29 03:35:05,504]\u001b[0m Trial 34 pruned. Trial was pruned at epoch 3.\u001b[0m\n",
      "Trial parameters:\n",
      "{   'conv1d_dropout1': 0.23895933849938522,\n",
      "    'conv1d_dropout2': 0.20611081257552682,\n",
      "    'conv1d_dropout3': 0.1240480192955401,\n",
      "    'conv1d_dropout4': 0.4942522328047404,\n",
      "    'conv1d_filter1': 306,\n",
      "    'conv1d_filter2': 469,\n",
      "    'conv1d_filter3': 368,\n",
      "    'conv1d_filter4': 59,\n",
      "    'conv1d_size1': 9,\n",
      "    'conv1d_size2': 3,\n",
      "    'conv1d_size3': 4,\n",
      "    'conv1d_size4': 3,\n",
      "    'conv2d_dropout': 0.10158160900862626,\n",
      "    'conv2d_filter': 523,\n",
      "    'conv2d_size': 9}\n",
      "Sequential(\n",
      "  (0): Conv1d(523, 306, kernel_size=(9,), stride=(1,))\n",
      "  (1): ReLU()\n",
      "  (2): Dropout(p=0.23895933849938522, inplace=False)\n",
      "  (3): BatchNorm1d(306, eps=1e-05, momentum=0.1, affine=True, track_running_stats=True)\n",
      "  (4): Conv1d(306, 469, kernel_size=(3,), stride=(1,))\n",
      "  (5): ReLU()\n",
      "  (6): Dropout(p=0.20611081257552682, inplace=False)\n",
      "  (7): BatchNorm1d(469, eps=1e-05, momentum=0.1, affine=True, track_running_stats=True)\n",
      "  (8): Conv1d(469, 368, kernel_size=(4,), stride=(1,))\n",
      "  (9): ReLU()\n",
      "  (10): Dropout(p=0.1240480192955401, inplace=False)\n",
      "  (11): BatchNorm1d(368, eps=1e-05, momentum=0.1, affine=True, track_running_stats=True)\n",
      "  (12): Conv1d(368, 59, kernel_size=(3,), stride=(1,))\n",
      "  (13): ReLU()\n",
      "  (14): Dropout(p=0.4942522328047404, inplace=False)\n",
      "  (15): BatchNorm1d(59, eps=1e-05, momentum=0.1, affine=True, track_running_stats=True)\n",
      ")\n",
      "Flattened size: 177\n",
      "{'conv2d_size': 9, 'conv2d_filter': 523, 'conv2d_dropout': 0.10158160900862626, 'conv1d_size1': 9, 'conv1d_size2': 3, 'conv1d_size3': 4, 'conv1d_size4': 3, 'conv1d_filter1': 306, 'conv1d_filter2': 469, 'conv1d_filter3': 368, 'conv1d_filter4': 59, 'conv1d_dropout1': 0.23895933849938522, 'conv1d_dropout2': 0.20611081257552682, 'conv1d_dropout3': 0.1240480192955401, 'conv1d_dropout4': 0.4942522328047404, 'lin_size1': 24, 'lin_size2': 32, 'lin_dropout1': 0.2581306868189393, 'lin_dropout2': 0.2986014941023812, 'lr': 0.00014001488949180453, 'batch_size': 256}\n"
     ]
    },
    {
     "output_type": "display_data",
     "data": {
      "text/plain": [
       "Validation sanity check: 0it [00:00, ?it/s]"
      ],
      "application/vnd.jupyter.widget-view+json": {
       "model_id": "",
       "version_major": 2,
       "version_minor": 0
      }
     },
     "metadata": {}
    },
    {
     "output_type": "display_data",
     "data": {
      "text/plain": [
       "Training: 0it [00:00, ?it/s]"
      ],
      "application/vnd.jupyter.widget-view+json": {
       "model_id": "9518678ceeec4660bf0725aa254ffa4d",
       "version_major": 2,
       "version_minor": 0
      }
     },
     "metadata": {}
    },
    {
     "output_type": "display_data",
     "data": {
      "text/plain": [
       "Validating: 0it [00:00, ?it/s]"
      ],
      "application/vnd.jupyter.widget-view+json": {
       "model_id": "",
       "version_major": 2,
       "version_minor": 0
      }
     },
     "metadata": {}
    },
    {
     "output_type": "display_data",
     "data": {
      "text/plain": [
       "Validating: 0it [00:00, ?it/s]"
      ],
      "application/vnd.jupyter.widget-view+json": {
       "model_id": "",
       "version_major": 2,
       "version_minor": 0
      }
     },
     "metadata": {}
    },
    {
     "output_type": "display_data",
     "data": {
      "text/plain": [
       "Validating: 0it [00:00, ?it/s]"
      ],
      "application/vnd.jupyter.widget-view+json": {
       "model_id": "",
       "version_major": 2,
       "version_minor": 0
      }
     },
     "metadata": {}
    },
    {
     "output_type": "display_data",
     "data": {
      "text/plain": [
       "Validating: 0it [00:00, ?it/s]"
      ],
      "application/vnd.jupyter.widget-view+json": {
       "model_id": "71ccf0d3b29e416f921050da52e79843",
       "version_major": 2,
       "version_minor": 0
      }
     },
     "metadata": {}
    },
    {
     "output_type": "stream",
     "name": "stderr",
     "text": [
      "GPU available: True, used: True\n",
      "TPU available: None, using: 0 TPU cores\n",
      "LOCAL_RANK: 0 - CUDA_VISIBLE_DEVICES: [0]\n",
      "GPU available: True, used: True\n",
      "TPU available: None, using: 0 TPU cores\n",
      "LOCAL_RANK: 0 - CUDA_VISIBLE_DEVICES: [0]\n",
      "\n",
      "  | Name         | Type       | Params\n",
      "--------------------------------------------\n",
      "0 | conv2d_block | Sequential | 47.5 K\n",
      "1 | conv1d_block | Sequential | 4.7 M \n",
      "2 | lin_block    | Sequential | 119 K \n",
      "--------------------------------------------\n",
      "4.9 M     Trainable params\n",
      "0         Non-trainable params\n",
      "4.9 M     Total params\n"
     ]
    },
    {
     "output_type": "stream",
     "name": "stdout",
     "text": [
      "\u001b[32m[I 2021-01-29 04:37:58,941]\u001b[0m Trial 35 pruned. Trial was pruned at epoch 3.\u001b[0m\n",
      "\u001b[32m[I 2021-01-29 04:37:58,970]\u001b[0m Trial 36 pruned. \u001b[0m\n",
      "Trial parameters:\n",
      "{   'conv1d_dropout1': 0.41139694053857845,\n",
      "    'conv1d_dropout2': 0.49643612421851474,\n",
      "    'conv1d_dropout3': 0.007158410326526976,\n",
      "    'conv1d_dropout4': 0.1994047910628276,\n",
      "    'conv1d_filter1': 617,\n",
      "    'conv1d_filter2': 514,\n",
      "    'conv1d_filter3': 287,\n",
      "    'conv1d_filter4': 71,\n",
      "    'conv1d_size1': 8,\n",
      "    'conv1d_size2': 4,\n",
      "    'conv1d_size3': 4,\n",
      "    'conv1d_size4': 1,\n",
      "    'conv2d_dropout': 0.15873196442105297,\n",
      "    'conv2d_filter': 572,\n",
      "    'conv2d_size': 10}\n",
      "Sequential(\n",
      "  (0): Conv1d(572, 617, kernel_size=(8,), stride=(1,))\n",
      "  (1): ReLU()\n",
      "  (2): Dropout(p=0.41139694053857845, inplace=False)\n",
      "  (3): BatchNorm1d(617, eps=1e-05, momentum=0.1, affine=True, track_running_stats=True)\n",
      "  (4): Conv1d(617, 514, kernel_size=(4,), stride=(1,))\n",
      "  (5): ReLU()\n",
      "  (6): Dropout(p=0.49643612421851474, inplace=False)\n",
      "  (7): BatchNorm1d(514, eps=1e-05, momentum=0.1, affine=True, track_running_stats=True)\n",
      "  (8): Conv1d(514, 287, kernel_size=(4,), stride=(1,))\n",
      "  (9): ReLU()\n",
      "  (10): Dropout(p=0.007158410326526976, inplace=False)\n",
      "  (11): BatchNorm1d(287, eps=1e-05, momentum=0.1, affine=True, track_running_stats=True)\n",
      "  (12): Conv1d(287, 71, kernel_size=(1,), stride=(1,))\n",
      "  (13): ReLU()\n",
      "  (14): Dropout(p=0.1994047910628276, inplace=False)\n",
      "  (15): BatchNorm1d(71, eps=1e-05, momentum=0.1, affine=True, track_running_stats=True)\n",
      ")\n",
      "Flattened size: 284\n",
      "{'conv2d_size': 10, 'conv2d_filter': 572, 'conv2d_dropout': 0.15873196442105297, 'conv1d_size1': 8, 'conv1d_size2': 4, 'conv1d_size3': 4, 'conv1d_size4': 1, 'conv1d_filter1': 617, 'conv1d_filter2': 514, 'conv1d_filter3': 287, 'conv1d_filter4': 71, 'conv1d_dropout1': 0.41139694053857845, 'conv1d_dropout2': 0.49643612421851474, 'conv1d_dropout3': 0.007158410326526976, 'conv1d_dropout4': 0.1994047910628276, 'lin_size1': 272, 'lin_size2': 154, 'lin_dropout1': 0.11047521319348295, 'lin_dropout2': 0.22147750953753748, 'lr': 0.019681305754516903, 'batch_size': 8096}\n"
     ]
    },
    {
     "output_type": "display_data",
     "data": {
      "text/plain": [
       "Validation sanity check: 0it [00:00, ?it/s]"
      ],
      "application/vnd.jupyter.widget-view+json": {
       "model_id": "",
       "version_major": 2,
       "version_minor": 0
      }
     },
     "metadata": {}
    },
    {
     "output_type": "display_data",
     "data": {
      "text/plain": [
       "Training: 0it [00:00, ?it/s]"
      ],
      "application/vnd.jupyter.widget-view+json": {
       "model_id": "1e5d6123b3624dd6a3dc34eaf7317ffc",
       "version_major": 2,
       "version_minor": 0
      }
     },
     "metadata": {}
    },
    {
     "output_type": "display_data",
     "data": {
      "text/plain": [
       "Validating: 0it [00:00, ?it/s]"
      ],
      "application/vnd.jupyter.widget-view+json": {
       "model_id": "",
       "version_major": 2,
       "version_minor": 0
      }
     },
     "metadata": {}
    },
    {
     "output_type": "display_data",
     "data": {
      "text/plain": [
       "Validating: 0it [00:00, ?it/s]"
      ],
      "application/vnd.jupyter.widget-view+json": {
       "model_id": "e33ec3afafa44723a56972cf80b9fd6d",
       "version_major": 2,
       "version_minor": 0
      }
     },
     "metadata": {}
    },
    {
     "output_type": "stream",
     "name": "stderr",
     "text": [
      "GPU available: True, used: True\n",
      "TPU available: None, using: 0 TPU cores\n",
      "LOCAL_RANK: 0 - CUDA_VISIBLE_DEVICES: [0]\n",
      "GPU available: True, used: True\n",
      "TPU available: None, using: 0 TPU cores\n",
      "LOCAL_RANK: 0 - CUDA_VISIBLE_DEVICES: [0]\n",
      "\n",
      "  | Name         | Type       | Params\n",
      "--------------------------------------------\n",
      "0 | conv2d_block | Sequential | 48.0 K\n",
      "1 | conv1d_block | Sequential | 5.9 M \n",
      "2 | lin_block    | Sequential | 79.6 K\n",
      "--------------------------------------------\n",
      "6.0 M     Trainable params\n",
      "0         Non-trainable params\n",
      "6.0 M     Total params\n"
     ]
    },
    {
     "output_type": "stream",
     "name": "stdout",
     "text": [
      "\u001b[32m[I 2021-01-29 05:31:16,384]\u001b[0m Trial 37 pruned. Trial was pruned at epoch 1.\u001b[0m\n",
      "\u001b[32m[I 2021-01-29 05:31:16,415]\u001b[0m Trial 38 pruned. \u001b[0m\n",
      "Trial parameters:\n",
      "{   'conv1d_dropout1': 0.3501185075650923,\n",
      "    'conv1d_dropout2': 0.4381662057523992,\n",
      "    'conv1d_dropout3': 0.4678222406511069,\n",
      "    'conv1d_dropout4': 0.2859421360826654,\n",
      "    'conv1d_filter1': 626,\n",
      "    'conv1d_filter2': 766,\n",
      "    'conv1d_filter3': 280,\n",
      "    'conv1d_filter4': 73,\n",
      "    'conv1d_size1': 8,\n",
      "    'conv1d_size2': 4,\n",
      "    'conv1d_size3': 5,\n",
      "    'conv1d_size4': 1,\n",
      "    'conv2d_dropout': 0.14182692261661628,\n",
      "    'conv2d_filter': 578,\n",
      "    'conv2d_size': 10}\n",
      "Sequential(\n",
      "  (0): Conv1d(578, 626, kernel_size=(8,), stride=(1,))\n",
      "  (1): ReLU()\n",
      "  (2): Dropout(p=0.3501185075650923, inplace=False)\n",
      "  (3): BatchNorm1d(626, eps=1e-05, momentum=0.1, affine=True, track_running_stats=True)\n",
      "  (4): Conv1d(626, 766, kernel_size=(4,), stride=(1,))\n",
      "  (5): ReLU()\n",
      "  (6): Dropout(p=0.4381662057523992, inplace=False)\n",
      "  (7): BatchNorm1d(766, eps=1e-05, momentum=0.1, affine=True, track_running_stats=True)\n",
      "  (8): Conv1d(766, 280, kernel_size=(5,), stride=(1,))\n",
      "  (9): ReLU()\n",
      "  (10): Dropout(p=0.4678222406511069, inplace=False)\n",
      "  (11): BatchNorm1d(280, eps=1e-05, momentum=0.1, affine=True, track_running_stats=True)\n",
      "  (12): Conv1d(280, 73, kernel_size=(1,), stride=(1,))\n",
      "  (13): ReLU()\n",
      "  (14): Dropout(p=0.2859421360826654, inplace=False)\n",
      "  (15): BatchNorm1d(73, eps=1e-05, momentum=0.1, affine=True, track_running_stats=True)\n",
      ")\n",
      "Flattened size: 219\n",
      "{'conv2d_size': 10, 'conv2d_filter': 578, 'conv2d_dropout': 0.14182692261661628, 'conv1d_size1': 8, 'conv1d_size2': 4, 'conv1d_size3': 5, 'conv1d_size4': 1, 'conv1d_filter1': 626, 'conv1d_filter2': 766, 'conv1d_filter3': 280, 'conv1d_filter4': 73, 'conv1d_dropout1': 0.3501185075650923, 'conv1d_dropout2': 0.4381662057523992, 'conv1d_dropout3': 0.4678222406511069, 'conv1d_dropout4': 0.2859421360826654, 'lin_size1': 211, 'lin_size2': 156, 'lin_dropout1': 0.10538200467880482, 'lin_dropout2': 0.2137745479040675, 'lr': 0.02716899179267341, 'batch_size': 8096}\n"
     ]
    },
    {
     "output_type": "display_data",
     "data": {
      "text/plain": [
       "Validation sanity check: 0it [00:00, ?it/s]"
      ],
      "application/vnd.jupyter.widget-view+json": {
       "model_id": "",
       "version_major": 2,
       "version_minor": 0
      }
     },
     "metadata": {}
    },
    {
     "output_type": "display_data",
     "data": {
      "text/plain": [
       "Training: 0it [00:00, ?it/s]"
      ],
      "application/vnd.jupyter.widget-view+json": {
       "model_id": "7f4968325c5442778e7003351a0d54dc",
       "version_major": 2,
       "version_minor": 0
      }
     },
     "metadata": {}
    },
    {
     "output_type": "display_data",
     "data": {
      "text/plain": [
       "Validating: 0it [00:00, ?it/s]"
      ],
      "application/vnd.jupyter.widget-view+json": {
       "model_id": "",
       "version_major": 2,
       "version_minor": 0
      }
     },
     "metadata": {}
    },
    {
     "output_type": "display_data",
     "data": {
      "text/plain": [
       "Validating: 0it [00:00, ?it/s]"
      ],
      "application/vnd.jupyter.widget-view+json": {
       "model_id": "70b0643ec76d4108934c1833f57e860d",
       "version_major": 2,
       "version_minor": 0
      }
     },
     "metadata": {}
    },
    {
     "output_type": "stream",
     "name": "stderr",
     "text": [
      "GPU available: True, used: True\n",
      "TPU available: None, using: 0 TPU cores\n",
      "LOCAL_RANK: 0 - CUDA_VISIBLE_DEVICES: [0]\n",
      "\n",
      "  | Name         | Type       | Params\n",
      "--------------------------------------------\n",
      "0 | conv2d_block | Sequential | 48.7 K\n",
      "1 | conv1d_block | Sequential | 3.2 M \n",
      "2 | lin_block    | Sequential | 378 K \n",
      "--------------------------------------------\n",
      "3.7 M     Trainable params\n",
      "0         Non-trainable params\n",
      "3.7 M     Total params\n"
     ]
    },
    {
     "output_type": "stream",
     "name": "stdout",
     "text": [
      "\u001b[32m[I 2021-01-29 06:34:47,354]\u001b[0m Trial 39 pruned. Trial was pruned at epoch 1.\u001b[0m\n",
      "Trial parameters:\n",
      "{   'conv1d_dropout1': 0.46273988256687276,\n",
      "    'conv1d_dropout2': 0.33975397227253235,\n",
      "    'conv1d_dropout3': 0.015621954316611434,\n",
      "    'conv1d_dropout4': 0.32585159443253975,\n",
      "    'conv1d_filter1': 481,\n",
      "    'conv1d_filter2': 490,\n",
      "    'conv1d_filter3': 202,\n",
      "    'conv1d_filter4': 86,\n",
      "    'conv1d_size1': 7,\n",
      "    'conv1d_size2': 3,\n",
      "    'conv1d_size3': 3,\n",
      "    'conv1d_size4': 2,\n",
      "    'conv2d_dropout': 0.3270675033476649,\n",
      "    'conv2d_filter': 649,\n",
      "    'conv2d_size': 9}\n",
      "Sequential(\n",
      "  (0): Conv1d(649, 481, kernel_size=(7,), stride=(1,))\n",
      "  (1): ReLU()\n",
      "  (2): Dropout(p=0.46273988256687276, inplace=False)\n",
      "  (3): BatchNorm1d(481, eps=1e-05, momentum=0.1, affine=True, track_running_stats=True)\n",
      "  (4): Conv1d(481, 490, kernel_size=(3,), stride=(1,))\n",
      "  (5): ReLU()\n",
      "  (6): Dropout(p=0.33975397227253235, inplace=False)\n",
      "  (7): BatchNorm1d(490, eps=1e-05, momentum=0.1, affine=True, track_running_stats=True)\n",
      "  (8): Conv1d(490, 202, kernel_size=(3,), stride=(1,))\n",
      "  (9): ReLU()\n",
      "  (10): Dropout(p=0.015621954316611434, inplace=False)\n",
      "  (11): BatchNorm1d(202, eps=1e-05, momentum=0.1, affine=True, track_running_stats=True)\n",
      "  (12): Conv1d(202, 86, kernel_size=(2,), stride=(1,))\n",
      "  (13): ReLU()\n",
      "  (14): Dropout(p=0.32585159443253975, inplace=False)\n",
      "  (15): BatchNorm1d(86, eps=1e-05, momentum=0.1, affine=True, track_running_stats=True)\n",
      ")\n",
      "Flattened size: 602\n",
      "{'conv2d_size': 9, 'conv2d_filter': 649, 'conv2d_dropout': 0.3270675033476649, 'conv1d_size1': 7, 'conv1d_size2': 3, 'conv1d_size3': 3, 'conv1d_size4': 2, 'conv1d_filter1': 481, 'conv1d_filter2': 490, 'conv1d_filter3': 202, 'conv1d_filter4': 86, 'conv1d_dropout1': 0.46273988256687276, 'conv1d_dropout2': 0.33975397227253235, 'conv1d_dropout3': 0.015621954316611434, 'conv1d_dropout4': 0.32585159443253975, 'lin_size1': 502, 'lin_size2': 150, 'lin_dropout1': 0.10856251731103614, 'lin_dropout2': 0.21378793595937945, 'lr': 0.024182879768154697, 'batch_size': 8096}\n"
     ]
    },
    {
     "output_type": "display_data",
     "data": {
      "text/plain": [
       "Validation sanity check: 0it [00:00, ?it/s]"
      ],
      "application/vnd.jupyter.widget-view+json": {
       "model_id": "",
       "version_major": 2,
       "version_minor": 0
      }
     },
     "metadata": {}
    },
    {
     "output_type": "display_data",
     "data": {
      "text/plain": [
       "Training: 0it [00:00, ?it/s]"
      ],
      "application/vnd.jupyter.widget-view+json": {
       "model_id": "7471d5ff64f147dcaf5987120caac2c7",
       "version_major": 2,
       "version_minor": 0
      }
     },
     "metadata": {}
    },
    {
     "output_type": "display_data",
     "data": {
      "text/plain": [
       "Validating: 0it [00:00, ?it/s]"
      ],
      "application/vnd.jupyter.widget-view+json": {
       "model_id": "",
       "version_major": 2,
       "version_minor": 0
      }
     },
     "metadata": {}
    },
    {
     "output_type": "display_data",
     "data": {
      "text/plain": [
       "Validating: 0it [00:00, ?it/s]"
      ],
      "application/vnd.jupyter.widget-view+json": {
       "model_id": "1b070e01d4464884a73947577c5a12b3",
       "version_major": 2,
       "version_minor": 0
      }
     },
     "metadata": {}
    },
    {
     "output_type": "stream",
     "name": "stderr",
     "text": [
      "GPU available: True, used: True\n",
      "TPU available: None, using: 0 TPU cores\n",
      "LOCAL_RANK: 0 - CUDA_VISIBLE_DEVICES: [0]\n",
      "\n",
      "  | Name         | Type       | Params\n",
      "--------------------------------------------\n",
      "0 | conv2d_block | Sequential | 60.7 K\n",
      "1 | conv1d_block | Sequential | 6.0 M \n",
      "2 | lin_block    | Sequential | 86.1 K\n",
      "--------------------------------------------\n",
      "6.2 M     Trainable params\n",
      "0         Non-trainable params\n",
      "6.2 M     Total params\n"
     ]
    },
    {
     "output_type": "stream",
     "name": "stdout",
     "text": [
      "\u001b[32m[I 2021-01-29 07:16:57,254]\u001b[0m Trial 40 pruned. Trial was pruned at epoch 1.\u001b[0m\n",
      "Trial parameters:\n",
      "{   'conv1d_dropout1': 0.3911119915635597,\n",
      "    'conv1d_dropout2': 0.3997414367838428,\n",
      "    'conv1d_dropout3': 0.377360692908167,\n",
      "    'conv1d_dropout4': 0.18287892780781578,\n",
      "    'conv1d_filter1': 617,\n",
      "    'conv1d_filter2': 620,\n",
      "    'conv1d_filter3': 341,\n",
      "    'conv1d_filter4': 69,\n",
      "    'conv1d_size1': 8,\n",
      "    'conv1d_size2': 4,\n",
      "    'conv1d_size3': 4,\n",
      "    'conv1d_size4': 1,\n",
      "    'conv2d_dropout': 0.4331722507651917,\n",
      "    'conv2d_filter': 731,\n",
      "    'conv2d_size': 10}\n",
      "Sequential(\n",
      "  (0): Conv1d(731, 617, kernel_size=(8,), stride=(1,))\n",
      "  (1): ReLU()\n",
      "  (2): Dropout(p=0.3911119915635597, inplace=False)\n",
      "  (3): BatchNorm1d(617, eps=1e-05, momentum=0.1, affine=True, track_running_stats=True)\n",
      "  (4): Conv1d(617, 620, kernel_size=(4,), stride=(1,))\n",
      "  (5): ReLU()\n",
      "  (6): Dropout(p=0.3997414367838428, inplace=False)\n",
      "  (7): BatchNorm1d(620, eps=1e-05, momentum=0.1, affine=True, track_running_stats=True)\n",
      "  (8): Conv1d(620, 341, kernel_size=(4,), stride=(1,))\n",
      "  (9): ReLU()\n",
      "  (10): Dropout(p=0.377360692908167, inplace=False)\n",
      "  (11): BatchNorm1d(341, eps=1e-05, momentum=0.1, affine=True, track_running_stats=True)\n",
      "  (12): Conv1d(341, 69, kernel_size=(1,), stride=(1,))\n",
      "  (13): ReLU()\n",
      "  (14): Dropout(p=0.18287892780781578, inplace=False)\n",
      "  (15): BatchNorm1d(69, eps=1e-05, momentum=0.1, affine=True, track_running_stats=True)\n",
      ")\n",
      "Flattened size: 276\n",
      "{'conv2d_size': 10, 'conv2d_filter': 731, 'conv2d_dropout': 0.4331722507651917, 'conv1d_size1': 8, 'conv1d_size2': 4, 'conv1d_size3': 4, 'conv1d_size4': 1, 'conv1d_filter1': 617, 'conv1d_filter2': 620, 'conv1d_filter3': 341, 'conv1d_filter4': 69, 'conv1d_dropout1': 0.3911119915635597, 'conv1d_dropout2': 0.3997414367838428, 'conv1d_dropout3': 0.377360692908167, 'conv1d_dropout4': 0.18287892780781578, 'lin_size1': 201, 'lin_size2': 150, 'lin_dropout1': 0.1243219584508636, 'lin_dropout2': 0.2066357622257819, 'lr': 0.013829100866561556, 'batch_size': 8096}\n"
     ]
    },
    {
     "output_type": "display_data",
     "data": {
      "text/plain": [
       "Validation sanity check: 0it [00:00, ?it/s]"
      ],
      "application/vnd.jupyter.widget-view+json": {
       "model_id": "",
       "version_major": 2,
       "version_minor": 0
      }
     },
     "metadata": {}
    },
    {
     "output_type": "display_data",
     "data": {
      "text/plain": [
       "Training: 0it [00:00, ?it/s]"
      ],
      "application/vnd.jupyter.widget-view+json": {
       "model_id": "8ba1cb0ef8fb42e08535f2bf58360197",
       "version_major": 2,
       "version_minor": 0
      }
     },
     "metadata": {}
    },
    {
     "output_type": "display_data",
     "data": {
      "text/plain": [
       "Validating: 0it [00:00, ?it/s]"
      ],
      "application/vnd.jupyter.widget-view+json": {
       "model_id": "",
       "version_major": 2,
       "version_minor": 0
      }
     },
     "metadata": {}
    },
    {
     "output_type": "display_data",
     "data": {
      "text/plain": [
       "Validating: 0it [00:00, ?it/s]"
      ],
      "application/vnd.jupyter.widget-view+json": {
       "model_id": "",
       "version_major": 2,
       "version_minor": 0
      }
     },
     "metadata": {}
    },
    {
     "output_type": "display_data",
     "data": {
      "text/plain": [
       "Validating: 0it [00:00, ?it/s]"
      ],
      "application/vnd.jupyter.widget-view+json": {
       "model_id": "",
       "version_major": 2,
       "version_minor": 0
      }
     },
     "metadata": {}
    },
    {
     "output_type": "display_data",
     "data": {
      "text/plain": [
       "Validating: 0it [00:00, ?it/s]"
      ],
      "application/vnd.jupyter.widget-view+json": {
       "model_id": "",
       "version_major": 2,
       "version_minor": 0
      }
     },
     "metadata": {}
    },
    {
     "output_type": "display_data",
     "data": {
      "text/plain": [
       "Validating: 0it [00:00, ?it/s]"
      ],
      "application/vnd.jupyter.widget-view+json": {
       "model_id": "",
       "version_major": 2,
       "version_minor": 0
      }
     },
     "metadata": {}
    },
    {
     "output_type": "stream",
     "name": "stderr",
     "text": [
      "GPU available: True, used: True\n",
      "TPU available: None, using: 0 TPU cores\n",
      "LOCAL_RANK: 0 - CUDA_VISIBLE_DEVICES: [0]\n",
      "\n",
      "  | Name         | Type       | Params\n",
      "--------------------------------------------\n",
      "0 | conv2d_block | Sequential | 54.9 K\n",
      "1 | conv1d_block | Sequential | 5.3 M \n",
      "2 | lin_block    | Sequential | 101 K \n",
      "--------------------------------------------\n",
      "5.4 M     Trainable params\n",
      "0         Non-trainable params\n",
      "5.4 M     Total params\n"
     ]
    },
    {
     "output_type": "stream",
     "name": "stdout",
     "text": [
      "\u001b[32m[I 2021-01-29 09:58:01,181]\u001b[0m Trial 41 finished with value: 106.55855560302734 and parameters: {'conv2d_size': 10, 'conv2d_filter': 731, 'conv2d_dropout': 0.4331722507651917, 'conv1d_size1': 8, 'conv1d_size2': 4, 'conv1d_size3': 4, 'conv1d_size4': 1, 'conv1d_filter1': 617, 'conv1d_filter2': 620, 'conv1d_filter3': 341, 'conv1d_filter4': 69, 'conv1d_dropout1': 0.3911119915635597, 'conv1d_dropout2': 0.3997414367838428, 'conv1d_dropout3': 0.377360692908167, 'conv1d_dropout4': 0.18287892780781578, 'lin_size1': 201, 'lin_size2': 150, 'lin_dropout1': 0.1243219584508636, 'lin_dropout2': 0.2066357622257819, 'lr': 0.013829100866561556, 'batch_size': 8096}. Best is trial 25 with value: 84.05036926269531.\u001b[0m\n",
      "Trial parameters:\n",
      "{   'conv1d_dropout1': 0.31392737383390973,\n",
      "    'conv1d_dropout2': 0.389555988295881,\n",
      "    'conv1d_dropout3': 0.3858990200409072,\n",
      "    'conv1d_dropout4': 0.14486166515933124,\n",
      "    'conv1d_filter1': 544,\n",
      "    'conv1d_filter2': 628,\n",
      "    'conv1d_filter3': 350,\n",
      "    'conv1d_filter4': 94,\n",
      "    'conv1d_size1': 7,\n",
      "    'conv1d_size2': 4,\n",
      "    'conv1d_size3': 5,\n",
      "    'conv1d_size4': 1,\n",
      "    'conv2d_dropout': 0.4369443723213835,\n",
      "    'conv2d_filter': 732,\n",
      "    'conv2d_size': 9}\n",
      "Sequential(\n",
      "  (0): Conv1d(732, 544, kernel_size=(7,), stride=(1,))\n",
      "  (1): ReLU()\n",
      "  (2): Dropout(p=0.31392737383390973, inplace=False)\n",
      "  (3): BatchNorm1d(544, eps=1e-05, momentum=0.1, affine=True, track_running_stats=True)\n",
      "  (4): Conv1d(544, 628, kernel_size=(4,), stride=(1,))\n",
      "  (5): ReLU()\n",
      "  (6): Dropout(p=0.389555988295881, inplace=False)\n",
      "  (7): BatchNorm1d(628, eps=1e-05, momentum=0.1, affine=True, track_running_stats=True)\n",
      "  (8): Conv1d(628, 350, kernel_size=(5,), stride=(1,))\n",
      "  (9): ReLU()\n",
      "  (10): Dropout(p=0.3858990200409072, inplace=False)\n",
      "  (11): BatchNorm1d(350, eps=1e-05, momentum=0.1, affine=True, track_running_stats=True)\n",
      "  (12): Conv1d(350, 94, kernel_size=(1,), stride=(1,))\n",
      "  (13): ReLU()\n",
      "  (14): Dropout(p=0.14486166515933124, inplace=False)\n",
      "  (15): BatchNorm1d(94, eps=1e-05, momentum=0.1, affine=True, track_running_stats=True)\n",
      ")\n",
      "Flattened size: 470\n",
      "{'conv2d_size': 9, 'conv2d_filter': 732, 'conv2d_dropout': 0.4369443723213835, 'conv1d_size1': 7, 'conv1d_size2': 4, 'conv1d_size3': 5, 'conv1d_size4': 1, 'conv1d_filter1': 544, 'conv1d_filter2': 628, 'conv1d_filter3': 350, 'conv1d_filter4': 94, 'conv1d_dropout1': 0.31392737383390973, 'conv1d_dropout2': 0.389555988295881, 'conv1d_dropout3': 0.3858990200409072, 'conv1d_dropout4': 0.14486166515933124, 'lin_size1': 172, 'lin_size2': 120, 'lin_dropout1': 0.25088876686442496, 'lin_dropout2': 0.12137025027776148, 'lr': 0.003862179196572456, 'batch_size': 256}\n"
     ]
    },
    {
     "output_type": "display_data",
     "data": {
      "text/plain": [
       "Validation sanity check: 0it [00:00, ?it/s]"
      ],
      "application/vnd.jupyter.widget-view+json": {
       "model_id": "",
       "version_major": 2,
       "version_minor": 0
      }
     },
     "metadata": {}
    },
    {
     "output_type": "display_data",
     "data": {
      "text/plain": [
       "Training: 0it [00:00, ?it/s]"
      ],
      "application/vnd.jupyter.widget-view+json": {
       "model_id": "bf4b4190dae242659827e35a850dcf41",
       "version_major": 2,
       "version_minor": 0
      }
     },
     "metadata": {}
    },
    {
     "output_type": "display_data",
     "data": {
      "text/plain": [
       "Validating: 0it [00:00, ?it/s]"
      ],
      "application/vnd.jupyter.widget-view+json": {
       "model_id": "",
       "version_major": 2,
       "version_minor": 0
      }
     },
     "metadata": {}
    },
    {
     "output_type": "display_data",
     "data": {
      "text/plain": [
       "Validating: 0it [00:00, ?it/s]"
      ],
      "application/vnd.jupyter.widget-view+json": {
       "model_id": "",
       "version_major": 2,
       "version_minor": 0
      }
     },
     "metadata": {}
    },
    {
     "output_type": "display_data",
     "data": {
      "text/plain": [
       "Validating: 0it [00:00, ?it/s]"
      ],
      "application/vnd.jupyter.widget-view+json": {
       "model_id": "",
       "version_major": 2,
       "version_minor": 0
      }
     },
     "metadata": {}
    },
    {
     "output_type": "display_data",
     "data": {
      "text/plain": [
       "Validating: 0it [00:00, ?it/s]"
      ],
      "application/vnd.jupyter.widget-view+json": {
       "model_id": "",
       "version_major": 2,
       "version_minor": 0
      }
     },
     "metadata": {}
    },
    {
     "output_type": "display_data",
     "data": {
      "text/plain": [
       "Validating: 0it [00:00, ?it/s]"
      ],
      "application/vnd.jupyter.widget-view+json": {
       "model_id": "",
       "version_major": 2,
       "version_minor": 0
      }
     },
     "metadata": {}
    },
    {
     "output_type": "stream",
     "name": "stderr",
     "text": [
      "GPU available: True, used: True\n",
      "TPU available: None, using: 0 TPU cores\n",
      "LOCAL_RANK: 0 - CUDA_VISIBLE_DEVICES: [0]\n",
      "\n",
      "  | Name         | Type       | Params\n",
      "--------------------------------------------\n",
      "0 | conv2d_block | Sequential | 60.9 K\n",
      "1 | conv1d_block | Sequential | 5.7 M \n",
      "2 | lin_block    | Sequential | 54.3 K\n",
      "--------------------------------------------\n",
      "5.8 M     Trainable params\n",
      "0         Non-trainable params\n",
      "5.8 M     Total params\n"
     ]
    },
    {
     "output_type": "stream",
     "name": "stdout",
     "text": [
      "\u001b[32m[I 2021-01-29 12:45:28,058]\u001b[0m Trial 42 finished with value: 110.59821319580078 and parameters: {'conv2d_size': 9, 'conv2d_filter': 732, 'conv2d_dropout': 0.4369443723213835, 'conv1d_size1': 7, 'conv1d_size2': 4, 'conv1d_size3': 5, 'conv1d_size4': 1, 'conv1d_filter1': 544, 'conv1d_filter2': 628, 'conv1d_filter3': 350, 'conv1d_filter4': 94, 'conv1d_dropout1': 0.31392737383390973, 'conv1d_dropout2': 0.389555988295881, 'conv1d_dropout3': 0.3858990200409072, 'conv1d_dropout4': 0.14486166515933124, 'lin_size1': 172, 'lin_size2': 120, 'lin_dropout1': 0.25088876686442496, 'lin_dropout2': 0.12137025027776148, 'lr': 0.003862179196572456, 'batch_size': 256}. Best is trial 25 with value: 84.05036926269531.\u001b[0m\n",
      "Trial parameters:\n",
      "{   'conv1d_dropout1': 0.24433940764869377,\n",
      "    'conv1d_dropout2': 0.31971909698594536,\n",
      "    'conv1d_dropout3': 0.3656982772830881,\n",
      "    'conv1d_dropout4': 0.07066040226818045,\n",
      "    'conv1d_filter1': 537,\n",
      "    'conv1d_filter2': 716,\n",
      "    'conv1d_filter3': 367,\n",
      "    'conv1d_filter4': 95,\n",
      "    'conv1d_size1': 8,\n",
      "    'conv1d_size2': 3,\n",
      "    'conv1d_size3': 5,\n",
      "    'conv1d_size4': 1,\n",
      "    'conv2d_dropout': 0.38140790648759204,\n",
      "    'conv2d_filter': 734,\n",
      "    'conv2d_size': 10}\n",
      "Sequential(\n",
      "  (0): Conv1d(734, 537, kernel_size=(8,), stride=(1,))\n",
      "  (1): ReLU()\n",
      "  (2): Dropout(p=0.24433940764869377, inplace=False)\n",
      "  (3): BatchNorm1d(537, eps=1e-05, momentum=0.1, affine=True, track_running_stats=True)\n",
      "  (4): Conv1d(537, 716, kernel_size=(3,), stride=(1,))\n",
      "  (5): ReLU()\n",
      "  (6): Dropout(p=0.31971909698594536, inplace=False)\n",
      "  (7): BatchNorm1d(716, eps=1e-05, momentum=0.1, affine=True, track_running_stats=True)\n",
      "  (8): Conv1d(716, 367, kernel_size=(5,), stride=(1,))\n",
      "  (9): ReLU()\n",
      "  (10): Dropout(p=0.3656982772830881, inplace=False)\n",
      "  (11): BatchNorm1d(367, eps=1e-05, momentum=0.1, affine=True, track_running_stats=True)\n",
      "  (12): Conv1d(367, 95, kernel_size=(1,), stride=(1,))\n",
      "  (13): ReLU()\n",
      "  (14): Dropout(p=0.07066040226818045, inplace=False)\n",
      "  (15): BatchNorm1d(95, eps=1e-05, momentum=0.1, affine=True, track_running_stats=True)\n",
      ")\n",
      "Flattened size: 380\n",
      "{'conv2d_size': 10, 'conv2d_filter': 734, 'conv2d_dropout': 0.38140790648759204, 'conv1d_size1': 8, 'conv1d_size2': 3, 'conv1d_size3': 5, 'conv1d_size4': 1, 'conv1d_filter1': 537, 'conv1d_filter2': 716, 'conv1d_filter3': 367, 'conv1d_filter4': 95, 'conv1d_dropout1': 0.24433940764869377, 'conv1d_dropout2': 0.31971909698594536, 'conv1d_dropout3': 0.3656982772830881, 'conv1d_dropout4': 0.07066040226818045, 'lin_size1': 120, 'lin_size2': 70, 'lin_dropout1': 0.347013155231913, 'lin_dropout2': 0.11130224139713042, 'lr': 0.0008042749955388207, 'batch_size': 256}\n"
     ]
    },
    {
     "output_type": "display_data",
     "data": {
      "text/plain": [
       "Validation sanity check: 0it [00:00, ?it/s]"
      ],
      "application/vnd.jupyter.widget-view+json": {
       "model_id": "",
       "version_major": 2,
       "version_minor": 0
      }
     },
     "metadata": {}
    },
    {
     "output_type": "display_data",
     "data": {
      "text/plain": [
       "Training: 0it [00:00, ?it/s]"
      ],
      "application/vnd.jupyter.widget-view+json": {
       "model_id": "b7b8dcc009e74d20a9e28734f6cf3fb3",
       "version_major": 2,
       "version_minor": 0
      }
     },
     "metadata": {}
    },
    {
     "output_type": "display_data",
     "data": {
      "text/plain": [
       "Validating: 0it [00:00, ?it/s]"
      ],
      "application/vnd.jupyter.widget-view+json": {
       "model_id": "",
       "version_major": 2,
       "version_minor": 0
      }
     },
     "metadata": {}
    },
    {
     "output_type": "display_data",
     "data": {
      "text/plain": [
       "Validating: 0it [00:00, ?it/s]"
      ],
      "application/vnd.jupyter.widget-view+json": {
       "model_id": "",
       "version_major": 2,
       "version_minor": 0
      }
     },
     "metadata": {}
    },
    {
     "output_type": "display_data",
     "data": {
      "text/plain": [
       "Validating: 0it [00:00, ?it/s]"
      ],
      "application/vnd.jupyter.widget-view+json": {
       "model_id": "",
       "version_major": 2,
       "version_minor": 0
      }
     },
     "metadata": {}
    },
    {
     "output_type": "display_data",
     "data": {
      "text/plain": [
       "Validating: 0it [00:00, ?it/s]"
      ],
      "application/vnd.jupyter.widget-view+json": {
       "model_id": "",
       "version_major": 2,
       "version_minor": 0
      }
     },
     "metadata": {}
    },
    {
     "output_type": "display_data",
     "data": {
      "text/plain": [
       "Validating: 0it [00:00, ?it/s]"
      ],
      "application/vnd.jupyter.widget-view+json": {
       "model_id": "",
       "version_major": 2,
       "version_minor": 0
      }
     },
     "metadata": {}
    },
    {
     "output_type": "stream",
     "name": "stderr",
     "text": [
      "GPU available: True, used: True\n",
      "TPU available: None, using: 0 TPU cores\n",
      "LOCAL_RANK: 0 - CUDA_VISIBLE_DEVICES: [0]\n",
      "GPU available: True, used: True\n",
      "TPU available: None, using: 0 TPU cores\n",
      "LOCAL_RANK: 0 - CUDA_VISIBLE_DEVICES: [0]\n",
      "\n",
      "  | Name         | Type       | Params\n",
      "--------------------------------------------\n",
      "0 | conv2d_block | Sequential | 44.2 K\n",
      "1 | conv1d_block | Sequential | 3.4 M \n",
      "2 | lin_block    | Sequential | 70.3 K\n",
      "--------------------------------------------\n",
      "3.5 M     Trainable params\n",
      "0         Non-trainable params\n",
      "3.5 M     Total params\n"
     ]
    },
    {
     "output_type": "stream",
     "name": "stdout",
     "text": [
      "\u001b[32m[I 2021-01-29 15:46:47,806]\u001b[0m Trial 43 finished with value: 89.89527893066406 and parameters: {'conv2d_size': 10, 'conv2d_filter': 734, 'conv2d_dropout': 0.38140790648759204, 'conv1d_size1': 8, 'conv1d_size2': 3, 'conv1d_size3': 5, 'conv1d_size4': 1, 'conv1d_filter1': 537, 'conv1d_filter2': 716, 'conv1d_filter3': 367, 'conv1d_filter4': 95, 'conv1d_dropout1': 0.24433940764869377, 'conv1d_dropout2': 0.31971909698594536, 'conv1d_dropout3': 0.3656982772830881, 'conv1d_dropout4': 0.07066040226818045, 'lin_size1': 120, 'lin_size2': 70, 'lin_dropout1': 0.347013155231913, 'lin_dropout2': 0.11130224139713042, 'lr': 0.0008042749955388207, 'batch_size': 256}. Best is trial 25 with value: 84.05036926269531.\u001b[0m\n",
      "\u001b[32m[I 2021-01-29 15:46:47,841]\u001b[0m Trial 44 pruned. \u001b[0m\n",
      "Trial parameters:\n",
      "{   'conv1d_dropout1': 0.15261863764363498,\n",
      "    'conv1d_dropout2': 0.26165486181407305,\n",
      "    'conv1d_dropout3': 0.014728355767896675,\n",
      "    'conv1d_dropout4': 0.4417641434575604,\n",
      "    'conv1d_filter1': 370,\n",
      "    'conv1d_filter2': 542,\n",
      "    'conv1d_filter3': 325,\n",
      "    'conv1d_filter4': 75,\n",
      "    'conv1d_size1': 9,\n",
      "    'conv1d_size2': 4,\n",
      "    'conv1d_size3': 3,\n",
      "    'conv1d_size4': 3,\n",
      "    'conv2d_dropout': 0.17594787621434277,\n",
      "    'conv2d_filter': 590,\n",
      "    'conv2d_size': 9}\n",
      "Sequential(\n",
      "  (0): Conv1d(590, 370, kernel_size=(9,), stride=(1,))\n",
      "  (1): ReLU()\n",
      "  (2): Dropout(p=0.15261863764363498, inplace=False)\n",
      "  (3): BatchNorm1d(370, eps=1e-05, momentum=0.1, affine=True, track_running_stats=True)\n",
      "  (4): Conv1d(370, 542, kernel_size=(4,), stride=(1,))\n",
      "  (5): ReLU()\n",
      "  (6): Dropout(p=0.26165486181407305, inplace=False)\n",
      "  (7): BatchNorm1d(542, eps=1e-05, momentum=0.1, affine=True, track_running_stats=True)\n",
      "  (8): Conv1d(542, 325, kernel_size=(3,), stride=(1,))\n",
      "  (9): ReLU()\n",
      "  (10): Dropout(p=0.014728355767896675, inplace=False)\n",
      "  (11): BatchNorm1d(325, eps=1e-05, momentum=0.1, affine=True, track_running_stats=True)\n",
      "  (12): Conv1d(325, 75, kernel_size=(3,), stride=(1,))\n",
      "  (13): ReLU()\n",
      "  (14): Dropout(p=0.4417641434575604, inplace=False)\n",
      "  (15): BatchNorm1d(75, eps=1e-05, momentum=0.1, affine=True, track_running_stats=True)\n",
      ")\n",
      "Flattened size: 225\n",
      "{'conv2d_size': 9, 'conv2d_filter': 590, 'conv2d_dropout': 0.17594787621434277, 'conv1d_size1': 9, 'conv1d_size2': 4, 'conv1d_size3': 3, 'conv1d_size4': 3, 'conv1d_filter1': 370, 'conv1d_filter2': 542, 'conv1d_filter3': 325, 'conv1d_filter4': 75, 'conv1d_dropout1': 0.15261863764363498, 'conv1d_dropout2': 0.26165486181407305, 'conv1d_dropout3': 0.014728355767896675, 'conv1d_dropout4': 0.4417641434575604, 'lin_size1': 213, 'lin_size2': 103, 'lin_dropout1': 0.3927532977569503, 'lin_dropout2': 0.13179474373370711, 'lr': 0.002010908874009842, 'batch_size': 4096}\n"
     ]
    },
    {
     "output_type": "display_data",
     "data": {
      "text/plain": [
       "Validation sanity check: 0it [00:00, ?it/s]"
      ],
      "application/vnd.jupyter.widget-view+json": {
       "model_id": "",
       "version_major": 2,
       "version_minor": 0
      }
     },
     "metadata": {}
    },
    {
     "output_type": "display_data",
     "data": {
      "text/plain": [
       "Training: 0it [00:00, ?it/s]"
      ],
      "application/vnd.jupyter.widget-view+json": {
       "model_id": "e2d0f2a448074d18b442455f6872f0e2",
       "version_major": 2,
       "version_minor": 0
      }
     },
     "metadata": {}
    },
    {
     "output_type": "display_data",
     "data": {
      "text/plain": [
       "Validating: 0it [00:00, ?it/s]"
      ],
      "application/vnd.jupyter.widget-view+json": {
       "model_id": "",
       "version_major": 2,
       "version_minor": 0
      }
     },
     "metadata": {}
    },
    {
     "output_type": "display_data",
     "data": {
      "text/plain": [
       "Validating: 0it [00:00, ?it/s]"
      ],
      "application/vnd.jupyter.widget-view+json": {
       "model_id": "",
       "version_major": 2,
       "version_minor": 0
      }
     },
     "metadata": {}
    },
    {
     "output_type": "display_data",
     "data": {
      "text/plain": [
       "Validating: 0it [00:00, ?it/s]"
      ],
      "application/vnd.jupyter.widget-view+json": {
       "model_id": "",
       "version_major": 2,
       "version_minor": 0
      }
     },
     "metadata": {}
    },
    {
     "output_type": "display_data",
     "data": {
      "text/plain": [
       "Validating: 0it [00:00, ?it/s]"
      ],
      "application/vnd.jupyter.widget-view+json": {
       "model_id": "ccfcc8ea6505442e866d7362b2ccb135",
       "version_major": 2,
       "version_minor": 0
      }
     },
     "metadata": {}
    },
    {
     "output_type": "stream",
     "name": "stderr",
     "text": [
      "GPU available: True, used: True\n",
      "TPU available: None, using: 0 TPU cores\n",
      "LOCAL_RANK: 0 - CUDA_VISIBLE_DEVICES: [0]\n",
      "\n",
      "  | Name         | Type       | Params\n",
      "--------------------------------------------\n",
      "0 | conv2d_block | Sequential | 60.8 K\n",
      "1 | conv1d_block | Sequential | 5.4 M \n",
      "2 | lin_block    | Sequential | 47.9 K\n",
      "--------------------------------------------\n",
      "5.5 M     Trainable params\n",
      "0         Non-trainable params\n",
      "5.5 M     Total params\n"
     ]
    },
    {
     "output_type": "stream",
     "name": "stdout",
     "text": [
      "\u001b[32m[I 2021-01-29 17:06:25,053]\u001b[0m Trial 45 pruned. Trial was pruned at epoch 3.\u001b[0m\n",
      "Trial parameters:\n",
      "{   'conv1d_dropout1': 0.24472680640476197,\n",
      "    'conv1d_dropout2': 0.3780649718441244,\n",
      "    'conv1d_dropout3': 0.35860397392663823,\n",
      "    'conv1d_dropout4': 0.07202155281766541,\n",
      "    'conv1d_filter1': 542,\n",
      "    'conv1d_filter2': 645,\n",
      "    'conv1d_filter3': 346,\n",
      "    'conv1d_filter4': 91,\n",
      "    'conv1d_size1': 8,\n",
      "    'conv1d_size2': 3,\n",
      "    'conv1d_size3': 5,\n",
      "    'conv1d_size4': 1,\n",
      "    'conv2d_dropout': 0.42775181054301725,\n",
      "    'conv2d_filter': 732,\n",
      "    'conv2d_size': 10}\n",
      "Sequential(\n",
      "  (0): Conv1d(732, 542, kernel_size=(8,), stride=(1,))\n",
      "  (1): ReLU()\n",
      "  (2): Dropout(p=0.24472680640476197, inplace=False)\n",
      "  (3): BatchNorm1d(542, eps=1e-05, momentum=0.1, affine=True, track_running_stats=True)\n",
      "  (4): Conv1d(542, 645, kernel_size=(3,), stride=(1,))\n",
      "  (5): ReLU()\n",
      "  (6): Dropout(p=0.3780649718441244, inplace=False)\n",
      "  (7): BatchNorm1d(645, eps=1e-05, momentum=0.1, affine=True, track_running_stats=True)\n",
      "  (8): Conv1d(645, 346, kernel_size=(5,), stride=(1,))\n",
      "  (9): ReLU()\n",
      "  (10): Dropout(p=0.35860397392663823, inplace=False)\n",
      "  (11): BatchNorm1d(346, eps=1e-05, momentum=0.1, affine=True, track_running_stats=True)\n",
      "  (12): Conv1d(346, 91, kernel_size=(1,), stride=(1,))\n",
      "  (13): ReLU()\n",
      "  (14): Dropout(p=0.07202155281766541, inplace=False)\n",
      "  (15): BatchNorm1d(91, eps=1e-05, momentum=0.1, affine=True, track_running_stats=True)\n",
      ")\n",
      "Flattened size: 364\n",
      "{'conv2d_size': 10, 'conv2d_filter': 732, 'conv2d_dropout': 0.42775181054301725, 'conv1d_size1': 8, 'conv1d_size2': 3, 'conv1d_size3': 5, 'conv1d_size4': 1, 'conv1d_filter1': 542, 'conv1d_filter2': 645, 'conv1d_filter3': 346, 'conv1d_filter4': 91, 'conv1d_dropout1': 0.24472680640476197, 'conv1d_dropout2': 0.3780649718441244, 'conv1d_dropout3': 0.35860397392663823, 'conv1d_dropout4': 0.07202155281766541, 'lin_size1': 112, 'lin_size2': 62, 'lin_dropout1': 0.37998941711801104, 'lin_dropout2': 0.10461829069891594, 'lr': 0.0004609271416978623, 'batch_size': 256}\n"
     ]
    },
    {
     "output_type": "display_data",
     "data": {
      "text/plain": [
       "Validation sanity check: 0it [00:00, ?it/s]"
      ],
      "application/vnd.jupyter.widget-view+json": {
       "model_id": "",
       "version_major": 2,
       "version_minor": 0
      }
     },
     "metadata": {}
    },
    {
     "output_type": "display_data",
     "data": {
      "text/plain": [
       "Training: 0it [00:00, ?it/s]"
      ],
      "application/vnd.jupyter.widget-view+json": {
       "model_id": "882e7329ac684759a640b2d3ae6a945f",
       "version_major": 2,
       "version_minor": 0
      }
     },
     "metadata": {}
    },
    {
     "output_type": "display_data",
     "data": {
      "text/plain": [
       "Validating: 0it [00:00, ?it/s]"
      ],
      "application/vnd.jupyter.widget-view+json": {
       "model_id": "",
       "version_major": 2,
       "version_minor": 0
      }
     },
     "metadata": {}
    },
    {
     "output_type": "display_data",
     "data": {
      "text/plain": [
       "Validating: 0it [00:00, ?it/s]"
      ],
      "application/vnd.jupyter.widget-view+json": {
       "model_id": "",
       "version_major": 2,
       "version_minor": 0
      }
     },
     "metadata": {}
    },
    {
     "output_type": "display_data",
     "data": {
      "text/plain": [
       "Validating: 0it [00:00, ?it/s]"
      ],
      "application/vnd.jupyter.widget-view+json": {
       "model_id": "",
       "version_major": 2,
       "version_minor": 0
      }
     },
     "metadata": {}
    },
    {
     "output_type": "display_data",
     "data": {
      "text/plain": [
       "Validating: 0it [00:00, ?it/s]"
      ],
      "application/vnd.jupyter.widget-view+json": {
       "model_id": "06109ca622e04ba79f65a796999998eb",
       "version_major": 2,
       "version_minor": 0
      }
     },
     "metadata": {}
    },
    {
     "output_type": "stream",
     "name": "stderr",
     "text": [
      "GPU available: True, used: True\n",
      "TPU available: None, using: 0 TPU cores\n",
      "LOCAL_RANK: 0 - CUDA_VISIBLE_DEVICES: [0]\n",
      "\n",
      "  | Name         | Type       | Params\n",
      "--------------------------------------------\n",
      "0 | conv2d_block | Sequential | 33.8 K\n",
      "1 | conv1d_block | Sequential | 1.7 M \n",
      "2 | lin_block    | Sequential | 41.2 K\n",
      "--------------------------------------------\n",
      "1.8 M     Trainable params\n",
      "0         Non-trainable params\n",
      "1.8 M     Total params\n"
     ]
    },
    {
     "output_type": "stream",
     "name": "stdout",
     "text": [
      "\u001b[32m[I 2021-01-29 19:27:03,984]\u001b[0m Trial 46 pruned. Trial was pruned at epoch 3.\u001b[0m\n",
      "Trial parameters:\n",
      "{   'conv1d_dropout1': 0.4856244902340967,\n",
      "    'conv1d_dropout2': 0.09418548018898636,\n",
      "    'conv1d_dropout3': 0.07246166880444288,\n",
      "    'conv1d_dropout4': 0.3071979470836282,\n",
      "    'conv1d_filter1': 257,\n",
      "    'conv1d_filter2': 420,\n",
      "    'conv1d_filter3': 376,\n",
      "    'conv1d_filter4': 50,\n",
      "    'conv1d_size1': 7,\n",
      "    'conv1d_size2': 3,\n",
      "    'conv1d_size3': 4,\n",
      "    'conv1d_size4': 2,\n",
      "    'conv2d_dropout': 0.13160168728737665,\n",
      "    'conv2d_filter': 407,\n",
      "    'conv2d_size': 10}\n",
      "Sequential(\n",
      "  (0): Conv1d(407, 257, kernel_size=(7,), stride=(1,))\n",
      "  (1): ReLU()\n",
      "  (2): Dropout(p=0.4856244902340967, inplace=False)\n",
      "  (3): BatchNorm1d(257, eps=1e-05, momentum=0.1, affine=True, track_running_stats=True)\n",
      "  (4): Conv1d(257, 420, kernel_size=(3,), stride=(1,))\n",
      "  (5): ReLU()\n",
      "  (6): Dropout(p=0.09418548018898636, inplace=False)\n",
      "  (7): BatchNorm1d(420, eps=1e-05, momentum=0.1, affine=True, track_running_stats=True)\n",
      "  (8): Conv1d(420, 376, kernel_size=(4,), stride=(1,))\n",
      "  (9): ReLU()\n",
      "  (10): Dropout(p=0.07246166880444288, inplace=False)\n",
      "  (11): BatchNorm1d(376, eps=1e-05, momentum=0.1, affine=True, track_running_stats=True)\n",
      "  (12): Conv1d(376, 50, kernel_size=(2,), stride=(1,))\n",
      "  (13): ReLU()\n",
      "  (14): Dropout(p=0.3071979470836282, inplace=False)\n",
      "  (15): BatchNorm1d(50, eps=1e-05, momentum=0.1, affine=True, track_running_stats=True)\n",
      ")\n",
      "Flattened size: 250\n",
      "{'conv2d_size': 10, 'conv2d_filter': 407, 'conv2d_dropout': 0.13160168728737665, 'conv1d_size1': 7, 'conv1d_size2': 3, 'conv1d_size3': 4, 'conv1d_size4': 2, 'conv1d_filter1': 257, 'conv1d_filter2': 420, 'conv1d_filter3': 376, 'conv1d_filter4': 50, 'conv1d_dropout1': 0.4856244902340967, 'conv1d_dropout2': 0.09418548018898636, 'conv1d_dropout3': 0.07246166880444288, 'conv1d_dropout4': 0.3071979470836282, 'lin_size1': 132, 'lin_size2': 60, 'lin_dropout1': 0.10803625466692468, 'lin_dropout2': 0.3905861530376295, 'lr': 0.00011645145859699535, 'batch_size': 512}\n"
     ]
    },
    {
     "output_type": "display_data",
     "data": {
      "text/plain": [
       "Validation sanity check: 0it [00:00, ?it/s]"
      ],
      "application/vnd.jupyter.widget-view+json": {
       "model_id": "",
       "version_major": 2,
       "version_minor": 0
      }
     },
     "metadata": {}
    },
    {
     "output_type": "display_data",
     "data": {
      "text/plain": [
       "Training: 0it [00:00, ?it/s]"
      ],
      "application/vnd.jupyter.widget-view+json": {
       "model_id": "b4b22be60607464cb09de2671a224fb4",
       "version_major": 2,
       "version_minor": 0
      }
     },
     "metadata": {}
    },
    {
     "output_type": "display_data",
     "data": {
      "text/plain": [
       "Validating: 0it [00:00, ?it/s]"
      ],
      "application/vnd.jupyter.widget-view+json": {
       "model_id": "",
       "version_major": 2,
       "version_minor": 0
      }
     },
     "metadata": {}
    },
    {
     "output_type": "display_data",
     "data": {
      "text/plain": [
       "Validating: 0it [00:00, ?it/s]"
      ],
      "application/vnd.jupyter.widget-view+json": {
       "model_id": "",
       "version_major": 2,
       "version_minor": 0
      }
     },
     "metadata": {}
    },
    {
     "output_type": "display_data",
     "data": {
      "text/plain": [
       "Validating: 0it [00:00, ?it/s]"
      ],
      "application/vnd.jupyter.widget-view+json": {
       "model_id": "",
       "version_major": 2,
       "version_minor": 0
      }
     },
     "metadata": {}
    },
    {
     "output_type": "display_data",
     "data": {
      "text/plain": [
       "Validating: 0it [00:00, ?it/s]"
      ],
      "application/vnd.jupyter.widget-view+json": {
       "model_id": "d158c6e7c7d844a6a8f94ec9037419ad",
       "version_major": 2,
       "version_minor": 0
      }
     },
     "metadata": {}
    },
    {
     "output_type": "stream",
     "name": "stderr",
     "text": [
      "GPU available: True, used: True\n",
      "TPU available: None, using: 0 TPU cores\n",
      "LOCAL_RANK: 0 - CUDA_VISIBLE_DEVICES: [0]\n",
      "GPU available: True, used: True\n",
      "TPU available: None, using: 0 TPU cores\n",
      "LOCAL_RANK: 0 - CUDA_VISIBLE_DEVICES: [0]\n",
      "\n",
      "  | Name         | Type       | Params\n",
      "--------------------------------------------\n",
      "0 | conv2d_block | Sequential | 61.2 K\n",
      "1 | conv1d_block | Sequential | 5.4 M \n",
      "2 | lin_block    | Sequential | 78.9 K\n",
      "--------------------------------------------\n",
      "5.5 M     Trainable params\n",
      "0         Non-trainable params\n",
      "5.5 M     Total params\n"
     ]
    },
    {
     "output_type": "stream",
     "name": "stdout",
     "text": [
      "\u001b[32m[I 2021-01-29 20:12:43,949]\u001b[0m Trial 47 pruned. Trial was pruned at epoch 3.\u001b[0m\n",
      "\u001b[32m[I 2021-01-29 20:12:43,981]\u001b[0m Trial 48 pruned. \u001b[0m\n",
      "Trial parameters:\n",
      "{   'conv1d_dropout1': 0.32039051886567665,\n",
      "    'conv1d_dropout2': 0.40418440889527063,\n",
      "    'conv1d_dropout3': 0.37823589193126544,\n",
      "    'conv1d_dropout4': 0.13833530083030662,\n",
      "    'conv1d_filter1': 472,\n",
      "    'conv1d_filter2': 727,\n",
      "    'conv1d_filter3': 324,\n",
      "    'conv1d_filter4': 106,\n",
      "    'conv1d_size1': 8,\n",
      "    'conv1d_size2': 4,\n",
      "    'conv1d_size3': 5,\n",
      "    'conv1d_size4': 1,\n",
      "    'conv2d_dropout': 0.38960145570937904,\n",
      "    'conv2d_filter': 737,\n",
      "    'conv2d_size': 10}\n",
      "Sequential(\n",
      "  (0): Conv1d(737, 472, kernel_size=(8,), stride=(1,))\n",
      "  (1): ReLU()\n",
      "  (2): Dropout(p=0.32039051886567665, inplace=False)\n",
      "  (3): BatchNorm1d(472, eps=1e-05, momentum=0.1, affine=True, track_running_stats=True)\n",
      "  (4): Conv1d(472, 727, kernel_size=(4,), stride=(1,))\n",
      "  (5): ReLU()\n",
      "  (6): Dropout(p=0.40418440889527063, inplace=False)\n",
      "  (7): BatchNorm1d(727, eps=1e-05, momentum=0.1, affine=True, track_running_stats=True)\n",
      "  (8): Conv1d(727, 324, kernel_size=(5,), stride=(1,))\n",
      "  (9): ReLU()\n",
      "  (10): Dropout(p=0.37823589193126544, inplace=False)\n",
      "  (11): BatchNorm1d(324, eps=1e-05, momentum=0.1, affine=True, track_running_stats=True)\n",
      "  (12): Conv1d(324, 106, kernel_size=(1,), stride=(1,))\n",
      "  (13): ReLU()\n",
      "  (14): Dropout(p=0.13833530083030662, inplace=False)\n",
      "  (15): BatchNorm1d(106, eps=1e-05, momentum=0.1, affine=True, track_running_stats=True)\n",
      ")\n",
      "Flattened size: 318\n",
      "{'conv2d_size': 10, 'conv2d_filter': 737, 'conv2d_dropout': 0.38960145570937904, 'conv1d_size1': 8, 'conv1d_size2': 4, 'conv1d_size3': 5, 'conv1d_size4': 1, 'conv1d_filter1': 472, 'conv1d_filter2': 727, 'conv1d_filter3': 324, 'conv1d_filter4': 106, 'conv1d_dropout1': 0.32039051886567665, 'conv1d_dropout2': 0.40418440889527063, 'conv1d_dropout3': 0.37823589193126544, 'conv1d_dropout4': 0.13833530083030662, 'lin_size1': 187, 'lin_size2': 102, 'lin_dropout1': 0.27862985491458714, 'lin_dropout2': 0.10213470386028553, 'lr': 0.0023800004868228543, 'batch_size': 256}\n"
     ]
    },
    {
     "output_type": "display_data",
     "data": {
      "text/plain": [
       "Validation sanity check: 0it [00:00, ?it/s]"
      ],
      "application/vnd.jupyter.widget-view+json": {
       "model_id": "",
       "version_major": 2,
       "version_minor": 0
      }
     },
     "metadata": {}
    },
    {
     "output_type": "display_data",
     "data": {
      "text/plain": [
       "Training: 0it [00:00, ?it/s]"
      ],
      "application/vnd.jupyter.widget-view+json": {
       "model_id": "aba3fb69789b4132afd9fdde667d6ba3",
       "version_major": 2,
       "version_minor": 0
      }
     },
     "metadata": {}
    },
    {
     "output_type": "display_data",
     "data": {
      "text/plain": [
       "Validating: 0it [00:00, ?it/s]"
      ],
      "application/vnd.jupyter.widget-view+json": {
       "model_id": "",
       "version_major": 2,
       "version_minor": 0
      }
     },
     "metadata": {}
    },
    {
     "output_type": "display_data",
     "data": {
      "text/plain": [
       "Validating: 0it [00:00, ?it/s]"
      ],
      "application/vnd.jupyter.widget-view+json": {
       "model_id": "",
       "version_major": 2,
       "version_minor": 0
      }
     },
     "metadata": {}
    },
    {
     "output_type": "display_data",
     "data": {
      "text/plain": [
       "Validating: 0it [00:00, ?it/s]"
      ],
      "application/vnd.jupyter.widget-view+json": {
       "model_id": "",
       "version_major": 2,
       "version_minor": 0
      }
     },
     "metadata": {}
    },
    {
     "output_type": "display_data",
     "data": {
      "text/plain": [
       "Validating: 0it [00:00, ?it/s]"
      ],
      "application/vnd.jupyter.widget-view+json": {
       "model_id": "b3653a37f85943528564fcf0f7da5598",
       "version_major": 2,
       "version_minor": 0
      }
     },
     "metadata": {}
    },
    {
     "output_type": "stream",
     "name": "stderr",
     "text": [
      "GPU available: True, used: True\n",
      "TPU available: None, using: 0 TPU cores\n",
      "LOCAL_RANK: 0 - CUDA_VISIBLE_DEVICES: [0]\n",
      "\n",
      "  | Name         | Type       | Params\n",
      "--------------------------------------------\n",
      "0 | conv2d_block | Sequential | 54.5 K\n",
      "1 | conv1d_block | Sequential | 4.9 M \n",
      "2 | lin_block    | Sequential | 54.8 K\n",
      "--------------------------------------------\n",
      "5.0 M     Trainable params\n",
      "0         Non-trainable params\n",
      "5.0 M     Total params\n"
     ]
    },
    {
     "output_type": "stream",
     "name": "stdout",
     "text": [
      "\u001b[32m[I 2021-01-29 22:19:41,851]\u001b[0m Trial 49 pruned. Trial was pruned at epoch 3.\u001b[0m\n",
      "Trial parameters:\n",
      "{   'conv1d_dropout1': 0.26664015364157784,\n",
      "    'conv1d_dropout2': 0.3233716760388494,\n",
      "    'conv1d_dropout3': 0.45512076864077244,\n",
      "    'conv1d_dropout4': 0.0782121307551994,\n",
      "    'conv1d_filter1': 528,\n",
      "    'conv1d_filter2': 628,\n",
      "    'conv1d_filter3': 362,\n",
      "    'conv1d_filter4': 82,\n",
      "    'conv1d_size1': 7,\n",
      "    'conv1d_size2': 3,\n",
      "    'conv1d_size3': 5,\n",
      "    'conv1d_size4': 1,\n",
      "    'conv2d_dropout': 0.43032382141590325,\n",
      "    'conv2d_filter': 727,\n",
      "    'conv2d_size': 9}\n",
      "Sequential(\n",
      "  (0): Conv1d(727, 528, kernel_size=(7,), stride=(1,))\n",
      "  (1): ReLU()\n",
      "  (2): Dropout(p=0.26664015364157784, inplace=False)\n",
      "  (3): BatchNorm1d(528, eps=1e-05, momentum=0.1, affine=True, track_running_stats=True)\n",
      "  (4): Conv1d(528, 628, kernel_size=(3,), stride=(1,))\n",
      "  (5): ReLU()\n",
      "  (6): Dropout(p=0.3233716760388494, inplace=False)\n",
      "  (7): BatchNorm1d(628, eps=1e-05, momentum=0.1, affine=True, track_running_stats=True)\n",
      "  (8): Conv1d(628, 362, kernel_size=(5,), stride=(1,))\n",
      "  (9): ReLU()\n",
      "  (10): Dropout(p=0.45512076864077244, inplace=False)\n",
      "  (11): BatchNorm1d(362, eps=1e-05, momentum=0.1, affine=True, track_running_stats=True)\n",
      "  (12): Conv1d(362, 82, kernel_size=(1,), stride=(1,))\n",
      "  (13): ReLU()\n",
      "  (14): Dropout(p=0.0782121307551994, inplace=False)\n",
      "  (15): BatchNorm1d(82, eps=1e-05, momentum=0.1, affine=True, track_running_stats=True)\n",
      ")\n",
      "Flattened size: 492\n",
      "{'conv2d_size': 9, 'conv2d_filter': 727, 'conv2d_dropout': 0.43032382141590325, 'conv1d_size1': 7, 'conv1d_size2': 3, 'conv1d_size3': 5, 'conv1d_size4': 1, 'conv1d_filter1': 528, 'conv1d_filter2': 628, 'conv1d_filter3': 362, 'conv1d_filter4': 82, 'conv1d_dropout1': 0.26664015364157784, 'conv1d_dropout2': 0.3233716760388494, 'conv1d_dropout3': 0.45512076864077244, 'conv1d_dropout4': 0.0782121307551994, 'lin_size1': 107, 'lin_size2': 19, 'lin_dropout1': 0.29974759248647564, 'lin_dropout2': 0.4584699264427179, 'lr': 0.002309269770158656, 'batch_size': 4096}\n"
     ]
    },
    {
     "output_type": "display_data",
     "data": {
      "text/plain": [
       "Validation sanity check: 0it [00:00, ?it/s]"
      ],
      "application/vnd.jupyter.widget-view+json": {
       "model_id": "",
       "version_major": 2,
       "version_minor": 0
      }
     },
     "metadata": {}
    },
    {
     "output_type": "display_data",
     "data": {
      "text/plain": [
       "Training: 0it [00:00, ?it/s]"
      ],
      "application/vnd.jupyter.widget-view+json": {
       "model_id": "51d8a9d91bf441e590acb684521f4557",
       "version_major": 2,
       "version_minor": 0
      }
     },
     "metadata": {}
    },
    {
     "output_type": "display_data",
     "data": {
      "text/plain": [
       "Validating: 0it [00:00, ?it/s]"
      ],
      "application/vnd.jupyter.widget-view+json": {
       "model_id": "",
       "version_major": 2,
       "version_minor": 0
      }
     },
     "metadata": {}
    },
    {
     "output_type": "display_data",
     "data": {
      "text/plain": [
       "Validating: 0it [00:00, ?it/s]"
      ],
      "application/vnd.jupyter.widget-view+json": {
       "model_id": "9d7fa86f3c4943cd8321ce6db622d284",
       "version_major": 2,
       "version_minor": 0
      }
     },
     "metadata": {}
    },
    {
     "output_type": "stream",
     "name": "stderr",
     "text": [
      "GPU available: True, used: True\n",
      "TPU available: None, using: 0 TPU cores\n",
      "LOCAL_RANK: 0 - CUDA_VISIBLE_DEVICES: [0]\n",
      "\n",
      "  | Name         | Type       | Params\n",
      "--------------------------------------------\n",
      "0 | conv2d_block | Sequential | 57.5 K\n",
      "1 | conv1d_block | Sequential | 5.3 M \n",
      "2 | lin_block    | Sequential | 96.8 K\n",
      "--------------------------------------------\n",
      "5.5 M     Trainable params\n",
      "0         Non-trainable params\n",
      "5.5 M     Total params\n"
     ]
    },
    {
     "output_type": "stream",
     "name": "stdout",
     "text": [
      "\u001b[32m[I 2021-01-29 23:19:01,574]\u001b[0m Trial 50 pruned. Trial was pruned at epoch 1.\u001b[0m\n",
      "Trial parameters:\n",
      "{   'conv1d_dropout1': 0.37713395648909986,\n",
      "    'conv1d_dropout2': 0.3772129049193124,\n",
      "    'conv1d_dropout3': 0.2728196709929342,\n",
      "    'conv1d_dropout4': 0.025748854315685243,\n",
      "    'conv1d_filter1': 437,\n",
      "    'conv1d_filter2': 695,\n",
      "    'conv1d_filter3': 384,\n",
      "    'conv1d_filter4': 95,\n",
      "    'conv1d_size1': 9,\n",
      "    'conv1d_size2': 4,\n",
      "    'conv1d_size3': 4,\n",
      "    'conv1d_size4': 1,\n",
      "    'conv2d_dropout': 0.32943142880848586,\n",
      "    'conv2d_filter': 767,\n",
      "    'conv2d_size': 9}\n",
      "Sequential(\n",
      "  (0): Conv1d(767, 437, kernel_size=(9,), stride=(1,))\n",
      "  (1): ReLU()\n",
      "  (2): Dropout(p=0.37713395648909986, inplace=False)\n",
      "  (3): BatchNorm1d(437, eps=1e-05, momentum=0.1, affine=True, track_running_stats=True)\n",
      "  (4): Conv1d(437, 695, kernel_size=(4,), stride=(1,))\n",
      "  (5): ReLU()\n",
      "  (6): Dropout(p=0.3772129049193124, inplace=False)\n",
      "  (7): BatchNorm1d(695, eps=1e-05, momentum=0.1, affine=True, track_running_stats=True)\n",
      "  (8): Conv1d(695, 384, kernel_size=(4,), stride=(1,))\n",
      "  (9): ReLU()\n",
      "  (10): Dropout(p=0.2728196709929342, inplace=False)\n",
      "  (11): BatchNorm1d(384, eps=1e-05, momentum=0.1, affine=True, track_running_stats=True)\n",
      "  (12): Conv1d(384, 95, kernel_size=(1,), stride=(1,))\n",
      "  (13): ReLU()\n",
      "  (14): Dropout(p=0.025748854315685243, inplace=False)\n",
      "  (15): BatchNorm1d(95, eps=1e-05, momentum=0.1, affine=True, track_running_stats=True)\n",
      ")\n",
      "Flattened size: 380\n",
      "{'conv2d_size': 9, 'conv2d_filter': 767, 'conv2d_dropout': 0.32943142880848586, 'conv1d_size1': 9, 'conv1d_size2': 4, 'conv1d_size3': 4, 'conv1d_size4': 1, 'conv1d_filter1': 437, 'conv1d_filter2': 695, 'conv1d_filter3': 384, 'conv1d_filter4': 95, 'conv1d_dropout1': 0.37713395648909986, 'conv1d_dropout2': 0.3772129049193124, 'conv1d_dropout3': 0.2728196709929342, 'conv1d_dropout4': 0.025748854315685243, 'lin_size1': 194, 'lin_size2': 117, 'lin_dropout1': 0.19671659221708088, 'lin_dropout2': 0.11472222427745304, 'lr': 0.0052737913144111125, 'batch_size': 512}\n"
     ]
    },
    {
     "output_type": "display_data",
     "data": {
      "text/plain": [
       "Validation sanity check: 0it [00:00, ?it/s]"
      ],
      "application/vnd.jupyter.widget-view+json": {
       "model_id": "",
       "version_major": 2,
       "version_minor": 0
      }
     },
     "metadata": {}
    },
    {
     "output_type": "display_data",
     "data": {
      "text/plain": [
       "Training: 0it [00:00, ?it/s]"
      ],
      "application/vnd.jupyter.widget-view+json": {
       "model_id": "70517f0286994398b7f8ecdf54714b79",
       "version_major": 2,
       "version_minor": 0
      }
     },
     "metadata": {}
    },
    {
     "output_type": "display_data",
     "data": {
      "text/plain": [
       "Validating: 0it [00:00, ?it/s]"
      ],
      "application/vnd.jupyter.widget-view+json": {
       "model_id": "",
       "version_major": 2,
       "version_minor": 0
      }
     },
     "metadata": {}
    },
    {
     "output_type": "display_data",
     "data": {
      "text/plain": [
       "Validating: 0it [00:00, ?it/s]"
      ],
      "application/vnd.jupyter.widget-view+json": {
       "model_id": "49b54e80257140159bec52f6d16cd7f3",
       "version_major": 2,
       "version_minor": 0
      }
     },
     "metadata": {}
    },
    {
     "output_type": "stream",
     "name": "stderr",
     "text": [
      "GPU available: True, used: True\n",
      "TPU available: None, using: 0 TPU cores\n",
      "LOCAL_RANK: 0 - CUDA_VISIBLE_DEVICES: [0]\n",
      "\n",
      "  | Name         | Type       | Params\n",
      "--------------------------------------------\n",
      "0 | conv2d_block | Sequential | 52.7 K\n",
      "1 | conv1d_block | Sequential | 4.5 M \n",
      "2 | lin_block    | Sequential | 125 K \n",
      "--------------------------------------------\n",
      "4.7 M     Trainable params\n",
      "0         Non-trainable params\n",
      "4.7 M     Total params\n"
     ]
    },
    {
     "output_type": "stream",
     "name": "stdout",
     "text": [
      "\u001b[32m[I 2021-01-30 00:07:58,955]\u001b[0m Trial 51 pruned. Trial was pruned at epoch 1.\u001b[0m\n",
      "Trial parameters:\n",
      "{   'conv1d_dropout1': 0.29913282568952093,\n",
      "    'conv1d_dropout2': 0.262228607419442,\n",
      "    'conv1d_dropout3': 0.330552426100925,\n",
      "    'conv1d_dropout4': 0.14949066323172658,\n",
      "    'conv1d_filter1': 567,\n",
      "    'conv1d_filter2': 587,\n",
      "    'conv1d_filter3': 333,\n",
      "    'conv1d_filter4': 78,\n",
      "    'conv1d_size1': 7,\n",
      "    'conv1d_size2': 3,\n",
      "    'conv1d_size3': 5,\n",
      "    'conv1d_size4': 1,\n",
      "    'conv2d_dropout': 0.47609179528153384,\n",
      "    'conv2d_filter': 635,\n",
      "    'conv2d_size': 10}\n",
      "Sequential(\n",
      "  (0): Conv1d(635, 567, kernel_size=(7,), stride=(1,))\n",
      "  (1): ReLU()\n",
      "  (2): Dropout(p=0.29913282568952093, inplace=False)\n",
      "  (3): BatchNorm1d(567, eps=1e-05, momentum=0.1, affine=True, track_running_stats=True)\n",
      "  (4): Conv1d(567, 587, kernel_size=(3,), stride=(1,))\n",
      "  (5): ReLU()\n",
      "  (6): Dropout(p=0.262228607419442, inplace=False)\n",
      "  (7): BatchNorm1d(587, eps=1e-05, momentum=0.1, affine=True, track_running_stats=True)\n",
      "  (8): Conv1d(587, 333, kernel_size=(5,), stride=(1,))\n",
      "  (9): ReLU()\n",
      "  (10): Dropout(p=0.330552426100925, inplace=False)\n",
      "  (11): BatchNorm1d(333, eps=1e-05, momentum=0.1, affine=True, track_running_stats=True)\n",
      "  (12): Conv1d(333, 78, kernel_size=(1,), stride=(1,))\n",
      "  (13): ReLU()\n",
      "  (14): Dropout(p=0.14949066323172658, inplace=False)\n",
      "  (15): BatchNorm1d(78, eps=1e-05, momentum=0.1, affine=True, track_running_stats=True)\n",
      ")\n",
      "Flattened size: 390\n",
      "{'conv2d_size': 10, 'conv2d_filter': 635, 'conv2d_dropout': 0.47609179528153384, 'conv1d_size1': 7, 'conv1d_size2': 3, 'conv1d_size3': 5, 'conv1d_size4': 1, 'conv1d_filter1': 567, 'conv1d_filter2': 587, 'conv1d_filter3': 333, 'conv1d_filter4': 78, 'conv1d_dropout1': 0.29913282568952093, 'conv1d_dropout2': 0.262228607419442, 'conv1d_dropout3': 0.330552426100925, 'conv1d_dropout4': 0.14949066323172658, 'lin_size1': 255, 'lin_size2': 101, 'lin_dropout1': 0.39883324106151086, 'lin_dropout2': 0.30809362939060075, 'lr': 0.0003271264467675907, 'batch_size': 1024}\n"
     ]
    },
    {
     "output_type": "display_data",
     "data": {
      "text/plain": [
       "Validation sanity check: 0it [00:00, ?it/s]"
      ],
      "application/vnd.jupyter.widget-view+json": {
       "model_id": "",
       "version_major": 2,
       "version_minor": 0
      }
     },
     "metadata": {}
    },
    {
     "output_type": "display_data",
     "data": {
      "text/plain": [
       "Training: 0it [00:00, ?it/s]"
      ],
      "application/vnd.jupyter.widget-view+json": {
       "model_id": "a0b176db125547eb99a127b9cd5e8a27",
       "version_major": 2,
       "version_minor": 0
      }
     },
     "metadata": {}
    },
    {
     "output_type": "display_data",
     "data": {
      "text/plain": [
       "Validating: 0it [00:00, ?it/s]"
      ],
      "application/vnd.jupyter.widget-view+json": {
       "model_id": "",
       "version_major": 2,
       "version_minor": 0
      }
     },
     "metadata": {}
    },
    {
     "output_type": "display_data",
     "data": {
      "text/plain": [
       "Validating: 0it [00:00, ?it/s]"
      ],
      "application/vnd.jupyter.widget-view+json": {
       "model_id": "",
       "version_major": 2,
       "version_minor": 0
      }
     },
     "metadata": {}
    },
    {
     "output_type": "display_data",
     "data": {
      "text/plain": [
       "Validating: 0it [00:00, ?it/s]"
      ],
      "application/vnd.jupyter.widget-view+json": {
       "model_id": "",
       "version_major": 2,
       "version_minor": 0
      }
     },
     "metadata": {}
    },
    {
     "output_type": "display_data",
     "data": {
      "text/plain": [
       "Validating: 0it [00:00, ?it/s]"
      ],
      "application/vnd.jupyter.widget-view+json": {
       "model_id": "126d17eea2bb442db242db7fece6fd11",
       "version_major": 2,
       "version_minor": 0
      }
     },
     "metadata": {}
    },
    {
     "output_type": "stream",
     "name": "stderr",
     "text": [
      "GPU available: True, used: True\n",
      "TPU available: None, using: 0 TPU cores\n",
      "LOCAL_RANK: 0 - CUDA_VISIBLE_DEVICES: [0]\n",
      "GPU available: True, used: True\n",
      "TPU available: None, using: 0 TPU cores\n",
      "LOCAL_RANK: 0 - CUDA_VISIBLE_DEVICES: [0]\n",
      "\n",
      "  | Name         | Type       | Params\n",
      "--------------------------------------------\n",
      "0 | conv2d_block | Sequential | 26.6 K\n",
      "1 | conv1d_block | Sequential | 2.4 M \n",
      "2 | lin_block    | Sequential | 204 K \n",
      "--------------------------------------------\n",
      "2.7 M     Trainable params\n",
      "0         Non-trainable params\n",
      "2.7 M     Total params\n"
     ]
    },
    {
     "output_type": "stream",
     "name": "stdout",
     "text": [
      "\u001b[32m[I 2021-01-30 01:56:47,197]\u001b[0m Trial 52 pruned. Trial was pruned at epoch 3.\u001b[0m\n",
      "\u001b[32m[I 2021-01-30 01:56:47,228]\u001b[0m Trial 53 pruned. \u001b[0m\n",
      "Trial parameters:\n",
      "{   'conv1d_dropout1': 0.12600974673515802,\n",
      "    'conv1d_dropout2': 0.12847861424179494,\n",
      "    'conv1d_dropout3': 0.07309707970253465,\n",
      "    'conv1d_dropout4': 0.4933062155936246,\n",
      "    'conv1d_filter1': 318,\n",
      "    'conv1d_filter2': 760,\n",
      "    'conv1d_filter3': 216,\n",
      "    'conv1d_filter4': 95,\n",
      "    'conv1d_size1': 9,\n",
      "    'conv1d_size2': 3,\n",
      "    'conv1d_size3': 4,\n",
      "    'conv1d_size4': 2,\n",
      "    'conv2d_dropout': 0.100425083536798,\n",
      "    'conv2d_filter': 354,\n",
      "    'conv2d_size': 9}\n",
      "Sequential(\n",
      "  (0): Conv1d(354, 318, kernel_size=(9,), stride=(1,))\n",
      "  (1): ReLU()\n",
      "  (2): Dropout(p=0.12600974673515802, inplace=False)\n",
      "  (3): BatchNorm1d(318, eps=1e-05, momentum=0.1, affine=True, track_running_stats=True)\n",
      "  (4): Conv1d(318, 760, kernel_size=(3,), stride=(1,))\n",
      "  (5): ReLU()\n",
      "  (6): Dropout(p=0.12847861424179494, inplace=False)\n",
      "  (7): BatchNorm1d(760, eps=1e-05, momentum=0.1, affine=True, track_running_stats=True)\n",
      "  (8): Conv1d(760, 216, kernel_size=(4,), stride=(1,))\n",
      "  (9): ReLU()\n",
      "  (10): Dropout(p=0.07309707970253465, inplace=False)\n",
      "  (11): BatchNorm1d(216, eps=1e-05, momentum=0.1, affine=True, track_running_stats=True)\n",
      "  (12): Conv1d(216, 95, kernel_size=(2,), stride=(1,))\n",
      "  (13): ReLU()\n",
      "  (14): Dropout(p=0.4933062155936246, inplace=False)\n",
      "  (15): BatchNorm1d(95, eps=1e-05, momentum=0.1, affine=True, track_running_stats=True)\n",
      ")\n",
      "Flattened size: 380\n",
      "{'conv2d_size': 9, 'conv2d_filter': 354, 'conv2d_dropout': 0.100425083536798, 'conv1d_size1': 9, 'conv1d_size2': 3, 'conv1d_size3': 4, 'conv1d_size4': 2, 'conv1d_filter1': 318, 'conv1d_filter2': 760, 'conv1d_filter3': 216, 'conv1d_filter4': 95, 'conv1d_dropout1': 0.12600974673515802, 'conv1d_dropout2': 0.12847861424179494, 'conv1d_dropout3': 0.07309707970253465, 'conv1d_dropout4': 0.4933062155936246, 'lin_size1': 339, 'lin_size2': 222, 'lin_dropout1': 0.1803472874053197, 'lin_dropout2': 0.24753629502678795, 'lr': 0.0016671341759990899, 'batch_size': 256}\n"
     ]
    },
    {
     "output_type": "display_data",
     "data": {
      "text/plain": [
       "Validation sanity check: 0it [00:00, ?it/s]"
      ],
      "application/vnd.jupyter.widget-view+json": {
       "model_id": "",
       "version_major": 2,
       "version_minor": 0
      }
     },
     "metadata": {}
    },
    {
     "output_type": "display_data",
     "data": {
      "text/plain": [
       "Training: 0it [00:00, ?it/s]"
      ],
      "application/vnd.jupyter.widget-view+json": {
       "model_id": "a62fe7f774ac4744a73edb3f7c95b471",
       "version_major": 2,
       "version_minor": 0
      }
     },
     "metadata": {}
    },
    {
     "output_type": "display_data",
     "data": {
      "text/plain": [
       "Validating: 0it [00:00, ?it/s]"
      ],
      "application/vnd.jupyter.widget-view+json": {
       "model_id": "",
       "version_major": 2,
       "version_minor": 0
      }
     },
     "metadata": {}
    },
    {
     "output_type": "display_data",
     "data": {
      "text/plain": [
       "Validating: 0it [00:00, ?it/s]"
      ],
      "application/vnd.jupyter.widget-view+json": {
       "model_id": "",
       "version_major": 2,
       "version_minor": 0
      }
     },
     "metadata": {}
    },
    {
     "output_type": "display_data",
     "data": {
      "text/plain": [
       "Validating: 0it [00:00, ?it/s]"
      ],
      "application/vnd.jupyter.widget-view+json": {
       "model_id": "",
       "version_major": 2,
       "version_minor": 0
      }
     },
     "metadata": {}
    },
    {
     "output_type": "display_data",
     "data": {
      "text/plain": [
       "Validating: 0it [00:00, ?it/s]"
      ],
      "application/vnd.jupyter.widget-view+json": {
       "model_id": "99c7a204516c4b64a6f1e7b98a681cc2",
       "version_major": 2,
       "version_minor": 0
      }
     },
     "metadata": {}
    },
    {
     "output_type": "stream",
     "name": "stderr",
     "text": [
      "GPU available: True, used: True\n",
      "TPU available: None, using: 0 TPU cores\n",
      "LOCAL_RANK: 0 - CUDA_VISIBLE_DEVICES: [0]\n",
      "GPU available: True, used: True\n",
      "TPU available: None, using: 0 TPU cores\n",
      "LOCAL_RANK: 0 - CUDA_VISIBLE_DEVICES: [0]\n",
      "\n",
      "  | Name         | Type       | Params\n",
      "--------------------------------------------\n",
      "0 | conv2d_block | Sequential | 55.4 K\n",
      "1 | conv1d_block | Sequential | 5.5 M \n",
      "2 | lin_block    | Sequential | 67.7 K\n",
      "--------------------------------------------\n",
      "5.6 M     Trainable params\n",
      "0         Non-trainable params\n",
      "5.6 M     Total params\n"
     ]
    },
    {
     "output_type": "stream",
     "name": "stdout",
     "text": [
      "\u001b[32m[I 2021-01-30 03:02:07,242]\u001b[0m Trial 54 pruned. Trial was pruned at epoch 3.\u001b[0m\n",
      "\u001b[32m[I 2021-01-30 03:02:07,278]\u001b[0m Trial 55 pruned. \u001b[0m\n",
      "Trial parameters:\n",
      "{   'conv1d_dropout1': 0.2689061947501246,\n",
      "    'conv1d_dropout2': 0.42206395369989036,\n",
      "    'conv1d_dropout3': 0.3685275610375893,\n",
      "    'conv1d_dropout4': 0.18290461636792965,\n",
      "    'conv1d_filter1': 587,\n",
      "    'conv1d_filter2': 685,\n",
      "    'conv1d_filter3': 348,\n",
      "    'conv1d_filter4': 67,\n",
      "    'conv1d_size1': 7,\n",
      "    'conv1d_size2': 3,\n",
      "    'conv1d_size3': 5,\n",
      "    'conv1d_size4': 1,\n",
      "    'conv2d_dropout': 0.4434810249259509,\n",
      "    'conv2d_filter': 739,\n",
      "    'conv2d_size': 9}\n",
      "Sequential(\n",
      "  (0): Conv1d(739, 587, kernel_size=(7,), stride=(1,))\n",
      "  (1): ReLU()\n",
      "  (2): Dropout(p=0.2689061947501246, inplace=False)\n",
      "  (3): BatchNorm1d(587, eps=1e-05, momentum=0.1, affine=True, track_running_stats=True)\n",
      "  (4): Conv1d(587, 685, kernel_size=(3,), stride=(1,))\n",
      "  (5): ReLU()\n",
      "  (6): Dropout(p=0.42206395369989036, inplace=False)\n",
      "  (7): BatchNorm1d(685, eps=1e-05, momentum=0.1, affine=True, track_running_stats=True)\n",
      "  (8): Conv1d(685, 348, kernel_size=(5,), stride=(1,))\n",
      "  (9): ReLU()\n",
      "  (10): Dropout(p=0.3685275610375893, inplace=False)\n",
      "  (11): BatchNorm1d(348, eps=1e-05, momentum=0.1, affine=True, track_running_stats=True)\n",
      "  (12): Conv1d(348, 67, kernel_size=(1,), stride=(1,))\n",
      "  (13): ReLU()\n",
      "  (14): Dropout(p=0.18290461636792965, inplace=False)\n",
      "  (15): BatchNorm1d(67, eps=1e-05, momentum=0.1, affine=True, track_running_stats=True)\n",
      ")\n",
      "Flattened size: 402\n",
      "{'conv2d_size': 9, 'conv2d_filter': 739, 'conv2d_dropout': 0.4434810249259509, 'conv1d_size1': 7, 'conv1d_size2': 3, 'conv1d_size3': 5, 'conv1d_size4': 1, 'conv1d_filter1': 587, 'conv1d_filter2': 685, 'conv1d_filter3': 348, 'conv1d_filter4': 67, 'conv1d_dropout1': 0.2689061947501246, 'conv1d_dropout2': 0.42206395369989036, 'conv1d_dropout3': 0.3685275610375893, 'conv1d_dropout4': 0.18290461636792965, 'lin_size1': 147, 'lin_size2': 57, 'lin_dropout1': 0.20866706428935208, 'lin_dropout2': 0.14882432267723458, 'lr': 0.006275371262436716, 'batch_size': 2048}\n"
     ]
    },
    {
     "output_type": "display_data",
     "data": {
      "text/plain": [
       "Validation sanity check: 0it [00:00, ?it/s]"
      ],
      "application/vnd.jupyter.widget-view+json": {
       "model_id": "",
       "version_major": 2,
       "version_minor": 0
      }
     },
     "metadata": {}
    },
    {
     "output_type": "display_data",
     "data": {
      "text/plain": [
       "Training: 0it [00:00, ?it/s]"
      ],
      "application/vnd.jupyter.widget-view+json": {
       "model_id": "dcb8e1675d6a4925a52e51d2693182e4",
       "version_major": 2,
       "version_minor": 0
      }
     },
     "metadata": {}
    },
    {
     "output_type": "display_data",
     "data": {
      "text/plain": [
       "Validating: 0it [00:00, ?it/s]"
      ],
      "application/vnd.jupyter.widget-view+json": {
       "model_id": "",
       "version_major": 2,
       "version_minor": 0
      }
     },
     "metadata": {}
    },
    {
     "output_type": "display_data",
     "data": {
      "text/plain": [
       "Validating: 0it [00:00, ?it/s]"
      ],
      "application/vnd.jupyter.widget-view+json": {
       "model_id": "fe7afbac58754f35aa8a17bceba8a9d6",
       "version_major": 2,
       "version_minor": 0
      }
     },
     "metadata": {}
    },
    {
     "output_type": "stream",
     "name": "stderr",
     "text": [
      "GPU available: True, used: True\n",
      "TPU available: None, using: 0 TPU cores\n",
      "LOCAL_RANK: 0 - CUDA_VISIBLE_DEVICES: [0]\n",
      "GPU available: True, used: True\n",
      "TPU available: None, using: 0 TPU cores\n",
      "LOCAL_RANK: 0 - CUDA_VISIBLE_DEVICES: [0]\n",
      "GPU available: True, used: True\n",
      "TPU available: None, using: 0 TPU cores\n",
      "LOCAL_RANK: 0 - CUDA_VISIBLE_DEVICES: [0]\n",
      "\n",
      "  | Name         | Type       | Params\n",
      "--------------------------------------------\n",
      "0 | conv2d_block | Sequential | 58.5 K\n",
      "1 | conv1d_block | Sequential | 4.8 M \n",
      "2 | lin_block    | Sequential | 3.6 K \n",
      "--------------------------------------------\n",
      "4.8 M     Trainable params\n",
      "0         Non-trainable params\n",
      "4.8 M     Total params\n"
     ]
    },
    {
     "output_type": "stream",
     "name": "stdout",
     "text": [
      "\u001b[32m[I 2021-01-30 04:07:57,377]\u001b[0m Trial 56 pruned. Trial was pruned at epoch 1.\u001b[0m\n",
      "\u001b[32m[I 2021-01-30 04:07:57,410]\u001b[0m Trial 57 pruned. \u001b[0m\n",
      "\u001b[32m[I 2021-01-30 04:07:57,440]\u001b[0m Trial 58 pruned. \u001b[0m\n",
      "Trial parameters:\n",
      "{   'conv1d_dropout1': 0.31563813563350324,\n",
      "    'conv1d_dropout2': 0.22389200787925861,\n",
      "    'conv1d_dropout3': 0.2881441115988188,\n",
      "    'conv1d_dropout4': 0.038801851207214764,\n",
      "    'conv1d_filter1': 460,\n",
      "    'conv1d_filter2': 644,\n",
      "    'conv1d_filter3': 373,\n",
      "    'conv1d_filter4': 101,\n",
      "    'conv1d_size1': 8,\n",
      "    'conv1d_size2': 4,\n",
      "    'conv1d_size3': 4,\n",
      "    'conv1d_size4': 1,\n",
      "    'conv2d_dropout': 0.2819661854461472,\n",
      "    'conv2d_filter': 705,\n",
      "    'conv2d_size': 10}\n",
      "Sequential(\n",
      "  (0): Conv1d(705, 460, kernel_size=(8,), stride=(1,))\n",
      "  (1): ReLU()\n",
      "  (2): Dropout(p=0.31563813563350324, inplace=False)\n",
      "  (3): BatchNorm1d(460, eps=1e-05, momentum=0.1, affine=True, track_running_stats=True)\n",
      "  (4): Conv1d(460, 644, kernel_size=(4,), stride=(1,))\n",
      "  (5): ReLU()\n",
      "  (6): Dropout(p=0.22389200787925861, inplace=False)\n",
      "  (7): BatchNorm1d(644, eps=1e-05, momentum=0.1, affine=True, track_running_stats=True)\n",
      "  (8): Conv1d(644, 373, kernel_size=(4,), stride=(1,))\n",
      "  (9): ReLU()\n",
      "  (10): Dropout(p=0.2881441115988188, inplace=False)\n",
      "  (11): BatchNorm1d(373, eps=1e-05, momentum=0.1, affine=True, track_running_stats=True)\n",
      "  (12): Conv1d(373, 101, kernel_size=(1,), stride=(1,))\n",
      "  (13): ReLU()\n",
      "  (14): Dropout(p=0.038801851207214764, inplace=False)\n",
      "  (15): BatchNorm1d(101, eps=1e-05, momentum=0.1, affine=True, track_running_stats=True)\n",
      ")\n",
      "Flattened size: 404\n",
      "{'conv2d_size': 10, 'conv2d_filter': 705, 'conv2d_dropout': 0.2819661854461472, 'conv1d_size1': 8, 'conv1d_size2': 4, 'conv1d_size3': 4, 'conv1d_size4': 1, 'conv1d_filter1': 460, 'conv1d_filter2': 644, 'conv1d_filter3': 373, 'conv1d_filter4': 101, 'conv1d_dropout1': 0.31563813563350324, 'conv1d_dropout2': 0.22389200787925861, 'conv1d_dropout3': 0.2881441115988188, 'conv1d_dropout4': 0.038801851207214764, 'lin_size1': 8, 'lin_size2': 32, 'lin_dropout1': 0.48388203179586964, 'lin_dropout2': 0.32658660946693296, 'lr': 0.06199029068715858, 'batch_size': 256}\n"
     ]
    },
    {
     "output_type": "display_data",
     "data": {
      "text/plain": [
       "Validation sanity check: 0it [00:00, ?it/s]"
      ],
      "application/vnd.jupyter.widget-view+json": {
       "model_id": "",
       "version_major": 2,
       "version_minor": 0
      }
     },
     "metadata": {}
    },
    {
     "output_type": "display_data",
     "data": {
      "text/plain": [
       "Training: 0it [00:00, ?it/s]"
      ],
      "application/vnd.jupyter.widget-view+json": {
       "model_id": "175c8fd067cc49b7a8cfe2c082001bd5",
       "version_major": 2,
       "version_minor": 0
      }
     },
     "metadata": {}
    },
    {
     "output_type": "display_data",
     "data": {
      "text/plain": [
       "Validating: 0it [00:00, ?it/s]"
      ],
      "application/vnd.jupyter.widget-view+json": {
       "model_id": "",
       "version_major": 2,
       "version_minor": 0
      }
     },
     "metadata": {}
    },
    {
     "output_type": "display_data",
     "data": {
      "text/plain": [
       "Validating: 0it [00:00, ?it/s]"
      ],
      "application/vnd.jupyter.widget-view+json": {
       "model_id": "1e9f39311e144c2a8110cb0259d3de48",
       "version_major": 2,
       "version_minor": 0
      }
     },
     "metadata": {}
    },
    {
     "output_type": "stream",
     "name": "stderr",
     "text": [
      "GPU available: True, used: True\n",
      "TPU available: None, using: 0 TPU cores\n",
      "LOCAL_RANK: 0 - CUDA_VISIBLE_DEVICES: [0]\n",
      "GPU available: True, used: True\n",
      "TPU available: None, using: 0 TPU cores\n",
      "LOCAL_RANK: 0 - CUDA_VISIBLE_DEVICES: [0]\n",
      "\n",
      "  | Name         | Type       | Params\n",
      "--------------------------------------------\n",
      "0 | conv2d_block | Sequential | 54.5 K\n",
      "1 | conv1d_block | Sequential | 5.9 M \n",
      "2 | lin_block    | Sequential | 52.0 K\n",
      "--------------------------------------------\n",
      "6.0 M     Trainable params\n",
      "0         Non-trainable params\n",
      "6.0 M     Total params\n"
     ]
    },
    {
     "output_type": "stream",
     "name": "stdout",
     "text": [
      "\u001b[32m[I 2021-01-30 05:02:26,883]\u001b[0m Trial 59 pruned. Trial was pruned at epoch 1.\u001b[0m\n",
      "\u001b[32m[I 2021-01-30 05:02:26,918]\u001b[0m Trial 60 pruned. \u001b[0m\n",
      "Trial parameters:\n",
      "{   'conv1d_dropout1': 0.1456570569562171,\n",
      "    'conv1d_dropout2': 0.39539898391167316,\n",
      "    'conv1d_dropout3': 0.4617547047512067,\n",
      "    'conv1d_dropout4': 0.21034937300905415,\n",
      "    'conv1d_filter1': 549,\n",
      "    'conv1d_filter2': 741,\n",
      "    'conv1d_filter3': 333,\n",
      "    'conv1d_filter4': 95,\n",
      "    'conv1d_size1': 9,\n",
      "    'conv1d_size2': 4,\n",
      "    'conv1d_size3': 4,\n",
      "    'conv1d_size4': 1,\n",
      "    'conv2d_dropout': 0.36392939193429874,\n",
      "    'conv2d_filter': 657,\n",
      "    'conv2d_size': 10}\n",
      "Sequential(\n",
      "  (0): Conv1d(657, 549, kernel_size=(9,), stride=(1,))\n",
      "  (1): ReLU()\n",
      "  (2): Dropout(p=0.1456570569562171, inplace=False)\n",
      "  (3): BatchNorm1d(549, eps=1e-05, momentum=0.1, affine=True, track_running_stats=True)\n",
      "  (4): Conv1d(549, 741, kernel_size=(4,), stride=(1,))\n",
      "  (5): ReLU()\n",
      "  (6): Dropout(p=0.39539898391167316, inplace=False)\n",
      "  (7): BatchNorm1d(741, eps=1e-05, momentum=0.1, affine=True, track_running_stats=True)\n",
      "  (8): Conv1d(741, 333, kernel_size=(4,), stride=(1,))\n",
      "  (9): ReLU()\n",
      "  (10): Dropout(p=0.4617547047512067, inplace=False)\n",
      "  (11): BatchNorm1d(333, eps=1e-05, momentum=0.1, affine=True, track_running_stats=True)\n",
      "  (12): Conv1d(333, 95, kernel_size=(1,), stride=(1,))\n",
      "  (13): ReLU()\n",
      "  (14): Dropout(p=0.21034937300905415, inplace=False)\n",
      "  (15): BatchNorm1d(95, eps=1e-05, momentum=0.1, affine=True, track_running_stats=True)\n",
      ")\n",
      "Flattened size: 285\n",
      "{'conv2d_size': 10, 'conv2d_filter': 657, 'conv2d_dropout': 0.36392939193429874, 'conv1d_size1': 9, 'conv1d_size2': 4, 'conv1d_size3': 4, 'conv1d_size4': 1, 'conv1d_filter1': 549, 'conv1d_filter2': 741, 'conv1d_filter3': 333, 'conv1d_filter4': 95, 'conv1d_dropout1': 0.1456570569562171, 'conv1d_dropout2': 0.39539898391167316, 'conv1d_dropout3': 0.4617547047512067, 'conv1d_dropout4': 0.21034937300905415, 'lin_size1': 144, 'lin_size2': 74, 'lin_dropout1': 0.3665666860535136, 'lin_dropout2': 0.15999268175401254, 'lr': 0.0009266259516903354, 'batch_size': 256}\n"
     ]
    },
    {
     "output_type": "display_data",
     "data": {
      "text/plain": [
       "Validation sanity check: 0it [00:00, ?it/s]"
      ],
      "application/vnd.jupyter.widget-view+json": {
       "model_id": "",
       "version_major": 2,
       "version_minor": 0
      }
     },
     "metadata": {}
    },
    {
     "output_type": "display_data",
     "data": {
      "text/plain": [
       "Training: 0it [00:00, ?it/s]"
      ],
      "application/vnd.jupyter.widget-view+json": {
       "model_id": "66ffd571de8346e69d9eadedf22ed420",
       "version_major": 2,
       "version_minor": 0
      }
     },
     "metadata": {}
    },
    {
     "output_type": "display_data",
     "data": {
      "text/plain": [
       "Validating: 0it [00:00, ?it/s]"
      ],
      "application/vnd.jupyter.widget-view+json": {
       "model_id": "",
       "version_major": 2,
       "version_minor": 0
      }
     },
     "metadata": {}
    },
    {
     "output_type": "display_data",
     "data": {
      "text/plain": [
       "Validating: 0it [00:00, ?it/s]"
      ],
      "application/vnd.jupyter.widget-view+json": {
       "model_id": "",
       "version_major": 2,
       "version_minor": 0
      }
     },
     "metadata": {}
    },
    {
     "output_type": "display_data",
     "data": {
      "text/plain": [
       "Validating: 0it [00:00, ?it/s]"
      ],
      "application/vnd.jupyter.widget-view+json": {
       "model_id": "",
       "version_major": 2,
       "version_minor": 0
      }
     },
     "metadata": {}
    },
    {
     "output_type": "display_data",
     "data": {
      "text/plain": [
       "Validating: 0it [00:00, ?it/s]"
      ],
      "application/vnd.jupyter.widget-view+json": {
       "model_id": "",
       "version_major": 2,
       "version_minor": 0
      }
     },
     "metadata": {}
    },
    {
     "output_type": "display_data",
     "data": {
      "text/plain": [
       "Validating: 0it [00:00, ?it/s]"
      ],
      "application/vnd.jupyter.widget-view+json": {
       "model_id": "",
       "version_major": 2,
       "version_minor": 0
      }
     },
     "metadata": {}
    },
    {
     "output_type": "stream",
     "name": "stderr",
     "text": [
      "GPU available: True, used: True\n",
      "TPU available: None, using: 0 TPU cores\n",
      "LOCAL_RANK: 0 - CUDA_VISIBLE_DEVICES: [0]\n",
      "\n",
      "  | Name         | Type       | Params\n",
      "--------------------------------------------\n",
      "0 | conv2d_block | Sequential | 41.0 K\n",
      "1 | conv1d_block | Sequential | 2.7 M \n",
      "2 | lin_block    | Sequential | 27.7 K\n",
      "--------------------------------------------\n",
      "2.7 M     Trainable params\n",
      "0         Non-trainable params\n",
      "2.7 M     Total params\n"
     ]
    },
    {
     "output_type": "stream",
     "name": "stdout",
     "text": [
      "\u001b[32m[I 2021-01-30 07:44:05,086]\u001b[0m Trial 61 finished with value: 87.91244506835938 and parameters: {'conv2d_size': 10, 'conv2d_filter': 657, 'conv2d_dropout': 0.36392939193429874, 'conv1d_size1': 9, 'conv1d_size2': 4, 'conv1d_size3': 4, 'conv1d_size4': 1, 'conv1d_filter1': 549, 'conv1d_filter2': 741, 'conv1d_filter3': 333, 'conv1d_filter4': 95, 'conv1d_dropout1': 0.1456570569562171, 'conv1d_dropout2': 0.39539898391167316, 'conv1d_dropout3': 0.4617547047512067, 'conv1d_dropout4': 0.21034937300905415, 'lin_size1': 144, 'lin_size2': 74, 'lin_dropout1': 0.3665666860535136, 'lin_dropout2': 0.15999268175401254, 'lr': 0.0009266259516903354, 'batch_size': 256}. Best is trial 25 with value: 84.05036926269531.\u001b[0m\n",
      "Trial parameters:\n",
      "{   'conv1d_dropout1': 0.004290865878774391,\n",
      "    'conv1d_dropout2': 0.15774650090390105,\n",
      "    'conv1d_dropout3': 0.1064888643125509,\n",
      "    'conv1d_dropout4': 0.4977637687577888,\n",
      "    'conv1d_filter1': 283,\n",
      "    'conv1d_filter2': 509,\n",
      "    'conv1d_filter3': 383,\n",
      "    'conv1d_filter4': 52,\n",
      "    'conv1d_size1': 9,\n",
      "    'conv1d_size2': 3,\n",
      "    'conv1d_size3': 4,\n",
      "    'conv1d_size4': 3,\n",
      "    'conv2d_dropout': 0.10270518409756041,\n",
      "    'conv2d_filter': 546,\n",
      "    'conv2d_size': 9}\n",
      "Sequential(\n",
      "  (0): Conv1d(546, 283, kernel_size=(9,), stride=(1,))\n",
      "  (1): ReLU()\n",
      "  (2): Dropout(p=0.004290865878774391, inplace=False)\n",
      "  (3): BatchNorm1d(283, eps=1e-05, momentum=0.1, affine=True, track_running_stats=True)\n",
      "  (4): Conv1d(283, 509, kernel_size=(3,), stride=(1,))\n",
      "  (5): ReLU()\n",
      "  (6): Dropout(p=0.15774650090390105, inplace=False)\n",
      "  (7): BatchNorm1d(509, eps=1e-05, momentum=0.1, affine=True, track_running_stats=True)\n",
      "  (8): Conv1d(509, 383, kernel_size=(4,), stride=(1,))\n",
      "  (9): ReLU()\n",
      "  (10): Dropout(p=0.1064888643125509, inplace=False)\n",
      "  (11): BatchNorm1d(383, eps=1e-05, momentum=0.1, affine=True, track_running_stats=True)\n",
      "  (12): Conv1d(383, 52, kernel_size=(3,), stride=(1,))\n",
      "  (13): ReLU()\n",
      "  (14): Dropout(p=0.4977637687577888, inplace=False)\n",
      "  (15): BatchNorm1d(52, eps=1e-05, momentum=0.1, affine=True, track_running_stats=True)\n",
      ")\n",
      "Flattened size: 156\n",
      "{'conv2d_size': 9, 'conv2d_filter': 546, 'conv2d_dropout': 0.10270518409756041, 'conv1d_size1': 9, 'conv1d_size2': 3, 'conv1d_size3': 4, 'conv1d_size4': 3, 'conv1d_filter1': 283, 'conv1d_filter2': 509, 'conv1d_filter3': 383, 'conv1d_filter4': 52, 'conv1d_dropout1': 0.004290865878774391, 'conv1d_dropout2': 0.15774650090390105, 'conv1d_dropout3': 0.1064888643125509, 'conv1d_dropout4': 0.4977637687577888, 'lin_size1': 127, 'lin_size2': 60, 'lin_dropout1': 0.26562099103967246, 'lin_dropout2': 0.2971148500630326, 'lr': 0.00013177620119969436, 'batch_size': 256}\n"
     ]
    },
    {
     "output_type": "display_data",
     "data": {
      "text/plain": [
       "Validation sanity check: 0it [00:00, ?it/s]"
      ],
      "application/vnd.jupyter.widget-view+json": {
       "model_id": "",
       "version_major": 2,
       "version_minor": 0
      }
     },
     "metadata": {}
    },
    {
     "output_type": "display_data",
     "data": {
      "text/plain": [
       "Training: 0it [00:00, ?it/s]"
      ],
      "application/vnd.jupyter.widget-view+json": {
       "model_id": "88d59fba598e4b27a61d5b7ef2e3797d",
       "version_major": 2,
       "version_minor": 0
      }
     },
     "metadata": {}
    },
    {
     "output_type": "display_data",
     "data": {
      "text/plain": [
       "Validating: 0it [00:00, ?it/s]"
      ],
      "application/vnd.jupyter.widget-view+json": {
       "model_id": "",
       "version_major": 2,
       "version_minor": 0
      }
     },
     "metadata": {}
    },
    {
     "output_type": "display_data",
     "data": {
      "text/plain": [
       "Validating: 0it [00:00, ?it/s]"
      ],
      "application/vnd.jupyter.widget-view+json": {
       "model_id": "",
       "version_major": 2,
       "version_minor": 0
      }
     },
     "metadata": {}
    },
    {
     "output_type": "display_data",
     "data": {
      "text/plain": [
       "Validating: 0it [00:00, ?it/s]"
      ],
      "application/vnd.jupyter.widget-view+json": {
       "model_id": "",
       "version_major": 2,
       "version_minor": 0
      }
     },
     "metadata": {}
    },
    {
     "output_type": "display_data",
     "data": {
      "text/plain": [
       "Validating: 0it [00:00, ?it/s]"
      ],
      "application/vnd.jupyter.widget-view+json": {
       "model_id": "",
       "version_major": 2,
       "version_minor": 0
      }
     },
     "metadata": {}
    },
    {
     "output_type": "display_data",
     "data": {
      "text/plain": [
       "Validating: 0it [00:00, ?it/s]"
      ],
      "application/vnd.jupyter.widget-view+json": {
       "model_id": "",
       "version_major": 2,
       "version_minor": 0
      }
     },
     "metadata": {}
    },
    {
     "output_type": "stream",
     "name": "stderr",
     "text": [
      "GPU available: True, used: True\n",
      "TPU available: None, using: 0 TPU cores\n",
      "LOCAL_RANK: 0 - CUDA_VISIBLE_DEVICES: [0]\n",
      "\n",
      "  | Name         | Type       | Params\n",
      "--------------------------------------------\n",
      "0 | conv2d_block | Sequential | 54.4 K\n",
      "1 | conv1d_block | Sequential | 6.0 M \n",
      "2 | lin_block    | Sequential | 56.3 K\n",
      "--------------------------------------------\n",
      "6.2 M     Trainable params\n",
      "0         Non-trainable params\n",
      "6.2 M     Total params\n"
     ]
    },
    {
     "output_type": "stream",
     "name": "stdout",
     "text": [
      "\u001b[32m[I 2021-01-30 09:01:07,059]\u001b[0m Trial 62 finished with value: 86.50563049316406 and parameters: {'conv2d_size': 9, 'conv2d_filter': 546, 'conv2d_dropout': 0.10270518409756041, 'conv1d_size1': 9, 'conv1d_size2': 3, 'conv1d_size3': 4, 'conv1d_size4': 3, 'conv1d_filter1': 283, 'conv1d_filter2': 509, 'conv1d_filter3': 383, 'conv1d_filter4': 52, 'conv1d_dropout1': 0.004290865878774391, 'conv1d_dropout2': 0.15774650090390105, 'conv1d_dropout3': 0.1064888643125509, 'conv1d_dropout4': 0.4977637687577888, 'lin_size1': 127, 'lin_size2': 60, 'lin_dropout1': 0.26562099103967246, 'lin_dropout2': 0.2971148500630326, 'lr': 0.00013177620119969436, 'batch_size': 256}. Best is trial 25 with value: 84.05036926269531.\u001b[0m\n",
      "Trial parameters:\n",
      "{   'conv1d_dropout1': 0.07664891636345854,\n",
      "    'conv1d_dropout2': 0.3958923722104824,\n",
      "    'conv1d_dropout3': 0.4732019906105858,\n",
      "    'conv1d_dropout4': 0.21653153088610952,\n",
      "    'conv1d_filter1': 560,\n",
      "    'conv1d_filter2': 752,\n",
      "    'conv1d_filter3': 337,\n",
      "    'conv1d_filter4': 97,\n",
      "    'conv1d_size1': 9,\n",
      "    'conv1d_size2': 4,\n",
      "    'conv1d_size3': 4,\n",
      "    'conv1d_size4': 1,\n",
      "    'conv2d_dropout': 0.3724689255866215,\n",
      "    'conv2d_filter': 656,\n",
      "    'conv2d_size': 10}\n",
      "Sequential(\n",
      "  (0): Conv1d(656, 560, kernel_size=(9,), stride=(1,))\n",
      "  (1): ReLU()\n",
      "  (2): Dropout(p=0.07664891636345854, inplace=False)\n",
      "  (3): BatchNorm1d(560, eps=1e-05, momentum=0.1, affine=True, track_running_stats=True)\n",
      "  (4): Conv1d(560, 752, kernel_size=(4,), stride=(1,))\n",
      "  (5): ReLU()\n",
      "  (6): Dropout(p=0.3958923722104824, inplace=False)\n",
      "  (7): BatchNorm1d(752, eps=1e-05, momentum=0.1, affine=True, track_running_stats=True)\n",
      "  (8): Conv1d(752, 337, kernel_size=(4,), stride=(1,))\n",
      "  (9): ReLU()\n",
      "  (10): Dropout(p=0.4732019906105858, inplace=False)\n",
      "  (11): BatchNorm1d(337, eps=1e-05, momentum=0.1, affine=True, track_running_stats=True)\n",
      "  (12): Conv1d(337, 97, kernel_size=(1,), stride=(1,))\n",
      "  (13): ReLU()\n",
      "  (14): Dropout(p=0.21653153088610952, inplace=False)\n",
      "  (15): BatchNorm1d(97, eps=1e-05, momentum=0.1, affine=True, track_running_stats=True)\n",
      ")\n",
      "Flattened size: 291\n",
      "{'conv2d_size': 10, 'conv2d_filter': 656, 'conv2d_dropout': 0.3724689255866215, 'conv1d_size1': 9, 'conv1d_size2': 4, 'conv1d_size3': 4, 'conv1d_size4': 1, 'conv1d_filter1': 560, 'conv1d_filter2': 752, 'conv1d_filter3': 337, 'conv1d_filter4': 97, 'conv1d_dropout1': 0.07664891636345854, 'conv1d_dropout2': 0.3958923722104824, 'conv1d_dropout3': 0.4732019906105858, 'conv1d_dropout4': 0.21653153088610952, 'lin_size1': 155, 'lin_size2': 70, 'lin_dropout1': 0.3695029718916916, 'lin_dropout2': 0.15952198829475953, 'lr': 0.0008874821091419111, 'batch_size': 256}\n"
     ]
    },
    {
     "output_type": "display_data",
     "data": {
      "text/plain": [
       "Validation sanity check: 0it [00:00, ?it/s]"
      ],
      "application/vnd.jupyter.widget-view+json": {
       "model_id": "",
       "version_major": 2,
       "version_minor": 0
      }
     },
     "metadata": {}
    },
    {
     "output_type": "display_data",
     "data": {
      "text/plain": [
       "Training: 0it [00:00, ?it/s]"
      ],
      "application/vnd.jupyter.widget-view+json": {
       "model_id": "6974542c9f054748baf2b1876a33de4b",
       "version_major": 2,
       "version_minor": 0
      }
     },
     "metadata": {}
    },
    {
     "output_type": "display_data",
     "data": {
      "text/plain": [
       "Validating: 0it [00:00, ?it/s]"
      ],
      "application/vnd.jupyter.widget-view+json": {
       "model_id": "",
       "version_major": 2,
       "version_minor": 0
      }
     },
     "metadata": {}
    },
    {
     "output_type": "display_data",
     "data": {
      "text/plain": [
       "Validating: 0it [00:00, ?it/s]"
      ],
      "application/vnd.jupyter.widget-view+json": {
       "model_id": "",
       "version_major": 2,
       "version_minor": 0
      }
     },
     "metadata": {}
    },
    {
     "output_type": "display_data",
     "data": {
      "text/plain": [
       "Validating: 0it [00:00, ?it/s]"
      ],
      "application/vnd.jupyter.widget-view+json": {
       "model_id": "",
       "version_major": 2,
       "version_minor": 0
      }
     },
     "metadata": {}
    },
    {
     "output_type": "display_data",
     "data": {
      "text/plain": [
       "Validating: 0it [00:00, ?it/s]"
      ],
      "application/vnd.jupyter.widget-view+json": {
       "model_id": "",
       "version_major": 2,
       "version_minor": 0
      }
     },
     "metadata": {}
    },
    {
     "output_type": "display_data",
     "data": {
      "text/plain": [
       "Validating: 0it [00:00, ?it/s]"
      ],
      "application/vnd.jupyter.widget-view+json": {
       "model_id": "",
       "version_major": 2,
       "version_minor": 0
      }
     },
     "metadata": {}
    },
    {
     "output_type": "stream",
     "name": "stderr",
     "text": [
      "GPU available: True, used: True\n",
      "TPU available: None, using: 0 TPU cores\n",
      "LOCAL_RANK: 0 - CUDA_VISIBLE_DEVICES: [0]\n",
      "GPU available: True, used: True\n",
      "TPU available: None, using: 0 TPU cores\n",
      "LOCAL_RANK: 0 - CUDA_VISIBLE_DEVICES: [0]\n",
      "\n",
      "  | Name         | Type       | Params\n",
      "--------------------------------------------\n",
      "0 | conv2d_block | Sequential | 40.4 K\n",
      "1 | conv1d_block | Sequential | 2.5 M \n",
      "2 | lin_block    | Sequential | 25.0 K\n",
      "--------------------------------------------\n",
      "2.6 M     Trainable params\n",
      "0         Non-trainable params\n",
      "2.6 M     Total params\n"
     ]
    },
    {
     "output_type": "stream",
     "name": "stdout",
     "text": [
      "\u001b[32m[I 2021-01-30 11:44:36,560]\u001b[0m Trial 63 finished with value: 84.09490966796875 and parameters: {'conv2d_size': 10, 'conv2d_filter': 656, 'conv2d_dropout': 0.3724689255866215, 'conv1d_size1': 9, 'conv1d_size2': 4, 'conv1d_size3': 4, 'conv1d_size4': 1, 'conv1d_filter1': 560, 'conv1d_filter2': 752, 'conv1d_filter3': 337, 'conv1d_filter4': 97, 'conv1d_dropout1': 0.07664891636345854, 'conv1d_dropout2': 0.3958923722104824, 'conv1d_dropout3': 0.4732019906105858, 'conv1d_dropout4': 0.21653153088610952, 'lin_size1': 155, 'lin_size2': 70, 'lin_dropout1': 0.3695029718916916, 'lin_dropout2': 0.15952198829475953, 'lr': 0.0008874821091419111, 'batch_size': 256}. Best is trial 25 with value: 84.05036926269531.\u001b[0m\n",
      "\u001b[32m[I 2021-01-30 11:44:36,595]\u001b[0m Trial 64 pruned. \u001b[0m\n",
      "Trial parameters:\n",
      "{   'conv1d_dropout1': 0.09736607386098733,\n",
      "    'conv1d_dropout2': 0.15669563738485004,\n",
      "    'conv1d_dropout3': 0.08996260478562805,\n",
      "    'conv1d_dropout4': 0.4962369163167022,\n",
      "    'conv1d_filter1': 258,\n",
      "    'conv1d_filter2': 565,\n",
      "    'conv1d_filter3': 348,\n",
      "    'conv1d_filter4': 52,\n",
      "    'conv1d_size1': 9,\n",
      "    'conv1d_size2': 3,\n",
      "    'conv1d_size3': 4,\n",
      "    'conv1d_size4': 3,\n",
      "    'conv2d_dropout': 0.13304365252324787,\n",
      "    'conv2d_filter': 539,\n",
      "    'conv2d_size': 9}\n",
      "Sequential(\n",
      "  (0): Conv1d(539, 258, kernel_size=(9,), stride=(1,))\n",
      "  (1): ReLU()\n",
      "  (2): Dropout(p=0.09736607386098733, inplace=False)\n",
      "  (3): BatchNorm1d(258, eps=1e-05, momentum=0.1, affine=True, track_running_stats=True)\n",
      "  (4): Conv1d(258, 565, kernel_size=(3,), stride=(1,))\n",
      "  (5): ReLU()\n",
      "  (6): Dropout(p=0.15669563738485004, inplace=False)\n",
      "  (7): BatchNorm1d(565, eps=1e-05, momentum=0.1, affine=True, track_running_stats=True)\n",
      "  (8): Conv1d(565, 348, kernel_size=(4,), stride=(1,))\n",
      "  (9): ReLU()\n",
      "  (10): Dropout(p=0.08996260478562805, inplace=False)\n",
      "  (11): BatchNorm1d(348, eps=1e-05, momentum=0.1, affine=True, track_running_stats=True)\n",
      "  (12): Conv1d(348, 52, kernel_size=(3,), stride=(1,))\n",
      "  (13): ReLU()\n",
      "  (14): Dropout(p=0.4962369163167022, inplace=False)\n",
      "  (15): BatchNorm1d(52, eps=1e-05, momentum=0.1, affine=True, track_running_stats=True)\n",
      ")\n",
      "Flattened size: 156\n",
      "{'conv2d_size': 9, 'conv2d_filter': 539, 'conv2d_dropout': 0.13304365252324787, 'conv1d_size1': 9, 'conv1d_size2': 3, 'conv1d_size3': 4, 'conv1d_size4': 3, 'conv1d_filter1': 258, 'conv1d_filter2': 565, 'conv1d_filter3': 348, 'conv1d_filter4': 52, 'conv1d_dropout1': 0.09736607386098733, 'conv1d_dropout2': 0.15669563738485004, 'conv1d_dropout3': 0.08996260478562805, 'conv1d_dropout4': 0.4962369163167022, 'lin_size1': 115, 'lin_size2': 59, 'lin_dropout1': 0.3379821880154489, 'lin_dropout2': 0.24964339463959317, 'lr': 0.0003327784959615554, 'batch_size': 1024}\n"
     ]
    },
    {
     "output_type": "display_data",
     "data": {
      "text/plain": [
       "Validation sanity check: 0it [00:00, ?it/s]"
      ],
      "application/vnd.jupyter.widget-view+json": {
       "model_id": "",
       "version_major": 2,
       "version_minor": 0
      }
     },
     "metadata": {}
    },
    {
     "output_type": "display_data",
     "data": {
      "text/plain": [
       "Training: 0it [00:00, ?it/s]"
      ],
      "application/vnd.jupyter.widget-view+json": {
       "model_id": "e2030449a4ca453ca430262721a8943a",
       "version_major": 2,
       "version_minor": 0
      }
     },
     "metadata": {}
    },
    {
     "output_type": "display_data",
     "data": {
      "text/plain": [
       "Validating: 0it [00:00, ?it/s]"
      ],
      "application/vnd.jupyter.widget-view+json": {
       "model_id": "",
       "version_major": 2,
       "version_minor": 0
      }
     },
     "metadata": {}
    },
    {
     "output_type": "display_data",
     "data": {
      "text/plain": [
       "Validating: 0it [00:00, ?it/s]"
      ],
      "application/vnd.jupyter.widget-view+json": {
       "model_id": "",
       "version_major": 2,
       "version_minor": 0
      }
     },
     "metadata": {}
    },
    {
     "output_type": "display_data",
     "data": {
      "text/plain": [
       "Validating: 0it [00:00, ?it/s]"
      ],
      "application/vnd.jupyter.widget-view+json": {
       "model_id": "",
       "version_major": 2,
       "version_minor": 0
      }
     },
     "metadata": {}
    },
    {
     "output_type": "display_data",
     "data": {
      "text/plain": [
       "Validating: 0it [00:00, ?it/s]"
      ],
      "application/vnd.jupyter.widget-view+json": {
       "model_id": "",
       "version_major": 2,
       "version_minor": 0
      }
     },
     "metadata": {}
    },
    {
     "output_type": "display_data",
     "data": {
      "text/plain": [
       "Validating: 0it [00:00, ?it/s]"
      ],
      "application/vnd.jupyter.widget-view+json": {
       "model_id": "",
       "version_major": 2,
       "version_minor": 0
      }
     },
     "metadata": {}
    },
    {
     "output_type": "stream",
     "name": "stderr",
     "text": [
      "GPU available: True, used: True\n",
      "TPU available: None, using: 0 TPU cores\n",
      "LOCAL_RANK: 0 - CUDA_VISIBLE_DEVICES: [0]\n",
      "\n",
      "  | Name         | Type       | Params\n",
      "--------------------------------------------\n",
      "0 | conv2d_block | Sequential | 48.9 K\n",
      "1 | conv1d_block | Sequential | 6.1 M \n",
      "2 | lin_block    | Sequential | 47.3 K\n",
      "--------------------------------------------\n",
      "6.2 M     Trainable params\n",
      "0         Non-trainable params\n",
      "6.2 M     Total params\n"
     ]
    },
    {
     "output_type": "stream",
     "name": "stdout",
     "text": [
      "\u001b[32m[I 2021-01-30 13:00:17,928]\u001b[0m Trial 65 finished with value: 86.64910125732422 and parameters: {'conv2d_size': 9, 'conv2d_filter': 539, 'conv2d_dropout': 0.13304365252324787, 'conv1d_size1': 9, 'conv1d_size2': 3, 'conv1d_size3': 4, 'conv1d_size4': 3, 'conv1d_filter1': 258, 'conv1d_filter2': 565, 'conv1d_filter3': 348, 'conv1d_filter4': 52, 'conv1d_dropout1': 0.09736607386098733, 'conv1d_dropout2': 0.15669563738485004, 'conv1d_dropout3': 0.08996260478562805, 'conv1d_dropout4': 0.4962369163167022, 'lin_size1': 115, 'lin_size2': 59, 'lin_dropout1': 0.3379821880154489, 'lin_dropout2': 0.24964339463959317, 'lr': 0.0003327784959615554, 'batch_size': 1024}. Best is trial 25 with value: 84.05036926269531.\u001b[0m\n",
      "Trial parameters:\n",
      "{   'conv1d_dropout1': 0.08791699868321537,\n",
      "    'conv1d_dropout2': 0.4203151445083366,\n",
      "    'conv1d_dropout3': 0.49102502786475855,\n",
      "    'conv1d_dropout4': 0.2746032655190377,\n",
      "    'conv1d_filter1': 613,\n",
      "    'conv1d_filter2': 766,\n",
      "    'conv1d_filter3': 295,\n",
      "    'conv1d_filter4': 101,\n",
      "    'conv1d_size1': 9,\n",
      "    'conv1d_size2': 4,\n",
      "    'conv1d_size3': 4,\n",
      "    'conv1d_size4': 1,\n",
      "    'conv2d_dropout': 0.3762718969110328,\n",
      "    'conv2d_filter': 589,\n",
      "    'conv2d_size': 10}\n",
      "Sequential(\n",
      "  (0): Conv1d(589, 613, kernel_size=(9,), stride=(1,))\n",
      "  (1): ReLU()\n",
      "  (2): Dropout(p=0.08791699868321537, inplace=False)\n",
      "  (3): BatchNorm1d(613, eps=1e-05, momentum=0.1, affine=True, track_running_stats=True)\n",
      "  (4): Conv1d(613, 766, kernel_size=(4,), stride=(1,))\n",
      "  (5): ReLU()\n",
      "  (6): Dropout(p=0.4203151445083366, inplace=False)\n",
      "  (7): BatchNorm1d(766, eps=1e-05, momentum=0.1, affine=True, track_running_stats=True)\n",
      "  (8): Conv1d(766, 295, kernel_size=(4,), stride=(1,))\n",
      "  (9): ReLU()\n",
      "  (10): Dropout(p=0.49102502786475855, inplace=False)\n",
      "  (11): BatchNorm1d(295, eps=1e-05, momentum=0.1, affine=True, track_running_stats=True)\n",
      "  (12): Conv1d(295, 101, kernel_size=(1,), stride=(1,))\n",
      "  (13): ReLU()\n",
      "  (14): Dropout(p=0.2746032655190377, inplace=False)\n",
      "  (15): BatchNorm1d(101, eps=1e-05, momentum=0.1, affine=True, track_running_stats=True)\n",
      ")\n",
      "Flattened size: 303\n",
      "{'conv2d_size': 10, 'conv2d_filter': 589, 'conv2d_dropout': 0.3762718969110328, 'conv1d_size1': 9, 'conv1d_size2': 4, 'conv1d_size3': 4, 'conv1d_size4': 1, 'conv1d_filter1': 613, 'conv1d_filter2': 766, 'conv1d_filter3': 295, 'conv1d_filter4': 101, 'conv1d_dropout1': 0.08791699868321537, 'conv1d_dropout2': 0.4203151445083366, 'conv1d_dropout3': 0.49102502786475855, 'conv1d_dropout4': 0.2746032655190377, 'lin_size1': 125, 'lin_size2': 73, 'lin_dropout1': 0.36979289812047483, 'lin_dropout2': 0.16843879916769383, 'lr': 0.0007157154393789392, 'batch_size': 256}\n"
     ]
    },
    {
     "output_type": "display_data",
     "data": {
      "text/plain": [
       "Validation sanity check: 0it [00:00, ?it/s]"
      ],
      "application/vnd.jupyter.widget-view+json": {
       "model_id": "",
       "version_major": 2,
       "version_minor": 0
      }
     },
     "metadata": {}
    },
    {
     "output_type": "display_data",
     "data": {
      "text/plain": [
       "Training: 0it [00:00, ?it/s]"
      ],
      "application/vnd.jupyter.widget-view+json": {
       "model_id": "1de1b8845d5b4ff2bf4eaa34763ada24",
       "version_major": 2,
       "version_minor": 0
      }
     },
     "metadata": {}
    },
    {
     "output_type": "display_data",
     "data": {
      "text/plain": [
       "Validating: 0it [00:00, ?it/s]"
      ],
      "application/vnd.jupyter.widget-view+json": {
       "model_id": "",
       "version_major": 2,
       "version_minor": 0
      }
     },
     "metadata": {}
    },
    {
     "output_type": "display_data",
     "data": {
      "text/plain": [
       "Validating: 0it [00:00, ?it/s]"
      ],
      "application/vnd.jupyter.widget-view+json": {
       "model_id": "",
       "version_major": 2,
       "version_minor": 0
      }
     },
     "metadata": {}
    },
    {
     "output_type": "display_data",
     "data": {
      "text/plain": [
       "Validating: 0it [00:00, ?it/s]"
      ],
      "application/vnd.jupyter.widget-view+json": {
       "model_id": "",
       "version_major": 2,
       "version_minor": 0
      }
     },
     "metadata": {}
    },
    {
     "output_type": "display_data",
     "data": {
      "text/plain": [
       "Validating: 0it [00:00, ?it/s]"
      ],
      "application/vnd.jupyter.widget-view+json": {
       "model_id": "",
       "version_major": 2,
       "version_minor": 0
      }
     },
     "metadata": {}
    },
    {
     "output_type": "display_data",
     "data": {
      "text/plain": [
       "Validating: 0it [00:00, ?it/s]"
      ],
      "application/vnd.jupyter.widget-view+json": {
       "model_id": "",
       "version_major": 2,
       "version_minor": 0
      }
     },
     "metadata": {}
    },
    {
     "output_type": "stream",
     "name": "stderr",
     "text": [
      "GPU available: True, used: True\n",
      "TPU available: None, using: 0 TPU cores\n",
      "LOCAL_RANK: 0 - CUDA_VISIBLE_DEVICES: [0]\n",
      "\n",
      "  | Name         | Type       | Params\n",
      "--------------------------------------------\n",
      "0 | conv2d_block | Sequential | 49.1 K\n",
      "1 | conv1d_block | Sequential | 5.8 M \n",
      "2 | lin_block    | Sequential | 45.1 K\n",
      "--------------------------------------------\n",
      "5.9 M     Trainable params\n",
      "0         Non-trainable params\n",
      "5.9 M     Total params\n"
     ]
    },
    {
     "output_type": "stream",
     "name": "stdout",
     "text": [
      "\u001b[32m[I 2021-01-30 15:50:56,556]\u001b[0m Trial 66 finished with value: 92.46803283691406 and parameters: {'conv2d_size': 10, 'conv2d_filter': 589, 'conv2d_dropout': 0.3762718969110328, 'conv1d_size1': 9, 'conv1d_size2': 4, 'conv1d_size3': 4, 'conv1d_size4': 1, 'conv1d_filter1': 613, 'conv1d_filter2': 766, 'conv1d_filter3': 295, 'conv1d_filter4': 101, 'conv1d_dropout1': 0.08791699868321537, 'conv1d_dropout2': 0.4203151445083366, 'conv1d_dropout3': 0.49102502786475855, 'conv1d_dropout4': 0.2746032655190377, 'lin_size1': 125, 'lin_size2': 73, 'lin_dropout1': 0.36979289812047483, 'lin_dropout2': 0.16843879916769383, 'lr': 0.0007157154393789392, 'batch_size': 256}. Best is trial 25 with value: 84.05036926269531.\u001b[0m\n",
      "Trial parameters:\n",
      "{   'conv1d_dropout1': 0.09700300134508114,\n",
      "    'conv1d_dropout2': 0.3592686816163711,\n",
      "    'conv1d_dropout3': 0.4973297350262934,\n",
      "    'conv1d_dropout4': 0.2688857350547418,\n",
      "    'conv1d_filter1': 607,\n",
      "    'conv1d_filter2': 696,\n",
      "    'conv1d_filter3': 297,\n",
      "    'conv1d_filter4': 104,\n",
      "    'conv1d_size1': 9,\n",
      "    'conv1d_size2': 4,\n",
      "    'conv1d_size3': 4,\n",
      "    'conv1d_size4': 1,\n",
      "    'conv2d_dropout': 0.3693522101997125,\n",
      "    'conv2d_filter': 592,\n",
      "    'conv2d_size': 10}\n",
      "Sequential(\n",
      "  (0): Conv1d(592, 607, kernel_size=(9,), stride=(1,))\n",
      "  (1): ReLU()\n",
      "  (2): Dropout(p=0.09700300134508114, inplace=False)\n",
      "  (3): BatchNorm1d(607, eps=1e-05, momentum=0.1, affine=True, track_running_stats=True)\n",
      "  (4): Conv1d(607, 696, kernel_size=(4,), stride=(1,))\n",
      "  (5): ReLU()\n",
      "  (6): Dropout(p=0.3592686816163711, inplace=False)\n",
      "  (7): BatchNorm1d(696, eps=1e-05, momentum=0.1, affine=True, track_running_stats=True)\n",
      "  (8): Conv1d(696, 297, kernel_size=(4,), stride=(1,))\n",
      "  (9): ReLU()\n",
      "  (10): Dropout(p=0.4973297350262934, inplace=False)\n",
      "  (11): BatchNorm1d(297, eps=1e-05, momentum=0.1, affine=True, track_running_stats=True)\n",
      "  (12): Conv1d(297, 104, kernel_size=(1,), stride=(1,))\n",
      "  (13): ReLU()\n",
      "  (14): Dropout(p=0.2688857350547418, inplace=False)\n",
      "  (15): BatchNorm1d(104, eps=1e-05, momentum=0.1, affine=True, track_running_stats=True)\n",
      ")\n",
      "Flattened size: 312\n",
      "{'conv2d_size': 10, 'conv2d_filter': 592, 'conv2d_dropout': 0.3693522101997125, 'conv1d_size1': 9, 'conv1d_size2': 4, 'conv1d_size3': 4, 'conv1d_size4': 1, 'conv1d_filter1': 607, 'conv1d_filter2': 696, 'conv1d_filter3': 297, 'conv1d_filter4': 104, 'conv1d_dropout1': 0.09700300134508114, 'conv1d_dropout2': 0.3592686816163711, 'conv1d_dropout3': 0.4973297350262934, 'conv1d_dropout4': 0.2688857350547418, 'lin_size1': 118, 'lin_size2': 68, 'lin_dropout1': 0.36414279357011403, 'lin_dropout2': 0.16408165154261495, 'lr': 0.0008207656471564416, 'batch_size': 256}\n"
     ]
    },
    {
     "output_type": "display_data",
     "data": {
      "text/plain": [
       "Validation sanity check: 0it [00:00, ?it/s]"
      ],
      "application/vnd.jupyter.widget-view+json": {
       "model_id": "",
       "version_major": 2,
       "version_minor": 0
      }
     },
     "metadata": {}
    },
    {
     "output_type": "display_data",
     "data": {
      "text/plain": [
       "Training: 0it [00:00, ?it/s]"
      ],
      "application/vnd.jupyter.widget-view+json": {
       "model_id": "e48a290b27184aeabca4c2de27aabcda",
       "version_major": 2,
       "version_minor": 0
      }
     },
     "metadata": {}
    },
    {
     "output_type": "display_data",
     "data": {
      "text/plain": [
       "Validating: 0it [00:00, ?it/s]"
      ],
      "application/vnd.jupyter.widget-view+json": {
       "model_id": "",
       "version_major": 2,
       "version_minor": 0
      }
     },
     "metadata": {}
    },
    {
     "output_type": "display_data",
     "data": {
      "text/plain": [
       "Validating: 0it [00:00, ?it/s]"
      ],
      "application/vnd.jupyter.widget-view+json": {
       "model_id": "",
       "version_major": 2,
       "version_minor": 0
      }
     },
     "metadata": {}
    },
    {
     "output_type": "display_data",
     "data": {
      "text/plain": [
       "Validating: 0it [00:00, ?it/s]"
      ],
      "application/vnd.jupyter.widget-view+json": {
       "model_id": "",
       "version_major": 2,
       "version_minor": 0
      }
     },
     "metadata": {}
    },
    {
     "output_type": "display_data",
     "data": {
      "text/plain": [
       "Validating: 0it [00:00, ?it/s]"
      ],
      "application/vnd.jupyter.widget-view+json": {
       "model_id": "",
       "version_major": 2,
       "version_minor": 0
      }
     },
     "metadata": {}
    },
    {
     "output_type": "display_data",
     "data": {
      "text/plain": [
       "Validating: 0it [00:00, ?it/s]"
      ],
      "application/vnd.jupyter.widget-view+json": {
       "model_id": "",
       "version_major": 2,
       "version_minor": 0
      }
     },
     "metadata": {}
    },
    {
     "output_type": "stream",
     "name": "stderr",
     "text": [
      "GPU available: True, used: True\n",
      "TPU available: None, using: 0 TPU cores\n",
      "LOCAL_RANK: 0 - CUDA_VISIBLE_DEVICES: [0]\n",
      "GPU available: True, used: True\n",
      "TPU available: None, using: 0 TPU cores\n",
      "LOCAL_RANK: 0 - CUDA_VISIBLE_DEVICES: [0]\n",
      "\n",
      "  | Name         | Type       | Params\n",
      "--------------------------------------------\n",
      "0 | conv2d_block | Sequential | 41.5 K\n",
      "1 | conv1d_block | Sequential | 5.7 M \n",
      "2 | lin_block    | Sequential | 42.5 K\n",
      "--------------------------------------------\n",
      "5.8 M     Trainable params\n",
      "0         Non-trainable params\n",
      "5.8 M     Total params\n"
     ]
    },
    {
     "output_type": "stream",
     "name": "stdout",
     "text": [
      "\u001b[32m[I 2021-01-30 18:35:20,857]\u001b[0m Trial 67 finished with value: 88.99768829345703 and parameters: {'conv2d_size': 10, 'conv2d_filter': 592, 'conv2d_dropout': 0.3693522101997125, 'conv1d_size1': 9, 'conv1d_size2': 4, 'conv1d_size3': 4, 'conv1d_size4': 1, 'conv1d_filter1': 607, 'conv1d_filter2': 696, 'conv1d_filter3': 297, 'conv1d_filter4': 104, 'conv1d_dropout1': 0.09700300134508114, 'conv1d_dropout2': 0.3592686816163711, 'conv1d_dropout3': 0.4973297350262934, 'conv1d_dropout4': 0.2688857350547418, 'lin_size1': 118, 'lin_size2': 68, 'lin_dropout1': 0.36414279357011403, 'lin_dropout2': 0.16408165154261495, 'lr': 0.0008207656471564416, 'batch_size': 256}. Best is trial 25 with value: 84.05036926269531.\u001b[0m\n",
      "\u001b[32m[I 2021-01-30 18:35:20,897]\u001b[0m Trial 68 pruned. \u001b[0m\n",
      "Trial parameters:\n",
      "{   'conv1d_dropout1': 0.08054413636496362,\n",
      "    'conv1d_dropout2': 0.29080689980953917,\n",
      "    'conv1d_dropout3': 0.4423623223851181,\n",
      "    'conv1d_dropout4': 0.2542689967254095,\n",
      "    'conv1d_filter1': 644,\n",
      "    'conv1d_filter2': 703,\n",
      "    'conv1d_filter3': 294,\n",
      "    'conv1d_filter4': 105,\n",
      "    'conv1d_size1': 10,\n",
      "    'conv1d_size2': 4,\n",
      "    'conv1d_size3': 3,\n",
      "    'conv1d_size4': 1,\n",
      "    'conv2d_dropout': 0.37365655826956645,\n",
      "    'conv2d_filter': 500,\n",
      "    'conv2d_size': 10}\n",
      "Sequential(\n",
      "  (0): Conv1d(500, 644, kernel_size=(10,), stride=(1,))\n",
      "  (1): ReLU()\n",
      "  (2): Dropout(p=0.08054413636496362, inplace=False)\n",
      "  (3): BatchNorm1d(644, eps=1e-05, momentum=0.1, affine=True, track_running_stats=True)\n",
      "  (4): Conv1d(644, 703, kernel_size=(4,), stride=(1,))\n",
      "  (5): ReLU()\n",
      "  (6): Dropout(p=0.29080689980953917, inplace=False)\n",
      "  (7): BatchNorm1d(703, eps=1e-05, momentum=0.1, affine=True, track_running_stats=True)\n",
      "  (8): Conv1d(703, 294, kernel_size=(3,), stride=(1,))\n",
      "  (9): ReLU()\n",
      "  (10): Dropout(p=0.4423623223851181, inplace=False)\n",
      "  (11): BatchNorm1d(294, eps=1e-05, momentum=0.1, affine=True, track_running_stats=True)\n",
      "  (12): Conv1d(294, 105, kernel_size=(1,), stride=(1,))\n",
      "  (13): ReLU()\n",
      "  (14): Dropout(p=0.2542689967254095, inplace=False)\n",
      "  (15): BatchNorm1d(105, eps=1e-05, momentum=0.1, affine=True, track_running_stats=True)\n",
      ")\n",
      "Flattened size: 315\n",
      "{'conv2d_size': 10, 'conv2d_filter': 500, 'conv2d_dropout': 0.37365655826956645, 'conv1d_size1': 10, 'conv1d_size2': 4, 'conv1d_size3': 3, 'conv1d_size4': 1, 'conv1d_filter1': 644, 'conv1d_filter2': 703, 'conv1d_filter3': 294, 'conv1d_filter4': 105, 'conv1d_dropout1': 0.08054413636496362, 'conv1d_dropout2': 0.29080689980953917, 'conv1d_dropout3': 0.4423623223851181, 'conv1d_dropout4': 0.2542689967254095, 'lin_size1': 112, 'lin_size2': 62, 'lin_dropout1': 0.37441717949337505, 'lin_dropout2': 0.16513589233197504, 'lr': 0.0009176471390538718, 'batch_size': 256}\n"
     ]
    },
    {
     "output_type": "display_data",
     "data": {
      "text/plain": [
       "Validation sanity check: 0it [00:00, ?it/s]"
      ],
      "application/vnd.jupyter.widget-view+json": {
       "model_id": "",
       "version_major": 2,
       "version_minor": 0
      }
     },
     "metadata": {}
    },
    {
     "output_type": "display_data",
     "data": {
      "text/plain": [
       "Training: 0it [00:00, ?it/s]"
      ],
      "application/vnd.jupyter.widget-view+json": {
       "model_id": "494ccd349d8f4aa7b1871cbb1f3c629d",
       "version_major": 2,
       "version_minor": 0
      }
     },
     "metadata": {}
    },
    {
     "output_type": "display_data",
     "data": {
      "text/plain": [
       "Validating: 0it [00:00, ?it/s]"
      ],
      "application/vnd.jupyter.widget-view+json": {
       "model_id": "",
       "version_major": 2,
       "version_minor": 0
      }
     },
     "metadata": {}
    },
    {
     "output_type": "display_data",
     "data": {
      "text/plain": [
       "Validating: 0it [00:00, ?it/s]"
      ],
      "application/vnd.jupyter.widget-view+json": {
       "model_id": "",
       "version_major": 2,
       "version_minor": 0
      }
     },
     "metadata": {}
    },
    {
     "output_type": "display_data",
     "data": {
      "text/plain": [
       "Validating: 0it [00:00, ?it/s]"
      ],
      "application/vnd.jupyter.widget-view+json": {
       "model_id": "",
       "version_major": 2,
       "version_minor": 0
      }
     },
     "metadata": {}
    },
    {
     "output_type": "display_data",
     "data": {
      "text/plain": [
       "Validating: 0it [00:00, ?it/s]"
      ],
      "application/vnd.jupyter.widget-view+json": {
       "model_id": "",
       "version_major": 2,
       "version_minor": 0
      }
     },
     "metadata": {}
    },
    {
     "output_type": "display_data",
     "data": {
      "text/plain": [
       "Validating: 0it [00:00, ?it/s]"
      ],
      "application/vnd.jupyter.widget-view+json": {
       "model_id": "",
       "version_major": 2,
       "version_minor": 0
      }
     },
     "metadata": {}
    },
    {
     "output_type": "stream",
     "name": "stderr",
     "text": [
      "GPU available: True, used: True\n",
      "TPU available: None, using: 0 TPU cores\n",
      "LOCAL_RANK: 0 - CUDA_VISIBLE_DEVICES: [0]\n",
      "\n",
      "  | Name         | Type       | Params\n",
      "--------------------------------------------\n",
      "0 | conv2d_block | Sequential | 43.7 K\n",
      "1 | conv1d_block | Sequential | 5.0 M \n",
      "2 | lin_block    | Sequential | 26.4 K\n",
      "--------------------------------------------\n",
      "5.1 M     Trainable params\n",
      "0         Non-trainable params\n",
      "5.1 M     Total params\n"
     ]
    },
    {
     "output_type": "stream",
     "name": "stdout",
     "text": [
      "\u001b[32m[I 2021-01-30 21:11:35,521]\u001b[0m Trial 69 finished with value: 82.37580871582031 and parameters: {'conv2d_size': 10, 'conv2d_filter': 500, 'conv2d_dropout': 0.37365655826956645, 'conv1d_size1': 10, 'conv1d_size2': 4, 'conv1d_size3': 3, 'conv1d_size4': 1, 'conv1d_filter1': 644, 'conv1d_filter2': 703, 'conv1d_filter3': 294, 'conv1d_filter4': 105, 'conv1d_dropout1': 0.08054413636496362, 'conv1d_dropout2': 0.29080689980953917, 'conv1d_dropout3': 0.4423623223851181, 'conv1d_dropout4': 0.2542689967254095, 'lin_size1': 112, 'lin_size2': 62, 'lin_dropout1': 0.37441717949337505, 'lin_dropout2': 0.16513589233197504, 'lr': 0.0009176471390538718, 'batch_size': 256}. Best is trial 69 with value: 82.37580871582031.\u001b[0m\n",
      "Trial parameters:\n",
      "{   'conv1d_dropout1': 0.0077080046695992,\n",
      "    'conv1d_dropout2': 0.2865295374583555,\n",
      "    'conv1d_dropout3': 0.4504555273150383,\n",
      "    'conv1d_dropout4': 0.2583978120954365,\n",
      "    'conv1d_filter1': 642,\n",
      "    'conv1d_filter2': 697,\n",
      "    'conv1d_filter3': 270,\n",
      "    'conv1d_filter4': 116,\n",
      "    'conv1d_size1': 10,\n",
      "    'conv1d_size2': 3,\n",
      "    'conv1d_size3': 3,\n",
      "    'conv1d_size4': 1,\n",
      "    'conv2d_dropout': 0.30127384485112657,\n",
      "    'conv2d_filter': 480,\n",
      "    'conv2d_size': 11}\n",
      "Sequential(\n",
      "  (0): Conv1d(480, 642, kernel_size=(10,), stride=(1,))\n",
      "  (1): ReLU()\n",
      "  (2): Dropout(p=0.0077080046695992, inplace=False)\n",
      "  (3): BatchNorm1d(642, eps=1e-05, momentum=0.1, affine=True, track_running_stats=True)\n",
      "  (4): Conv1d(642, 697, kernel_size=(3,), stride=(1,))\n",
      "  (5): ReLU()\n",
      "  (6): Dropout(p=0.2865295374583555, inplace=False)\n",
      "  (7): BatchNorm1d(697, eps=1e-05, momentum=0.1, affine=True, track_running_stats=True)\n",
      "  (8): Conv1d(697, 270, kernel_size=(3,), stride=(1,))\n",
      "  (9): ReLU()\n",
      "  (10): Dropout(p=0.4504555273150383, inplace=False)\n",
      "  (11): BatchNorm1d(270, eps=1e-05, momentum=0.1, affine=True, track_running_stats=True)\n",
      "  (12): Conv1d(270, 116, kernel_size=(1,), stride=(1,))\n",
      "  (13): ReLU()\n",
      "  (14): Dropout(p=0.2583978120954365, inplace=False)\n",
      "  (15): BatchNorm1d(116, eps=1e-05, momentum=0.1, affine=True, track_running_stats=True)\n",
      ")\n",
      "Flattened size: 348\n",
      "{'conv2d_size': 11, 'conv2d_filter': 480, 'conv2d_dropout': 0.30127384485112657, 'conv1d_size1': 10, 'conv1d_size2': 3, 'conv1d_size3': 3, 'conv1d_size4': 1, 'conv1d_filter1': 642, 'conv1d_filter2': 697, 'conv1d_filter3': 270, 'conv1d_filter4': 116, 'conv1d_dropout1': 0.0077080046695992, 'conv1d_dropout2': 0.2865295374583555, 'conv1d_dropout3': 0.4504555273150383, 'conv1d_dropout4': 0.2583978120954365, 'lin_size1': 69, 'lin_size2': 32, 'lin_dropout1': 0.3443711810109888, 'lin_dropout2': 0.16215376105901874, 'lr': 0.0010341113955216745, 'batch_size': 256}\n"
     ]
    },
    {
     "output_type": "display_data",
     "data": {
      "text/plain": [
       "Validation sanity check: 0it [00:00, ?it/s]"
      ],
      "application/vnd.jupyter.widget-view+json": {
       "model_id": "",
       "version_major": 2,
       "version_minor": 0
      }
     },
     "metadata": {}
    },
    {
     "output_type": "display_data",
     "data": {
      "text/plain": [
       "Training: 0it [00:00, ?it/s]"
      ],
      "application/vnd.jupyter.widget-view+json": {
       "model_id": "d429a59a4a954c64b32de435d95f7d28",
       "version_major": 2,
       "version_minor": 0
      }
     },
     "metadata": {}
    },
    {
     "output_type": "display_data",
     "data": {
      "text/plain": [
       "Validating: 0it [00:00, ?it/s]"
      ],
      "application/vnd.jupyter.widget-view+json": {
       "model_id": "",
       "version_major": 2,
       "version_minor": 0
      }
     },
     "metadata": {}
    },
    {
     "output_type": "display_data",
     "data": {
      "text/plain": [
       "Validating: 0it [00:00, ?it/s]"
      ],
      "application/vnd.jupyter.widget-view+json": {
       "model_id": "",
       "version_major": 2,
       "version_minor": 0
      }
     },
     "metadata": {}
    },
    {
     "output_type": "display_data",
     "data": {
      "text/plain": [
       "Validating: 0it [00:00, ?it/s]"
      ],
      "application/vnd.jupyter.widget-view+json": {
       "model_id": "",
       "version_major": 2,
       "version_minor": 0
      }
     },
     "metadata": {}
    },
    {
     "output_type": "display_data",
     "data": {
      "text/plain": [
       "Validating: 0it [00:00, ?it/s]"
      ],
      "application/vnd.jupyter.widget-view+json": {
       "model_id": "99a2238afd4d4ddb8dc161aa8056bdae",
       "version_major": 2,
       "version_minor": 0
      }
     },
     "metadata": {}
    },
    {
     "output_type": "stream",
     "name": "stderr",
     "text": [
      "GPU available: True, used: True\n",
      "TPU available: None, using: 0 TPU cores\n",
      "LOCAL_RANK: 0 - CUDA_VISIBLE_DEVICES: [0]\n",
      "GPU available: True, used: True\n",
      "TPU available: None, using: 0 TPU cores\n",
      "LOCAL_RANK: 0 - CUDA_VISIBLE_DEVICES: [0]\n",
      "\n",
      "  | Name         | Type       | Params\n",
      "--------------------------------------------\n",
      "0 | conv2d_block | Sequential | 40.8 K\n",
      "1 | conv1d_block | Sequential | 5.6 M \n",
      "2 | lin_block    | Sequential | 28.0 K\n",
      "--------------------------------------------\n",
      "5.7 M     Trainable params\n",
      "0         Non-trainable params\n",
      "5.7 M     Total params\n"
     ]
    },
    {
     "output_type": "stream",
     "name": "stdout",
     "text": [
      "\u001b[32m[I 2021-01-30 23:07:04,764]\u001b[0m Trial 70 pruned. Trial was pruned at epoch 3.\u001b[0m\n",
      "\u001b[32m[I 2021-01-30 23:07:04,805]\u001b[0m Trial 71 pruned. \u001b[0m\n",
      "Trial parameters:\n",
      "{   'conv1d_dropout1': 0.033918909432085295,\n",
      "    'conv1d_dropout2': 0.35561531298395765,\n",
      "    'conv1d_dropout3': 0.49794055385682073,\n",
      "    'conv1d_dropout4': 0.22385494421598082,\n",
      "    'conv1d_filter1': 687,\n",
      "    'conv1d_filter2': 676,\n",
      "    'conv1d_filter3': 259,\n",
      "    'conv1d_filter4': 120,\n",
      "    'conv1d_size1': 9,\n",
      "    'conv1d_size2': 4,\n",
      "    'conv1d_size3': 4,\n",
      "    'conv1d_size4': 1,\n",
      "    'conv2d_dropout': 0.37945880113880126,\n",
      "    'conv2d_filter': 491,\n",
      "    'conv2d_size': 10}\n",
      "Sequential(\n",
      "  (0): Conv1d(491, 687, kernel_size=(9,), stride=(1,))\n",
      "  (1): ReLU()\n",
      "  (2): Dropout(p=0.033918909432085295, inplace=False)\n",
      "  (3): BatchNorm1d(687, eps=1e-05, momentum=0.1, affine=True, track_running_stats=True)\n",
      "  (4): Conv1d(687, 676, kernel_size=(4,), stride=(1,))\n",
      "  (5): ReLU()\n",
      "  (6): Dropout(p=0.35561531298395765, inplace=False)\n",
      "  (7): BatchNorm1d(676, eps=1e-05, momentum=0.1, affine=True, track_running_stats=True)\n",
      "  (8): Conv1d(676, 259, kernel_size=(4,), stride=(1,))\n",
      "  (9): ReLU()\n",
      "  (10): Dropout(p=0.49794055385682073, inplace=False)\n",
      "  (11): BatchNorm1d(259, eps=1e-05, momentum=0.1, affine=True, track_running_stats=True)\n",
      "  (12): Conv1d(259, 120, kernel_size=(1,), stride=(1,))\n",
      "  (13): ReLU()\n",
      "  (14): Dropout(p=0.22385494421598082, inplace=False)\n",
      "  (15): BatchNorm1d(120, eps=1e-05, momentum=0.1, affine=True, track_running_stats=True)\n",
      ")\n",
      "Flattened size: 360\n",
      "{'conv2d_size': 10, 'conv2d_filter': 491, 'conv2d_dropout': 0.37945880113880126, 'conv1d_size1': 9, 'conv1d_size2': 4, 'conv1d_size3': 4, 'conv1d_size4': 1, 'conv1d_filter1': 687, 'conv1d_filter2': 676, 'conv1d_filter3': 259, 'conv1d_filter4': 120, 'conv1d_dropout1': 0.033918909432085295, 'conv1d_dropout2': 0.35561531298395765, 'conv1d_dropout3': 0.49794055385682073, 'conv1d_dropout4': 0.22385494421598082, 'lin_size1': 71, 'lin_size2': 32, 'lin_dropout1': 0.4404596267380134, 'lin_dropout2': 0.15324099706902886, 'lr': 0.0011526260002759881, 'batch_size': 256}\n"
     ]
    },
    {
     "output_type": "display_data",
     "data": {
      "text/plain": [
       "Validation sanity check: 0it [00:00, ?it/s]"
      ],
      "application/vnd.jupyter.widget-view+json": {
       "model_id": "",
       "version_major": 2,
       "version_minor": 0
      }
     },
     "metadata": {}
    },
    {
     "output_type": "display_data",
     "data": {
      "text/plain": [
       "Training: 0it [00:00, ?it/s]"
      ],
      "application/vnd.jupyter.widget-view+json": {
       "model_id": "af4114569e6649f5b1509c85d725bac8",
       "version_major": 2,
       "version_minor": 0
      }
     },
     "metadata": {}
    },
    {
     "output_type": "display_data",
     "data": {
      "text/plain": [
       "Validating: 0it [00:00, ?it/s]"
      ],
      "application/vnd.jupyter.widget-view+json": {
       "model_id": "",
       "version_major": 2,
       "version_minor": 0
      }
     },
     "metadata": {}
    },
    {
     "output_type": "display_data",
     "data": {
      "text/plain": [
       "Validating: 0it [00:00, ?it/s]"
      ],
      "application/vnd.jupyter.widget-view+json": {
       "model_id": "31f24c4930e24559bbde3cccf7918a64",
       "version_major": 2,
       "version_minor": 0
      }
     },
     "metadata": {}
    },
    {
     "output_type": "stream",
     "name": "stderr",
     "text": [
      "GPU available: True, used: True\n",
      "TPU available: None, using: 0 TPU cores\n",
      "LOCAL_RANK: 0 - CUDA_VISIBLE_DEVICES: [0]\n",
      "GPU available: True, used: True\n",
      "TPU available: None, using: 0 TPU cores\n",
      "LOCAL_RANK: 0 - CUDA_VISIBLE_DEVICES: [0]\n",
      "GPU available: True, used: True\n",
      "TPU available: None, using: 0 TPU cores\n",
      "LOCAL_RANK: 0 - CUDA_VISIBLE_DEVICES: [0]\n",
      "\n",
      "  | Name         | Type       | Params\n",
      "--------------------------------------------\n",
      "0 | conv2d_block | Sequential | 47.9 K\n",
      "1 | conv1d_block | Sequential | 6.2 M \n",
      "2 | lin_block    | Sequential | 44.9 K\n",
      "--------------------------------------------\n",
      "6.3 M     Trainable params\n",
      "0         Non-trainable params\n",
      "6.3 M     Total params\n"
     ]
    },
    {
     "output_type": "stream",
     "name": "stdout",
     "text": [
      "\u001b[32m[I 2021-01-31 00:14:04,636]\u001b[0m Trial 72 pruned. Trial was pruned at epoch 1.\u001b[0m\n",
      "\u001b[32m[I 2021-01-31 00:14:04,675]\u001b[0m Trial 73 pruned. \u001b[0m\n",
      "\u001b[32m[I 2021-01-31 00:14:04,709]\u001b[0m Trial 74 pruned. \u001b[0m\n",
      "Trial parameters:\n",
      "{   'conv1d_dropout1': 0.09993600728528246,\n",
      "    'conv1d_dropout2': 0.3412896653093948,\n",
      "    'conv1d_dropout3': 0.48027343113503806,\n",
      "    'conv1d_dropout4': 0.29852802187700106,\n",
      "    'conv1d_filter1': 641,\n",
      "    'conv1d_filter2': 764,\n",
      "    'conv1d_filter3': 294,\n",
      "    'conv1d_filter4': 97,\n",
      "    'conv1d_size1': 9,\n",
      "    'conv1d_size2': 4,\n",
      "    'conv1d_size3': 4,\n",
      "    'conv1d_size4': 1,\n",
      "    'conv2d_dropout': 0.37382980917772035,\n",
      "    'conv2d_filter': 577,\n",
      "    'conv2d_size': 10}\n",
      "Sequential(\n",
      "  (0): Conv1d(577, 641, kernel_size=(9,), stride=(1,))\n",
      "  (1): ReLU()\n",
      "  (2): Dropout(p=0.09993600728528246, inplace=False)\n",
      "  (3): BatchNorm1d(641, eps=1e-05, momentum=0.1, affine=True, track_running_stats=True)\n",
      "  (4): Conv1d(641, 764, kernel_size=(4,), stride=(1,))\n",
      "  (5): ReLU()\n",
      "  (6): Dropout(p=0.3412896653093948, inplace=False)\n",
      "  (7): BatchNorm1d(764, eps=1e-05, momentum=0.1, affine=True, track_running_stats=True)\n",
      "  (8): Conv1d(764, 294, kernel_size=(4,), stride=(1,))\n",
      "  (9): ReLU()\n",
      "  (10): Dropout(p=0.48027343113503806, inplace=False)\n",
      "  (11): BatchNorm1d(294, eps=1e-05, momentum=0.1, affine=True, track_running_stats=True)\n",
      "  (12): Conv1d(294, 97, kernel_size=(1,), stride=(1,))\n",
      "  (13): ReLU()\n",
      "  (14): Dropout(p=0.29852802187700106, inplace=False)\n",
      "  (15): BatchNorm1d(97, eps=1e-05, momentum=0.1, affine=True, track_running_stats=True)\n",
      ")\n",
      "Flattened size: 291\n",
      "{'conv2d_size': 10, 'conv2d_filter': 577, 'conv2d_dropout': 0.37382980917772035, 'conv1d_size1': 9, 'conv1d_size2': 4, 'conv1d_size3': 4, 'conv1d_size4': 1, 'conv1d_filter1': 641, 'conv1d_filter2': 764, 'conv1d_filter3': 294, 'conv1d_filter4': 97, 'conv1d_dropout1': 0.09993600728528246, 'conv1d_dropout2': 0.3412896653093948, 'conv1d_dropout3': 0.48027343113503806, 'conv1d_dropout4': 0.29852802187700106, 'lin_size1': 123, 'lin_size2': 72, 'lin_dropout1': 0.35031041377763167, 'lin_dropout2': 0.17071182164712503, 'lr': 0.0007336849858231003, 'batch_size': 256}\n"
     ]
    },
    {
     "output_type": "display_data",
     "data": {
      "text/plain": [
       "Validation sanity check: 0it [00:00, ?it/s]"
      ],
      "application/vnd.jupyter.widget-view+json": {
       "model_id": "",
       "version_major": 2,
       "version_minor": 0
      }
     },
     "metadata": {}
    },
    {
     "output_type": "display_data",
     "data": {
      "text/plain": [
       "Training: 0it [00:00, ?it/s]"
      ],
      "application/vnd.jupyter.widget-view+json": {
       "model_id": "23b756aeb6814393bc704426b4ca1348",
       "version_major": 2,
       "version_minor": 0
      }
     },
     "metadata": {}
    },
    {
     "output_type": "display_data",
     "data": {
      "text/plain": [
       "Validating: 0it [00:00, ?it/s]"
      ],
      "application/vnd.jupyter.widget-view+json": {
       "model_id": "",
       "version_major": 2,
       "version_minor": 0
      }
     },
     "metadata": {}
    },
    {
     "output_type": "display_data",
     "data": {
      "text/plain": [
       "Validating: 0it [00:00, ?it/s]"
      ],
      "application/vnd.jupyter.widget-view+json": {
       "model_id": "",
       "version_major": 2,
       "version_minor": 0
      }
     },
     "metadata": {}
    },
    {
     "output_type": "display_data",
     "data": {
      "text/plain": [
       "Validating: 0it [00:00, ?it/s]"
      ],
      "application/vnd.jupyter.widget-view+json": {
       "model_id": "",
       "version_major": 2,
       "version_minor": 0
      }
     },
     "metadata": {}
    },
    {
     "output_type": "display_data",
     "data": {
      "text/plain": [
       "Validating: 0it [00:00, ?it/s]"
      ],
      "application/vnd.jupyter.widget-view+json": {
       "model_id": "",
       "version_major": 2,
       "version_minor": 0
      }
     },
     "metadata": {}
    },
    {
     "output_type": "display_data",
     "data": {
      "text/plain": [
       "Validating: 0it [00:00, ?it/s]"
      ],
      "application/vnd.jupyter.widget-view+json": {
       "model_id": "",
       "version_major": 2,
       "version_minor": 0
      }
     },
     "metadata": {}
    },
    {
     "output_type": "stream",
     "name": "stderr",
     "text": [
      "GPU available: True, used: True\n",
      "TPU available: None, using: 0 TPU cores\n",
      "LOCAL_RANK: 0 - CUDA_VISIBLE_DEVICES: [0]\n",
      "\n",
      "  | Name         | Type       | Params\n",
      "--------------------------------------------\n",
      "0 | conv2d_block | Sequential | 36.5 K\n",
      "1 | conv1d_block | Sequential | 2.7 M \n",
      "2 | lin_block    | Sequential | 55.1 K\n",
      "--------------------------------------------\n",
      "2.8 M     Trainable params\n",
      "0         Non-trainable params\n",
      "2.8 M     Total params\n"
     ]
    },
    {
     "output_type": "stream",
     "name": "stdout",
     "text": [
      "\u001b[32m[I 2021-01-31 03:06:15,951]\u001b[0m Trial 75 finished with value: 85.8257827758789 and parameters: {'conv2d_size': 10, 'conv2d_filter': 577, 'conv2d_dropout': 0.37382980917772035, 'conv1d_size1': 9, 'conv1d_size2': 4, 'conv1d_size3': 4, 'conv1d_size4': 1, 'conv1d_filter1': 641, 'conv1d_filter2': 764, 'conv1d_filter3': 294, 'conv1d_filter4': 97, 'conv1d_dropout1': 0.09993600728528246, 'conv1d_dropout2': 0.3412896653093948, 'conv1d_dropout3': 0.48027343113503806, 'conv1d_dropout4': 0.29852802187700106, 'lin_size1': 123, 'lin_size2': 72, 'lin_dropout1': 0.35031041377763167, 'lin_dropout2': 0.17071182164712503, 'lr': 0.0007336849858231003, 'batch_size': 256}. Best is trial 69 with value: 82.37580871582031.\u001b[0m\n",
      "Trial parameters:\n",
      "{   'conv1d_dropout1': 0.04064458052424453,\n",
      "    'conv1d_dropout2': 0.1415186405084089,\n",
      "    'conv1d_dropout3': 0.04955377872229932,\n",
      "    'conv1d_dropout4': 0.45103551147571613,\n",
      "    'conv1d_filter1': 296,\n",
      "    'conv1d_filter2': 577,\n",
      "    'conv1d_filter3': 342,\n",
      "    'conv1d_filter4': 68,\n",
      "    'conv1d_size1': 8,\n",
      "    'conv1d_size2': 4,\n",
      "    'conv1d_size3': 4,\n",
      "    'conv1d_size4': 3,\n",
      "    'conv2d_dropout': 0.20068663959005656,\n",
      "    'conv2d_filter': 487,\n",
      "    'conv2d_size': 9}\n",
      "Sequential(\n",
      "  (0): Conv1d(487, 296, kernel_size=(8,), stride=(1,))\n",
      "  (1): ReLU()\n",
      "  (2): Dropout(p=0.04064458052424453, inplace=False)\n",
      "  (3): BatchNorm1d(296, eps=1e-05, momentum=0.1, affine=True, track_running_stats=True)\n",
      "  (4): Conv1d(296, 577, kernel_size=(4,), stride=(1,))\n",
      "  (5): ReLU()\n",
      "  (6): Dropout(p=0.1415186405084089, inplace=False)\n",
      "  (7): BatchNorm1d(577, eps=1e-05, momentum=0.1, affine=True, track_running_stats=True)\n",
      "  (8): Conv1d(577, 342, kernel_size=(4,), stride=(1,))\n",
      "  (9): ReLU()\n",
      "  (10): Dropout(p=0.04955377872229932, inplace=False)\n",
      "  (11): BatchNorm1d(342, eps=1e-05, momentum=0.1, affine=True, track_running_stats=True)\n",
      "  (12): Conv1d(342, 68, kernel_size=(3,), stride=(1,))\n",
      "  (13): ReLU()\n",
      "  (14): Dropout(p=0.45103551147571613, inplace=False)\n",
      "  (15): BatchNorm1d(68, eps=1e-05, momentum=0.1, affine=True, track_running_stats=True)\n",
      ")\n",
      "Flattened size: 204\n",
      "{'conv2d_size': 9, 'conv2d_filter': 487, 'conv2d_dropout': 0.20068663959005656, 'conv1d_size1': 8, 'conv1d_size2': 4, 'conv1d_size3': 4, 'conv1d_size4': 3, 'conv1d_filter1': 296, 'conv1d_filter2': 577, 'conv1d_filter3': 342, 'conv1d_filter4': 68, 'conv1d_dropout1': 0.04064458052424453, 'conv1d_dropout2': 0.1415186405084089, 'conv1d_dropout3': 0.04955377872229932, 'conv1d_dropout4': 0.45103551147571613, 'lin_size1': 185, 'lin_size2': 92, 'lin_dropout1': 0.371648817919695, 'lin_dropout2': 0.1897109019244435, 'lr': 0.0005478487061320084, 'batch_size': 1024}\n"
     ]
    },
    {
     "output_type": "display_data",
     "data": {
      "text/plain": [
       "Validation sanity check: 0it [00:00, ?it/s]"
      ],
      "application/vnd.jupyter.widget-view+json": {
       "model_id": "",
       "version_major": 2,
       "version_minor": 0
      }
     },
     "metadata": {}
    },
    {
     "output_type": "display_data",
     "data": {
      "text/plain": [
       "Training: 0it [00:00, ?it/s]"
      ],
      "application/vnd.jupyter.widget-view+json": {
       "model_id": "7a432ddade2c40debbaf989b7efe6ba3",
       "version_major": 2,
       "version_minor": 0
      }
     },
     "metadata": {}
    },
    {
     "output_type": "display_data",
     "data": {
      "text/plain": [
       "Validating: 0it [00:00, ?it/s]"
      ],
      "application/vnd.jupyter.widget-view+json": {
       "model_id": "",
       "version_major": 2,
       "version_minor": 0
      }
     },
     "metadata": {}
    },
    {
     "output_type": "display_data",
     "data": {
      "text/plain": [
       "Validating: 0it [00:00, ?it/s]"
      ],
      "application/vnd.jupyter.widget-view+json": {
       "model_id": "",
       "version_major": 2,
       "version_minor": 0
      }
     },
     "metadata": {}
    },
    {
     "output_type": "display_data",
     "data": {
      "text/plain": [
       "Validating: 0it [00:00, ?it/s]"
      ],
      "application/vnd.jupyter.widget-view+json": {
       "model_id": "",
       "version_major": 2,
       "version_minor": 0
      }
     },
     "metadata": {}
    },
    {
     "output_type": "display_data",
     "data": {
      "text/plain": [
       "Validating: 0it [00:00, ?it/s]"
      ],
      "application/vnd.jupyter.widget-view+json": {
       "model_id": "",
       "version_major": 2,
       "version_minor": 0
      }
     },
     "metadata": {}
    },
    {
     "output_type": "display_data",
     "data": {
      "text/plain": [
       "Validating: 0it [00:00, ?it/s]"
      ],
      "application/vnd.jupyter.widget-view+json": {
       "model_id": "",
       "version_major": 2,
       "version_minor": 0
      }
     },
     "metadata": {}
    },
    {
     "output_type": "stream",
     "name": "stderr",
     "text": [
      "GPU available: True, used: True\n",
      "TPU available: None, using: 0 TPU cores\n",
      "LOCAL_RANK: 0 - CUDA_VISIBLE_DEVICES: [0]\n",
      "\n",
      "  | Name         | Type       | Params\n",
      "--------------------------------------------\n",
      "0 | conv2d_block | Sequential | 51.4 K\n",
      "1 | conv1d_block | Sequential | 6.2 M \n",
      "2 | lin_block    | Sequential | 50.4 K\n",
      "--------------------------------------------\n",
      "6.3 M     Trainable params\n",
      "0         Non-trainable params\n",
      "6.3 M     Total params\n"
     ]
    },
    {
     "output_type": "stream",
     "name": "stdout",
     "text": [
      "\u001b[32m[I 2021-01-31 04:20:18,683]\u001b[0m Trial 76 finished with value: 80.8285140991211 and parameters: {'conv2d_size': 9, 'conv2d_filter': 487, 'conv2d_dropout': 0.20068663959005656, 'conv1d_size1': 8, 'conv1d_size2': 4, 'conv1d_size3': 4, 'conv1d_size4': 3, 'conv1d_filter1': 296, 'conv1d_filter2': 577, 'conv1d_filter3': 342, 'conv1d_filter4': 68, 'conv1d_dropout1': 0.04064458052424453, 'conv1d_dropout2': 0.1415186405084089, 'conv1d_dropout3': 0.04955377872229932, 'conv1d_dropout4': 0.45103551147571613, 'lin_size1': 185, 'lin_size2': 92, 'lin_dropout1': 0.371648817919695, 'lin_dropout2': 0.1897109019244435, 'lr': 0.0005478487061320084, 'batch_size': 1024}. Best is trial 76 with value: 80.8285140991211.\u001b[0m\n",
      "Trial parameters:\n",
      "{   'conv1d_dropout1': 0.11979171082190168,\n",
      "    'conv1d_dropout2': 0.30924786138082844,\n",
      "    'conv1d_dropout3': 0.4711255140086001,\n",
      "    'conv1d_dropout4': 0.29616471335443584,\n",
      "    'conv1d_filter1': 646,\n",
      "    'conv1d_filter2': 720,\n",
      "    'conv1d_filter3': 244,\n",
      "    'conv1d_filter4': 89,\n",
      "    'conv1d_size1': 9,\n",
      "    'conv1d_size2': 4,\n",
      "    'conv1d_size3': 4,\n",
      "    'conv1d_size4': 1,\n",
      "    'conv2d_dropout': 0.39284653096228883,\n",
      "    'conv2d_filter': 619,\n",
      "    'conv2d_size': 10}\n",
      "Sequential(\n",
      "  (0): Conv1d(619, 646, kernel_size=(9,), stride=(1,))\n",
      "  (1): ReLU()\n",
      "  (2): Dropout(p=0.11979171082190168, inplace=False)\n",
      "  (3): BatchNorm1d(646, eps=1e-05, momentum=0.1, affine=True, track_running_stats=True)\n",
      "  (4): Conv1d(646, 720, kernel_size=(4,), stride=(1,))\n",
      "  (5): ReLU()\n",
      "  (6): Dropout(p=0.30924786138082844, inplace=False)\n",
      "  (7): BatchNorm1d(720, eps=1e-05, momentum=0.1, affine=True, track_running_stats=True)\n",
      "  (8): Conv1d(720, 244, kernel_size=(4,), stride=(1,))\n",
      "  (9): ReLU()\n",
      "  (10): Dropout(p=0.4711255140086001, inplace=False)\n",
      "  (11): BatchNorm1d(244, eps=1e-05, momentum=0.1, affine=True, track_running_stats=True)\n",
      "  (12): Conv1d(244, 89, kernel_size=(1,), stride=(1,))\n",
      "  (13): ReLU()\n",
      "  (14): Dropout(p=0.29616471335443584, inplace=False)\n",
      "  (15): BatchNorm1d(89, eps=1e-05, momentum=0.1, affine=True, track_running_stats=True)\n",
      ")\n",
      "Flattened size: 267\n",
      "{'conv2d_size': 10, 'conv2d_filter': 619, 'conv2d_dropout': 0.39284653096228883, 'conv1d_size1': 9, 'conv1d_size2': 4, 'conv1d_size3': 4, 'conv1d_size4': 1, 'conv1d_filter1': 646, 'conv1d_filter2': 720, 'conv1d_filter3': 244, 'conv1d_filter4': 89, 'conv1d_dropout1': 0.11979171082190168, 'conv1d_dropout2': 0.30924786138082844, 'conv1d_dropout3': 0.4711255140086001, 'conv1d_dropout4': 0.29616471335443584, 'lin_size1': 147, 'lin_size2': 74, 'lin_dropout1': 0.34039545335059185, 'lin_dropout2': 0.1541740699421766, 'lr': 0.000665214022110889, 'batch_size': 256}\n"
     ]
    },
    {
     "output_type": "display_data",
     "data": {
      "text/plain": [
       "Validation sanity check: 0it [00:00, ?it/s]"
      ],
      "application/vnd.jupyter.widget-view+json": {
       "model_id": "",
       "version_major": 2,
       "version_minor": 0
      }
     },
     "metadata": {}
    },
    {
     "output_type": "display_data",
     "data": {
      "text/plain": [
       "Training: 0it [00:00, ?it/s]"
      ],
      "application/vnd.jupyter.widget-view+json": {
       "model_id": "c1aba27855084ec0b0335bd1c1371bce",
       "version_major": 2,
       "version_minor": 0
      }
     },
     "metadata": {}
    },
    {
     "output_type": "display_data",
     "data": {
      "text/plain": [
       "Validating: 0it [00:00, ?it/s]"
      ],
      "application/vnd.jupyter.widget-view+json": {
       "model_id": "",
       "version_major": 2,
       "version_minor": 0
      }
     },
     "metadata": {}
    },
    {
     "output_type": "display_data",
     "data": {
      "text/plain": [
       "Validating: 0it [00:00, ?it/s]"
      ],
      "application/vnd.jupyter.widget-view+json": {
       "model_id": "",
       "version_major": 2,
       "version_minor": 0
      }
     },
     "metadata": {}
    },
    {
     "output_type": "display_data",
     "data": {
      "text/plain": [
       "Validating: 0it [00:00, ?it/s]"
      ],
      "application/vnd.jupyter.widget-view+json": {
       "model_id": "",
       "version_major": 2,
       "version_minor": 0
      }
     },
     "metadata": {}
    },
    {
     "output_type": "display_data",
     "data": {
      "text/plain": [
       "Validating: 0it [00:00, ?it/s]"
      ],
      "application/vnd.jupyter.widget-view+json": {
       "model_id": "",
       "version_major": 2,
       "version_minor": 0
      }
     },
     "metadata": {}
    },
    {
     "output_type": "display_data",
     "data": {
      "text/plain": [
       "Validating: 0it [00:00, ?it/s]"
      ],
      "application/vnd.jupyter.widget-view+json": {
       "model_id": "",
       "version_major": 2,
       "version_minor": 0
      }
     },
     "metadata": {}
    },
    {
     "output_type": "stream",
     "name": "stderr",
     "text": [
      "GPU available: True, used: True\n",
      "TPU available: None, using: 0 TPU cores\n",
      "LOCAL_RANK: 0 - CUDA_VISIBLE_DEVICES: [0]\n",
      "\n",
      "  | Name         | Type       | Params\n",
      "--------------------------------------------\n",
      "0 | conv2d_block | Sequential | 40.6 K\n",
      "1 | conv1d_block | Sequential | 2.1 M \n",
      "2 | lin_block    | Sequential | 79.7 K\n",
      "--------------------------------------------\n",
      "2.2 M     Trainable params\n",
      "0         Non-trainable params\n",
      "2.2 M     Total params\n"
     ]
    },
    {
     "output_type": "stream",
     "name": "stdout",
     "text": [
      "\u001b[32m[I 2021-01-31 07:20:09,456]\u001b[0m Trial 77 finished with value: 84.14241027832031 and parameters: {'conv2d_size': 10, 'conv2d_filter': 619, 'conv2d_dropout': 0.39284653096228883, 'conv1d_size1': 9, 'conv1d_size2': 4, 'conv1d_size3': 4, 'conv1d_size4': 1, 'conv1d_filter1': 646, 'conv1d_filter2': 720, 'conv1d_filter3': 244, 'conv1d_filter4': 89, 'conv1d_dropout1': 0.11979171082190168, 'conv1d_dropout2': 0.30924786138082844, 'conv1d_dropout3': 0.4711255140086001, 'conv1d_dropout4': 0.29616471335443584, 'lin_size1': 147, 'lin_size2': 74, 'lin_dropout1': 0.34039545335059185, 'lin_dropout2': 0.1541740699421766, 'lr': 0.000665214022110889, 'batch_size': 256}. Best is trial 76 with value: 80.8285140991211.\u001b[0m\n",
      "Trial parameters:\n",
      "{   'conv1d_dropout1': 0.02888659742529872,\n",
      "    'conv1d_dropout2': 0.0033473094604648534,\n",
      "    'conv1d_dropout3': 0.039320717221222365,\n",
      "    'conv1d_dropout4': 0.40161926280137905,\n",
      "    'conv1d_filter1': 314,\n",
      "    'conv1d_filter2': 448,\n",
      "    'conv1d_filter3': 279,\n",
      "    'conv1d_filter4': 68,\n",
      "    'conv1d_size1': 7,\n",
      "    'conv1d_size2': 4,\n",
      "    'conv1d_size3': 3,\n",
      "    'conv1d_size4': 3,\n",
      "    'conv2d_dropout': 0.21428902968594898,\n",
      "    'conv2d_filter': 489,\n",
      "    'conv2d_size': 10}\n",
      "Sequential(\n",
      "  (0): Conv1d(489, 314, kernel_size=(7,), stride=(1,))\n",
      "  (1): ReLU()\n",
      "  (2): Dropout(p=0.02888659742529872, inplace=False)\n",
      "  (3): BatchNorm1d(314, eps=1e-05, momentum=0.1, affine=True, track_running_stats=True)\n",
      "  (4): Conv1d(314, 448, kernel_size=(4,), stride=(1,))\n",
      "  (5): ReLU()\n",
      "  (6): Dropout(p=0.0033473094604648534, inplace=False)\n",
      "  (7): BatchNorm1d(448, eps=1e-05, momentum=0.1, affine=True, track_running_stats=True)\n",
      "  (8): Conv1d(448, 279, kernel_size=(3,), stride=(1,))\n",
      "  (9): ReLU()\n",
      "  (10): Dropout(p=0.039320717221222365, inplace=False)\n",
      "  (11): BatchNorm1d(279, eps=1e-05, momentum=0.1, affine=True, track_running_stats=True)\n",
      "  (12): Conv1d(279, 68, kernel_size=(3,), stride=(1,))\n",
      "  (13): ReLU()\n",
      "  (14): Dropout(p=0.40161926280137905, inplace=False)\n",
      "  (15): BatchNorm1d(68, eps=1e-05, momentum=0.1, affine=True, track_running_stats=True)\n",
      ")\n",
      "Flattened size: 272\n",
      "{'conv2d_size': 10, 'conv2d_filter': 489, 'conv2d_dropout': 0.21428902968594898, 'conv1d_size1': 7, 'conv1d_size2': 4, 'conv1d_size3': 3, 'conv1d_size4': 3, 'conv1d_filter1': 314, 'conv1d_filter2': 448, 'conv1d_filter3': 279, 'conv1d_filter4': 68, 'conv1d_dropout1': 0.02888659742529872, 'conv1d_dropout2': 0.0033473094604648534, 'conv1d_dropout3': 0.039320717221222365, 'conv1d_dropout4': 0.40161926280137905, 'lin_size1': 208, 'lin_size2': 109, 'lin_dropout1': 0.46657290100391546, 'lin_dropout2': 0.1329698157030445, 'lr': 0.06051267970812566, 'batch_size': 1024}\n"
     ]
    },
    {
     "output_type": "display_data",
     "data": {
      "text/plain": [
       "Validation sanity check: 0it [00:00, ?it/s]"
      ],
      "application/vnd.jupyter.widget-view+json": {
       "model_id": "",
       "version_major": 2,
       "version_minor": 0
      }
     },
     "metadata": {}
    },
    {
     "output_type": "display_data",
     "data": {
      "text/plain": [
       "Training: 0it [00:00, ?it/s]"
      ],
      "application/vnd.jupyter.widget-view+json": {
       "model_id": "a8e7972256bd4c399e775f354ca86c96",
       "version_major": 2,
       "version_minor": 0
      }
     },
     "metadata": {}
    },
    {
     "output_type": "display_data",
     "data": {
      "text/plain": [
       "Validating: 0it [00:00, ?it/s]"
      ],
      "application/vnd.jupyter.widget-view+json": {
       "model_id": "",
       "version_major": 2,
       "version_minor": 0
      }
     },
     "metadata": {}
    },
    {
     "output_type": "display_data",
     "data": {
      "text/plain": [
       "Validating: 0it [00:00, ?it/s]"
      ],
      "application/vnd.jupyter.widget-view+json": {
       "model_id": "",
       "version_major": 2,
       "version_minor": 0
      }
     },
     "metadata": {}
    },
    {
     "output_type": "display_data",
     "data": {
      "text/plain": [
       "Validating: 0it [00:00, ?it/s]"
      ],
      "application/vnd.jupyter.widget-view+json": {
       "model_id": "",
       "version_major": 2,
       "version_minor": 0
      }
     },
     "metadata": {}
    },
    {
     "output_type": "display_data",
     "data": {
      "text/plain": [
       "Validating: 0it [00:00, ?it/s]"
      ],
      "application/vnd.jupyter.widget-view+json": {
       "model_id": "c8083aa3fe9b45b1b8f14b1f5ab345ef",
       "version_major": 2,
       "version_minor": 0
      }
     },
     "metadata": {}
    },
    {
     "output_type": "stream",
     "name": "stderr",
     "text": [
      "GPU available: True, used: True\n",
      "TPU available: None, using: 0 TPU cores\n",
      "LOCAL_RANK: 0 - CUDA_VISIBLE_DEVICES: [0]\n",
      "\n",
      "  | Name         | Type       | Params\n",
      "--------------------------------------------\n",
      "0 | conv2d_block | Sequential | 32.8 K\n",
      "1 | conv1d_block | Sequential | 3.6 M \n",
      "2 | lin_block    | Sequential | 71.3 K\n",
      "--------------------------------------------\n",
      "3.7 M     Trainable params\n",
      "0         Non-trainable params\n",
      "3.7 M     Total params\n"
     ]
    },
    {
     "output_type": "stream",
     "name": "stdout",
     "text": [
      "\u001b[32m[I 2021-01-31 08:10:06,411]\u001b[0m Trial 78 pruned. Trial was pruned at epoch 3.\u001b[0m\n",
      "Trial parameters:\n",
      "{   'conv1d_dropout1': 0.05148397702402113,\n",
      "    'conv1d_dropout2': 0.22808691091530592,\n",
      "    'conv1d_dropout3': 0.21913615223266955,\n",
      "    'conv1d_dropout4': 0.332681719549563,\n",
      "    'conv1d_filter1': 411,\n",
      "    'conv1d_filter2': 577,\n",
      "    'conv1d_filter3': 383,\n",
      "    'conv1d_filter4': 90,\n",
      "    'conv1d_size1': 8,\n",
      "    'conv1d_size2': 5,\n",
      "    'conv1d_size3': 4,\n",
      "    'conv1d_size4': 2,\n",
      "    'conv2d_dropout': 0.1577517724641574,\n",
      "    'conv2d_filter': 437,\n",
      "    'conv2d_size': 9}\n",
      "Sequential(\n",
      "  (0): Conv1d(437, 411, kernel_size=(8,), stride=(1,))\n",
      "  (1): ReLU()\n",
      "  (2): Dropout(p=0.05148397702402113, inplace=False)\n",
      "  (3): BatchNorm1d(411, eps=1e-05, momentum=0.1, affine=True, track_running_stats=True)\n",
      "  (4): Conv1d(411, 577, kernel_size=(5,), stride=(1,))\n",
      "  (5): ReLU()\n",
      "  (6): Dropout(p=0.22808691091530592, inplace=False)\n",
      "  (7): BatchNorm1d(577, eps=1e-05, momentum=0.1, affine=True, track_running_stats=True)\n",
      "  (8): Conv1d(577, 383, kernel_size=(4,), stride=(1,))\n",
      "  (9): ReLU()\n",
      "  (10): Dropout(p=0.21913615223266955, inplace=False)\n",
      "  (11): BatchNorm1d(383, eps=1e-05, momentum=0.1, affine=True, track_running_stats=True)\n",
      "  (12): Conv1d(383, 90, kernel_size=(2,), stride=(1,))\n",
      "  (13): ReLU()\n",
      "  (14): Dropout(p=0.332681719549563, inplace=False)\n",
      "  (15): BatchNorm1d(90, eps=1e-05, momentum=0.1, affine=True, track_running_stats=True)\n",
      ")\n",
      "Flattened size: 270\n",
      "{'conv2d_size': 9, 'conv2d_filter': 437, 'conv2d_dropout': 0.1577517724641574, 'conv1d_size1': 8, 'conv1d_size2': 5, 'conv1d_size3': 4, 'conv1d_size4': 2, 'conv1d_filter1': 411, 'conv1d_filter2': 577, 'conv1d_filter3': 383, 'conv1d_filter4': 90, 'conv1d_dropout1': 0.05148397702402113, 'conv1d_dropout2': 0.22808691091530592, 'conv1d_dropout3': 0.21913615223266955, 'conv1d_dropout4': 0.332681719549563, 'lin_size1': 198, 'lin_size2': 88, 'lin_dropout1': 0.3422911657764552, 'lin_dropout2': 0.39642260495932746, 'lr': 0.0006577752471987784, 'batch_size': 2048}\n"
     ]
    },
    {
     "output_type": "display_data",
     "data": {
      "text/plain": [
       "Validation sanity check: 0it [00:00, ?it/s]"
      ],
      "application/vnd.jupyter.widget-view+json": {
       "model_id": "",
       "version_major": 2,
       "version_minor": 0
      }
     },
     "metadata": {}
    },
    {
     "output_type": "display_data",
     "data": {
      "text/plain": [
       "Training: 0it [00:00, ?it/s]"
      ],
      "application/vnd.jupyter.widget-view+json": {
       "model_id": "66cc3b829f454b158b27d311956cb9c0",
       "version_major": 2,
       "version_minor": 0
      }
     },
     "metadata": {}
    },
    {
     "output_type": "display_data",
     "data": {
      "text/plain": [
       "Validating: 0it [00:00, ?it/s]"
      ],
      "application/vnd.jupyter.widget-view+json": {
       "model_id": "",
       "version_major": 2,
       "version_minor": 0
      }
     },
     "metadata": {}
    },
    {
     "output_type": "display_data",
     "data": {
      "text/plain": [
       "Validating: 0it [00:00, ?it/s]"
      ],
      "application/vnd.jupyter.widget-view+json": {
       "model_id": "",
       "version_major": 2,
       "version_minor": 0
      }
     },
     "metadata": {}
    },
    {
     "output_type": "display_data",
     "data": {
      "text/plain": [
       "Validating: 0it [00:00, ?it/s]"
      ],
      "application/vnd.jupyter.widget-view+json": {
       "model_id": "",
       "version_major": 2,
       "version_minor": 0
      }
     },
     "metadata": {}
    },
    {
     "output_type": "display_data",
     "data": {
      "text/plain": [
       "Validating: 0it [00:00, ?it/s]"
      ],
      "application/vnd.jupyter.widget-view+json": {
       "model_id": "",
       "version_major": 2,
       "version_minor": 0
      }
     },
     "metadata": {}
    },
    {
     "output_type": "display_data",
     "data": {
      "text/plain": [
       "Validating: 0it [00:00, ?it/s]"
      ],
      "application/vnd.jupyter.widget-view+json": {
       "model_id": "",
       "version_major": 2,
       "version_minor": 0
      }
     },
     "metadata": {}
    },
    {
     "output_type": "stream",
     "name": "stderr",
     "text": [
      "GPU available: True, used: True\n",
      "TPU available: None, using: 0 TPU cores\n",
      "LOCAL_RANK: 0 - CUDA_VISIBLE_DEVICES: [0]\n",
      "GPU available: True, used: True\n",
      "TPU available: None, using: 0 TPU cores\n",
      "LOCAL_RANK: 0 - CUDA_VISIBLE_DEVICES: [0]\n",
      "\n",
      "  | Name         | Type       | Params\n",
      "--------------------------------------------\n",
      "0 | conv2d_block | Sequential | 46.9 K\n",
      "1 | conv1d_block | Sequential | 6.6 M \n",
      "2 | lin_block    | Sequential | 52.8 K\n",
      "--------------------------------------------\n",
      "6.7 M     Trainable params\n",
      "0         Non-trainable params\n",
      "6.7 M     Total params\n"
     ]
    },
    {
     "output_type": "stream",
     "name": "stdout",
     "text": [
      "\u001b[32m[I 2021-01-31 09:48:59,989]\u001b[0m Trial 79 finished with value: 82.03873443603516 and parameters: {'conv2d_size': 9, 'conv2d_filter': 437, 'conv2d_dropout': 0.1577517724641574, 'conv1d_size1': 8, 'conv1d_size2': 5, 'conv1d_size3': 4, 'conv1d_size4': 2, 'conv1d_filter1': 411, 'conv1d_filter2': 577, 'conv1d_filter3': 383, 'conv1d_filter4': 90, 'conv1d_dropout1': 0.05148397702402113, 'conv1d_dropout2': 0.22808691091530592, 'conv1d_dropout3': 0.21913615223266955, 'conv1d_dropout4': 0.332681719549563, 'lin_size1': 198, 'lin_size2': 88, 'lin_dropout1': 0.3422911657764552, 'lin_dropout2': 0.39642260495932746, 'lr': 0.0006577752471987784, 'batch_size': 2048}. Best is trial 76 with value: 80.8285140991211.\u001b[0m\n",
      "\u001b[32m[I 2021-01-31 09:49:00,025]\u001b[0m Trial 80 pruned. \u001b[0m\n",
      "Trial parameters:\n",
      "{   'conv1d_dropout1': 0.10883638250779426,\n",
      "    'conv1d_dropout2': 0.27794312634218976,\n",
      "    'conv1d_dropout3': 0.47519814233486685,\n",
      "    'conv1d_dropout4': 0.2967395907652144,\n",
      "    'conv1d_filter1': 726,\n",
      "    'conv1d_filter2': 747,\n",
      "    'conv1d_filter3': 247,\n",
      "    'conv1d_filter4': 91,\n",
      "    'conv1d_size1': 9,\n",
      "    'conv1d_size2': 4,\n",
      "    'conv1d_size3': 4,\n",
      "    'conv1d_size4': 1,\n",
      "    'conv2d_dropout': 0.34258336513511195,\n",
      "    'conv2d_filter': 565,\n",
      "    'conv2d_size': 10}\n",
      "Sequential(\n",
      "  (0): Conv1d(565, 726, kernel_size=(9,), stride=(1,))\n",
      "  (1): ReLU()\n",
      "  (2): Dropout(p=0.10883638250779426, inplace=False)\n",
      "  (3): BatchNorm1d(726, eps=1e-05, momentum=0.1, affine=True, track_running_stats=True)\n",
      "  (4): Conv1d(726, 747, kernel_size=(4,), stride=(1,))\n",
      "  (5): ReLU()\n",
      "  (6): Dropout(p=0.27794312634218976, inplace=False)\n",
      "  (7): BatchNorm1d(747, eps=1e-05, momentum=0.1, affine=True, track_running_stats=True)\n",
      "  (8): Conv1d(747, 247, kernel_size=(4,), stride=(1,))\n",
      "  (9): ReLU()\n",
      "  (10): Dropout(p=0.47519814233486685, inplace=False)\n",
      "  (11): BatchNorm1d(247, eps=1e-05, momentum=0.1, affine=True, track_running_stats=True)\n",
      "  (12): Conv1d(247, 91, kernel_size=(1,), stride=(1,))\n",
      "  (13): ReLU()\n",
      "  (14): Dropout(p=0.2967395907652144, inplace=False)\n",
      "  (15): BatchNorm1d(91, eps=1e-05, momentum=0.1, affine=True, track_running_stats=True)\n",
      ")\n",
      "Flattened size: 273\n",
      "{'conv2d_size': 10, 'conv2d_filter': 565, 'conv2d_dropout': 0.34258336513511195, 'conv1d_size1': 9, 'conv1d_size2': 4, 'conv1d_size3': 4, 'conv1d_size4': 1, 'conv1d_filter1': 726, 'conv1d_filter2': 747, 'conv1d_filter3': 247, 'conv1d_filter4': 91, 'conv1d_dropout1': 0.10883638250779426, 'conv1d_dropout2': 0.27794312634218976, 'conv1d_dropout3': 0.47519814233486685, 'conv1d_dropout4': 0.2967395907652144, 'lin_size1': 150, 'lin_size2': 77, 'lin_dropout1': 0.33711653370051753, 'lin_dropout2': 0.16654157712802029, 'lr': 0.00016350237227577414, 'batch_size': 256}\n"
     ]
    },
    {
     "output_type": "display_data",
     "data": {
      "text/plain": [
       "Validation sanity check: 0it [00:00, ?it/s]"
      ],
      "application/vnd.jupyter.widget-view+json": {
       "model_id": "",
       "version_major": 2,
       "version_minor": 0
      }
     },
     "metadata": {}
    },
    {
     "output_type": "display_data",
     "data": {
      "text/plain": [
       "Training: 0it [00:00, ?it/s]"
      ],
      "application/vnd.jupyter.widget-view+json": {
       "model_id": "48a78278821e40d69d8d8fb444ae833c",
       "version_major": 2,
       "version_minor": 0
      }
     },
     "metadata": {}
    },
    {
     "output_type": "display_data",
     "data": {
      "text/plain": [
       "Validating: 0it [00:00, ?it/s]"
      ],
      "application/vnd.jupyter.widget-view+json": {
       "model_id": "",
       "version_major": 2,
       "version_minor": 0
      }
     },
     "metadata": {}
    },
    {
     "output_type": "display_data",
     "data": {
      "text/plain": [
       "Validating: 0it [00:00, ?it/s]"
      ],
      "application/vnd.jupyter.widget-view+json": {
       "model_id": "",
       "version_major": 2,
       "version_minor": 0
      }
     },
     "metadata": {}
    },
    {
     "output_type": "display_data",
     "data": {
      "text/plain": [
       "Validating: 0it [00:00, ?it/s]"
      ],
      "application/vnd.jupyter.widget-view+json": {
       "model_id": "",
       "version_major": 2,
       "version_minor": 0
      }
     },
     "metadata": {}
    },
    {
     "output_type": "display_data",
     "data": {
      "text/plain": [
       "Validating: 0it [00:00, ?it/s]"
      ],
      "application/vnd.jupyter.widget-view+json": {
       "model_id": "",
       "version_major": 2,
       "version_minor": 0
      }
     },
     "metadata": {}
    },
    {
     "output_type": "display_data",
     "data": {
      "text/plain": [
       "Validating: 0it [00:00, ?it/s]"
      ],
      "application/vnd.jupyter.widget-view+json": {
       "model_id": "",
       "version_major": 2,
       "version_minor": 0
      }
     },
     "metadata": {}
    },
    {
     "output_type": "stream",
     "name": "stderr",
     "text": [
      "GPU available: True, used: True\n",
      "TPU available: None, using: 0 TPU cores\n",
      "LOCAL_RANK: 0 - CUDA_VISIBLE_DEVICES: [0]\n",
      "\n",
      "  | Name         | Type       | Params\n",
      "--------------------------------------------\n",
      "0 | conv2d_block | Sequential | 24.2 K\n",
      "1 | conv1d_block | Sequential | 3.6 M \n",
      "2 | lin_block    | Sequential | 369 K \n",
      "--------------------------------------------\n",
      "4.0 M     Trainable params\n",
      "0         Non-trainable params\n",
      "4.0 M     Total params\n"
     ]
    },
    {
     "output_type": "stream",
     "name": "stdout",
     "text": [
      "\u001b[32m[I 2021-01-31 12:57:51,277]\u001b[0m Trial 81 finished with value: 85.66092681884766 and parameters: {'conv2d_size': 10, 'conv2d_filter': 565, 'conv2d_dropout': 0.34258336513511195, 'conv1d_size1': 9, 'conv1d_size2': 4, 'conv1d_size3': 4, 'conv1d_size4': 1, 'conv1d_filter1': 726, 'conv1d_filter2': 747, 'conv1d_filter3': 247, 'conv1d_filter4': 91, 'conv1d_dropout1': 0.10883638250779426, 'conv1d_dropout2': 0.27794312634218976, 'conv1d_dropout3': 0.47519814233486685, 'conv1d_dropout4': 0.2967395907652144, 'lin_size1': 150, 'lin_size2': 77, 'lin_dropout1': 0.33711653370051753, 'lin_dropout2': 0.16654157712802029, 'lr': 0.00016350237227577414, 'batch_size': 256}. Best is trial 76 with value: 80.8285140991211.\u001b[0m\n",
      "Trial parameters:\n",
      "{   'conv1d_dropout1': 0.04243359050788811,\n",
      "    'conv1d_dropout2': 0.21962329652995294,\n",
      "    'conv1d_dropout3': 0.21086526281109447,\n",
      "    'conv1d_dropout4': 0.22441727564944686,\n",
      "    'conv1d_filter1': 480,\n",
      "    'conv1d_filter2': 720,\n",
      "    'conv1d_filter3': 332,\n",
      "    'conv1d_filter4': 97,\n",
      "    'conv1d_size1': 7,\n",
      "    'conv1d_size2': 5,\n",
      "    'conv1d_size3': 3,\n",
      "    'conv1d_size4': 1,\n",
      "    'conv2d_dropout': 0.23009529341314683,\n",
      "    'conv2d_filter': 323,\n",
      "    'conv2d_size': 9}\n",
      "Sequential(\n",
      "  (0): Conv1d(323, 480, kernel_size=(7,), stride=(1,))\n",
      "  (1): ReLU()\n",
      "  (2): Dropout(p=0.04243359050788811, inplace=False)\n",
      "  (3): BatchNorm1d(480, eps=1e-05, momentum=0.1, affine=True, track_running_stats=True)\n",
      "  (4): Conv1d(480, 720, kernel_size=(5,), stride=(1,))\n",
      "  (5): ReLU()\n",
      "  (6): Dropout(p=0.21962329652995294, inplace=False)\n",
      "  (7): BatchNorm1d(720, eps=1e-05, momentum=0.1, affine=True, track_running_stats=True)\n",
      "  (8): Conv1d(720, 332, kernel_size=(3,), stride=(1,))\n",
      "  (9): ReLU()\n",
      "  (10): Dropout(p=0.21086526281109447, inplace=False)\n",
      "  (11): BatchNorm1d(332, eps=1e-05, momentum=0.1, affine=True, track_running_stats=True)\n",
      "  (12): Conv1d(332, 97, kernel_size=(1,), stride=(1,))\n",
      "  (13): ReLU()\n",
      "  (14): Dropout(p=0.22441727564944686, inplace=False)\n",
      "  (15): BatchNorm1d(97, eps=1e-05, momentum=0.1, affine=True, track_running_stats=True)\n",
      ")\n",
      "Flattened size: 582\n",
      "{'conv2d_size': 9, 'conv2d_filter': 323, 'conv2d_dropout': 0.23009529341314683, 'conv1d_size1': 7, 'conv1d_size2': 5, 'conv1d_size3': 3, 'conv1d_size4': 1, 'conv1d_filter1': 480, 'conv1d_filter2': 720, 'conv1d_filter3': 332, 'conv1d_filter4': 97, 'conv1d_dropout1': 0.04243359050788811, 'conv1d_dropout2': 0.21962329652995294, 'conv1d_dropout3': 0.21086526281109447, 'conv1d_dropout4': 0.22441727564944686, 'lin_size1': 487, 'lin_size2': 176, 'lin_dropout1': 0.36538115626102385, 'lin_dropout2': 0.4839154182758868, 'lr': 0.0006864346497549961, 'batch_size': 2048}\n"
     ]
    },
    {
     "output_type": "display_data",
     "data": {
      "text/plain": [
       "Validation sanity check: 0it [00:00, ?it/s]"
      ],
      "application/vnd.jupyter.widget-view+json": {
       "model_id": "",
       "version_major": 2,
       "version_minor": 0
      }
     },
     "metadata": {}
    },
    {
     "output_type": "display_data",
     "data": {
      "text/plain": [
       "Training: 0it [00:00, ?it/s]"
      ],
      "application/vnd.jupyter.widget-view+json": {
       "model_id": "6826622ba51643b19f3f088262d2a5f9",
       "version_major": 2,
       "version_minor": 0
      }
     },
     "metadata": {}
    },
    {
     "output_type": "display_data",
     "data": {
      "text/plain": [
       "Validating: 0it [00:00, ?it/s]"
      ],
      "application/vnd.jupyter.widget-view+json": {
       "model_id": "",
       "version_major": 2,
       "version_minor": 0
      }
     },
     "metadata": {}
    },
    {
     "output_type": "display_data",
     "data": {
      "text/plain": [
       "Validating: 0it [00:00, ?it/s]"
      ],
      "application/vnd.jupyter.widget-view+json": {
       "model_id": "",
       "version_major": 2,
       "version_minor": 0
      }
     },
     "metadata": {}
    },
    {
     "output_type": "display_data",
     "data": {
      "text/plain": [
       "Validating: 0it [00:00, ?it/s]"
      ],
      "application/vnd.jupyter.widget-view+json": {
       "model_id": "",
       "version_major": 2,
       "version_minor": 0
      }
     },
     "metadata": {}
    },
    {
     "output_type": "display_data",
     "data": {
      "text/plain": [
       "Validating: 0it [00:00, ?it/s]"
      ],
      "application/vnd.jupyter.widget-view+json": {
       "model_id": "",
       "version_major": 2,
       "version_minor": 0
      }
     },
     "metadata": {}
    },
    {
     "output_type": "display_data",
     "data": {
      "text/plain": [
       "Validating: 0it [00:00, ?it/s]"
      ],
      "application/vnd.jupyter.widget-view+json": {
       "model_id": "",
       "version_major": 2,
       "version_minor": 0
      }
     },
     "metadata": {}
    },
    {
     "output_type": "stream",
     "name": "stderr",
     "text": [
      "GPU available: True, used: True\n",
      "TPU available: None, using: 0 TPU cores\n",
      "LOCAL_RANK: 0 - CUDA_VISIBLE_DEVICES: [0]\n",
      "\n",
      "  | Name         | Type       | Params\n",
      "--------------------------------------------\n",
      "0 | conv2d_block | Sequential | 31.7 K\n",
      "1 | conv1d_block | Sequential | 3.8 M \n",
      "2 | lin_block    | Sequential | 113 K \n",
      "--------------------------------------------\n",
      "4.0 M     Trainable params\n",
      "0         Non-trainable params\n",
      "4.0 M     Total params\n"
     ]
    },
    {
     "output_type": "stream",
     "name": "stdout",
     "text": [
      "\u001b[32m[I 2021-01-31 14:40:14,579]\u001b[0m Trial 82 finished with value: 87.23870086669922 and parameters: {'conv2d_size': 9, 'conv2d_filter': 323, 'conv2d_dropout': 0.23009529341314683, 'conv1d_size1': 7, 'conv1d_size2': 5, 'conv1d_size3': 3, 'conv1d_size4': 1, 'conv1d_filter1': 480, 'conv1d_filter2': 720, 'conv1d_filter3': 332, 'conv1d_filter4': 97, 'conv1d_dropout1': 0.04243359050788811, 'conv1d_dropout2': 0.21962329652995294, 'conv1d_dropout3': 0.21086526281109447, 'conv1d_dropout4': 0.22441727564944686, 'lin_size1': 487, 'lin_size2': 176, 'lin_dropout1': 0.36538115626102385, 'lin_dropout2': 0.4839154182758868, 'lr': 0.0006864346497549961, 'batch_size': 2048}. Best is trial 76 with value: 80.8285140991211.\u001b[0m\n",
      "Trial parameters:\n",
      "{   'conv1d_dropout1': 0.2303698907458518,\n",
      "    'conv1d_dropout2': 0.27659609015315373,\n",
      "    'conv1d_dropout3': 0.2990430291308321,\n",
      "    'conv1d_dropout4': 0.2993488646546929,\n",
      "    'conv1d_filter1': 553,\n",
      "    'conv1d_filter2': 598,\n",
      "    'conv1d_filter3': 250,\n",
      "    'conv1d_filter4': 88,\n",
      "    'conv1d_size1': 8,\n",
      "    'conv1d_size2': 5,\n",
      "    'conv1d_size3': 3,\n",
      "    'conv1d_size4': 1,\n",
      "    'conv2d_dropout': 0.192492604790732,\n",
      "    'conv2d_filter': 382,\n",
      "    'conv2d_size': 10}\n",
      "Sequential(\n",
      "  (0): Conv1d(382, 553, kernel_size=(8,), stride=(1,))\n",
      "  (1): ReLU()\n",
      "  (2): Dropout(p=0.2303698907458518, inplace=False)\n",
      "  (3): BatchNorm1d(553, eps=1e-05, momentum=0.1, affine=True, track_running_stats=True)\n",
      "  (4): Conv1d(553, 598, kernel_size=(5,), stride=(1,))\n",
      "  (5): ReLU()\n",
      "  (6): Dropout(p=0.27659609015315373, inplace=False)\n",
      "  (7): BatchNorm1d(598, eps=1e-05, momentum=0.1, affine=True, track_running_stats=True)\n",
      "  (8): Conv1d(598, 250, kernel_size=(3,), stride=(1,))\n",
      "  (9): ReLU()\n",
      "  (10): Dropout(p=0.2990430291308321, inplace=False)\n",
      "  (11): BatchNorm1d(250, eps=1e-05, momentum=0.1, affine=True, track_running_stats=True)\n",
      "  (12): Conv1d(250, 88, kernel_size=(1,), stride=(1,))\n",
      "  (13): ReLU()\n",
      "  (14): Dropout(p=0.2993488646546929, inplace=False)\n",
      "  (15): BatchNorm1d(88, eps=1e-05, momentum=0.1, affine=True, track_running_stats=True)\n",
      ")\n",
      "Flattened size: 352\n",
      "{'conv2d_size': 10, 'conv2d_filter': 382, 'conv2d_dropout': 0.192492604790732, 'conv1d_size1': 8, 'conv1d_size2': 5, 'conv1d_size3': 3, 'conv1d_size4': 1, 'conv1d_filter1': 553, 'conv1d_filter2': 598, 'conv1d_filter3': 250, 'conv1d_filter4': 88, 'conv1d_dropout1': 0.2303698907458518, 'conv1d_dropout2': 0.27659609015315373, 'conv1d_dropout3': 0.2990430291308321, 'conv1d_dropout4': 0.2993488646546929, 'lin_size1': 254, 'lin_size2': 94, 'lin_dropout1': 0.43363230700815175, 'lin_dropout2': 0.4134430327736449, 'lr': 0.0006562757245394714, 'batch_size': 2048}\n"
     ]
    },
    {
     "output_type": "display_data",
     "data": {
      "text/plain": [
       "Validation sanity check: 0it [00:00, ?it/s]"
      ],
      "application/vnd.jupyter.widget-view+json": {
       "model_id": "",
       "version_major": 2,
       "version_minor": 0
      }
     },
     "metadata": {}
    },
    {
     "output_type": "display_data",
     "data": {
      "text/plain": [
       "Training: 0it [00:00, ?it/s]"
      ],
      "application/vnd.jupyter.widget-view+json": {
       "model_id": "e026449b3d164a6693973a9b34f22f09",
       "version_major": 2,
       "version_minor": 0
      }
     },
     "metadata": {}
    },
    {
     "output_type": "display_data",
     "data": {
      "text/plain": [
       "Validating: 0it [00:00, ?it/s]"
      ],
      "application/vnd.jupyter.widget-view+json": {
       "model_id": "",
       "version_major": 2,
       "version_minor": 0
      }
     },
     "metadata": {}
    },
    {
     "output_type": "display_data",
     "data": {
      "text/plain": [
       "Validating: 0it [00:00, ?it/s]"
      ],
      "application/vnd.jupyter.widget-view+json": {
       "model_id": "",
       "version_major": 2,
       "version_minor": 0
      }
     },
     "metadata": {}
    },
    {
     "output_type": "display_data",
     "data": {
      "text/plain": [
       "Validating: 0it [00:00, ?it/s]"
      ],
      "application/vnd.jupyter.widget-view+json": {
       "model_id": "",
       "version_major": 2,
       "version_minor": 0
      }
     },
     "metadata": {}
    },
    {
     "output_type": "display_data",
     "data": {
      "text/plain": [
       "Validating: 0it [00:00, ?it/s]"
      ],
      "application/vnd.jupyter.widget-view+json": {
       "model_id": "e87b6ab8fa404edeaa48fd02db141610",
       "version_major": 2,
       "version_minor": 0
      }
     },
     "metadata": {}
    },
    {
     "output_type": "stream",
     "name": "stderr",
     "text": [
      "GPU available: True, used: True\n",
      "TPU available: None, using: 0 TPU cores\n",
      "LOCAL_RANK: 0 - CUDA_VISIBLE_DEVICES: [0]\n",
      "\n",
      "  | Name         | Type       | Params\n",
      "--------------------------------------------\n",
      "0 | conv2d_block | Sequential | 33.6 K\n",
      "1 | conv1d_block | Sequential | 3.2 M \n",
      "2 | lin_block    | Sequential | 69.2 K\n",
      "--------------------------------------------\n",
      "3.3 M     Trainable params\n",
      "0         Non-trainable params\n",
      "3.3 M     Total params\n"
     ]
    },
    {
     "output_type": "stream",
     "name": "stdout",
     "text": [
      "\u001b[32m[I 2021-01-31 16:23:00,019]\u001b[0m Trial 83 pruned. Trial was pruned at epoch 3.\u001b[0m\n",
      "Trial parameters:\n",
      "{   'conv1d_dropout1': 0.09889033299882719,\n",
      "    'conv1d_dropout2': 0.13478950398606626,\n",
      "    'conv1d_dropout3': 0.3501551487887705,\n",
      "    'conv1d_dropout4': 0.11420724704793,\n",
      "    'conv1d_filter1': 344,\n",
      "    'conv1d_filter2': 643,\n",
      "    'conv1d_filter3': 314,\n",
      "    'conv1d_filter4': 79,\n",
      "    'conv1d_size1': 8,\n",
      "    'conv1d_size2': 5,\n",
      "    'conv1d_size3': 4,\n",
      "    'conv1d_size4': 2,\n",
      "    'conv2d_dropout': 0.247365834902699,\n",
      "    'conv2d_filter': 448,\n",
      "    'conv2d_size': 9}\n",
      "Sequential(\n",
      "  (0): Conv1d(448, 344, kernel_size=(8,), stride=(1,))\n",
      "  (1): ReLU()\n",
      "  (2): Dropout(p=0.09889033299882719, inplace=False)\n",
      "  (3): BatchNorm1d(344, eps=1e-05, momentum=0.1, affine=True, track_running_stats=True)\n",
      "  (4): Conv1d(344, 643, kernel_size=(5,), stride=(1,))\n",
      "  (5): ReLU()\n",
      "  (6): Dropout(p=0.13478950398606626, inplace=False)\n",
      "  (7): BatchNorm1d(643, eps=1e-05, momentum=0.1, affine=True, track_running_stats=True)\n",
      "  (8): Conv1d(643, 314, kernel_size=(4,), stride=(1,))\n",
      "  (9): ReLU()\n",
      "  (10): Dropout(p=0.3501551487887705, inplace=False)\n",
      "  (11): BatchNorm1d(314, eps=1e-05, momentum=0.1, affine=True, track_running_stats=True)\n",
      "  (12): Conv1d(314, 79, kernel_size=(2,), stride=(1,))\n",
      "  (13): ReLU()\n",
      "  (14): Dropout(p=0.11420724704793, inplace=False)\n",
      "  (15): BatchNorm1d(79, eps=1e-05, momentum=0.1, affine=True, track_running_stats=True)\n",
      ")\n",
      "Flattened size: 237\n",
      "{'conv2d_size': 9, 'conv2d_filter': 448, 'conv2d_dropout': 0.247365834902699, 'conv1d_size1': 8, 'conv1d_size2': 5, 'conv1d_size3': 4, 'conv1d_size4': 2, 'conv1d_filter1': 344, 'conv1d_filter2': 643, 'conv1d_filter3': 314, 'conv1d_filter4': 79, 'conv1d_dropout1': 0.09889033299882719, 'conv1d_dropout2': 0.13478950398606626, 'conv1d_dropout3': 0.3501551487887705, 'conv1d_dropout4': 0.11420724704793, 'lin_size1': 190, 'lin_size2': 125, 'lin_dropout1': 0.3225756511509464, 'lin_dropout2': 0.19476522118128722, 'lr': 0.009893541525951765, 'batch_size': 1024}\n"
     ]
    },
    {
     "output_type": "display_data",
     "data": {
      "text/plain": [
       "Validation sanity check: 0it [00:00, ?it/s]"
      ],
      "application/vnd.jupyter.widget-view+json": {
       "model_id": "",
       "version_major": 2,
       "version_minor": 0
      }
     },
     "metadata": {}
    },
    {
     "output_type": "display_data",
     "data": {
      "text/plain": [
       "Training: 0it [00:00, ?it/s]"
      ],
      "application/vnd.jupyter.widget-view+json": {
       "model_id": "1f73c90e94d849639dd54dbd4551dc34",
       "version_major": 2,
       "version_minor": 0
      }
     },
     "metadata": {}
    },
    {
     "output_type": "display_data",
     "data": {
      "text/plain": [
       "Validating: 0it [00:00, ?it/s]"
      ],
      "application/vnd.jupyter.widget-view+json": {
       "model_id": "",
       "version_major": 2,
       "version_minor": 0
      }
     },
     "metadata": {}
    },
    {
     "output_type": "display_data",
     "data": {
      "text/plain": [
       "Validating: 0it [00:00, ?it/s]"
      ],
      "application/vnd.jupyter.widget-view+json": {
       "model_id": "",
       "version_major": 2,
       "version_minor": 0
      }
     },
     "metadata": {}
    },
    {
     "output_type": "display_data",
     "data": {
      "text/plain": [
       "Validating: 0it [00:00, ?it/s]"
      ],
      "application/vnd.jupyter.widget-view+json": {
       "model_id": "",
       "version_major": 2,
       "version_minor": 0
      }
     },
     "metadata": {}
    },
    {
     "output_type": "display_data",
     "data": {
      "text/plain": [
       "Validating: 0it [00:00, ?it/s]"
      ],
      "application/vnd.jupyter.widget-view+json": {
       "model_id": "fdf20bd2fb5c42d6b7f52dad40f7d240",
       "version_major": 2,
       "version_minor": 0
      }
     },
     "metadata": {}
    },
    {
     "output_type": "stream",
     "name": "stderr",
     "text": [
      "GPU available: True, used: True\n",
      "TPU available: None, using: 0 TPU cores\n",
      "LOCAL_RANK: 0 - CUDA_VISIBLE_DEVICES: [0]\n",
      "\n",
      "  | Name         | Type       | Params\n",
      "--------------------------------------------\n",
      "0 | conv2d_block | Sequential | 46.6 K\n",
      "1 | conv1d_block | Sequential | 6.6 M \n",
      "2 | lin_block    | Sequential | 55.3 K\n",
      "--------------------------------------------\n",
      "6.7 M     Trainable params\n",
      "0         Non-trainable params\n",
      "6.7 M     Total params\n"
     ]
    },
    {
     "output_type": "stream",
     "name": "stdout",
     "text": [
      "\u001b[32m[I 2021-01-31 17:32:41,620]\u001b[0m Trial 84 pruned. Trial was pruned at epoch 3.\u001b[0m\n",
      "Trial parameters:\n",
      "{   'conv1d_dropout1': 0.1325520490631819,\n",
      "    'conv1d_dropout2': 0.2810422735237439,\n",
      "    'conv1d_dropout3': 0.4737108081365941,\n",
      "    'conv1d_dropout4': 0.33597660686580527,\n",
      "    'conv1d_filter1': 731,\n",
      "    'conv1d_filter2': 749,\n",
      "    'conv1d_filter3': 235,\n",
      "    'conv1d_filter4': 92,\n",
      "    'conv1d_size1': 9,\n",
      "    'conv1d_size2': 4,\n",
      "    'conv1d_size3': 4,\n",
      "    'conv1d_size4': 1,\n",
      "    'conv2d_dropout': 0.34352166134550655,\n",
      "    'conv2d_filter': 561,\n",
      "    'conv2d_size': 10}\n",
      "Sequential(\n",
      "  (0): Conv1d(561, 731, kernel_size=(9,), stride=(1,))\n",
      "  (1): ReLU()\n",
      "  (2): Dropout(p=0.1325520490631819, inplace=False)\n",
      "  (3): BatchNorm1d(731, eps=1e-05, momentum=0.1, affine=True, track_running_stats=True)\n",
      "  (4): Conv1d(731, 749, kernel_size=(4,), stride=(1,))\n",
      "  (5): ReLU()\n",
      "  (6): Dropout(p=0.2810422735237439, inplace=False)\n",
      "  (7): BatchNorm1d(749, eps=1e-05, momentum=0.1, affine=True, track_running_stats=True)\n",
      "  (8): Conv1d(749, 235, kernel_size=(4,), stride=(1,))\n",
      "  (9): ReLU()\n",
      "  (10): Dropout(p=0.4737108081365941, inplace=False)\n",
      "  (11): BatchNorm1d(235, eps=1e-05, momentum=0.1, affine=True, track_running_stats=True)\n",
      "  (12): Conv1d(235, 92, kernel_size=(1,), stride=(1,))\n",
      "  (13): ReLU()\n",
      "  (14): Dropout(p=0.33597660686580527, inplace=False)\n",
      "  (15): BatchNorm1d(92, eps=1e-05, momentum=0.1, affine=True, track_running_stats=True)\n",
      ")\n",
      "Flattened size: 276\n",
      "{'conv2d_size': 10, 'conv2d_filter': 561, 'conv2d_dropout': 0.34352166134550655, 'conv1d_size1': 9, 'conv1d_size2': 4, 'conv1d_size3': 4, 'conv1d_size4': 1, 'conv1d_filter1': 731, 'conv1d_filter2': 749, 'conv1d_filter3': 235, 'conv1d_filter4': 92, 'conv1d_dropout1': 0.1325520490631819, 'conv1d_dropout2': 0.2810422735237439, 'conv1d_dropout3': 0.4737108081365941, 'conv1d_dropout4': 0.33597660686580527, 'lin_size1': 154, 'lin_size2': 81, 'lin_dropout1': 0.3202280682014475, 'lin_dropout2': 0.2643716598868565, 'lr': 0.00011111926141751512, 'batch_size': 256}\n"
     ]
    },
    {
     "output_type": "display_data",
     "data": {
      "text/plain": [
       "Validation sanity check: 0it [00:00, ?it/s]"
      ],
      "application/vnd.jupyter.widget-view+json": {
       "model_id": "",
       "version_major": 2,
       "version_minor": 0
      }
     },
     "metadata": {}
    },
    {
     "output_type": "display_data",
     "data": {
      "text/plain": [
       "Training: 0it [00:00, ?it/s]"
      ],
      "application/vnd.jupyter.widget-view+json": {
       "model_id": "0bcebe8089614a858d900a780ab1eeae",
       "version_major": 2,
       "version_minor": 0
      }
     },
     "metadata": {}
    },
    {
     "output_type": "display_data",
     "data": {
      "text/plain": [
       "Validating: 0it [00:00, ?it/s]"
      ],
      "application/vnd.jupyter.widget-view+json": {
       "model_id": "",
       "version_major": 2,
       "version_minor": 0
      }
     },
     "metadata": {}
    },
    {
     "output_type": "display_data",
     "data": {
      "text/plain": [
       "Validating: 0it [00:00, ?it/s]"
      ],
      "application/vnd.jupyter.widget-view+json": {
       "model_id": "34e92f8c84b14845af7f920437efc062",
       "version_major": 2,
       "version_minor": 0
      }
     },
     "metadata": {}
    },
    {
     "output_type": "stream",
     "name": "stderr",
     "text": [
      "GPU available: True, used: True\n",
      "TPU available: None, using: 0 TPU cores\n",
      "LOCAL_RANK: 0 - CUDA_VISIBLE_DEVICES: [0]\n",
      "GPU available: True, used: True\n",
      "TPU available: None, using: 0 TPU cores\n",
      "LOCAL_RANK: 0 - CUDA_VISIBLE_DEVICES: [0]\n",
      "\n",
      "  | Name         | Type       | Params\n",
      "--------------------------------------------\n",
      "0 | conv2d_block | Sequential | 37.9 K\n",
      "1 | conv1d_block | Sequential | 3.5 M \n",
      "2 | lin_block    | Sequential | 53.4 K\n",
      "--------------------------------------------\n",
      "3.5 M     Trainable params\n",
      "0         Non-trainable params\n",
      "3.5 M     Total params\n"
     ]
    },
    {
     "output_type": "stream",
     "name": "stdout",
     "text": [
      "\u001b[32m[I 2021-01-31 18:48:12,015]\u001b[0m Trial 85 pruned. Trial was pruned at epoch 1.\u001b[0m\n",
      "\u001b[32m[I 2021-01-31 18:48:12,058]\u001b[0m Trial 86 pruned. \u001b[0m\n",
      "Trial parameters:\n",
      "{   'conv1d_dropout1': 0.04147146278663286,\n",
      "    'conv1d_dropout2': 0.06977370076443168,\n",
      "    'conv1d_dropout3': 0.16677202124904983,\n",
      "    'conv1d_dropout4': 0.3793807228173023,\n",
      "    'conv1d_filter1': 417,\n",
      "    'conv1d_filter2': 528,\n",
      "    'conv1d_filter3': 380,\n",
      "    'conv1d_filter4': 74,\n",
      "    'conv1d_size1': 8,\n",
      "    'conv1d_size2': 4,\n",
      "    'conv1d_size3': 4,\n",
      "    'conv1d_size4': 3,\n",
      "    'conv2d_dropout': 0.14172354323479155,\n",
      "    'conv2d_filter': 505,\n",
      "    'conv2d_size': 9}\n",
      "Sequential(\n",
      "  (0): Conv1d(505, 417, kernel_size=(8,), stride=(1,))\n",
      "  (1): ReLU()\n",
      "  (2): Dropout(p=0.04147146278663286, inplace=False)\n",
      "  (3): BatchNorm1d(417, eps=1e-05, momentum=0.1, affine=True, track_running_stats=True)\n",
      "  (4): Conv1d(417, 528, kernel_size=(4,), stride=(1,))\n",
      "  (5): ReLU()\n",
      "  (6): Dropout(p=0.06977370076443168, inplace=False)\n",
      "  (7): BatchNorm1d(528, eps=1e-05, momentum=0.1, affine=True, track_running_stats=True)\n",
      "  (8): Conv1d(528, 380, kernel_size=(4,), stride=(1,))\n",
      "  (9): ReLU()\n",
      "  (10): Dropout(p=0.16677202124904983, inplace=False)\n",
      "  (11): BatchNorm1d(380, eps=1e-05, momentum=0.1, affine=True, track_running_stats=True)\n",
      "  (12): Conv1d(380, 74, kernel_size=(3,), stride=(1,))\n",
      "  (13): ReLU()\n",
      "  (14): Dropout(p=0.3793807228173023, inplace=False)\n",
      "  (15): BatchNorm1d(74, eps=1e-05, momentum=0.1, affine=True, track_running_stats=True)\n",
      ")\n",
      "Flattened size: 222\n",
      "{'conv2d_size': 9, 'conv2d_filter': 505, 'conv2d_dropout': 0.14172354323479155, 'conv1d_size1': 8, 'conv1d_size2': 4, 'conv1d_size3': 4, 'conv1d_size4': 3, 'conv1d_filter1': 417, 'conv1d_filter2': 528, 'conv1d_filter3': 380, 'conv1d_filter4': 74, 'conv1d_dropout1': 0.04147146278663286, 'conv1d_dropout2': 0.06977370076443168, 'conv1d_dropout3': 0.16677202124904983, 'conv1d_dropout4': 0.3793807228173023, 'lin_size1': 175, 'lin_size2': 81, 'lin_dropout1': 0.28955208345588396, 'lin_dropout2': 0.36162356511605226, 'lr': 0.00040873718965104487, 'batch_size': 8096}\n"
     ]
    },
    {
     "output_type": "display_data",
     "data": {
      "text/plain": [
       "Validation sanity check: 0it [00:00, ?it/s]"
      ],
      "application/vnd.jupyter.widget-view+json": {
       "model_id": "",
       "version_major": 2,
       "version_minor": 0
      }
     },
     "metadata": {}
    },
    {
     "output_type": "display_data",
     "data": {
      "text/plain": [
       "Training: 0it [00:00, ?it/s]"
      ],
      "application/vnd.jupyter.widget-view+json": {
       "model_id": "ae319d81afd94feba1d4e738689234a2",
       "version_major": 2,
       "version_minor": 0
      }
     },
     "metadata": {}
    },
    {
     "output_type": "display_data",
     "data": {
      "text/plain": [
       "Validating: 0it [00:00, ?it/s]"
      ],
      "application/vnd.jupyter.widget-view+json": {
       "model_id": "",
       "version_major": 2,
       "version_minor": 0
      }
     },
     "metadata": {}
    },
    {
     "output_type": "display_data",
     "data": {
      "text/plain": [
       "Validating: 0it [00:00, ?it/s]"
      ],
      "application/vnd.jupyter.widget-view+json": {
       "model_id": "",
       "version_major": 2,
       "version_minor": 0
      }
     },
     "metadata": {}
    },
    {
     "output_type": "display_data",
     "data": {
      "text/plain": [
       "Validating: 0it [00:00, ?it/s]"
      ],
      "application/vnd.jupyter.widget-view+json": {
       "model_id": "",
       "version_major": 2,
       "version_minor": 0
      }
     },
     "metadata": {}
    },
    {
     "output_type": "stream",
     "name": "stderr",
     "text": [
      "C:\\Users\\david\\miniconda3\\envs\\pt1.8-cuda11.1\\lib\\site-packages\\pytorch_lightning\\utilities\\distributed.py:49: UserWarning: Detected KeyboardInterrupt, attempting graceful shutdown...\n",
      "  warnings.warn(*args, **kwargs)\n",
      "GPU available: True, used: True\n",
      "TPU available: None, using: 0 TPU cores\n",
      "LOCAL_RANK: 0 - CUDA_VISIBLE_DEVICES: [0]\n",
      "GPU available: True, used: True\n",
      "TPU available: None, using: 0 TPU cores\n",
      "LOCAL_RANK: 0 - CUDA_VISIBLE_DEVICES: [0]\n",
      "GPU available: True, used: True\n",
      "TPU available: None, using: 0 TPU cores\n",
      "LOCAL_RANK: 0 - CUDA_VISIBLE_DEVICES: [0]\n"
     ]
    },
    {
     "output_type": "stream",
     "name": "stdout",
     "text": [
      "\u001b[32m[I 2021-01-31 19:45:53,405]\u001b[0m Trial 87 finished with value: 115.44329833984375 and parameters: {'conv2d_size': 9, 'conv2d_filter': 505, 'conv2d_dropout': 0.14172354323479155, 'conv1d_size1': 8, 'conv1d_size2': 4, 'conv1d_size3': 4, 'conv1d_size4': 3, 'conv1d_filter1': 417, 'conv1d_filter2': 528, 'conv1d_filter3': 380, 'conv1d_filter4': 74, 'conv1d_dropout1': 0.04147146278663286, 'conv1d_dropout2': 0.06977370076443168, 'conv1d_dropout3': 0.16677202124904983, 'conv1d_dropout4': 0.3793807228173023, 'lin_size1': 175, 'lin_size2': 81, 'lin_dropout1': 0.28955208345588396, 'lin_dropout2': 0.36162356511605226, 'lr': 0.00040873718965104487, 'batch_size': 8096}. Best is trial 76 with value: 80.8285140991211.\u001b[0m\n",
      "\u001b[32m[I 2021-01-31 19:45:53,444]\u001b[0m Trial 88 pruned. \u001b[0m\n",
      "\u001b[32m[I 2021-01-31 19:45:53,478]\u001b[0m Trial 89 pruned. \u001b[0m\n",
      "Trial parameters:\n",
      "{   'conv1d_dropout1': 0.03417123500487315,\n",
      "    'conv1d_dropout2': 0.0012576702621896474,\n",
      "    'conv1d_dropout3': 0.44368624586529454,\n",
      "    'conv1d_dropout4': 0.37445924176084855,\n",
      "    'conv1d_filter1': 687,\n",
      "    'conv1d_filter2': 726,\n",
      "    'conv1d_filter3': 251,\n",
      "    'conv1d_filter4': 98,\n",
      "    'conv1d_size1': 9,\n",
      "    'conv1d_size2': 4,\n",
      "    'conv1d_size3': 4,\n",
      "    'conv1d_size4': 1,\n",
      "    'conv2d_dropout': 0.4168688755057171,\n",
      "    'conv2d_filter': 623,\n",
      "    'conv2d_size': 10}\n",
      "Sequential(\n",
      "  (0): Conv1d(623, 687, kernel_size=(9,), stride=(1,))\n",
      "  (1): ReLU()\n",
      "  (2): Dropout(p=0.03417123500487315, inplace=False)\n",
      "  (3): BatchNorm1d(687, eps=1e-05, momentum=0.1, affine=True, track_running_stats=True)\n",
      "  (4): Conv1d(687, 726, kernel_size=(4,), stride=(1,))\n",
      "  (5): ReLU()\n",
      "  (6): Dropout(p=0.0012576702621896474, inplace=False)\n",
      "  (7): BatchNorm1d(726, eps=1e-05, momentum=0.1, affine=True, track_running_stats=True)\n",
      "  (8): Conv1d(726, 251, kernel_size=(4,), stride=(1,))\n",
      "  (9): ReLU()\n",
      "  (10): Dropout(p=0.44368624586529454, inplace=False)\n",
      "  (11): BatchNorm1d(251, eps=1e-05, momentum=0.1, affine=True, track_running_stats=True)\n",
      "  (12): Conv1d(251, 98, kernel_size=(1,), stride=(1,))\n",
      "  (13): ReLU()\n",
      "  (14): Dropout(p=0.37445924176084855, inplace=False)\n",
      "  (15): BatchNorm1d(98, eps=1e-05, momentum=0.1, affine=True, track_running_stats=True)\n",
      ")\n",
      "Flattened size: 294\n",
      "{'conv2d_size': 10, 'conv2d_filter': 623, 'conv2d_dropout': 0.4168688755057171, 'conv1d_size1': 9, 'conv1d_size2': 4, 'conv1d_size3': 4, 'conv1d_size4': 1, 'conv1d_filter1': 687, 'conv1d_filter2': 726, 'conv1d_filter3': 251, 'conv1d_filter4': 98, 'conv1d_dropout1': 0.03417123500487315, 'conv1d_dropout2': 0.0012576702621896474, 'conv1d_dropout3': 0.44368624586529454, 'conv1d_dropout4': 0.37445924176084855, 'lin_size1': 156, 'lin_size2': 81, 'lin_dropout1': 0.41409200128067714, 'lin_dropout2': 0.17582465988880505, 'lr': 0.0002287922409677974, 'batch_size': 256}\n"
     ]
    },
    {
     "output_type": "stream",
     "name": "stderr",
     "text": [
      "\n",
      "  | Name         | Type       | Params\n",
      "--------------------------------------------\n",
      "0 | conv2d_block | Sequential | 51.7 K\n",
      "1 | conv1d_block | Sequential | 6.6 M \n",
      "2 | lin_block    | Sequential | 58.8 K\n",
      "--------------------------------------------\n",
      "6.7 M     Trainable params\n",
      "0         Non-trainable params\n",
      "6.7 M     Total params\n"
     ]
    },
    {
     "output_type": "display_data",
     "data": {
      "text/plain": [
       "Validation sanity check: 0it [00:00, ?it/s]"
      ],
      "application/vnd.jupyter.widget-view+json": {
       "model_id": "",
       "version_major": 2,
       "version_minor": 0
      }
     },
     "metadata": {}
    },
    {
     "output_type": "display_data",
     "data": {
      "text/plain": [
       "Training: 0it [00:00, ?it/s]"
      ],
      "application/vnd.jupyter.widget-view+json": {
       "model_id": "8b3343f3be2b4690bf82eae46ee56f1e",
       "version_major": 2,
       "version_minor": 0
      }
     },
     "metadata": {}
    },
    {
     "output_type": "stream",
     "name": "stderr",
     "text": [
      "GPU available: True, used: True\n",
      "TPU available: None, using: 0 TPU cores\n",
      "LOCAL_RANK: 0 - CUDA_VISIBLE_DEVICES: [0]\n",
      "\n",
      "  | Name         | Type       | Params\n",
      "--------------------------------------------\n",
      "0 | conv2d_block | Sequential | 45.3 K\n",
      "1 | conv1d_block | Sequential | 6.1 M \n",
      "2 | lin_block    | Sequential | 29.0 K\n",
      "--------------------------------------------\n",
      "6.2 M     Trainable params\n",
      "0         Non-trainable params\n",
      "6.2 M     Total params\n"
     ]
    },
    {
     "output_type": "stream",
     "name": "stdout",
     "text": [
      "\u001b[32m[I 2021-01-31 19:47:02,965]\u001b[0m Trial 90 finished with value: 0.42995643615722656 and parameters: {'conv2d_size': 10, 'conv2d_filter': 623, 'conv2d_dropout': 0.4168688755057171, 'conv1d_size1': 9, 'conv1d_size2': 4, 'conv1d_size3': 4, 'conv1d_size4': 1, 'conv1d_filter1': 687, 'conv1d_filter2': 726, 'conv1d_filter3': 251, 'conv1d_filter4': 98, 'conv1d_dropout1': 0.03417123500487315, 'conv1d_dropout2': 0.0012576702621896474, 'conv1d_dropout3': 0.44368624586529454, 'conv1d_dropout4': 0.37445924176084855, 'lin_size1': 156, 'lin_size2': 81, 'lin_dropout1': 0.41409200128067714, 'lin_dropout2': 0.17582465988880505, 'lr': 0.0002287922409677974, 'batch_size': 256}. Best is trial 90 with value: 0.42995643615722656.\u001b[0m\n",
      "Trial parameters:\n",
      "{   'conv1d_dropout1': 0.028492453757041666,\n",
      "    'conv1d_dropout2': 0.034894955618237106,\n",
      "    'conv1d_dropout3': 0.4039112231418402,\n",
      "    'conv1d_dropout4': 0.37549181900621836,\n",
      "    'conv1d_filter1': 688,\n",
      "    'conv1d_filter2': 724,\n",
      "    'conv1d_filter3': 251,\n",
      "    'conv1d_filter4': 98,\n",
      "    'conv1d_size1': 9,\n",
      "    'conv1d_size2': 4,\n",
      "    'conv1d_size3': 4,\n",
      "    'conv1d_size4': 1,\n",
      "    'conv2d_dropout': 0.4120415104988764,\n",
      "    'conv2d_filter': 546,\n",
      "    'conv2d_size': 10}\n",
      "Sequential(\n",
      "  (0): Conv1d(546, 688, kernel_size=(9,), stride=(1,))\n",
      "  (1): ReLU()\n",
      "  (2): Dropout(p=0.028492453757041666, inplace=False)\n",
      "  (3): BatchNorm1d(688, eps=1e-05, momentum=0.1, affine=True, track_running_stats=True)\n",
      "  (4): Conv1d(688, 724, kernel_size=(4,), stride=(1,))\n",
      "  (5): ReLU()\n",
      "  (6): Dropout(p=0.034894955618237106, inplace=False)\n",
      "  (7): BatchNorm1d(724, eps=1e-05, momentum=0.1, affine=True, track_running_stats=True)\n",
      "  (8): Conv1d(724, 251, kernel_size=(4,), stride=(1,))\n",
      "  (9): ReLU()\n",
      "  (10): Dropout(p=0.4039112231418402, inplace=False)\n",
      "  (11): BatchNorm1d(251, eps=1e-05, momentum=0.1, affine=True, track_running_stats=True)\n",
      "  (12): Conv1d(251, 98, kernel_size=(1,), stride=(1,))\n",
      "  (13): ReLU()\n",
      "  (14): Dropout(p=0.37549181900621836, inplace=False)\n",
      "  (15): BatchNorm1d(98, eps=1e-05, momentum=0.1, affine=True, track_running_stats=True)\n",
      ")\n",
      "Flattened size: 294\n",
      "{'conv2d_size': 10, 'conv2d_filter': 546, 'conv2d_dropout': 0.4120415104988764, 'conv1d_size1': 9, 'conv1d_size2': 4, 'conv1d_size3': 4, 'conv1d_size4': 1, 'conv1d_filter1': 688, 'conv1d_filter2': 724, 'conv1d_filter3': 251, 'conv1d_filter4': 98, 'conv1d_dropout1': 0.028492453757041666, 'conv1d_dropout2': 0.034894955618237106, 'conv1d_dropout3': 0.4039112231418402, 'conv1d_dropout4': 0.37549181900621836, 'lin_size1': 87, 'lin_size2': 37, 'lin_dropout1': 0.41856190799714227, 'lin_dropout2': 0.18565254453814106, 'lr': 0.00017034288482117456, 'batch_size': 256}\n"
     ]
    },
    {
     "output_type": "display_data",
     "data": {
      "text/plain": [
       "Validation sanity check: 0it [00:00, ?it/s]"
      ],
      "application/vnd.jupyter.widget-view+json": {
       "model_id": "",
       "version_major": 2,
       "version_minor": 0
      }
     },
     "metadata": {}
    },
    {
     "output_type": "display_data",
     "data": {
      "text/plain": [
       "Training: 0it [00:00, ?it/s]"
      ],
      "application/vnd.jupyter.widget-view+json": {
       "model_id": "1c61c5919da24d56b121c0079a7b1906",
       "version_major": 2,
       "version_minor": 0
      }
     },
     "metadata": {}
    },
    {
     "output_type": "error",
     "ename": "KeyboardInterrupt",
     "evalue": "",
     "traceback": [
      "\u001b[1;31m---------------------------------------------------------------------------\u001b[0m",
      "\u001b[1;31mKeyboardInterrupt\u001b[0m                         Traceback (most recent call last)",
      "\u001b[1;32m<ipython-input-16-0e8419cc2d75>\u001b[0m in \u001b[0;36m<module>\u001b[1;34m\u001b[0m\n\u001b[0;32m      2\u001b[0m \u001b[1;33m\u001b[0m\u001b[0m\n\u001b[0;32m      3\u001b[0m \u001b[0mstudy\u001b[0m \u001b[1;33m=\u001b[0m \u001b[0moptuna\u001b[0m\u001b[1;33m.\u001b[0m\u001b[0mcreate_study\u001b[0m\u001b[1;33m(\u001b[0m\u001b[0mdirection\u001b[0m\u001b[1;33m=\u001b[0m\u001b[1;34m\"minimize\"\u001b[0m\u001b[1;33m,\u001b[0m \u001b[0mpruner\u001b[0m\u001b[1;33m=\u001b[0m\u001b[0mpruner\u001b[0m\u001b[1;33m)\u001b[0m\u001b[1;33m\u001b[0m\u001b[1;33m\u001b[0m\u001b[0m\n\u001b[1;32m----> 4\u001b[1;33m \u001b[0mstudy\u001b[0m\u001b[1;33m.\u001b[0m\u001b[0moptimize\u001b[0m\u001b[1;33m(\u001b[0m\u001b[0mobjective\u001b[0m\u001b[1;33m,\u001b[0m \u001b[0mshow_progress_bar\u001b[0m\u001b[1;33m=\u001b[0m\u001b[1;32mTrue\u001b[0m\u001b[1;33m)\u001b[0m\u001b[1;33m\u001b[0m\u001b[1;33m\u001b[0m\u001b[0m\n\u001b[0m\u001b[0;32m      5\u001b[0m \u001b[1;33m\u001b[0m\u001b[0m\n\u001b[0;32m      6\u001b[0m \u001b[0mprint\u001b[0m\u001b[1;33m(\u001b[0m\u001b[1;34m\"Number of finished trials: {}\"\u001b[0m\u001b[1;33m.\u001b[0m\u001b[0mformat\u001b[0m\u001b[1;33m(\u001b[0m\u001b[0mlen\u001b[0m\u001b[1;33m(\u001b[0m\u001b[0mstudy\u001b[0m\u001b[1;33m.\u001b[0m\u001b[0mtrials\u001b[0m\u001b[1;33m)\u001b[0m\u001b[1;33m)\u001b[0m\u001b[1;33m)\u001b[0m\u001b[1;33m\u001b[0m\u001b[1;33m\u001b[0m\u001b[0m\n",
      "\u001b[1;32m~\\miniconda3\\envs\\pt1.8-cuda11.1\\lib\\site-packages\\optuna\\study.py\u001b[0m in \u001b[0;36moptimize\u001b[1;34m(self, func, n_trials, timeout, n_jobs, catch, callbacks, gc_after_trial, show_progress_bar)\u001b[0m\n\u001b[0;32m    370\u001b[0m                 \u001b[0mIf\u001b[0m \u001b[0mnested\u001b[0m \u001b[0minvocation\u001b[0m \u001b[0mof\u001b[0m \u001b[0mthis\u001b[0m \u001b[0mmethod\u001b[0m \u001b[0moccurs\u001b[0m\u001b[1;33m.\u001b[0m\u001b[1;33m\u001b[0m\u001b[1;33m\u001b[0m\u001b[0m\n\u001b[0;32m    371\u001b[0m         \"\"\"\n\u001b[1;32m--> 372\u001b[1;33m         _optimize(\n\u001b[0m\u001b[0;32m    373\u001b[0m             \u001b[0mstudy\u001b[0m\u001b[1;33m=\u001b[0m\u001b[0mself\u001b[0m\u001b[1;33m,\u001b[0m\u001b[1;33m\u001b[0m\u001b[1;33m\u001b[0m\u001b[0m\n\u001b[0;32m    374\u001b[0m             \u001b[0mfunc\u001b[0m\u001b[1;33m=\u001b[0m\u001b[0mfunc\u001b[0m\u001b[1;33m,\u001b[0m\u001b[1;33m\u001b[0m\u001b[1;33m\u001b[0m\u001b[0m\n",
      "\u001b[1;32m~\\miniconda3\\envs\\pt1.8-cuda11.1\\lib\\site-packages\\optuna\\_optimize.py\u001b[0m in \u001b[0;36m_optimize\u001b[1;34m(study, func, n_trials, timeout, n_jobs, catch, callbacks, gc_after_trial, show_progress_bar)\u001b[0m\n\u001b[0;32m     58\u001b[0m     \u001b[1;32mtry\u001b[0m\u001b[1;33m:\u001b[0m\u001b[1;33m\u001b[0m\u001b[1;33m\u001b[0m\u001b[0m\n\u001b[0;32m     59\u001b[0m         \u001b[1;32mif\u001b[0m \u001b[0mn_jobs\u001b[0m \u001b[1;33m==\u001b[0m \u001b[1;36m1\u001b[0m\u001b[1;33m:\u001b[0m\u001b[1;33m\u001b[0m\u001b[1;33m\u001b[0m\u001b[0m\n\u001b[1;32m---> 60\u001b[1;33m             _optimize_sequential(\n\u001b[0m\u001b[0;32m     61\u001b[0m                 \u001b[0mstudy\u001b[0m\u001b[1;33m,\u001b[0m\u001b[1;33m\u001b[0m\u001b[1;33m\u001b[0m\u001b[0m\n\u001b[0;32m     62\u001b[0m                 \u001b[0mfunc\u001b[0m\u001b[1;33m,\u001b[0m\u001b[1;33m\u001b[0m\u001b[1;33m\u001b[0m\u001b[0m\n",
      "\u001b[1;32m~\\miniconda3\\envs\\pt1.8-cuda11.1\\lib\\site-packages\\optuna\\_optimize.py\u001b[0m in \u001b[0;36m_optimize_sequential\u001b[1;34m(study, func, n_trials, timeout, catch, callbacks, gc_after_trial, reseed_sampler_rng, time_start, progress_bar)\u001b[0m\n\u001b[0;32m    159\u001b[0m \u001b[1;33m\u001b[0m\u001b[0m\n\u001b[0;32m    160\u001b[0m         \u001b[1;32mtry\u001b[0m\u001b[1;33m:\u001b[0m\u001b[1;33m\u001b[0m\u001b[1;33m\u001b[0m\u001b[0m\n\u001b[1;32m--> 161\u001b[1;33m             \u001b[0mtrial\u001b[0m \u001b[1;33m=\u001b[0m \u001b[0m_run_trial\u001b[0m\u001b[1;33m(\u001b[0m\u001b[0mstudy\u001b[0m\u001b[1;33m,\u001b[0m \u001b[0mfunc\u001b[0m\u001b[1;33m,\u001b[0m \u001b[0mcatch\u001b[0m\u001b[1;33m)\u001b[0m\u001b[1;33m\u001b[0m\u001b[1;33m\u001b[0m\u001b[0m\n\u001b[0m\u001b[0;32m    162\u001b[0m         \u001b[1;32mexcept\u001b[0m \u001b[0mException\u001b[0m\u001b[1;33m:\u001b[0m\u001b[1;33m\u001b[0m\u001b[1;33m\u001b[0m\u001b[0m\n\u001b[0;32m    163\u001b[0m             \u001b[1;32mraise\u001b[0m\u001b[1;33m\u001b[0m\u001b[1;33m\u001b[0m\u001b[0m\n",
      "\u001b[1;32m~\\miniconda3\\envs\\pt1.8-cuda11.1\\lib\\site-packages\\optuna\\_optimize.py\u001b[0m in \u001b[0;36m_run_trial\u001b[1;34m(study, func, catch)\u001b[0m\n\u001b[0;32m    196\u001b[0m \u001b[1;33m\u001b[0m\u001b[0m\n\u001b[0;32m    197\u001b[0m     \u001b[1;32mtry\u001b[0m\u001b[1;33m:\u001b[0m\u001b[1;33m\u001b[0m\u001b[1;33m\u001b[0m\u001b[0m\n\u001b[1;32m--> 198\u001b[1;33m         \u001b[0mvalue_or_values\u001b[0m \u001b[1;33m=\u001b[0m \u001b[0mfunc\u001b[0m\u001b[1;33m(\u001b[0m\u001b[0mtrial\u001b[0m\u001b[1;33m)\u001b[0m\u001b[1;33m\u001b[0m\u001b[1;33m\u001b[0m\u001b[0m\n\u001b[0m\u001b[0;32m    199\u001b[0m     \u001b[1;32mexcept\u001b[0m \u001b[0mexceptions\u001b[0m\u001b[1;33m.\u001b[0m\u001b[0mTrialPruned\u001b[0m \u001b[1;32mas\u001b[0m \u001b[0me\u001b[0m\u001b[1;33m:\u001b[0m\u001b[1;33m\u001b[0m\u001b[1;33m\u001b[0m\u001b[0m\n\u001b[0;32m    200\u001b[0m         \u001b[1;31m# TODO(mamu): Handle multi-objective cases.\u001b[0m\u001b[1;33m\u001b[0m\u001b[1;33m\u001b[0m\u001b[1;33m\u001b[0m\u001b[0m\n",
      "\u001b[1;32m<ipython-input-15-3016aaa5b7a4>\u001b[0m in \u001b[0;36mobjective\u001b[1;34m(trial)\u001b[0m\n\u001b[0;32m     17\u001b[0m     \u001b[0mmodel\u001b[0m \u001b[1;33m=\u001b[0m \u001b[0mCNNRegression\u001b[0m\u001b[1;33m(\u001b[0m\u001b[0mtrial\u001b[0m\u001b[1;33m)\u001b[0m\u001b[1;33m\u001b[0m\u001b[1;33m\u001b[0m\u001b[0m\n\u001b[0;32m     18\u001b[0m     \u001b[0mprint\u001b[0m\u001b[1;33m(\u001b[0m\u001b[0mtrial\u001b[0m\u001b[1;33m.\u001b[0m\u001b[0mparams\u001b[0m\u001b[1;33m)\u001b[0m\u001b[1;33m\u001b[0m\u001b[1;33m\u001b[0m\u001b[0m\n\u001b[1;32m---> 19\u001b[1;33m     \u001b[0mtrainer\u001b[0m\u001b[1;33m.\u001b[0m\u001b[0mfit\u001b[0m\u001b[1;33m(\u001b[0m\u001b[0mmodel\u001b[0m\u001b[1;33m)\u001b[0m\u001b[1;33m\u001b[0m\u001b[1;33m\u001b[0m\u001b[0m\n\u001b[0m\u001b[0;32m     20\u001b[0m \u001b[1;33m\u001b[0m\u001b[0m\n\u001b[0;32m     21\u001b[0m     \u001b[1;32mreturn\u001b[0m \u001b[0mmetrics_callback\u001b[0m\u001b[1;33m.\u001b[0m\u001b[0mmetrics\u001b[0m\u001b[1;33m[\u001b[0m\u001b[1;33m-\u001b[0m\u001b[1;36m1\u001b[0m\u001b[1;33m]\u001b[0m\u001b[1;33m[\u001b[0m\u001b[1;34m\"val_loss\"\u001b[0m\u001b[1;33m]\u001b[0m\u001b[1;33m.\u001b[0m\u001b[0mitem\u001b[0m\u001b[1;33m(\u001b[0m\u001b[1;33m)\u001b[0m\u001b[1;33m\u001b[0m\u001b[1;33m\u001b[0m\u001b[0m\n",
      "\u001b[1;32m~\\miniconda3\\envs\\pt1.8-cuda11.1\\lib\\site-packages\\pytorch_lightning\\trainer\\trainer.py\u001b[0m in \u001b[0;36mfit\u001b[1;34m(self, model, train_dataloader, val_dataloaders, datamodule)\u001b[0m\n\u001b[0;32m    507\u001b[0m         \u001b[0mself\u001b[0m\u001b[1;33m.\u001b[0m\u001b[0mcall_hook\u001b[0m\u001b[1;33m(\u001b[0m\u001b[1;34m'on_fit_start'\u001b[0m\u001b[1;33m)\u001b[0m\u001b[1;33m\u001b[0m\u001b[1;33m\u001b[0m\u001b[0m\n\u001b[0;32m    508\u001b[0m \u001b[1;33m\u001b[0m\u001b[0m\n\u001b[1;32m--> 509\u001b[1;33m         \u001b[0mresults\u001b[0m \u001b[1;33m=\u001b[0m \u001b[0mself\u001b[0m\u001b[1;33m.\u001b[0m\u001b[0maccelerator_backend\u001b[0m\u001b[1;33m.\u001b[0m\u001b[0mtrain\u001b[0m\u001b[1;33m(\u001b[0m\u001b[1;33m)\u001b[0m\u001b[1;33m\u001b[0m\u001b[1;33m\u001b[0m\u001b[0m\n\u001b[0m\u001b[0;32m    510\u001b[0m         \u001b[0mself\u001b[0m\u001b[1;33m.\u001b[0m\u001b[0maccelerator_backend\u001b[0m\u001b[1;33m.\u001b[0m\u001b[0mteardown\u001b[0m\u001b[1;33m(\u001b[0m\u001b[1;33m)\u001b[0m\u001b[1;33m\u001b[0m\u001b[1;33m\u001b[0m\u001b[0m\n\u001b[0;32m    511\u001b[0m \u001b[1;33m\u001b[0m\u001b[0m\n",
      "\u001b[1;32m~\\miniconda3\\envs\\pt1.8-cuda11.1\\lib\\site-packages\\pytorch_lightning\\accelerators\\accelerator.py\u001b[0m in \u001b[0;36mtrain\u001b[1;34m(self)\u001b[0m\n\u001b[0;32m     55\u001b[0m     \u001b[1;32mdef\u001b[0m \u001b[0mtrain\u001b[0m\u001b[1;33m(\u001b[0m\u001b[0mself\u001b[0m\u001b[1;33m)\u001b[0m\u001b[1;33m:\u001b[0m\u001b[1;33m\u001b[0m\u001b[1;33m\u001b[0m\u001b[0m\n\u001b[0;32m     56\u001b[0m         \u001b[0mself\u001b[0m\u001b[1;33m.\u001b[0m\u001b[0mtrainer\u001b[0m\u001b[1;33m.\u001b[0m\u001b[0msetup_trainer\u001b[0m\u001b[1;33m(\u001b[0m\u001b[0mself\u001b[0m\u001b[1;33m.\u001b[0m\u001b[0mtrainer\u001b[0m\u001b[1;33m.\u001b[0m\u001b[0mmodel\u001b[0m\u001b[1;33m)\u001b[0m\u001b[1;33m\u001b[0m\u001b[1;33m\u001b[0m\u001b[0m\n\u001b[1;32m---> 57\u001b[1;33m         \u001b[1;32mreturn\u001b[0m \u001b[0mself\u001b[0m\u001b[1;33m.\u001b[0m\u001b[0mtrain_or_test\u001b[0m\u001b[1;33m(\u001b[0m\u001b[1;33m)\u001b[0m\u001b[1;33m\u001b[0m\u001b[1;33m\u001b[0m\u001b[0m\n\u001b[0m\u001b[0;32m     58\u001b[0m \u001b[1;33m\u001b[0m\u001b[0m\n\u001b[0;32m     59\u001b[0m     \u001b[1;32mdef\u001b[0m \u001b[0mteardown\u001b[0m\u001b[1;33m(\u001b[0m\u001b[0mself\u001b[0m\u001b[1;33m)\u001b[0m\u001b[1;33m:\u001b[0m\u001b[1;33m\u001b[0m\u001b[1;33m\u001b[0m\u001b[0m\n",
      "\u001b[1;32m~\\miniconda3\\envs\\pt1.8-cuda11.1\\lib\\site-packages\\pytorch_lightning\\accelerators\\accelerator.py\u001b[0m in \u001b[0;36mtrain_or_test\u001b[1;34m(self)\u001b[0m\n\u001b[0;32m     72\u001b[0m         \u001b[1;32melse\u001b[0m\u001b[1;33m:\u001b[0m\u001b[1;33m\u001b[0m\u001b[1;33m\u001b[0m\u001b[0m\n\u001b[0;32m     73\u001b[0m             \u001b[0mself\u001b[0m\u001b[1;33m.\u001b[0m\u001b[0mtrainer\u001b[0m\u001b[1;33m.\u001b[0m\u001b[0mtrain_loop\u001b[0m\u001b[1;33m.\u001b[0m\u001b[0msetup_training\u001b[0m\u001b[1;33m(\u001b[0m\u001b[1;33m)\u001b[0m\u001b[1;33m\u001b[0m\u001b[1;33m\u001b[0m\u001b[0m\n\u001b[1;32m---> 74\u001b[1;33m             \u001b[0mresults\u001b[0m \u001b[1;33m=\u001b[0m \u001b[0mself\u001b[0m\u001b[1;33m.\u001b[0m\u001b[0mtrainer\u001b[0m\u001b[1;33m.\u001b[0m\u001b[0mtrain\u001b[0m\u001b[1;33m(\u001b[0m\u001b[1;33m)\u001b[0m\u001b[1;33m\u001b[0m\u001b[1;33m\u001b[0m\u001b[0m\n\u001b[0m\u001b[0;32m     75\u001b[0m         \u001b[1;32mreturn\u001b[0m \u001b[0mresults\u001b[0m\u001b[1;33m\u001b[0m\u001b[1;33m\u001b[0m\u001b[0m\n\u001b[0;32m     76\u001b[0m \u001b[1;33m\u001b[0m\u001b[0m\n",
      "\u001b[1;32m~\\miniconda3\\envs\\pt1.8-cuda11.1\\lib\\site-packages\\pytorch_lightning\\trainer\\trainer.py\u001b[0m in \u001b[0;36mtrain\u001b[1;34m(self)\u001b[0m\n\u001b[0;32m    589\u001b[0m         \u001b[1;32mfinally\u001b[0m\u001b[1;33m:\u001b[0m\u001b[1;33m\u001b[0m\u001b[1;33m\u001b[0m\u001b[0m\n\u001b[0;32m    590\u001b[0m             \u001b[1;31m# hook\u001b[0m\u001b[1;33m\u001b[0m\u001b[1;33m\u001b[0m\u001b[1;33m\u001b[0m\u001b[0m\n\u001b[1;32m--> 591\u001b[1;33m             \u001b[0mself\u001b[0m\u001b[1;33m.\u001b[0m\u001b[0mtrain_loop\u001b[0m\u001b[1;33m.\u001b[0m\u001b[0mon_train_end\u001b[0m\u001b[1;33m(\u001b[0m\u001b[1;33m)\u001b[0m\u001b[1;33m\u001b[0m\u001b[1;33m\u001b[0m\u001b[0m\n\u001b[0m\u001b[0;32m    592\u001b[0m \u001b[1;33m\u001b[0m\u001b[0m\n\u001b[0;32m    593\u001b[0m     \u001b[1;32mdef\u001b[0m \u001b[0mrun_evaluation\u001b[0m\u001b[1;33m(\u001b[0m\u001b[0mself\u001b[0m\u001b[1;33m,\u001b[0m \u001b[0mmax_batches\u001b[0m\u001b[1;33m=\u001b[0m\u001b[1;32mNone\u001b[0m\u001b[1;33m)\u001b[0m\u001b[1;33m:\u001b[0m\u001b[1;33m\u001b[0m\u001b[1;33m\u001b[0m\u001b[0m\n",
      "\u001b[1;32m~\\miniconda3\\envs\\pt1.8-cuda11.1\\lib\\site-packages\\pytorch_lightning\\trainer\\training_loop.py\u001b[0m in \u001b[0;36mon_train_end\u001b[1;34m(self)\u001b[0m\n\u001b[0;32m    160\u001b[0m         \u001b[1;31m# when a checkpoint was saved at the last step\u001b[0m\u001b[1;33m\u001b[0m\u001b[1;33m\u001b[0m\u001b[1;33m\u001b[0m\u001b[0m\n\u001b[0;32m    161\u001b[0m         \u001b[0mself\u001b[0m\u001b[1;33m.\u001b[0m\u001b[0mtrainer\u001b[0m\u001b[1;33m.\u001b[0m\u001b[0mglobal_step\u001b[0m \u001b[1;33m-=\u001b[0m \u001b[1;36m1\u001b[0m\u001b[1;33m\u001b[0m\u001b[1;33m\u001b[0m\u001b[0m\n\u001b[1;32m--> 162\u001b[1;33m         \u001b[0mself\u001b[0m\u001b[1;33m.\u001b[0m\u001b[0mcheck_checkpoint_callback\u001b[0m\u001b[1;33m(\u001b[0m\u001b[0mshould_save\u001b[0m\u001b[1;33m=\u001b[0m\u001b[1;32mTrue\u001b[0m\u001b[1;33m,\u001b[0m \u001b[0mis_last\u001b[0m\u001b[1;33m=\u001b[0m\u001b[1;32mTrue\u001b[0m\u001b[1;33m)\u001b[0m\u001b[1;33m\u001b[0m\u001b[1;33m\u001b[0m\u001b[0m\n\u001b[0m\u001b[0;32m    163\u001b[0m         \u001b[0mself\u001b[0m\u001b[1;33m.\u001b[0m\u001b[0mtrainer\u001b[0m\u001b[1;33m.\u001b[0m\u001b[0mglobal_step\u001b[0m \u001b[1;33m+=\u001b[0m \u001b[1;36m1\u001b[0m\u001b[1;33m\u001b[0m\u001b[1;33m\u001b[0m\u001b[0m\n\u001b[0;32m    164\u001b[0m \u001b[1;33m\u001b[0m\u001b[0m\n",
      "\u001b[1;32m~\\miniconda3\\envs\\pt1.8-cuda11.1\\lib\\site-packages\\pytorch_lightning\\trainer\\training_loop.py\u001b[0m in \u001b[0;36mcheck_checkpoint_callback\u001b[1;34m(self, should_save, is_last)\u001b[0m\n\u001b[0;32m    194\u001b[0m \u001b[1;33m\u001b[0m\u001b[0m\n\u001b[0;32m    195\u001b[0m             \u001b[1;32mfor\u001b[0m \u001b[0mcallback\u001b[0m \u001b[1;32min\u001b[0m \u001b[0mcheckpoint_callbacks\u001b[0m\u001b[1;33m:\u001b[0m\u001b[1;33m\u001b[0m\u001b[1;33m\u001b[0m\u001b[0m\n\u001b[1;32m--> 196\u001b[1;33m                 \u001b[0mcallback\u001b[0m\u001b[1;33m.\u001b[0m\u001b[0mon_validation_end\u001b[0m\u001b[1;33m(\u001b[0m\u001b[0mself\u001b[0m\u001b[1;33m.\u001b[0m\u001b[0mtrainer\u001b[0m\u001b[1;33m,\u001b[0m \u001b[0mmodel\u001b[0m\u001b[1;33m)\u001b[0m\u001b[1;33m\u001b[0m\u001b[1;33m\u001b[0m\u001b[0m\n\u001b[0m\u001b[0;32m    197\u001b[0m \u001b[1;33m\u001b[0m\u001b[0m\n\u001b[0;32m    198\u001b[0m     \u001b[1;32mdef\u001b[0m \u001b[0mon_train_epoch_start\u001b[0m\u001b[1;33m(\u001b[0m\u001b[0mself\u001b[0m\u001b[1;33m,\u001b[0m \u001b[0mepoch\u001b[0m\u001b[1;33m)\u001b[0m\u001b[1;33m:\u001b[0m\u001b[1;33m\u001b[0m\u001b[1;33m\u001b[0m\u001b[0m\n",
      "\u001b[1;32m~\\miniconda3\\envs\\pt1.8-cuda11.1\\lib\\site-packages\\pytorch_lightning\\callbacks\\model_checkpoint.py\u001b[0m in \u001b[0;36mon_validation_end\u001b[1;34m(self, trainer, pl_module)\u001b[0m\n\u001b[0;32m    201\u001b[0m         \u001b[0mcheckpoints\u001b[0m \u001b[0mcan\u001b[0m \u001b[0mbe\u001b[0m \u001b[0msaved\u001b[0m \u001b[0mat\u001b[0m \u001b[0mthe\u001b[0m \u001b[0mend\u001b[0m \u001b[0mof\u001b[0m \u001b[0mthe\u001b[0m \u001b[0mval\u001b[0m \u001b[0mloop\u001b[0m\u001b[1;33m\u001b[0m\u001b[1;33m\u001b[0m\u001b[0m\n\u001b[0;32m    202\u001b[0m         \"\"\"\n\u001b[1;32m--> 203\u001b[1;33m         \u001b[0mself\u001b[0m\u001b[1;33m.\u001b[0m\u001b[0msave_checkpoint\u001b[0m\u001b[1;33m(\u001b[0m\u001b[0mtrainer\u001b[0m\u001b[1;33m,\u001b[0m \u001b[0mpl_module\u001b[0m\u001b[1;33m)\u001b[0m\u001b[1;33m\u001b[0m\u001b[1;33m\u001b[0m\u001b[0m\n\u001b[0m\u001b[0;32m    204\u001b[0m \u001b[1;33m\u001b[0m\u001b[0m\n\u001b[0;32m    205\u001b[0m     \u001b[1;32mdef\u001b[0m \u001b[0mon_save_checkpoint\u001b[0m\u001b[1;33m(\u001b[0m\u001b[0mself\u001b[0m\u001b[1;33m,\u001b[0m \u001b[0mtrainer\u001b[0m\u001b[1;33m,\u001b[0m \u001b[0mpl_module\u001b[0m\u001b[1;33m)\u001b[0m \u001b[1;33m->\u001b[0m \u001b[0mDict\u001b[0m\u001b[1;33m[\u001b[0m\u001b[0mstr\u001b[0m\u001b[1;33m,\u001b[0m \u001b[0mAny\u001b[0m\u001b[1;33m]\u001b[0m\u001b[1;33m:\u001b[0m\u001b[1;33m\u001b[0m\u001b[1;33m\u001b[0m\u001b[0m\n",
      "\u001b[1;32m~\\miniconda3\\envs\\pt1.8-cuda11.1\\lib\\site-packages\\pytorch_lightning\\callbacks\\model_checkpoint.py\u001b[0m in \u001b[0;36msave_checkpoint\u001b[1;34m(self, trainer, pl_module)\u001b[0m\n\u001b[0;32m    248\u001b[0m         \u001b[1;31m# Mode 1: save all checkpoints OR only the top k\u001b[0m\u001b[1;33m\u001b[0m\u001b[1;33m\u001b[0m\u001b[1;33m\u001b[0m\u001b[0m\n\u001b[0;32m    249\u001b[0m         \u001b[1;32mif\u001b[0m \u001b[0mself\u001b[0m\u001b[1;33m.\u001b[0m\u001b[0msave_top_k\u001b[0m\u001b[1;33m:\u001b[0m\u001b[1;33m\u001b[0m\u001b[1;33m\u001b[0m\u001b[0m\n\u001b[1;32m--> 250\u001b[1;33m             \u001b[0mself\u001b[0m\u001b[1;33m.\u001b[0m\u001b[0m_save_top_k_checkpoints\u001b[0m\u001b[1;33m(\u001b[0m\u001b[0mtrainer\u001b[0m\u001b[1;33m,\u001b[0m \u001b[0mpl_module\u001b[0m\u001b[1;33m,\u001b[0m \u001b[0mmonitor_candidates\u001b[0m\u001b[1;33m)\u001b[0m\u001b[1;33m\u001b[0m\u001b[1;33m\u001b[0m\u001b[0m\n\u001b[0m\u001b[0;32m    251\u001b[0m \u001b[1;33m\u001b[0m\u001b[0m\n\u001b[0;32m    252\u001b[0m         \u001b[1;31m# Mode 2: save the last checkpoint\u001b[0m\u001b[1;33m\u001b[0m\u001b[1;33m\u001b[0m\u001b[1;33m\u001b[0m\u001b[0m\n",
      "\u001b[1;32m~\\miniconda3\\envs\\pt1.8-cuda11.1\\lib\\site-packages\\pytorch_lightning\\callbacks\\model_checkpoint.py\u001b[0m in \u001b[0;36m_save_top_k_checkpoints\u001b[1;34m(self, trainer, pl_module, metrics)\u001b[0m\n\u001b[0;32m    590\u001b[0m \u001b[1;33m\u001b[0m\u001b[0m\n\u001b[0;32m    591\u001b[0m         \u001b[1;32mif\u001b[0m \u001b[0mself\u001b[0m\u001b[1;33m.\u001b[0m\u001b[0mcheck_monitor_top_k\u001b[0m\u001b[1;33m(\u001b[0m\u001b[0mcurrent\u001b[0m\u001b[1;33m)\u001b[0m\u001b[1;33m:\u001b[0m\u001b[1;33m\u001b[0m\u001b[1;33m\u001b[0m\u001b[0m\n\u001b[1;32m--> 592\u001b[1;33m             \u001b[0mself\u001b[0m\u001b[1;33m.\u001b[0m\u001b[0m_update_best_and_save\u001b[0m\u001b[1;33m(\u001b[0m\u001b[0mcurrent\u001b[0m\u001b[1;33m,\u001b[0m \u001b[0mepoch\u001b[0m\u001b[1;33m,\u001b[0m \u001b[0mstep\u001b[0m\u001b[1;33m,\u001b[0m \u001b[0mtrainer\u001b[0m\u001b[1;33m,\u001b[0m \u001b[0mpl_module\u001b[0m\u001b[1;33m,\u001b[0m \u001b[0mmetrics\u001b[0m\u001b[1;33m)\u001b[0m\u001b[1;33m\u001b[0m\u001b[1;33m\u001b[0m\u001b[0m\n\u001b[0m\u001b[0;32m    593\u001b[0m         \u001b[1;32melif\u001b[0m \u001b[0mself\u001b[0m\u001b[1;33m.\u001b[0m\u001b[0mverbose\u001b[0m\u001b[1;33m:\u001b[0m\u001b[1;33m\u001b[0m\u001b[1;33m\u001b[0m\u001b[0m\n\u001b[0;32m    594\u001b[0m             rank_zero_info(\n",
      "\u001b[1;32m~\\miniconda3\\envs\\pt1.8-cuda11.1\\lib\\site-packages\\pytorch_lightning\\callbacks\\model_checkpoint.py\u001b[0m in \u001b[0;36m_update_best_and_save\u001b[1;34m(self, current, epoch, step, trainer, pl_module, ckpt_name_metrics)\u001b[0m\n\u001b[0;32m    642\u001b[0m                 \u001b[1;34mf' (best {self.best_model_score:0.5f}), saving model to \"{filepath}\" as top {k}'\u001b[0m\u001b[1;33m\u001b[0m\u001b[1;33m\u001b[0m\u001b[0m\n\u001b[0;32m    643\u001b[0m             )\n\u001b[1;32m--> 644\u001b[1;33m         \u001b[0mself\u001b[0m\u001b[1;33m.\u001b[0m\u001b[0m_save_model\u001b[0m\u001b[1;33m(\u001b[0m\u001b[0mfilepath\u001b[0m\u001b[1;33m,\u001b[0m \u001b[0mtrainer\u001b[0m\u001b[1;33m,\u001b[0m \u001b[0mpl_module\u001b[0m\u001b[1;33m)\u001b[0m\u001b[1;33m\u001b[0m\u001b[1;33m\u001b[0m\u001b[0m\n\u001b[0m\u001b[0;32m    645\u001b[0m \u001b[1;33m\u001b[0m\u001b[0m\n\u001b[0;32m    646\u001b[0m         \u001b[1;32mif\u001b[0m \u001b[0mdel_filepath\u001b[0m \u001b[1;32mis\u001b[0m \u001b[1;32mnot\u001b[0m \u001b[1;32mNone\u001b[0m \u001b[1;32mand\u001b[0m \u001b[0mfilepath\u001b[0m \u001b[1;33m!=\u001b[0m \u001b[0mdel_filepath\u001b[0m\u001b[1;33m:\u001b[0m\u001b[1;33m\u001b[0m\u001b[1;33m\u001b[0m\u001b[0m\n",
      "\u001b[1;32m~\\miniconda3\\envs\\pt1.8-cuda11.1\\lib\\site-packages\\pytorch_lightning\\callbacks\\model_checkpoint.py\u001b[0m in \u001b[0;36m_save_model\u001b[1;34m(self, filepath, trainer, pl_module)\u001b[0m\n\u001b[0;32m    359\u001b[0m         \u001b[1;31m# delegate the saving to the trainer\u001b[0m\u001b[1;33m\u001b[0m\u001b[1;33m\u001b[0m\u001b[1;33m\u001b[0m\u001b[0m\n\u001b[0;32m    360\u001b[0m         \u001b[1;32mif\u001b[0m \u001b[0mself\u001b[0m\u001b[1;33m.\u001b[0m\u001b[0msave_function\u001b[0m \u001b[1;32mis\u001b[0m \u001b[1;32mnot\u001b[0m \u001b[1;32mNone\u001b[0m\u001b[1;33m:\u001b[0m\u001b[1;33m\u001b[0m\u001b[1;33m\u001b[0m\u001b[0m\n\u001b[1;32m--> 361\u001b[1;33m             \u001b[0mself\u001b[0m\u001b[1;33m.\u001b[0m\u001b[0msave_function\u001b[0m\u001b[1;33m(\u001b[0m\u001b[0mfilepath\u001b[0m\u001b[1;33m,\u001b[0m \u001b[0mself\u001b[0m\u001b[1;33m.\u001b[0m\u001b[0msave_weights_only\u001b[0m\u001b[1;33m)\u001b[0m\u001b[1;33m\u001b[0m\u001b[1;33m\u001b[0m\u001b[0m\n\u001b[0m\u001b[0;32m    362\u001b[0m         \u001b[1;32melse\u001b[0m\u001b[1;33m:\u001b[0m\u001b[1;33m\u001b[0m\u001b[1;33m\u001b[0m\u001b[0m\n\u001b[0;32m    363\u001b[0m             \u001b[1;32mraise\u001b[0m \u001b[0mValueError\u001b[0m\u001b[1;33m(\u001b[0m\u001b[1;34m\".save_function() not set\"\u001b[0m\u001b[1;33m)\u001b[0m\u001b[1;33m\u001b[0m\u001b[1;33m\u001b[0m\u001b[0m\n",
      "\u001b[1;32m~\\miniconda3\\envs\\pt1.8-cuda11.1\\lib\\site-packages\\pytorch_lightning\\trainer\\properties.py\u001b[0m in \u001b[0;36msave_checkpoint\u001b[1;34m(self, filepath, weights_only)\u001b[0m\n\u001b[0;32m    255\u001b[0m \u001b[1;33m\u001b[0m\u001b[0m\n\u001b[0;32m    256\u001b[0m     \u001b[1;32mdef\u001b[0m \u001b[0msave_checkpoint\u001b[0m\u001b[1;33m(\u001b[0m\u001b[0mself\u001b[0m\u001b[1;33m,\u001b[0m \u001b[0mfilepath\u001b[0m\u001b[1;33m,\u001b[0m \u001b[0mweights_only\u001b[0m\u001b[1;33m:\u001b[0m \u001b[0mbool\u001b[0m \u001b[1;33m=\u001b[0m \u001b[1;32mFalse\u001b[0m\u001b[1;33m)\u001b[0m\u001b[1;33m:\u001b[0m\u001b[1;33m\u001b[0m\u001b[1;33m\u001b[0m\u001b[0m\n\u001b[1;32m--> 257\u001b[1;33m         \u001b[0mself\u001b[0m\u001b[1;33m.\u001b[0m\u001b[0mcheckpoint_connector\u001b[0m\u001b[1;33m.\u001b[0m\u001b[0msave_checkpoint\u001b[0m\u001b[1;33m(\u001b[0m\u001b[0mfilepath\u001b[0m\u001b[1;33m,\u001b[0m \u001b[0mweights_only\u001b[0m\u001b[1;33m)\u001b[0m\u001b[1;33m\u001b[0m\u001b[1;33m\u001b[0m\u001b[0m\n\u001b[0m\u001b[0;32m    258\u001b[0m \u001b[1;33m\u001b[0m\u001b[0m\n\u001b[0;32m    259\u001b[0m     \u001b[1;32mdef\u001b[0m \u001b[0mget_model\u001b[0m\u001b[1;33m(\u001b[0m\u001b[0mself\u001b[0m\u001b[1;33m)\u001b[0m\u001b[1;33m:\u001b[0m\u001b[1;33m\u001b[0m\u001b[1;33m\u001b[0m\u001b[0m\n",
      "\u001b[1;32m~\\miniconda3\\envs\\pt1.8-cuda11.1\\lib\\site-packages\\pytorch_lightning\\trainer\\connectors\\checkpoint_connector.py\u001b[0m in \u001b[0;36msave_checkpoint\u001b[1;34m(self, filepath, weights_only)\u001b[0m\n\u001b[0;32m    397\u001b[0m                 \u001b[0mcheckpoint\u001b[0m \u001b[1;33m=\u001b[0m \u001b[0mself\u001b[0m\u001b[1;33m.\u001b[0m\u001b[0mtrainer\u001b[0m\u001b[1;33m.\u001b[0m\u001b[0maccelerator_backend\u001b[0m\u001b[1;33m.\u001b[0m\u001b[0mon_save\u001b[0m\u001b[1;33m(\u001b[0m\u001b[0mcheckpoint\u001b[0m\u001b[1;33m)\u001b[0m\u001b[1;33m\u001b[0m\u001b[1;33m\u001b[0m\u001b[0m\n\u001b[0;32m    398\u001b[0m             \u001b[1;32mtry\u001b[0m\u001b[1;33m:\u001b[0m\u001b[1;33m\u001b[0m\u001b[1;33m\u001b[0m\u001b[0m\n\u001b[1;32m--> 399\u001b[1;33m                 \u001b[0matomic_save\u001b[0m\u001b[1;33m(\u001b[0m\u001b[0mcheckpoint\u001b[0m\u001b[1;33m,\u001b[0m \u001b[0mfilepath\u001b[0m\u001b[1;33m)\u001b[0m\u001b[1;33m\u001b[0m\u001b[1;33m\u001b[0m\u001b[0m\n\u001b[0m\u001b[0;32m    400\u001b[0m             \u001b[1;32mexcept\u001b[0m \u001b[0mAttributeError\u001b[0m \u001b[1;32mas\u001b[0m \u001b[0merr\u001b[0m\u001b[1;33m:\u001b[0m\u001b[1;33m\u001b[0m\u001b[1;33m\u001b[0m\u001b[0m\n\u001b[0;32m    401\u001b[0m                 \u001b[1;32mif\u001b[0m \u001b[0mLightningModule\u001b[0m\u001b[1;33m.\u001b[0m\u001b[0mCHECKPOINT_HYPER_PARAMS_KEY\u001b[0m \u001b[1;32min\u001b[0m \u001b[0mcheckpoint\u001b[0m\u001b[1;33m:\u001b[0m\u001b[1;33m\u001b[0m\u001b[1;33m\u001b[0m\u001b[0m\n",
      "\u001b[1;32m~\\miniconda3\\envs\\pt1.8-cuda11.1\\lib\\site-packages\\pytorch_lightning\\utilities\\cloud_io.py\u001b[0m in \u001b[0;36matomic_save\u001b[1;34m(checkpoint, filepath)\u001b[0m\n\u001b[0;32m     61\u001b[0m         \u001b[0mtorch\u001b[0m\u001b[1;33m.\u001b[0m\u001b[0msave\u001b[0m\u001b[1;33m(\u001b[0m\u001b[0mcheckpoint\u001b[0m\u001b[1;33m,\u001b[0m \u001b[0mbytesbuffer\u001b[0m\u001b[1;33m,\u001b[0m \u001b[0m_use_new_zipfile_serialization\u001b[0m\u001b[1;33m=\u001b[0m\u001b[1;32mFalse\u001b[0m\u001b[1;33m)\u001b[0m\u001b[1;33m\u001b[0m\u001b[1;33m\u001b[0m\u001b[0m\n\u001b[0;32m     62\u001b[0m     \u001b[1;32melse\u001b[0m\u001b[1;33m:\u001b[0m\u001b[1;33m\u001b[0m\u001b[1;33m\u001b[0m\u001b[0m\n\u001b[1;32m---> 63\u001b[1;33m         \u001b[0mtorch\u001b[0m\u001b[1;33m.\u001b[0m\u001b[0msave\u001b[0m\u001b[1;33m(\u001b[0m\u001b[0mcheckpoint\u001b[0m\u001b[1;33m,\u001b[0m \u001b[0mbytesbuffer\u001b[0m\u001b[1;33m)\u001b[0m\u001b[1;33m\u001b[0m\u001b[1;33m\u001b[0m\u001b[0m\n\u001b[0m\u001b[0;32m     64\u001b[0m     \u001b[1;32mwith\u001b[0m \u001b[0mfsspec\u001b[0m\u001b[1;33m.\u001b[0m\u001b[0mopen\u001b[0m\u001b[1;33m(\u001b[0m\u001b[0mfilepath\u001b[0m\u001b[1;33m,\u001b[0m \u001b[1;34m\"wb\"\u001b[0m\u001b[1;33m)\u001b[0m \u001b[1;32mas\u001b[0m \u001b[0mf\u001b[0m\u001b[1;33m:\u001b[0m\u001b[1;33m\u001b[0m\u001b[1;33m\u001b[0m\u001b[0m\n\u001b[0;32m     65\u001b[0m         \u001b[0mf\u001b[0m\u001b[1;33m.\u001b[0m\u001b[0mwrite\u001b[0m\u001b[1;33m(\u001b[0m\u001b[0mbytesbuffer\u001b[0m\u001b[1;33m.\u001b[0m\u001b[0mgetvalue\u001b[0m\u001b[1;33m(\u001b[0m\u001b[1;33m)\u001b[0m\u001b[1;33m)\u001b[0m\u001b[1;33m\u001b[0m\u001b[1;33m\u001b[0m\u001b[0m\n",
      "\u001b[1;32m~\\miniconda3\\envs\\pt1.8-cuda11.1\\lib\\site-packages\\torch\\serialization.py\u001b[0m in \u001b[0;36msave\u001b[1;34m(obj, f, pickle_module, pickle_protocol, _use_new_zipfile_serialization)\u001b[0m\n\u001b[0;32m    370\u001b[0m         \u001b[1;32mif\u001b[0m \u001b[0m_use_new_zipfile_serialization\u001b[0m\u001b[1;33m:\u001b[0m\u001b[1;33m\u001b[0m\u001b[1;33m\u001b[0m\u001b[0m\n\u001b[0;32m    371\u001b[0m             \u001b[1;32mwith\u001b[0m \u001b[0m_open_zipfile_writer\u001b[0m\u001b[1;33m(\u001b[0m\u001b[0mopened_file\u001b[0m\u001b[1;33m)\u001b[0m \u001b[1;32mas\u001b[0m \u001b[0mopened_zipfile\u001b[0m\u001b[1;33m:\u001b[0m\u001b[1;33m\u001b[0m\u001b[1;33m\u001b[0m\u001b[0m\n\u001b[1;32m--> 372\u001b[1;33m                 \u001b[0m_save\u001b[0m\u001b[1;33m(\u001b[0m\u001b[0mobj\u001b[0m\u001b[1;33m,\u001b[0m \u001b[0mopened_zipfile\u001b[0m\u001b[1;33m,\u001b[0m \u001b[0mpickle_module\u001b[0m\u001b[1;33m,\u001b[0m \u001b[0mpickle_protocol\u001b[0m\u001b[1;33m)\u001b[0m\u001b[1;33m\u001b[0m\u001b[1;33m\u001b[0m\u001b[0m\n\u001b[0m\u001b[0;32m    373\u001b[0m                 \u001b[1;32mreturn\u001b[0m\u001b[1;33m\u001b[0m\u001b[1;33m\u001b[0m\u001b[0m\n\u001b[0;32m    374\u001b[0m         \u001b[0m_legacy_save\u001b[0m\u001b[1;33m(\u001b[0m\u001b[0mobj\u001b[0m\u001b[1;33m,\u001b[0m \u001b[0mopened_file\u001b[0m\u001b[1;33m,\u001b[0m \u001b[0mpickle_module\u001b[0m\u001b[1;33m,\u001b[0m \u001b[0mpickle_protocol\u001b[0m\u001b[1;33m)\u001b[0m\u001b[1;33m\u001b[0m\u001b[1;33m\u001b[0m\u001b[0m\n",
      "\u001b[1;32m~\\miniconda3\\envs\\pt1.8-cuda11.1\\lib\\site-packages\\torch\\serialization.py\u001b[0m in \u001b[0;36m_save\u001b[1;34m(obj, zip_file, pickle_module, pickle_protocol)\u001b[0m\n\u001b[0;32m    489\u001b[0m         \u001b[1;31m# Now that it is on the CPU we can directly copy it into the zip file\u001b[0m\u001b[1;33m\u001b[0m\u001b[1;33m\u001b[0m\u001b[1;33m\u001b[0m\u001b[0m\n\u001b[0;32m    490\u001b[0m         \u001b[0mnum_bytes\u001b[0m \u001b[1;33m=\u001b[0m \u001b[0mstorage\u001b[0m\u001b[1;33m.\u001b[0m\u001b[0msize\u001b[0m\u001b[1;33m(\u001b[0m\u001b[1;33m)\u001b[0m \u001b[1;33m*\u001b[0m \u001b[0mstorage\u001b[0m\u001b[1;33m.\u001b[0m\u001b[0melement_size\u001b[0m\u001b[1;33m(\u001b[0m\u001b[1;33m)\u001b[0m\u001b[1;33m\u001b[0m\u001b[1;33m\u001b[0m\u001b[0m\n\u001b[1;32m--> 491\u001b[1;33m         \u001b[0mzip_file\u001b[0m\u001b[1;33m.\u001b[0m\u001b[0mwrite_record\u001b[0m\u001b[1;33m(\u001b[0m\u001b[0mname\u001b[0m\u001b[1;33m,\u001b[0m \u001b[0mstorage\u001b[0m\u001b[1;33m.\u001b[0m\u001b[0mdata_ptr\u001b[0m\u001b[1;33m(\u001b[0m\u001b[1;33m)\u001b[0m\u001b[1;33m,\u001b[0m \u001b[0mnum_bytes\u001b[0m\u001b[1;33m)\u001b[0m\u001b[1;33m\u001b[0m\u001b[1;33m\u001b[0m\u001b[0m\n\u001b[0m\u001b[0;32m    492\u001b[0m \u001b[1;33m\u001b[0m\u001b[0m\n\u001b[0;32m    493\u001b[0m \u001b[1;33m\u001b[0m\u001b[0m\n",
      "\u001b[1;31mKeyboardInterrupt\u001b[0m: "
     ]
    }
   ],
   "metadata": {}
  },
  {
   "cell_type": "code",
   "execution_count": 18,
   "source": [
    "study.best_trial"
   ],
   "outputs": [
    {
     "output_type": "execute_result",
     "data": {
      "text/plain": [
       "FrozenTrial(number=90, values=[0.42995643615722656], datetime_start=datetime.datetime(2021, 1, 31, 19, 45, 53, 481214), datetime_complete=datetime.datetime(2021, 1, 31, 19, 47, 2, 964531), params={'conv2d_size': 10, 'conv2d_filter': 623, 'conv2d_dropout': 0.4168688755057171, 'conv1d_size1': 9, 'conv1d_size2': 4, 'conv1d_size3': 4, 'conv1d_size4': 1, 'conv1d_filter1': 687, 'conv1d_filter2': 726, 'conv1d_filter3': 251, 'conv1d_filter4': 98, 'conv1d_dropout1': 0.03417123500487315, 'conv1d_dropout2': 0.0012576702621896474, 'conv1d_dropout3': 0.44368624586529454, 'conv1d_dropout4': 0.37445924176084855, 'lin_size1': 156, 'lin_size2': 81, 'lin_dropout1': 0.41409200128067714, 'lin_dropout2': 0.17582465988880505, 'lr': 0.0002287922409677974, 'batch_size': 256}, distributions={'conv2d_size': IntUniformDistribution(high=13, low=9, step=1), 'conv2d_filter': IntUniformDistribution(high=768, low=256, step=1), 'conv2d_dropout': UniformDistribution(high=0.5, low=0.1), 'conv1d_size1': IntUniformDistribution(high=11, low=7, step=1), 'conv1d_size2': IntUniformDistribution(high=7, low=3, step=1), 'conv1d_size3': IntUniformDistribution(high=7, low=3, step=1), 'conv1d_size4': IntUniformDistribution(high=3, low=1, step=1), 'conv1d_filter1': IntUniformDistribution(high=768, low=256, step=1), 'conv1d_filter2': IntUniformDistribution(high=768, low=256, step=1), 'conv1d_filter3': IntUniformDistribution(high=384, low=128, step=1), 'conv1d_filter4': IntUniformDistribution(high=128, low=32, step=1), 'conv1d_dropout1': UniformDistribution(high=0.5, low=0.0), 'conv1d_dropout2': UniformDistribution(high=0.5, low=0.0), 'conv1d_dropout3': UniformDistribution(high=0.5, low=0.0), 'conv1d_dropout4': UniformDistribution(high=0.5, low=0.0), 'lin_size1': IntUniformDistribution(high=294, low=0, step=1), 'lin_size2': IntUniformDistribution(high=106, low=16, step=1), 'lin_dropout1': UniformDistribution(high=0.5, low=0.1), 'lin_dropout2': UniformDistribution(high=0.5, low=0.1), 'lr': LogUniformDistribution(high=0.1, low=0.0001), 'batch_size': CategoricalDistribution(choices=(256, 512, 1024, 2048, 4096, 8096))}, user_attrs={}, system_attrs={}, intermediate_values={0: 0.42995643615722656}, trial_id=90, state=TrialState.COMPLETE, value=None)"
      ]
     },
     "metadata": {},
     "execution_count": 18
    }
   ],
   "metadata": {}
  },
  {
   "cell_type": "code",
   "execution_count": 19,
   "source": [
    "study.best_params"
   ],
   "outputs": [
    {
     "output_type": "execute_result",
     "data": {
      "text/plain": [
       "{'conv2d_size': 10,\n",
       " 'conv2d_filter': 623,\n",
       " 'conv2d_dropout': 0.4168688755057171,\n",
       " 'conv1d_size1': 9,\n",
       " 'conv1d_size2': 4,\n",
       " 'conv1d_size3': 4,\n",
       " 'conv1d_size4': 1,\n",
       " 'conv1d_filter1': 687,\n",
       " 'conv1d_filter2': 726,\n",
       " 'conv1d_filter3': 251,\n",
       " 'conv1d_filter4': 98,\n",
       " 'conv1d_dropout1': 0.03417123500487315,\n",
       " 'conv1d_dropout2': 0.0012576702621896474,\n",
       " 'conv1d_dropout3': 0.44368624586529454,\n",
       " 'conv1d_dropout4': 0.37445924176084855,\n",
       " 'lin_size1': 156,\n",
       " 'lin_size2': 81,\n",
       " 'lin_dropout1': 0.41409200128067714,\n",
       " 'lin_dropout2': 0.17582465988880505,\n",
       " 'lr': 0.0002287922409677974,\n",
       " 'batch_size': 256}"
      ]
     },
     "metadata": {},
     "execution_count": 19
    }
   ],
   "metadata": {}
  },
  {
   "cell_type": "code",
   "execution_count": 20,
   "source": [
    "study.best_value"
   ],
   "outputs": [
    {
     "output_type": "execute_result",
     "data": {
      "text/plain": [
       "0.42995643615722656"
      ]
     },
     "metadata": {},
     "execution_count": 20
    }
   ],
   "metadata": {}
  }
 ],
 "metadata": {
  "kernelspec": {
   "display_name": "pt1.8-cuda11.1",
   "language": "python",
   "name": "pt1.8-cuda11.1"
  },
  "language_info": {
   "codemirror_mode": {
    "name": "ipython",
    "version": 3
   },
   "file_extension": ".py",
   "mimetype": "text/x-python",
   "name": "python",
   "nbconvert_exporter": "python",
   "pygments_lexer": "ipython3",
   "version": "3.8.5"
  }
 },
 "nbformat": 4,
 "nbformat_minor": 4
}
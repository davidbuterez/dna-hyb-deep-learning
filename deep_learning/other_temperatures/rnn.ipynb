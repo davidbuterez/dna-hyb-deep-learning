{
 "cells": [
  {
   "cell_type": "code",
   "execution_count": 1,
   "metadata": {},
   "outputs": [],
   "source": [
    "MAX_LEN = 26\n",
    "LR = 0.0005974060251967456\n",
    "BATCH_SIZE = 128"
   ]
  },
  {
   "cell_type": "code",
   "execution_count": 2,
   "metadata": {},
   "outputs": [],
   "source": [
    "import os\n",
    "import numpy as np\n",
    "import pandas as pd\n",
    "import deepdish as dd\n",
    "\n",
    "import pytorch_lightning as pl\n",
    "from pytorch_lightning.callbacks import EarlyStopping, ModelCheckpoint\n",
    "\n",
    "import torch\n",
    "import torch.nn.functional as F\n",
    "from torch import nn\n",
    "from torch.utils.data import Dataset, DataLoader, TensorDataset\n",
    "\n",
    "from torchnlp.encoders.text import CharacterEncoder"
   ]
  },
  {
   "cell_type": "code",
   "execution_count": 3,
   "metadata": {},
   "outputs": [],
   "source": [
    "from sklearn.metrics import confusion_matrix, precision_recall_fscore_support, roc_auc_score, roc_curve, matthews_corrcoef, plot_confusion_matrix, average_precision_score, auc\n",
    "from collections import defaultdict\n",
    "import seaborn as sns"
   ]
  },
  {
   "cell_type": "code",
   "execution_count": 4,
   "metadata": {},
   "outputs": [],
   "source": [
    "class RNNRegression(pl.LightningModule):\n",
    "    def __init__(self, vocab_size, emb_dim, hidden_size, num_layers, dropout):\n",
    "        super(RNNRegression, self).__init__()\n",
    "        self.hidden_size = hidden_size\n",
    "        self.out_predictions = []\n",
    "        \n",
    "        self.embeddings = nn.Embedding(vocab_size, emb_dim)\n",
    "        self.rnn = nn.LSTM(input_size=emb_dim, hidden_size=hidden_size, num_layers=num_layers, dropout=dropout, bidirectional=True, batch_first=True)\n",
    "        self.dropout = nn.Dropout(0.21659149581080556)\n",
    "        \n",
    "        self.linear = nn.Linear(2 * hidden_size, 1)\n",
    "\n",
    "    def forward(self, x):\n",
    "        x = self.embeddings(x.long())\n",
    "        x, _ = self.rnn(x)\n",
    "        cls_token_emb = x[:, 0, :]\n",
    "        x = self.dropout(cls_token_emb)\n",
    "        x = self.linear(x)\n",
    "        return x\n",
    "    \n",
    "\n",
    "    def training_step(self, batch, batch_idx):\n",
    "        x, y = batch\n",
    "        train_out = self(x)\n",
    "        loss = F.mse_loss(torch.squeeze(train_out), y)\n",
    "        self.log('train_loss', loss)\n",
    "        return loss\n",
    "\n",
    "    \n",
    "    def configure_optimizers(self):\n",
    "        return torch.optim.Adam(self.parameters(), LR)\n",
    "    \n",
    "            \n",
    "    def validation_step(self, batch, batch_idx):\n",
    "        x, y = batch\n",
    "        val_out = self(x)\n",
    "        val_loss = F.mse_loss(torch.squeeze(val_out), y)\n",
    "        self.log('val_loss', val_loss)\n",
    "        return val_loss\n",
    "    \n",
    "            \n",
    "    def test_step(self, batch, batch_idx):\n",
    "        x, y = batch\n",
    "        test_out = self(x)\n",
    "        self.out_predictions.append(test_out)\n",
    "        test_loss = F.mse_loss(torch.squeeze(test_out), y)\n",
    "        self.log('test_loss', test_loss)\n",
    "        return test_loss"
   ]
  },
  {
   "cell_type": "code",
   "execution_count": 23,
   "metadata": {},
   "outputs": [],
   "source": [
    "train = dd.io.load('splits/train.h5')\n",
    "val = dd.io.load('splits/val.h5')\n",
    "test = dd.io.load('splits/test.h5')\n",
    "y_train = np.load('splits/y_train.npy')\n",
    "y_val = np.load('splits/y_val.npy')\n",
    "y_test = np.load('splits/y_test.npy')"
   ]
  },
  {
   "cell_type": "code",
   "execution_count": 24,
   "metadata": {},
   "outputs": [],
   "source": [
    "y_train = y_train * 100\n",
    "y_val = y_val * 100\n",
    "y_test = y_test * 100"
   ]
  },
  {
   "cell_type": "code",
   "execution_count": 7,
   "metadata": {},
   "outputs": [],
   "source": [
    "all_seqs = set()\n",
    "all_seqs.update([item[0] for item in train])\n",
    "all_seqs.update([item[1] for item in train])\n",
    "all_seqs.update([item[0] for item in val])\n",
    "all_seqs.update([item[1] for item in val])\n",
    "all_seqs.update([item[0] for item in test])\n",
    "all_seqs.update([item[1] for item in test])"
   ]
  },
  {
   "cell_type": "code",
   "execution_count": 8,
   "metadata": {},
   "outputs": [],
   "source": [
    "encoder = CharacterEncoder(all_seqs)"
   ]
  },
  {
   "cell_type": "code",
   "execution_count": 9,
   "metadata": {},
   "outputs": [],
   "source": [
    "enc_dict = dict(zip(encoder.vocab, range(len(encoder.vocab))))"
   ]
  },
  {
   "cell_type": "code",
   "execution_count": 10,
   "metadata": {},
   "outputs": [],
   "source": [
    "from torchnlp.encoders.text.default_reserved_tokens import DEFAULT_SOS_INDEX\n",
    "from torchnlp.encoders.text.default_reserved_tokens import DEFAULT_EOS_INDEX\n",
    "from torchnlp.encoders.text.default_reserved_tokens import DEFAULT_PADDING_INDEX"
   ]
  },
  {
   "cell_type": "code",
   "execution_count": 11,
   "metadata": {},
   "outputs": [],
   "source": [
    "def split(X, y, split):\n",
    "    X_train, y_train, X_test, y_test = [], [], [], []\n",
    "    hist = [[], [], []]\n",
    "    for i, val in enumerate(y):\n",
    "        if val < 0.1:\n",
    "            hist[0].append((X[i], val))\n",
    "        elif val <= 0.90:\n",
    "            hist[1].append((X[i], val))\n",
    "        else:\n",
    "            hist[2].append((X[i], val))\n",
    "            \n",
    "    for h in hist:\n",
    "        np.random.shuffle(h)\n",
    "        limit = int(len(h) * split)\n",
    "        d1, d2 = h[:limit], h[limit:]\n",
    "        for pair in d1:\n",
    "            X_train.append(pair[0])\n",
    "            y_train.append(pair[1])\n",
    "        for pair in d2:\n",
    "            X_test.append(pair[0])\n",
    "            y_test.append(pair[1])\n",
    "            \n",
    "    return X_train, y_train, X_test, y_test"
   ]
  },
  {
   "cell_type": "code",
   "execution_count": 12,
   "metadata": {},
   "outputs": [],
   "source": [
    "def encode_for_rnn(seq, max_len):\n",
    "    # Default padding index is zero for the character encoder\n",
    "    nucl_dict = {'A': enc_dict['A'], 'C': enc_dict['C'], 'G': enc_dict['G'], 'T': enc_dict['T']}\n",
    "    mat = np.zeros(max_len, dtype=int)\n",
    "    \n",
    "    for i, nucl in enumerate(seq):\n",
    "        mat[i] = nucl_dict[nucl]\n",
    "    return mat\n",
    "\n",
    "def encode_pair_for_rnn(seq1, seq2, max_len):\n",
    "    enc1 = encode_for_rnn(seq1, max_len)\n",
    "    enc2 = encode_for_rnn(seq2, max_len)\n",
    "    return np.hstack((np.array([DEFAULT_SOS_INDEX]), enc1, np.array([DEFAULT_EOS_INDEX]), enc2, np.array([DEFAULT_EOS_INDEX])))"
   ]
  },
  {
   "cell_type": "code",
   "execution_count": 13,
   "metadata": {},
   "outputs": [],
   "source": [
    "X_train = [encode_pair_for_rnn(item[0], item[1], MAX_LEN) for item in train]\n",
    "X_val = [encode_pair_for_rnn(item[0], item[1], MAX_LEN) for item in val]\n",
    "X_test = [encode_pair_for_rnn(item[0], item[1], MAX_LEN) for item in test]"
   ]
  },
  {
   "cell_type": "code",
   "execution_count": 14,
   "metadata": {},
   "outputs": [],
   "source": [
    "X_train = np.array(X_train, dtype=np.dtype('d'))\n",
    "X_val = np.array(X_val, dtype=np.dtype('d'))\n",
    "X_test = np.array(X_test, dtype=np.dtype('d'))"
   ]
  },
  {
   "cell_type": "code",
   "execution_count": 15,
   "metadata": {},
   "outputs": [],
   "source": [
    "all_temps_df = pd.read_csv('test_set_other_temperatures.csv')\n",
    "y_test_37 = all_temps_df['Yield_37C'].values\n",
    "y_test_42 = all_temps_df['Yield_42C'].values\n",
    "y_test_47 = all_temps_df['Yield_47C'].values\n",
    "y_test_52 = all_temps_df['Yield_52C'].values\n",
    "y_test_62 = all_temps_df['Yield_62C'].values\n",
    "\n",
    "y_test_37 = y_test_37 * 100\n",
    "y_test_42 = y_test_42 * 100\n",
    "y_test_47 = y_test_47 * 100\n",
    "y_test_52 = y_test_52 * 100\n",
    "y_test_62 = y_test_62 * 100\n",
    "\n",
    "test_dataloader_37 = DataLoader(TensorDataset(torch.from_numpy(X_test), torch.from_numpy(y_test_37)), batch_size=BATCH_SIZE, num_workers=0)\n",
    "test_dataloader_42 = DataLoader(TensorDataset(torch.from_numpy(X_test), torch.from_numpy(y_test_42)), batch_size=BATCH_SIZE, num_workers=0)\n",
    "test_dataloader_47 = DataLoader(TensorDataset(torch.from_numpy(X_test), torch.from_numpy(y_test_47)), batch_size=BATCH_SIZE, num_workers=0)\n",
    "test_dataloader_52 = DataLoader(TensorDataset(torch.from_numpy(X_test), torch.from_numpy(y_test_52)), batch_size=BATCH_SIZE, num_workers=0)\n",
    "test_dataloader_62 = DataLoader(TensorDataset(torch.from_numpy(X_test), torch.from_numpy(y_test_62)), batch_size=BATCH_SIZE, num_workers=0)"
   ]
  },
  {
   "cell_type": "code",
   "execution_count": 16,
   "metadata": {},
   "outputs": [],
   "source": [
    "test_dataloader = torch.utils.data.DataLoader(list(zip(X_test, y_test)), batch_size=128, shuffle=False)"
   ]
  },
  {
   "cell_type": "code",
   "execution_count": 17,
   "metadata": {},
   "outputs": [],
   "source": [
    "torch.set_default_tensor_type(torch.DoubleTensor)\n",
    "torch.set_default_dtype(torch.double)"
   ]
  },
  {
   "cell_type": "code",
   "execution_count": 35,
   "metadata": {},
   "outputs": [
    {
     "name": "stderr",
     "output_type": "stream",
     "text": [
      "GPU available: True, used: True\n",
      "TPU available: None, using: 0 TPU cores\n",
      "LOCAL_RANK: 0 - CUDA_VISIBLE_DEVICES: [0]\n"
     ]
    },
    {
     "data": {
      "application/vnd.jupyter.widget-view+json": {
       "model_id": "fc1fbd8a6aaf40788301538586ad9248",
       "version_major": 2,
       "version_minor": 0
      },
      "text/plain": [
       "Testing: 0it [00:00, ?it/s]"
      ]
     },
     "metadata": {},
     "output_type": "display_data"
    },
    {
     "name": "stdout",
     "output_type": "stream",
     "text": [
      "--------------------------------------------------------------------------------\n",
      "DATALOADER:0 TEST RESULTS\n",
      "{'test_loss': tensor(76.6689, device='cuda:0', dtype=torch.float32)}\n",
      "--------------------------------------------------------------------------------\n"
     ]
    }
   ],
   "source": [
    "# Replace with loader for specific temperature from above\n",
    "loader = test_dataloader\n",
    "labels = y_test\n",
    "\n",
    "model_chkp = RNNRegression.load_from_checkpoint('...', vocab_size=len(encoder.vocab), emb_dim=32, hidden_size=64, num_layers=3, dropout=0.2412375022122436)\n",
    "\n",
    "trainer_chkp = pl.Trainer(gpus=[0])\n",
    "trainer_chkp.test(model_chkp, test_dataloaders=test_dataloader)\n",
    "\n",
    "predictions = [[pred.item() for pred in preds] for preds in model_chkp.out_predictions]\n",
    "preds_flat = [j for sub in predictions for j in sub]\n",
    "predictions_np = np.array(preds_flat)\n",
    "predictions_labels = [1 if x > 20 else 0 for x in predictions_np]\n",
    "true_labels = [1 if x > 20 else 0 for x in labels]"
   ]
  },
  {
   "cell_type": "code",
   "execution_count": 36,
   "metadata": {},
   "outputs": [],
   "source": [
    "cf_matrix = confusion_matrix(true_labels, predictions_labels)"
   ]
  },
  {
   "cell_type": "code",
   "execution_count": 37,
   "metadata": {},
   "outputs": [
    {
     "data": {
      "text/plain": [
       "<AxesSubplot:>"
      ]
     },
     "execution_count": 37,
     "metadata": {},
     "output_type": "execute_result"
    },
    {
     "data": {
      "image/png": "[encoded data removed]",
      "text/plain": [
       "<Figure size 432x288 with 2 Axes>"
      ]
     },
     "metadata": {
      "needs_background": "light"
     },
     "output_type": "display_data"
    }
   ],
   "source": [
    "sns.heatmap(cf_matrix, annot=True, fmt='g')"
   ]
  },
  {
   "cell_type": "code",
   "execution_count": 38,
   "metadata": {},
   "outputs": [
    {
     "data": {
      "text/plain": [
       "<AxesSubplot:>"
      ]
     },
     "execution_count": 38,
     "metadata": {},
     "output_type": "execute_result"
    },
    {
     "data": {
      "image/png": "[encoded data removed]",
      "text/plain": [
       "<Figure size 432x288 with 2 Axes>"
      ]
     },
     "metadata": {
      "needs_background": "light"
     },
     "output_type": "display_data"
    }
   ],
   "source": [
    "sns.heatmap(cf_matrix / cf_matrix.astype(np.float).sum(axis=1), annot=True, fmt='.3f')"
   ]
  },
  {
   "cell_type": "code",
   "execution_count": 39,
   "metadata": {},
   "outputs": [
    {
     "data": {
      "text/plain": [
       "0.939793270569014"
      ]
     },
     "execution_count": 39,
     "metadata": {},
     "output_type": "execute_result"
    }
   ],
   "source": [
    "matthews_corrcoef(true_labels, predictions_labels)  "
   ]
  },
  {
   "cell_type": "code",
   "execution_count": 40,
   "metadata": {},
   "outputs": [
    {
     "data": {
      "text/plain": [
       "0.967721151638041"
      ]
     },
     "execution_count": 40,
     "metadata": {},
     "output_type": "execute_result"
    }
   ],
   "source": [
    "fpr, tpr, thresholds = roc_curve(true_labels, predictions_labels)\n",
    "auc(fpr, tpr)"
   ]
  },
  {
   "cell_type": "code",
   "execution_count": 41,
   "metadata": {},
   "outputs": [
    {
     "data": {
      "text/plain": [
       "0.9554898755459962"
      ]
     },
     "execution_count": 41,
     "metadata": {},
     "output_type": "execute_result"
    }
   ],
   "source": [
    "average_precision_score(true_labels, predictions_labels)"
   ]
  },
  {
   "cell_type": "code",
   "execution_count": 42,
   "metadata": {},
   "outputs": [
    {
     "data": {
      "text/plain": [
       "(array([0.9838578 , 0.96030668]),\n",
       " array([0.94754429, 0.98789801]),\n",
       " array([0.96535967, 0.97390696]),\n",
       " array([111923, 143778], dtype=int64))"
      ]
     },
     "execution_count": 42,
     "metadata": {},
     "output_type": "execute_result"
    }
   ],
   "source": [
    "precision_recall_fscore_support(true_labels, predictions_labels, average=None)"
   ]
  }
 ],
 "metadata": {
  "kernelspec": {
   "display_name": "pytorch",
   "language": "python",
   "name": "pytorch"
  },
  "language_info": {
   "codemirror_mode": {
    "name": "ipython",
    "version": 3
   },
   "file_extension": ".py",
   "mimetype": "text/x-python",
   "name": "python",
   "nbconvert_exporter": "python",
   "pygments_lexer": "ipython3",
   "version": "3.8.5"
  }
 },
 "nbformat": 4,
 "nbformat_minor": 4
}

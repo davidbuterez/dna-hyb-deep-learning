{
 "cells": [
  {
   "cell_type": "code",
   "execution_count": 65,
   "metadata": {},
   "outputs": [],
   "source": [
    "MAX_LEN = 26\n",
    "LR = 0.0001\n",
    "BATCH_SIZE = 512"
   ]
  },
  {
   "cell_type": "code",
   "execution_count": 67,
   "metadata": {},
   "outputs": [],
   "source": [
    "import os\n",
    "import numpy as np\n",
    "import pandas as pd\n",
    "import deepdish as dd\n",
    "\n",
    "import pytorch_lightning as pl\n",
    "from pytorch_lightning.callbacks import EarlyStopping, ModelCheckpoint\n",
    "\n",
    "import torch\n",
    "import torch.nn.functional as F\n",
    "from torch import nn\n",
    "from torch.utils.data import Dataset, DataLoader, TensorDataset"
   ]
  },
  {
   "cell_type": "code",
   "execution_count": 68,
   "metadata": {},
   "outputs": [],
   "source": [
    "from sklearn.metrics import confusion_matrix, precision_recall_fscore_support, roc_auc_score, roc_curve, matthews_corrcoef, plot_confusion_matrix, auc, average_precision_score\n",
    "from collections import defaultdict\n",
    "import seaborn as sns"
   ]
  },
  {
   "cell_type": "code",
   "execution_count": null,
   "metadata": {},
   "outputs": [],
   "source": [
    "def encode(seq, max_len):\n",
    "    nucl_dict = {'A': 0, 'C': 1, 'G': 2, 'T': 3}\n",
    "    mat = np.zeros((4, max_len), dtype=int)\n",
    "    \n",
    "    for i, nucl in enumerate(seq):\n",
    "        mat[nucl_dict[nucl]][i] = 1\n",
    "\n",
    "    return mat\n",
    "\n",
    "def encode_pair(seq1, seq2, max_len):\n",
    "    enc1 = encode(seq1, max_len)\n",
    "    enc2 = encode(seq2, max_len)\n",
    "    return np.array([enc1, enc2])"
   ]
  },
  {
   "cell_type": "code",
   "execution_count": 69,
   "metadata": {},
   "outputs": [],
   "source": [
    "class CNNRegression(pl.LightningModule):\n",
    "    def __init__(self):\n",
    "        super(CNNRegression, self).__init__()\n",
    "        self.out_predictions = []\n",
    "        \n",
    "        self.conv2d_block = nn.Sequential(\n",
    "            nn.Conv2d(2, 512, (4, 9)),\n",
    "            nn.ReLU(),\n",
    "            nn.BatchNorm2d(512),\n",
    "            nn.Dropout2d(0.2),\n",
    "        )\n",
    "        \n",
    "        self.conv1d_block = nn.Sequential(\n",
    "            nn.Conv1d(512, 512, 9),\n",
    "            nn.ReLU(),\n",
    "            nn.BatchNorm1d(512),\n",
    "            nn.Conv1d(512, 128, 3),\n",
    "            nn.ReLU(),\n",
    "            nn.BatchNorm1d(128),\n",
    "            nn.Dropout(0.2),\n",
    "            nn.Conv1d(128, 128, 3),\n",
    "            nn.ReLU(),\n",
    "            nn.BatchNorm1d(128),\n",
    "            nn.Conv1d(128, 64, 1),\n",
    "            nn.ReLU(),\n",
    "            nn.BatchNorm1d(64),\n",
    "        )\n",
    "            \n",
    "        self.lin_block = nn.Sequential(\n",
    "            nn.Linear(64 * 6, 256),\n",
    "            nn.ReLU(),\n",
    "            nn.Linear(256, 128),\n",
    "            nn.ReLU(),\n",
    "            nn.Dropout(0.2),\n",
    "            nn.Linear(128, 1)\n",
    "        )\n",
    "\n",
    "    def forward(self, x):\n",
    "        x = self.conv2d_block(x)\n",
    "        x = self.conv1d_block(torch.squeeze(x))\n",
    "        x = x.view(x.size(0), -1)\n",
    "        x = self.lin_block(x)\n",
    "        return x\n",
    "\n",
    "    def training_step(self, batch, batch_idx):\n",
    "        x, y = batch\n",
    "        loss = F.mse_loss(torch.squeeze(self(x)), y)\n",
    "        self.log('train_loss', loss, on_step=False, on_epoch=True, prog_bar=True, logger=True)\n",
    "        return loss\n",
    "\n",
    "    def configure_optimizers(self):\n",
    "        return torch.optim.Adam(self.parameters(), lr=LR)\n",
    "            \n",
    "    def validation_step(self, batch, batch_idx):\n",
    "        x, y = batch\n",
    "        val_loss = F.mse_loss(torch.squeeze(self(x)), y)\n",
    "        self.log('val_loss', val_loss, on_step=False, on_epoch=True, prog_bar=True, logger=True)\n",
    "        return val_loss\n",
    "            \n",
    "    def test_step(self, batch, batch_idx):\n",
    "        x, y = batch\n",
    "        test_out = self(x)\n",
    "        self.out_predictions.append(test_out)\n",
    "        test_loss = F.mse_loss(torch.squeeze(test_out), y)\n",
    "        self.log('test_loss', test_loss, on_step=False, on_epoch=True, prog_bar=True, logger=True)\n",
    "        return test_loss"
   ]
  },
  {
   "cell_type": "code",
   "execution_count": 70,
   "metadata": {},
   "outputs": [],
   "source": [
    "train = dd.io.load('splits/train.h5')\n",
    "val = dd.io.load('splits/val.h5')\n",
    "test = dd.io.load('splits/test.h5')\n",
    "y_train = np.load('splits/y_train.npy')\n",
    "y_val = np.load('splits/y_val.npy')\n",
    "y_test = np.load('splits/y_test.npy')"
   ]
  },
  {
   "cell_type": "code",
   "execution_count": 71,
   "metadata": {},
   "outputs": [],
   "source": [
    "y_train = y_train * 100\n",
    "y_val = y_val * 100\n",
    "y_test = y_test * 100"
   ]
  },
  {
   "cell_type": "code",
   "execution_count": 72,
   "metadata": {},
   "outputs": [],
   "source": [
    "X_train = [encode_pair(item[0], item[1], MAX_LEN) for item in train]\n",
    "X_val = [encode_pair(item[0], item[1], MAX_LEN) for item in val]\n",
    "X_test = [encode_pair(item[0], item[1], MAX_LEN) for item in test]"
   ]
  },
  {
   "cell_type": "code",
   "execution_count": 73,
   "metadata": {},
   "outputs": [],
   "source": [
    "X_train = np.array(X_train, dtype=np.dtype('d'))\n",
    "X_val = np.array(X_val, dtype=np.dtype('d'))\n",
    "X_test = np.array(X_test, dtype=np.dtype('d'))"
   ]
  },
  {
   "cell_type": "code",
   "execution_count": 76,
   "metadata": {},
   "outputs": [],
   "source": [
    "torch.set_default_tensor_type(torch.DoubleTensor)\n",
    "torch.set_default_dtype(torch.double)"
   ]
  },
  {
   "cell_type": "code",
   "execution_count": 77,
   "metadata": {},
   "outputs": [],
   "source": [
    "train_dataloader = DataLoader(TensorDataset(torch.from_numpy(X_train).to(device=torch.device('cuda')), torch.from_numpy(y_train).to(device=torch.device('cuda'))), batch_size=NUM_BATCHES, shuffle=True, num_workers=8)\n",
    "val_dataloader = DataLoader(TensorDataset(torch.from_numpy(X_val).to(device=torch.device('cuda')), torch.from_numpy(y_val).to(device=torch.device('cuda'))), batch_size=NUM_BATCHES, num_workers=8)\n",
    "test_dataloader = DataLoader(TensorDataset(torch.from_numpy(X_test).to(device=torch.device('cuda')), torch.from_numpy(y_test).to(device=torch.device('cuda'))), batch_size=NUM_BATCHES, num_workers=8)"
   ]
  },
  {
   "cell_type": "code",
   "execution_count": 78,
   "metadata": {},
   "outputs": [],
   "source": [
    "all_temps_df = pd.read_csv('test_set_other_temperatures.csv')\n",
    "y_test_37 = all_temps_df['Yield_37C'].values\n",
    "y_test_42 = all_temps_df['Yield_42C'].values\n",
    "y_test_47 = all_temps_df['Yield_47C'].values\n",
    "y_test_52 = all_temps_df['Yield_52C'].values\n",
    "y_test_62 = all_temps_df['Yield_62C'].values\n",
    "\n",
    "y_test_37 = y_test_37 * 100\n",
    "y_test_42 = y_test_42 * 100\n",
    "y_test_47 = y_test_47 * 100\n",
    "y_test_52 = y_test_52 * 100\n",
    "y_test_62 = y_test_62 * 100\n",
    "\n",
    "test_dataloader_37 = DataLoader(TensorDataset(torch.from_numpy(X_test), torch.from_numpy(y_test_37)), batch_size=BATCH_SIZE, num_workers=0)\n",
    "test_dataloader_42 = DataLoader(TensorDataset(torch.from_numpy(X_test), torch.from_numpy(y_test_42)), batch_size=BATCH_SIZE, num_workers=0)\n",
    "test_dataloader_47 = DataLoader(TensorDataset(torch.from_numpy(X_test), torch.from_numpy(y_test_47)), batch_size=BATCH_SIZE, num_workers=0)\n",
    "test_dataloader_52 = DataLoader(TensorDataset(torch.from_numpy(X_test), torch.from_numpy(y_test_52)), batch_size=BATCH_SIZE, num_workers=0)\n",
    "test_dataloader_62 = DataLoader(TensorDataset(torch.from_numpy(X_test), torch.from_numpy(y_test_62)), batch_size=BATCH_SIZE, num_workers=0)"
   ]
  },
  {
   "cell_type": "code",
   "execution_count": 79,
   "metadata": {},
   "outputs": [],
   "source": [
    "loader = test_dataloader_62\n",
    "labels = y_test_62\n",
    "\n",
    "model = CNNRegression.load_from_checkpoint('...')\n",
    "trainer= pl.Trainer(gpus=[0])"
   ]
  },
  {
   "cell_type": "code",
   "execution_count": null,
   "metadata": {},
   "outputs": [],
   "source": [
    "trainer.test(model, test_dataloaders=loader)"
   ]
  },
  {
   "cell_type": "code",
   "execution_count": null,
   "metadata": {},
   "outputs": [],
   "source": [
    "predictions = [[pred.item() for pred in preds] for preds in model.out_predictions]\n",
    "preds_flat = [j for sub in predictions for j in sub]\n",
    "predictions_np = np.array(preds_flat)\n",
    "\n",
    "predictions_labels = [1 if x > 20 else 0 for x in predictions_np]\n",
    "true_labels = [1 if x > 20 else 0 for x in labels]"
   ]
  },
  {
   "cell_type": "code",
   "execution_count": 57,
   "metadata": {},
   "outputs": [],
   "source": [
    "cf_matrix = confusion_matrix(true_labels, predictions_labels)"
   ]
  },
  {
   "cell_type": "code",
   "execution_count": 58,
   "metadata": {},
   "outputs": [
    {
     "data": {
      "text/plain": [
       "<AxesSubplot:>"
      ]
     },
     "execution_count": 58,
     "metadata": {},
     "output_type": "execute_result"
    },
    {
     "data": {
      "image/png": "[encoded data removed]",
      "text/plain": [
       "<Figure size 432x288 with 2 Axes>"
      ]
     },
     "metadata": {
      "needs_background": "light"
     },
     "output_type": "display_data"
    }
   ],
   "source": [
    "sns.heatmap(cf_matrix, annot=True, fmt='g')"
   ]
  },
  {
   "cell_type": "code",
   "execution_count": 59,
   "metadata": {},
   "outputs": [
    {
     "data": {
      "text/plain": [
       "<AxesSubplot:>"
      ]
     },
     "execution_count": 59,
     "metadata": {},
     "output_type": "execute_result"
    },
    {
     "data": {
      "image/png": "[encoded data removed]",
      "text/plain": [
       "<Figure size 432x288 with 2 Axes>"
      ]
     },
     "metadata": {
      "needs_background": "light"
     },
     "output_type": "display_data"
    }
   ],
   "source": [
    "sns.heatmap(cf_matrix / cf_matrix.astype(np.float).sum(axis=1), annot=True, fmt='.3f')"
   ]
  },
  {
   "cell_type": "code",
   "execution_count": 60,
   "metadata": {},
   "outputs": [
    {
     "data": {
      "text/plain": [
       "0.8113760572848028"
      ]
     },
     "execution_count": 60,
     "metadata": {},
     "output_type": "execute_result"
    }
   ],
   "source": [
    "matthews_corrcoef(true_labels, predictions_labels)  "
   ]
  },
  {
   "cell_type": "code",
   "execution_count": 61,
   "metadata": {},
   "outputs": [
    {
     "data": {
      "text/plain": [
       "0.8987146271021283"
      ]
     },
     "execution_count": 61,
     "metadata": {},
     "output_type": "execute_result"
    }
   ],
   "source": [
    "fpr, tpr, thresholds = roc_curve(true_labels, predictions_labels)\n",
    "auc(fpr, tpr)"
   ]
  },
  {
   "cell_type": "code",
   "execution_count": 62,
   "metadata": {},
   "outputs": [
    {
     "data": {
      "text/plain": [
       "0.8260444150989432"
      ]
     },
     "execution_count": 62,
     "metadata": {},
     "output_type": "execute_result"
    }
   ],
   "source": [
    "average_precision_score(true_labels, predictions_labels)"
   ]
  },
  {
   "cell_type": "code",
   "execution_count": 63,
   "metadata": {},
   "outputs": [
    {
     "data": {
      "text/plain": [
       "(array([0.99933728, 0.82622951]),\n",
       " array([0.79797988, 0.99944938]),\n",
       " array([0.88737932, 0.90462192]),\n",
       " array([130388, 125313], dtype=int64))"
      ]
     },
     "execution_count": 63,
     "metadata": {},
     "output_type": "execute_result"
    }
   ],
   "source": [
    "precision_recall_fscore_support(true_labels, predictions_labels, average=None)"
   ]
  },
  {
   "cell_type": "code",
   "execution_count": null,
   "metadata": {},
   "outputs": [],
   "source": []
  }
 ],
 "metadata": {
  "kernelspec": {
   "display_name": "pt1.8-cuda11.1",
   "language": "python",
   "name": "pt1.8-cuda11.1"
  },
  "language_info": {
   "codemirror_mode": {
    "name": "ipython",
    "version": 3
   },
   "file_extension": ".py",
   "mimetype": "text/x-python",
   "name": "python",
   "nbconvert_exporter": "python",
   "pygments_lexer": "ipython3",
   "version": "3.8.5"
  }
 },
 "nbformat": 4,
 "nbformat_minor": 4
}

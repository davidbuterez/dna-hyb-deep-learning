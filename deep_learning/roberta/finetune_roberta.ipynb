{
 "cells": [
  {
   "cell_type": "code",
   "execution_count": 1,
   "metadata": {},
   "outputs": [],
   "source": [
    "MAX_LEN = 64\n",
    "BATCH_SIZE = 1024\n",
    "MAX_EPCH = 20"
   ]
  },
  {
   "cell_type": "code",
   "execution_count": null,
   "metadata": {},
   "outputs": [
    {
     "name": "stdout",
     "output_type": "stream",
     "text": [
      "3.9.1 (default, Dec 11 2020, 09:29:25) [MSC v.1916 64 bit (AMD64)]\n"
     ]
    }
   ],
   "source": [
    "import sys\n",
    "print (sys.version)"
   ]
  },
  {
   "cell_type": "code",
   "execution_count": 3,
   "metadata": {},
   "outputs": [],
   "source": [
    "import os\n",
    "import torch\n",
    "import torch.utils.data\n",
    "import torch.nn.functional as F\n",
    "import pytorch_lightning as pl\n",
    "\n",
    "import numpy as np\n",
    "import pandas as pd\n",
    "import json\n",
    "import logging"
   ]
  },
  {
   "cell_type": "code",
   "execution_count": 6,
   "metadata": {},
   "outputs": [],
   "source": [
    "from pytorch_lightning.callbacks import EarlyStopping, ModelCheckpoint\n",
    "from pytorch_lightning.loggers import CSVLogger\n",
    "from torch import nn\n",
    "from torch.utils.data import Dataset, DataLoader\n",
    "from transformers import RobertaTokenizerFast, RobertaModel, AdamW, get_linear_schedule_with_warmup"
   ]
  },
  {
   "cell_type": "code",
   "execution_count": 7,
   "metadata": {},
   "outputs": [],
   "source": [
    "class SeqDataset(Dataset):\n",
    "    def __init__(self, data, max_len, with_yield=True):\n",
    "        self.data = pd.DataFrame(data, columns=['Seq1', 'Seq2', 'Yield'])  # pandas dataframe\n",
    "        self.data['Yield'] = self.data['Yield'] * 100\n",
    "        \n",
    "        #Initialize the tokenizer\n",
    "        self.tokenizer = RobertaTokenizerFast.from_pretrained(\"tokenizer/\", max_len=64)\n",
    "\n",
    "        self.max_len = max_len\n",
    "        self.with_yield = with_yield \n",
    "\n",
    "    def __len__(self):\n",
    "        return len(self.data)\n",
    "\n",
    "    def __getitem__(self, index):\n",
    "\n",
    "        # Selecting sequence1 and sequence2 at the specified index in the data frame\n",
    "        seq1 = str(self.data.loc[index, 'Seq1'])\n",
    "        seq2 = str(self.data.loc[index, 'Seq2'])\n",
    "\n",
    "        # Tokenize the pair of sentences to get token ids, attention masks and token type ids\n",
    "        encoded_pair = self.tokenizer(seq1, seq2, \n",
    "                                      padding='max_length',         # Pad to max_length\n",
    "                                      truncation=True,              # Truncate to max_length\n",
    "                                      max_length=self.max_len,  \n",
    "                                      return_tensors='pt')          # Return torch.Tensor objects\n",
    "\n",
    "        token_ids = encoded_pair['input_ids'].squeeze(0)            # tensor of token ids\n",
    "        attn_masks = encoded_pair['attention_mask'].squeeze(0)      # binary tensor with \"0\" for padded values and \"1\" for the other values\n",
    "#         token_type_ids = encoded_pair['token_type_ids'].squeeze(0)  # binary tensor with \"0\" for the 1st sentence tokens & \"1\" for the 2nd sentence tokens\n",
    "\n",
    "        if self.with_yield:  # True if the dataset has yields\n",
    "            yld = self.data.loc[index, 'Yield']\n",
    "            return token_ids, attn_masks, yld  \n",
    "        else:\n",
    "            return token_ids, attn_masks"
   ]
  },
  {
   "cell_type": "code",
   "execution_count": 8,
   "metadata": {},
   "outputs": [],
   "source": [
    "class RoBERTaFineTuner(pl.LightningModule):\n",
    "    def __init__(self, roberta_model_path, freeze_roberta=False, hidden_size=256, lr = 2e-5):\n",
    "        super(RoBERTaFineTuner, self).__init__()\n",
    "        self.roberta_layer = RobertaModel.from_pretrained(roberta_model_path)\n",
    "        self.hidden_size = hidden_size\n",
    "        self.lr = lr\n",
    "        self.out_predictions = []\n",
    "    \n",
    "        # Freeze RoBERTa layers and only train the classification layer weights\n",
    "        if freeze_roberta:\n",
    "            for p in self.roberta_layer.parameters():\n",
    "                p.requires_grad = False\n",
    "                \n",
    "        # Regression layer\n",
    "        self.dense = nn.Linear(self.hidden_size, 1)\n",
    "        self.dropout = nn.Dropout(p=0.1)\n",
    "\n",
    "    def forward(self, input_ids, attn_masks):\n",
    "        # Feeding the inputs to the RoBERTa-based model to obtain contextualized representations\n",
    "        roberta_out = self.roberta_layer(input_ids, attn_masks)\n",
    "        last_hidden_state, pooler_output, hidden_states = roberta_out['last_hidden_state'], roberta_out['pooler_output'], roberta_out['hidden_states']\n",
    "        return self.hidden_layer(self.dropout(pooler_output))\n",
    "    \n",
    "    def training_step(self, batch, batch_idx):\n",
    "        token_ids, attn_masks, yields = batch\n",
    "        out = self(token_ids, attn_masks)\n",
    "        loss = F.mse_loss(torch.squeeze(out), yields)\n",
    "        self.log('train_loss', loss)\n",
    "        return loss\n",
    "\n",
    "    def configure_optimizers(self):\n",
    "        optimizer = AdamW(self.parameters(), lr=self.lr, weight_decay=1e-2)\n",
    "        t_total = 250 * MAX_EPCH  # Necessary to take into account Gradient accumulation\n",
    "        lr_scheduler = get_linear_schedule_with_warmup(optimizer=optimizer, num_warmup_steps=500, num_training_steps=t_total)\n",
    "        return [optimizer], [lr_scheduler]\n",
    "            \n",
    "    def validation_step(self, batch, batch_idx):\n",
    "        token_ids, attn_masks, yields = batch\n",
    "        val_out = self(token_ids, attn_masks)\n",
    "        val_loss = F.mse_loss(torch.squeeze(val_out), yields)\n",
    "        self.log('val_loss', val_loss)\n",
    "        return val_loss\n",
    "            \n",
    "    def test_step(self, batch, batch_idx):\n",
    "        token_ids, attn_masks, yields = batch\n",
    "        test_out = self(token_ids, attn_masks)\n",
    "        self.out_predictions.append(test_out)\n",
    "        test_loss = F.mse_loss(torch.squeeze(test_out), yields)\n",
    "        self.log('test_loss', test_loss)\n",
    "        return test_loss"
   ]
  },
  {
   "cell_type": "code",
   "execution_count": 9,
   "metadata": {},
   "outputs": [],
   "source": [
    "# Replace json with dd like in the other files\n",
    "train = json.load(open('splits/train.json'))\n",
    "val = json.load(open('splits/val.json'))\n",
    "test = json.load(open('splits/test.json'))\n",
    "y_train = np.load('splits/y_train.npy')\n",
    "y_val = np.load('splits/y_val.npy')\n",
    "y_test = np.load('splits/y_test.npy')"
   ]
  },
  {
   "cell_type": "code",
   "execution_count": 10,
   "metadata": {},
   "outputs": [],
   "source": [
    "torch.set_default_tensor_type(torch.DoubleTensor)\n",
    "torch.set_default_dtype(torch.double)"
   ]
  },
  {
   "cell_type": "code",
   "execution_count": 11,
   "metadata": {},
   "outputs": [],
   "source": [
    "train_loader = DataLoader(SeqDataset(train, max_len=64, with_yield=True), batch_size=BATCH_SIZE, num_workers=8, shuffle=True)\n",
    "val_loader = DataLoader(SeqDataset(val, max_len=64, with_yield=True), batch_size=BATCH_SIZE, num_workers=8, shuffle=False)\n",
    "test_loader = DataLoader(SeqDataset(test, max_len=64, with_yield=True), batch_size=BATCH_SIZE, num_workers=8, shuffle=False)"
   ]
  },
  {
   "cell_type": "code",
   "execution_count": null,
   "metadata": {},
   "outputs": [],
   "source": [
    "model = RoBERTaFineTuner('existing_roberta')\n",
    "model.roberta_layer.config.__dict__['output_hidden_states'] = True\n",
    "early_stopping = EarlyStopping('val_loss', patience=3)\n",
    "\n",
    "checkpoint_callback = ModelCheckpoint(\n",
    "    monitor='val_loss',\n",
    "    dirpath='lightning_checkpoints_roberta_finetune/',\n",
    "    filename='roberta-finetune-{epoch:02d}-{val_loss:.2f}',\n",
    "    save_top_k=3,\n",
    "    mode='min',\n",
    ")\n",
    "\n",
    "logger = CSVLogger('logs_roberta_finetune', name='roberta_finetune')"
   ]
  },
  {
   "cell_type": "code",
   "execution_count": null,
   "metadata": {},
   "outputs": [],
   "source": [
    "trainer = pl.Trainer(callbacks=[early_stopping, checkpoint_callback], gpus=[0], logger=logger, max_epochs=MAX_EPCH)\n",
    "trainer.fit(model, train_loader, val_loader)"
   ]
  }
 ],
 "metadata": {
  "kernelspec": {
   "display_name": "py3.9-pt1.8-cuda11.0",
   "language": "python",
   "name": "py3.9-pt1.8-cuda11.0"
  },
  "language_info": {
   "codemirror_mode": {
    "name": "ipython",
    "version": 3
   },
   "file_extension": ".py",
   "mimetype": "text/x-python",
   "name": "python",
   "nbconvert_exporter": "python",
   "pygments_lexer": "ipython3",
   "version": "3.9.1"
  }
 },
 "nbformat": 4,
 "nbformat_minor": 4
}

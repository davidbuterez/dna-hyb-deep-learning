{
 "cells": [
  {
   "cell_type": "code",
   "execution_count": 1,
   "source": [
    "MAX_LEN = 26\r\n",
    "LR = 0.0005974060251967456\r\n",
    "BATCH_SIZE = 128"
   ],
   "outputs": [],
   "metadata": {}
  },
  {
   "cell_type": "code",
   "execution_count": 2,
   "source": [
    "import os\r\n",
    "import numpy as np\r\n",
    "import pandas as pd\r\n",
    "import deepdish as dd\r\n",
    "\r\n",
    "import pytorch_lightning as pl\r\n",
    "from pytorch_lightning.callbacks import EarlyStopping, ModelCheckpoint\r\n",
    "from pytorch_lightning.loggers import CSVLogger\r\n",
    "\r\n",
    "import torch\r\n",
    "import torch.nn.functional as F\r\n",
    "from torch import nn\r\n",
    "from torch.utils.data import Dataset, DataLoader\r\n",
    "\r\n",
    "from torchnlp.encoders.text import CharacterEncoder"
   ],
   "outputs": [],
   "metadata": {}
  },
  {
   "cell_type": "code",
   "execution_count": 3,
   "source": [
    "from sklearn.metrics import confusion_matrix, precision_recall_fscore_support, roc_auc_score, roc_curve, matthews_corrcoef, plot_confusion_matrix\r\n",
    "from collections import defaultdict"
   ],
   "outputs": [],
   "metadata": {}
  },
  {
   "cell_type": "code",
   "execution_count": 4,
   "source": [
    "class RNNRegression(pl.LightningModule):\r\n",
    "    def __init__(self, vocab_size, emb_dim, hidden_size, num_layers, dropout):\r\n",
    "        super(RNNRegression, self).__init__()\r\n",
    "        self.hidden_size = hidden_size\r\n",
    "        self.out_predictions = []\r\n",
    "        \r\n",
    "        self.embeddings = nn.Embedding(vocab_size, emb_dim)\r\n",
    "        self.rnn = nn.LSTM(input_size=emb_dim, hidden_size=hidden_size, num_layers=num_layers, dropout=dropout, bidirectional=True, batch_first=True)\r\n",
    "        self.dropout = nn.Dropout(0.21659149581080556)\r\n",
    "        \r\n",
    "        self.linear = nn.Linear(2 * hidden_size, 1)\r\n",
    "\r\n",
    "    def forward(self, x):\r\n",
    "        x = self.embeddings(x.long())\r\n",
    "        x, _ = self.rnn(x)\r\n",
    "        cls_token_emb = x[:, 0, :]\r\n",
    "        x = self.dropout(cls_token_emb)\r\n",
    "        x = self.linear(x)\r\n",
    "        return x\r\n",
    "    \r\n",
    "\r\n",
    "    def training_step(self, batch, batch_idx):\r\n",
    "        x, y = batch\r\n",
    "        train_out = self(x)\r\n",
    "        loss = F.mse_loss(torch.squeeze(train_out), y)\r\n",
    "        self.log('train_loss', loss)\r\n",
    "        return loss\r\n",
    "\r\n",
    "    \r\n",
    "    def configure_optimizers(self):\r\n",
    "        return torch.optim.Adam(self.parameters(), LR)\r\n",
    "    \r\n",
    "            \r\n",
    "    def validation_step(self, batch, batch_idx):\r\n",
    "        x, y = batch\r\n",
    "        val_out = self(x)\r\n",
    "        val_loss = F.mse_loss(torch.squeeze(val_out), y)\r\n",
    "        self.log('val_loss', val_loss)\r\n",
    "        return val_loss\r\n",
    "    \r\n",
    "            \r\n",
    "    def test_step(self, batch, batch_idx):\r\n",
    "        x, y = batch\r\n",
    "        test_out = self(x)\r\n",
    "        self.out_predictions.append(test_out)\r\n",
    "        test_loss = F.mse_loss(torch.squeeze(test_out), y)\r\n",
    "        self.log('test_loss', test_loss)\r\n",
    "        return test_loss\r\n",
    "    \r\n",
    "    \r\n",
    "    def train_dataloader(self):\r\n",
    "        return torch.utils.data.DataLoader(\r\n",
    "            list(zip(X_train, y_train)),\r\n",
    "            batch_size=BATCH_SIZE,\r\n",
    "            shuffle=True,\r\n",
    "        )\r\n",
    "    \r\n",
    "\r\n",
    "    def val_dataloader(self):\r\n",
    "        return torch.utils.data.DataLoader(\r\n",
    "            list(zip(X_val, y_val)),\r\n",
    "            batch_size=BATCH_SIZE,\r\n",
    "            shuffle=False,\r\n",
    "        )\r\n",
    "    \r\n",
    "    \r\n",
    "    def test_dataloader(self):\r\n",
    "        return torch.utils.data.DataLoader(\r\n",
    "            list(zip(X_test, y_test)),\r\n",
    "            batch_size=BATCH_SIZE,\r\n",
    "            shuffle=False,\r\n",
    "        )"
   ],
   "outputs": [],
   "metadata": {}
  },
  {
   "cell_type": "code",
   "execution_count": 5,
   "source": [
    "# class CNNRegression(pl.LightningModule):\r\n",
    "#     def __init__(self):\r\n",
    "#         super(CNNRegression, self).__init__()\r\n",
    "#         self.out_predictions = None\r\n",
    "        \r\n",
    "#         self.conv2d_block1 = nn.Sequential(\r\n",
    "#             nn.Conv2d(2, 512, (4, 9)),\r\n",
    "#             nn.ZeroPad2d((0, 8, 0, 3)),\r\n",
    "#             nn.ReLU(),\r\n",
    "#             nn.BatchNorm2d(512),\r\n",
    "#             nn.Dropout2d(0.2),\r\n",
    "#         )\r\n",
    "        \r\n",
    "#         self.conv2d_block2 = nn.Sequential(\r\n",
    "#             nn.Conv2d(512, 512, (1, 9)),\r\n",
    "#             nn.ZeroPad2d((0, 8, 0, 0)),\r\n",
    "#             nn.MaxPool2d((2, 1)),\r\n",
    "#             nn.ReLU(),\r\n",
    "#             nn.BatchNorm2d(512),\r\n",
    "#         )\r\n",
    "        \r\n",
    "#         self.conv2d_block3 = nn.Sequential(\r\n",
    "#             nn.Conv2d(512, 128, (1, 3)),\r\n",
    "#             nn.ZeroPad2d((0, 2, 0, 0)),\r\n",
    "#             nn.ReLU(),\r\n",
    "#             nn.BatchNorm2d(128),\r\n",
    "#             nn.Dropout2d(0.2),\r\n",
    "#         )\r\n",
    "        \r\n",
    "#         self.conv2d_block4 = nn.Sequential(\r\n",
    "#             nn.Conv2d(128, 128, (1, 3)),\r\n",
    "#             nn.ZeroPad2d((0, 2, 0, 0)),\r\n",
    "#             nn.ReLU(),\r\n",
    "#             nn.BatchNorm2d(128),\r\n",
    "#         )\r\n",
    "        \r\n",
    "#         self.conv2d_block5 = nn.Sequential(\r\n",
    "#             nn.Conv2d(128, 64, (1, 1)),\r\n",
    "#             nn.MaxPool2d((2, 3)),\r\n",
    "#             nn.ReLU(),\r\n",
    "#             nn.BatchNorm2d(64),\r\n",
    "#         )\r\n",
    "            \r\n",
    "#         self.lin_block = nn.Sequential(\r\n",
    "#             nn.Linear(512, 256),\r\n",
    "#             nn.ReLU(),\r\n",
    "#             nn.Linear(256, 128),\r\n",
    "#             nn.ReLU(),\r\n",
    "#             nn.Dropout(0.2),\r\n",
    "#             nn.Linear(128, 1)\r\n",
    "#         )\r\n",
    "\r\n",
    "#     def forward(self, x):\r\n",
    "#         x = self.conv2d_block1(x)\r\n",
    "#         x = self.conv2d_block2(x)\r\n",
    "#         x = self.conv2d_block3(x)\r\n",
    "#         x = self.conv2d_block4(x)\r\n",
    "#         x = self.conv2d_block5(x)\r\n",
    "#         x = x.view(x.size(0), -1)\r\n",
    "#         x = self.lin_block(x)\r\n",
    "#         return x\r\n",
    "\r\n",
    "#     def training_step(self, batch, batch_idx):\r\n",
    "#         x, y = batch\r\n",
    "#         loss = F.mse_loss(torch.squeeze(self(x)), y)\r\n",
    "#         self.log('train_loss', loss, on_step=False, on_epoch=True, prog_bar=True, logger=True)\r\n",
    "#         return loss\r\n",
    "\r\n",
    "#     def configure_optimizers(self):\r\n",
    "#         return torch.optim.Adam(self.parameters(), lr=LR)\r\n",
    "            \r\n",
    "#     def validation_step(self, batch, batch_idx):\r\n",
    "#         x, y = batch\r\n",
    "#         val_loss = F.mse_loss(torch.squeeze(self(x)), y)\r\n",
    "#         self.log('val_loss', val_loss, on_step=False, on_epoch=True, prog_bar=True, logger=True)\r\n",
    "#         return val_loss\r\n",
    "            \r\n",
    "#     def test_step(self, batch, batch_idx):\r\n",
    "#         x, y = batch\r\n",
    "#         test_loss = F.mse_loss(torch.squeeze(self(x)), y)\r\n",
    "#         self.log('test_loss', test_loss, on_step=False, on_epoch=True, prog_bar=True, logger=True)\r\n",
    "#         return test_loss\r\n",
    "    \r\n",
    "#     def test_epoch_end(self, outputs):\r\n",
    "#         # do something with the outputs of all test batches\r\n",
    "#         all_test_preds = test_step_outputs.predictions\r\n",
    "#         self.out_predictions = all_test_preds"
   ],
   "outputs": [],
   "metadata": {
    "jupyter": {
     "source_hidden": true
    }
   }
  },
  {
   "cell_type": "code",
   "execution_count": 6,
   "source": [
    "train = dd.io.load('splits/train.h5')\r\n",
    "val = dd.io.load('splits/val.h5')\r\n",
    "test = dd.io.load('splits/test.h5')\r\n",
    "y_train = np.load('splits/y_train.npy')\r\n",
    "y_val = np.load('splits/y_val.npy')\r\n",
    "y_test = np.load('splits/y_test.npy')"
   ],
   "outputs": [],
   "metadata": {}
  },
  {
   "cell_type": "code",
   "execution_count": 7,
   "source": [
    "y_train = y_train * 100\r\n",
    "y_val = y_val * 100\r\n",
    "y_test = y_test * 100"
   ],
   "outputs": [],
   "metadata": {}
  },
  {
   "cell_type": "code",
   "execution_count": 8,
   "source": [
    "all_seqs = set()\r\n",
    "all_seqs.update([item[0] for item in train])\r\n",
    "all_seqs.update([item[1] for item in train])\r\n",
    "all_seqs.update([item[0] for item in val])\r\n",
    "all_seqs.update([item[1] for item in val])\r\n",
    "all_seqs.update([item[0] for item in test])\r\n",
    "all_seqs.update([item[1] for item in test])"
   ],
   "outputs": [],
   "metadata": {}
  },
  {
   "cell_type": "code",
   "execution_count": 9,
   "source": [
    "encoder = CharacterEncoder(all_seqs)"
   ],
   "outputs": [],
   "metadata": {}
  },
  {
   "cell_type": "code",
   "execution_count": 10,
   "source": [
    "enc_dict = dict(zip(encoder.vocab, range(len(encoder.vocab))))"
   ],
   "outputs": [],
   "metadata": {}
  },
  {
   "cell_type": "code",
   "execution_count": 11,
   "source": [
    "from torchnlp.encoders.text.default_reserved_tokens import DEFAULT_SOS_INDEX\r\n",
    "from torchnlp.encoders.text.default_reserved_tokens import DEFAULT_EOS_INDEX\r\n",
    "from torchnlp.encoders.text.default_reserved_tokens import DEFAULT_PADDING_INDEX"
   ],
   "outputs": [],
   "metadata": {}
  },
  {
   "cell_type": "code",
   "execution_count": 12,
   "source": [
    "def split(X, y, split):\r\n",
    "    X_train, y_train, X_test, y_test = [], [], [], []\r\n",
    "    hist = [[], [], []]\r\n",
    "    for i, val in enumerate(y):\r\n",
    "        if val < 0.1:\r\n",
    "            hist[0].append((X[i], val))\r\n",
    "        elif val <= 0.90:\r\n",
    "            hist[1].append((X[i], val))\r\n",
    "        else:\r\n",
    "            hist[2].append((X[i], val))\r\n",
    "            \r\n",
    "    for h in hist:\r\n",
    "        np.random.shuffle(h)\r\n",
    "        limit = int(len(h) * split)\r\n",
    "        d1, d2 = h[:limit], h[limit:]\r\n",
    "        for pair in d1:\r\n",
    "            X_train.append(pair[0])\r\n",
    "            y_train.append(pair[1])\r\n",
    "        for pair in d2:\r\n",
    "            X_test.append(pair[0])\r\n",
    "            y_test.append(pair[1])\r\n",
    "            \r\n",
    "    return X_train, y_train, X_test, y_test"
   ],
   "outputs": [],
   "metadata": {}
  },
  {
   "cell_type": "code",
   "execution_count": 13,
   "source": [
    "def encode_for_rnn(seq, max_len):\r\n",
    "    # Default padding index is zero for the character encoder\r\n",
    "    nucl_dict = {'A': enc_dict['A'], 'C': enc_dict['C'], 'G': enc_dict['G'], 'T': enc_dict['T']}\r\n",
    "    mat = np.zeros(max_len, dtype=int)\r\n",
    "    \r\n",
    "    for i, nucl in enumerate(seq):\r\n",
    "        mat[i] = nucl_dict[nucl]\r\n",
    "    return mat\r\n",
    "\r\n",
    "def encode_pair_for_rnn(seq1, seq2, max_len):\r\n",
    "    enc1 = encode_for_rnn(seq1, max_len)\r\n",
    "    enc2 = encode_for_rnn(seq2, max_len)\r\n",
    "    return np.hstack((np.array([DEFAULT_SOS_INDEX]), enc1, np.array([DEFAULT_EOS_INDEX]), enc2, np.array([DEFAULT_EOS_INDEX])))"
   ],
   "outputs": [],
   "metadata": {}
  },
  {
   "cell_type": "code",
   "execution_count": 14,
   "source": [
    "X_train = [encode_pair_for_rnn(item[0], item[1], MAX_LEN) for item in train]\r\n",
    "X_val = [encode_pair_for_rnn(item[0], item[1], MAX_LEN) for item in val]\r\n",
    "X_test = [encode_pair_for_rnn(item[0], item[1], MAX_LEN) for item in test]"
   ],
   "outputs": [],
   "metadata": {}
  },
  {
   "cell_type": "code",
   "execution_count": 15,
   "source": [
    "X_train = np.array(X_train, dtype=np.dtype('d'))\r\n",
    "X_val = np.array(X_val, dtype=np.dtype('d'))\r\n",
    "X_test = np.array(X_test, dtype=np.dtype('d'))"
   ],
   "outputs": [],
   "metadata": {}
  },
  {
   "cell_type": "code",
   "execution_count": 16,
   "source": [
    "torch.set_default_tensor_type(torch.DoubleTensor)\r\n",
    "torch.set_default_dtype(torch.double)"
   ],
   "outputs": [],
   "metadata": {}
  },
  {
   "cell_type": "code",
   "execution_count": 17,
   "source": [
    "model = RNNRegression(len(encoder.vocab), emb_dim=32, hidden_size=64, num_layers=3, dropout=0.2412375022122436)\r\n",
    "early_stopping = EarlyStopping('val_loss', patience=3)\r\n",
    "\r\n",
    "checkpoint_callback = ModelCheckpoint(\r\n",
    "    monitor='val_loss',\r\n",
    "    dirpath='lightning_checkpoints_rnn/',\r\n",
    "    filename='rnn-{epoch:02d}-{val_loss:.2f}',\r\n",
    "    save_top_k=3,\r\n",
    "    mode='min',\r\n",
    ")\r\n",
    "\r\n",
    "logger = CSVLogger('logs_rnn', name='rnn')"
   ],
   "outputs": [],
   "metadata": {}
  },
  {
   "cell_type": "code",
   "execution_count": 19,
   "source": [
    "trainer = pl.Trainer(callbacks=[early_stopping, checkpoint_callback], gpus=[0], logger=logger)"
   ],
   "outputs": [
    {
     "output_type": "stream",
     "name": "stderr",
     "text": [
      "GPU available: True, used: True\n",
      "TPU available: None, using: 0 TPU cores\n",
      "LOCAL_RANK: 0 - CUDA_VISIBLE_DEVICES: [0]\n"
     ]
    }
   ],
   "metadata": {}
  },
  {
   "cell_type": "code",
   "execution_count": 20,
   "source": [
    "torch.cuda.get_device_name(0)"
   ],
   "outputs": [
    {
     "output_type": "execute_result",
     "data": {
      "text/plain": [
       "'GeForce RTX 3090'"
      ]
     },
     "metadata": {},
     "execution_count": 20
    }
   ],
   "metadata": {}
  },
  {
   "cell_type": "code",
   "execution_count": 21,
   "source": [
    "trainer.fit(model)"
   ],
   "outputs": [
    {
     "output_type": "stream",
     "name": "stderr",
     "text": [
      "\n",
      "  | Name       | Type      | Params\n",
      "-----------------------------------------\n",
      "0 | embeddings | Embedding | 288   \n",
      "1 | rnn        | LSTM      | 248 K \n",
      "2 | dropout    | Dropout   | 0     \n",
      "3 | linear     | Linear    | 129   \n",
      "-----------------------------------------\n",
      "249 K     Trainable params\n",
      "0         Non-trainable params\n",
      "249 K     Total params\n"
     ]
    },
    {
     "output_type": "display_data",
     "data": {
      "text/plain": [
       "Validation sanity check: 0it [00:00, ?it/s]"
      ],
      "application/vnd.jupyter.widget-view+json": {
       "model_id": "",
       "version_major": 2,
       "version_minor": 0
      }
     },
     "metadata": {}
    },
    {
     "output_type": "display_data",
     "data": {
      "text/plain": [
       "Training: 0it [00:00, ?it/s]"
      ],
      "application/vnd.jupyter.widget-view+json": {
       "model_id": "2d46fa395ec9436fb221d5b6808a753a",
       "version_major": 2,
       "version_minor": 0
      }
     },
     "metadata": {}
    },
    {
     "output_type": "display_data",
     "data": {
      "text/plain": [
       "Validating: 0it [00:00, ?it/s]"
      ],
      "application/vnd.jupyter.widget-view+json": {
       "model_id": "",
       "version_major": 2,
       "version_minor": 0
      }
     },
     "metadata": {}
    },
    {
     "output_type": "display_data",
     "data": {
      "text/plain": [
       "Validating: 0it [00:00, ?it/s]"
      ],
      "application/vnd.jupyter.widget-view+json": {
       "model_id": "",
       "version_major": 2,
       "version_minor": 0
      }
     },
     "metadata": {}
    },
    {
     "output_type": "display_data",
     "data": {
      "text/plain": [
       "Validating: 0it [00:00, ?it/s]"
      ],
      "application/vnd.jupyter.widget-view+json": {
       "model_id": "",
       "version_major": 2,
       "version_minor": 0
      }
     },
     "metadata": {}
    },
    {
     "output_type": "display_data",
     "data": {
      "text/plain": [
       "Validating: 0it [00:00, ?it/s]"
      ],
      "application/vnd.jupyter.widget-view+json": {
       "model_id": "",
       "version_major": 2,
       "version_minor": 0
      }
     },
     "metadata": {}
    },
    {
     "output_type": "display_data",
     "data": {
      "text/plain": [
       "Validating: 0it [00:00, ?it/s]"
      ],
      "application/vnd.jupyter.widget-view+json": {
       "model_id": "",
       "version_major": 2,
       "version_minor": 0
      }
     },
     "metadata": {}
    },
    {
     "output_type": "display_data",
     "data": {
      "text/plain": [
       "Validating: 0it [00:00, ?it/s]"
      ],
      "application/vnd.jupyter.widget-view+json": {
       "model_id": "",
       "version_major": 2,
       "version_minor": 0
      }
     },
     "metadata": {}
    },
    {
     "output_type": "display_data",
     "data": {
      "text/plain": [
       "Validating: 0it [00:00, ?it/s]"
      ],
      "application/vnd.jupyter.widget-view+json": {
       "model_id": "",
       "version_major": 2,
       "version_minor": 0
      }
     },
     "metadata": {}
    },
    {
     "output_type": "display_data",
     "data": {
      "text/plain": [
       "Validating: 0it [00:00, ?it/s]"
      ],
      "application/vnd.jupyter.widget-view+json": {
       "model_id": "",
       "version_major": 2,
       "version_minor": 0
      }
     },
     "metadata": {}
    },
    {
     "output_type": "display_data",
     "data": {
      "text/plain": [
       "Validating: 0it [00:00, ?it/s]"
      ],
      "application/vnd.jupyter.widget-view+json": {
       "model_id": "",
       "version_major": 2,
       "version_minor": 0
      }
     },
     "metadata": {}
    },
    {
     "output_type": "display_data",
     "data": {
      "text/plain": [
       "Validating: 0it [00:00, ?it/s]"
      ],
      "application/vnd.jupyter.widget-view+json": {
       "model_id": "",
       "version_major": 2,
       "version_minor": 0
      }
     },
     "metadata": {}
    },
    {
     "output_type": "display_data",
     "data": {
      "text/plain": [
       "Validating: 0it [00:00, ?it/s]"
      ],
      "application/vnd.jupyter.widget-view+json": {
       "model_id": "",
       "version_major": 2,
       "version_minor": 0
      }
     },
     "metadata": {}
    },
    {
     "output_type": "display_data",
     "data": {
      "text/plain": [
       "Validating: 0it [00:00, ?it/s]"
      ],
      "application/vnd.jupyter.widget-view+json": {
       "model_id": "",
       "version_major": 2,
       "version_minor": 0
      }
     },
     "metadata": {}
    },
    {
     "output_type": "display_data",
     "data": {
      "text/plain": [
       "Validating: 0it [00:00, ?it/s]"
      ],
      "application/vnd.jupyter.widget-view+json": {
       "model_id": "",
       "version_major": 2,
       "version_minor": 0
      }
     },
     "metadata": {}
    },
    {
     "output_type": "display_data",
     "data": {
      "text/plain": [
       "Validating: 0it [00:00, ?it/s]"
      ],
      "application/vnd.jupyter.widget-view+json": {
       "model_id": "",
       "version_major": 2,
       "version_minor": 0
      }
     },
     "metadata": {}
    },
    {
     "output_type": "display_data",
     "data": {
      "text/plain": [
       "Validating: 0it [00:00, ?it/s]"
      ],
      "application/vnd.jupyter.widget-view+json": {
       "model_id": "",
       "version_major": 2,
       "version_minor": 0
      }
     },
     "metadata": {}
    },
    {
     "output_type": "display_data",
     "data": {
      "text/plain": [
       "Validating: 0it [00:00, ?it/s]"
      ],
      "application/vnd.jupyter.widget-view+json": {
       "model_id": "",
       "version_major": 2,
       "version_minor": 0
      }
     },
     "metadata": {}
    },
    {
     "output_type": "display_data",
     "data": {
      "text/plain": [
       "Validating: 0it [00:00, ?it/s]"
      ],
      "application/vnd.jupyter.widget-view+json": {
       "model_id": "",
       "version_major": 2,
       "version_minor": 0
      }
     },
     "metadata": {}
    },
    {
     "output_type": "display_data",
     "data": {
      "text/plain": [
       "Validating: 0it [00:00, ?it/s]"
      ],
      "application/vnd.jupyter.widget-view+json": {
       "model_id": "",
       "version_major": 2,
       "version_minor": 0
      }
     },
     "metadata": {}
    },
    {
     "output_type": "display_data",
     "data": {
      "text/plain": [
       "Validating: 0it [00:00, ?it/s]"
      ],
      "application/vnd.jupyter.widget-view+json": {
       "model_id": "",
       "version_major": 2,
       "version_minor": 0
      }
     },
     "metadata": {}
    },
    {
     "output_type": "display_data",
     "data": {
      "text/plain": [
       "Validating: 0it [00:00, ?it/s]"
      ],
      "application/vnd.jupyter.widget-view+json": {
       "model_id": "",
       "version_major": 2,
       "version_minor": 0
      }
     },
     "metadata": {}
    },
    {
     "output_type": "display_data",
     "data": {
      "text/plain": [
       "Validating: 0it [00:00, ?it/s]"
      ],
      "application/vnd.jupyter.widget-view+json": {
       "model_id": "",
       "version_major": 2,
       "version_minor": 0
      }
     },
     "metadata": {}
    },
    {
     "output_type": "display_data",
     "data": {
      "text/plain": [
       "Validating: 0it [00:00, ?it/s]"
      ],
      "application/vnd.jupyter.widget-view+json": {
       "model_id": "",
       "version_major": 2,
       "version_minor": 0
      }
     },
     "metadata": {}
    },
    {
     "output_type": "display_data",
     "data": {
      "text/plain": [
       "Validating: 0it [00:00, ?it/s]"
      ],
      "application/vnd.jupyter.widget-view+json": {
       "model_id": "",
       "version_major": 2,
       "version_minor": 0
      }
     },
     "metadata": {}
    },
    {
     "output_type": "display_data",
     "data": {
      "text/plain": [
       "Validating: 0it [00:00, ?it/s]"
      ],
      "application/vnd.jupyter.widget-view+json": {
       "model_id": "",
       "version_major": 2,
       "version_minor": 0
      }
     },
     "metadata": {}
    },
    {
     "output_type": "display_data",
     "data": {
      "text/plain": [
       "Validating: 0it [00:00, ?it/s]"
      ],
      "application/vnd.jupyter.widget-view+json": {
       "model_id": "",
       "version_major": 2,
       "version_minor": 0
      }
     },
     "metadata": {}
    },
    {
     "output_type": "display_data",
     "data": {
      "text/plain": [
       "Validating: 0it [00:00, ?it/s]"
      ],
      "application/vnd.jupyter.widget-view+json": {
       "model_id": "",
       "version_major": 2,
       "version_minor": 0
      }
     },
     "metadata": {}
    },
    {
     "output_type": "display_data",
     "data": {
      "text/plain": [
       "Validating: 0it [00:00, ?it/s]"
      ],
      "application/vnd.jupyter.widget-view+json": {
       "model_id": "",
       "version_major": 2,
       "version_minor": 0
      }
     },
     "metadata": {}
    },
    {
     "output_type": "display_data",
     "data": {
      "text/plain": [
       "Validating: 0it [00:00, ?it/s]"
      ],
      "application/vnd.jupyter.widget-view+json": {
       "model_id": "",
       "version_major": 2,
       "version_minor": 0
      }
     },
     "metadata": {}
    },
    {
     "output_type": "display_data",
     "data": {
      "text/plain": [
       "Validating: 0it [00:00, ?it/s]"
      ],
      "application/vnd.jupyter.widget-view+json": {
       "model_id": "",
       "version_major": 2,
       "version_minor": 0
      }
     },
     "metadata": {}
    },
    {
     "output_type": "display_data",
     "data": {
      "text/plain": [
       "Validating: 0it [00:00, ?it/s]"
      ],
      "application/vnd.jupyter.widget-view+json": {
       "model_id": "",
       "version_major": 2,
       "version_minor": 0
      }
     },
     "metadata": {}
    },
    {
     "output_type": "display_data",
     "data": {
      "text/plain": [
       "Validating: 0it [00:00, ?it/s]"
      ],
      "application/vnd.jupyter.widget-view+json": {
       "model_id": "",
       "version_major": 2,
       "version_minor": 0
      }
     },
     "metadata": {}
    },
    {
     "output_type": "display_data",
     "data": {
      "text/plain": [
       "Validating: 0it [00:00, ?it/s]"
      ],
      "application/vnd.jupyter.widget-view+json": {
       "model_id": "",
       "version_major": 2,
       "version_minor": 0
      }
     },
     "metadata": {}
    },
    {
     "output_type": "display_data",
     "data": {
      "text/plain": [
       "Validating: 0it [00:00, ?it/s]"
      ],
      "application/vnd.jupyter.widget-view+json": {
       "model_id": "",
       "version_major": 2,
       "version_minor": 0
      }
     },
     "metadata": {}
    },
    {
     "output_type": "display_data",
     "data": {
      "text/plain": [
       "Validating: 0it [00:00, ?it/s]"
      ],
      "application/vnd.jupyter.widget-view+json": {
       "model_id": "",
       "version_major": 2,
       "version_minor": 0
      }
     },
     "metadata": {}
    },
    {
     "output_type": "display_data",
     "data": {
      "text/plain": [
       "Validating: 0it [00:00, ?it/s]"
      ],
      "application/vnd.jupyter.widget-view+json": {
       "model_id": "",
       "version_major": 2,
       "version_minor": 0
      }
     },
     "metadata": {}
    },
    {
     "output_type": "display_data",
     "data": {
      "text/plain": [
       "Validating: 0it [00:00, ?it/s]"
      ],
      "application/vnd.jupyter.widget-view+json": {
       "model_id": "",
       "version_major": 2,
       "version_minor": 0
      }
     },
     "metadata": {}
    },
    {
     "output_type": "display_data",
     "data": {
      "text/plain": [
       "Validating: 0it [00:00, ?it/s]"
      ],
      "application/vnd.jupyter.widget-view+json": {
       "model_id": "",
       "version_major": 2,
       "version_minor": 0
      }
     },
     "metadata": {}
    },
    {
     "output_type": "display_data",
     "data": {
      "text/plain": [
       "Validating: 0it [00:00, ?it/s]"
      ],
      "application/vnd.jupyter.widget-view+json": {
       "model_id": "",
       "version_major": 2,
       "version_minor": 0
      }
     },
     "metadata": {}
    },
    {
     "output_type": "display_data",
     "data": {
      "text/plain": [
       "Validating: 0it [00:00, ?it/s]"
      ],
      "application/vnd.jupyter.widget-view+json": {
       "model_id": "",
       "version_major": 2,
       "version_minor": 0
      }
     },
     "metadata": {}
    },
    {
     "output_type": "display_data",
     "data": {
      "text/plain": [
       "Validating: 0it [00:00, ?it/s]"
      ],
      "application/vnd.jupyter.widget-view+json": {
       "model_id": "",
       "version_major": 2,
       "version_minor": 0
      }
     },
     "metadata": {}
    },
    {
     "output_type": "display_data",
     "data": {
      "text/plain": [
       "Validating: 0it [00:00, ?it/s]"
      ],
      "application/vnd.jupyter.widget-view+json": {
       "model_id": "",
       "version_major": 2,
       "version_minor": 0
      }
     },
     "metadata": {}
    },
    {
     "output_type": "display_data",
     "data": {
      "text/plain": [
       "Validating: 0it [00:00, ?it/s]"
      ],
      "application/vnd.jupyter.widget-view+json": {
       "model_id": "",
       "version_major": 2,
       "version_minor": 0
      }
     },
     "metadata": {}
    },
    {
     "output_type": "execute_result",
     "data": {
      "text/plain": [
       "1"
      ]
     },
     "metadata": {},
     "execution_count": 21
    }
   ],
   "metadata": {}
  }
 ],
 "metadata": {
  "kernelspec": {
   "display_name": "pytorch",
   "language": "python",
   "name": "pytorch"
  },
  "language_info": {
   "codemirror_mode": {
    "name": "ipython",
    "version": 3
   },
   "file_extension": ".py",
   "mimetype": "text/x-python",
   "name": "python",
   "nbconvert_exporter": "python",
   "pygments_lexer": "ipython3",
   "version": "3.8.5"
  }
 },
 "nbformat": 4,
 "nbformat_minor": 4
}
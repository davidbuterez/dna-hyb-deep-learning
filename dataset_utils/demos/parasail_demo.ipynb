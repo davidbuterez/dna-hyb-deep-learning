{
 "cells": [
  {
   "cell_type": "code",
   "execution_count": 15,
   "metadata": {},
   "outputs": [],
   "source": [
    "import parasail\n",
    "import deepdish as dd\n",
    "from tqdm import tqdm\n",
    "from Bio.Seq import Seq"
   ]
  },
  {
   "cell_type": "code",
   "execution_count": 8,
   "metadata": {},
   "outputs": [],
   "source": [
    "train = dd.io.load('../splits/train.h5')\n",
    "val = dd.io.load('../splits/val.h5')\n",
    "test = dd.io.load('../splits/test.h5')"
   ]
  },
  {
   "cell_type": "code",
   "execution_count": 10,
   "metadata": {},
   "outputs": [],
   "source": [
    "tr = [(item[0], item[1]) for item in train]\n",
    "vl = [(item[0], item[1]) for item in val]\n",
    "ts = [(item[0], item[1]) for item in test]"
   ]
  },
  {
   "cell_type": "code",
   "execution_count": 12,
   "metadata": {},
   "outputs": [],
   "source": [
    "big_list = tr + vl + ts"
   ]
  },
  {
   "cell_type": "code",
   "execution_count": 2,
   "metadata": {},
   "outputs": [],
   "source": [
    "s1 = Seq('CACAAAGGAATACAGCAA')\n",
    "s2 = Seq('CACCAAGGAATACAGAAA')\n",
    "s1 = s1.reverse_complement()"
   ]
  },
  {
   "cell_type": "code",
   "execution_count": 16,
   "metadata": {},
   "outputs": [
    {
     "name": "stderr",
     "output_type": "stream",
     "text": [
      "100%|██████████| 2556976/2556976 [00:15<00:00, 164559.05it/s]\n"
     ]
    }
   ],
   "source": [
    "alns = [parasail.sg_trace_scan_16(str(seqs[0]), seqs[1], 5, 2, parasail.dnafull) for seqs in tqdm(big_list)]"
   ]
  },
  {
   "cell_type": "code",
   "execution_count": 4,
   "metadata": {},
   "outputs": [
    {
     "name": "stdout",
     "output_type": "stream",
     "text": [
      "CACCAAGGAATACAGAAA---------\n",
      "         .|.|.|.|.         \n",
      "---------TTGCTGTATTCCTTTGTG\n",
      "0\n"
     ]
    }
   ],
   "source": [
    "print(aln.traceback.ref)\n",
    "print(aln.traceback.comp)\n",
    "print(aln.traceback.query)\n",
    "print(aln.score)"
   ]
  },
  {
   "cell_type": "code",
   "execution_count": null,
   "metadata": {},
   "outputs": [],
   "source": []
  }
 ],
 "metadata": {
  "kernelspec": {
   "display_name": "pt1.8-cuda11.1",
   "language": "python",
   "name": "pt1.8-cuda11.1"
  },
  "language_info": {
   "codemirror_mode": {
    "name": "ipython",
    "version": 3
   },
   "file_extension": ".py",
   "mimetype": "text/x-python",
   "name": "python",
   "nbconvert_exporter": "python",
   "pygments_lexer": "ipython3",
   "version": "3.8.5"
  }
 },
 "nbformat": 4,
 "nbformat_minor": 4
}

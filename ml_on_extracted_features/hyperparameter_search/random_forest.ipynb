{
 "cells": [
  {
   "cell_type": "code",
   "execution_count": 104,
   "metadata": {},
   "outputs": [],
   "source": [
    "import os\n",
    "import numpy as np\n",
    "import pandas as pd\n",
    "import deepdish as dd"
   ]
  },
  {
   "cell_type": "code",
   "execution_count": 7,
   "metadata": {},
   "outputs": [],
   "source": [
    "import seaborn as sns\n",
    "import matplotlib.pyplot as plt\n",
    "from sklearn.model_selection import GridSearchCV, PredefinedSplit\n",
    "from sklearn.preprocessing import MinMaxScaler\n",
    "from sklearn.discriminant_analysis import LinearDiscriminantAnalysis as LDA\n",
    "from sklearn.discriminant_analysis import QuadraticDiscriminantAnalysis as QDA\n",
    "from sklearn.metrics import confusion_matrix, precision_recall_fscore_support, roc_curve, auc, matthews_corrcoef, make_scorer\n",
    "from sklearn.ensemble import RandomForestClassifier"
   ]
  },
  {
   "cell_type": "code",
   "execution_count": 105,
   "metadata": {},
   "outputs": [],
   "source": [
    "train = dd.io.load('../../splits/train.h5')\n",
    "val = dd.io.load('../../splits/val.h5')\n",
    "test = dd.io.load('../../splits/test.h5')\n",
    "y_train = np.load('../../splits/y_train.npy')\n",
    "y_val = np.load('../../splits/y_val.npy')\n",
    "y_test = np.load('../../splits/y_test.npy')"
   ]
  },
  {
   "cell_type": "code",
   "execution_count": 106,
   "metadata": {},
   "outputs": [],
   "source": [
    "y_train = y_train * 100\n",
    "y_val = y_val * 100\n",
    "y_test = y_test * 100"
   ]
  },
  {
   "cell_type": "code",
   "execution_count": 4,
   "metadata": {},
   "outputs": [],
   "source": [
    "df_feat = pd.read_csv('../../datasets/dataset_extracted_features.csv')"
   ]
  },
  {
   "cell_type": "code",
   "execution_count": 5,
   "metadata": {},
   "outputs": [
    {
     "data": {
      "text/html": [
       "<div>\n",
       "<style scoped>\n",
       "    .dataframe tbody tr th:only-of-type {\n",
       "        vertical-align: middle;\n",
       "    }\n",
       "\n",
       "    .dataframe tbody tr th {\n",
       "        vertical-align: top;\n",
       "    }\n",
       "\n",
       "    .dataframe thead th {\n",
       "        text-align: right;\n",
       "    }\n",
       "</style>\n",
       "<table border=\"1\" class=\"dataframe\">\n",
       "  <thead>\n",
       "    <tr style=\"text-align: right;\">\n",
       "      <th></th>\n",
       "      <th>Seq1</th>\n",
       "      <th>Seq2</th>\n",
       "      <th>Aln</th>\n",
       "      <th>GC1</th>\n",
       "      <th>GC2</th>\n",
       "      <th>SingleCon1</th>\n",
       "      <th>SingleCon2</th>\n",
       "      <th>PairCon1</th>\n",
       "      <th>PairCon2</th>\n",
       "      <th>SingleMFE1</th>\n",
       "      <th>SingleMFE2</th>\n",
       "      <th>Yield</th>\n",
       "      <th>Label</th>\n",
       "    </tr>\n",
       "  </thead>\n",
       "  <tbody>\n",
       "    <tr>\n",
       "      <th>0</th>\n",
       "      <td>AGTACAAGTAGGACAGGAAGATA</td>\n",
       "      <td>TATCTTCCTGTCCTACTCGTACT</td>\n",
       "      <td>106</td>\n",
       "      <td>39.130435</td>\n",
       "      <td>43.478261</td>\n",
       "      <td>0.999957</td>\n",
       "      <td>0.999974</td>\n",
       "      <td>0.000022</td>\n",
       "      <td>0.000013</td>\n",
       "      <td>0.000000</td>\n",
       "      <td>0.000000</td>\n",
       "      <td>0.974025</td>\n",
       "      <td>1</td>\n",
       "    </tr>\n",
       "    <tr>\n",
       "      <th>1</th>\n",
       "      <td>GAGTTCCGGTTGCCTTTCA</td>\n",
       "      <td>GAGTTCCGGGTGCCTTTCA</td>\n",
       "      <td>12</td>\n",
       "      <td>52.631579</td>\n",
       "      <td>57.894737</td>\n",
       "      <td>0.999844</td>\n",
       "      <td>0.999739</td>\n",
       "      <td>0.000078</td>\n",
       "      <td>0.000130</td>\n",
       "      <td>0.000000</td>\n",
       "      <td>0.000000</td>\n",
       "      <td>0.000193</td>\n",
       "      <td>0</td>\n",
       "    </tr>\n",
       "    <tr>\n",
       "      <th>2</th>\n",
       "      <td>TCTGGAACTAGTGCAATTTAGC</td>\n",
       "      <td>TCTAAATTGCACTAGTTCCAGA</td>\n",
       "      <td>101</td>\n",
       "      <td>40.909091</td>\n",
       "      <td>36.363636</td>\n",
       "      <td>0.999556</td>\n",
       "      <td>0.999598</td>\n",
       "      <td>0.000222</td>\n",
       "      <td>0.000201</td>\n",
       "      <td>0.000000</td>\n",
       "      <td>0.000000</td>\n",
       "      <td>0.991153</td>\n",
       "      <td>1</td>\n",
       "    </tr>\n",
       "    <tr>\n",
       "      <th>3</th>\n",
       "      <td>GGCGCGCGACGCGACATCCGATAAGA</td>\n",
       "      <td>TCTTATCGGATCTCGCGTCGCGCGCC</td>\n",
       "      <td>121</td>\n",
       "      <td>65.384615</td>\n",
       "      <td>65.384615</td>\n",
       "      <td>0.999455</td>\n",
       "      <td>0.999183</td>\n",
       "      <td>0.000273</td>\n",
       "      <td>0.000408</td>\n",
       "      <td>-2.595847</td>\n",
       "      <td>-1.870977</td>\n",
       "      <td>0.999227</td>\n",
       "      <td>1</td>\n",
       "    </tr>\n",
       "    <tr>\n",
       "      <th>4</th>\n",
       "      <td>GTGTACCATACCATGAACGCCGGA</td>\n",
       "      <td>TCCGGCGTCATGGTATGGTACAC</td>\n",
       "      <td>110</td>\n",
       "      <td>54.166667</td>\n",
       "      <td>56.521739</td>\n",
       "      <td>0.998893</td>\n",
       "      <td>0.999652</td>\n",
       "      <td>0.000554</td>\n",
       "      <td>0.000174</td>\n",
       "      <td>0.000000</td>\n",
       "      <td>0.000000</td>\n",
       "      <td>0.996585</td>\n",
       "      <td>1</td>\n",
       "    </tr>\n",
       "    <tr>\n",
       "      <th>...</th>\n",
       "      <td>...</td>\n",
       "      <td>...</td>\n",
       "      <td>...</td>\n",
       "      <td>...</td>\n",
       "      <td>...</td>\n",
       "      <td>...</td>\n",
       "      <td>...</td>\n",
       "      <td>...</td>\n",
       "      <td>...</td>\n",
       "      <td>...</td>\n",
       "      <td>...</td>\n",
       "      <td>...</td>\n",
       "      <td>...</td>\n",
       "    </tr>\n",
       "    <tr>\n",
       "      <th>2556971</th>\n",
       "      <td>AGCAAGGCACAGGACTTAGTACCAAA</td>\n",
       "      <td>TTTGGTACTAAGTCCTGTGCCGCT</td>\n",
       "      <td>113</td>\n",
       "      <td>46.153846</td>\n",
       "      <td>50.000000</td>\n",
       "      <td>0.999938</td>\n",
       "      <td>0.999916</td>\n",
       "      <td>0.000031</td>\n",
       "      <td>0.000042</td>\n",
       "      <td>-0.317577</td>\n",
       "      <td>0.000000</td>\n",
       "      <td>0.995240</td>\n",
       "      <td>1</td>\n",
       "    </tr>\n",
       "    <tr>\n",
       "      <th>2556972</th>\n",
       "      <td>CAGGCTGAGACCTAACTCTTTAGCC</td>\n",
       "      <td>GGCTAAAAGGTTAGGTCTCAGCCTG</td>\n",
       "      <td>110</td>\n",
       "      <td>52.000000</td>\n",
       "      <td>52.000000</td>\n",
       "      <td>0.999786</td>\n",
       "      <td>0.999896</td>\n",
       "      <td>0.000107</td>\n",
       "      <td>0.000052</td>\n",
       "      <td>0.000000</td>\n",
       "      <td>0.000000</td>\n",
       "      <td>0.973733</td>\n",
       "      <td>1</td>\n",
       "    </tr>\n",
       "    <tr>\n",
       "      <th>2556973</th>\n",
       "      <td>CATATCAACTCCAGGAATCCTT</td>\n",
       "      <td>AAGGATTCCTGCAGATGATATG</td>\n",
       "      <td>92</td>\n",
       "      <td>40.909091</td>\n",
       "      <td>40.909091</td>\n",
       "      <td>0.999334</td>\n",
       "      <td>0.998677</td>\n",
       "      <td>0.000333</td>\n",
       "      <td>0.000662</td>\n",
       "      <td>0.000000</td>\n",
       "      <td>0.000000</td>\n",
       "      <td>0.529762</td>\n",
       "      <td>1</td>\n",
       "    </tr>\n",
       "    <tr>\n",
       "      <th>2556974</th>\n",
       "      <td>GAATGCAGAGTTCGATGTCGGT</td>\n",
       "      <td>ACCAGTACACATCGAACTCTGCATTC</td>\n",
       "      <td>96</td>\n",
       "      <td>50.000000</td>\n",
       "      <td>46.153846</td>\n",
       "      <td>0.999855</td>\n",
       "      <td>0.999893</td>\n",
       "      <td>0.000073</td>\n",
       "      <td>0.000053</td>\n",
       "      <td>0.000000</td>\n",
       "      <td>0.000000</td>\n",
       "      <td>0.984665</td>\n",
       "      <td>1</td>\n",
       "    </tr>\n",
       "    <tr>\n",
       "      <th>2556975</th>\n",
       "      <td>CCGTTGGCATCTGCTACGCTGCTCAG</td>\n",
       "      <td>CTGAGCAGCGTAGCAGACGCCAACGG</td>\n",
       "      <td>121</td>\n",
       "      <td>61.538462</td>\n",
       "      <td>65.384615</td>\n",
       "      <td>0.999917</td>\n",
       "      <td>0.999944</td>\n",
       "      <td>0.000042</td>\n",
       "      <td>0.000028</td>\n",
       "      <td>0.000000</td>\n",
       "      <td>-1.775886</td>\n",
       "      <td>0.999737</td>\n",
       "      <td>1</td>\n",
       "    </tr>\n",
       "  </tbody>\n",
       "</table>\n",
       "<p>2556976 rows × 13 columns</p>\n",
       "</div>"
      ],
      "text/plain": [
       "                               Seq1                        Seq2  Aln  \\\n",
       "0           AGTACAAGTAGGACAGGAAGATA     TATCTTCCTGTCCTACTCGTACT  106   \n",
       "1               GAGTTCCGGTTGCCTTTCA         GAGTTCCGGGTGCCTTTCA   12   \n",
       "2            TCTGGAACTAGTGCAATTTAGC      TCTAAATTGCACTAGTTCCAGA  101   \n",
       "3        GGCGCGCGACGCGACATCCGATAAGA  TCTTATCGGATCTCGCGTCGCGCGCC  121   \n",
       "4          GTGTACCATACCATGAACGCCGGA     TCCGGCGTCATGGTATGGTACAC  110   \n",
       "...                             ...                         ...  ...   \n",
       "2556971  AGCAAGGCACAGGACTTAGTACCAAA    TTTGGTACTAAGTCCTGTGCCGCT  113   \n",
       "2556972   CAGGCTGAGACCTAACTCTTTAGCC   GGCTAAAAGGTTAGGTCTCAGCCTG  110   \n",
       "2556973      CATATCAACTCCAGGAATCCTT      AAGGATTCCTGCAGATGATATG   92   \n",
       "2556974      GAATGCAGAGTTCGATGTCGGT  ACCAGTACACATCGAACTCTGCATTC   96   \n",
       "2556975  CCGTTGGCATCTGCTACGCTGCTCAG  CTGAGCAGCGTAGCAGACGCCAACGG  121   \n",
       "\n",
       "               GC1        GC2  SingleCon1  SingleCon2  PairCon1  PairCon2  \\\n",
       "0        39.130435  43.478261    0.999957    0.999974  0.000022  0.000013   \n",
       "1        52.631579  57.894737    0.999844    0.999739  0.000078  0.000130   \n",
       "2        40.909091  36.363636    0.999556    0.999598  0.000222  0.000201   \n",
       "3        65.384615  65.384615    0.999455    0.999183  0.000273  0.000408   \n",
       "4        54.166667  56.521739    0.998893    0.999652  0.000554  0.000174   \n",
       "...            ...        ...         ...         ...       ...       ...   \n",
       "2556971  46.153846  50.000000    0.999938    0.999916  0.000031  0.000042   \n",
       "2556972  52.000000  52.000000    0.999786    0.999896  0.000107  0.000052   \n",
       "2556973  40.909091  40.909091    0.999334    0.998677  0.000333  0.000662   \n",
       "2556974  50.000000  46.153846    0.999855    0.999893  0.000073  0.000053   \n",
       "2556975  61.538462  65.384615    0.999917    0.999944  0.000042  0.000028   \n",
       "\n",
       "         SingleMFE1  SingleMFE2     Yield  Label  \n",
       "0          0.000000    0.000000  0.974025      1  \n",
       "1          0.000000    0.000000  0.000193      0  \n",
       "2          0.000000    0.000000  0.991153      1  \n",
       "3         -2.595847   -1.870977  0.999227      1  \n",
       "4          0.000000    0.000000  0.996585      1  \n",
       "...             ...         ...       ...    ...  \n",
       "2556971   -0.317577    0.000000  0.995240      1  \n",
       "2556972    0.000000    0.000000  0.973733      1  \n",
       "2556973    0.000000    0.000000  0.529762      1  \n",
       "2556974    0.000000    0.000000  0.984665      1  \n",
       "2556975    0.000000   -1.775886  0.999737      1  \n",
       "\n",
       "[2556976 rows x 13 columns]"
      ]
     },
     "execution_count": 5,
     "metadata": {},
     "output_type": "execute_result"
    }
   ],
   "source": [
    "df_feat"
   ]
  },
  {
   "cell_type": "code",
   "execution_count": 6,
   "metadata": {},
   "outputs": [],
   "source": [
    "train_features = df_feat.loc[(df_feat['Seq1'].isin([item[0] for item in train])) & (df_feat['Seq2'].isin([item[1] for item in train]))]\n",
    "val_features = df_feat.loc[(df_feat['Seq1'].isin([item[0] for item in val])) & (df_feat['Seq2'].isin([item[1] for item in val]))]\n",
    "test_features = df_feat.loc[(df_feat['Seq1'].isin([item[0] for item in test])) & (df_feat['Seq2'].isin([item[1] for item in test]))]"
   ]
  },
  {
   "cell_type": "code",
   "execution_count": 9,
   "metadata": {},
   "outputs": [],
   "source": [
    "train_feat = train_features[['Aln', 'GC1', 'GC2', 'SingleCon1', 'SingleCon2', 'PairCon1', 'PairCon2', 'SingleMFE1', 'SingleMFE2']].values\n",
    "val_feat = val_features[['Aln', 'GC1', 'GC2', 'SingleCon1', 'SingleCon2', 'PairCon1', 'PairCon2', 'SingleMFE1', 'SingleMFE2']].values\n",
    "test_feat = test_features[['Aln', 'GC1', 'GC2', 'SingleCon1', 'SingleCon2', 'PairCon1', 'PairCon2', 'SingleMFE1', 'SingleMFE2']].values"
   ]
  },
  {
   "cell_type": "code",
   "execution_count": 10,
   "metadata": {},
   "outputs": [],
   "source": [
    "train_labels = train_features[['Label']].values.squeeze()\n",
    "val_labels = val_features[['Label']].values.squeeze()\n",
    "test_labels = test_features[['Label']].values.squeeze()"
   ]
  },
  {
   "cell_type": "code",
   "execution_count": 36,
   "metadata": {},
   "outputs": [],
   "source": [
    "scaler = MinMaxScaler()\n",
    "scaler = scaler.fit(np.concatenate((train_feat, val_feat, test_feat), axis=0))\n",
    "scaled_train = scaler.transform(train_feat)\n",
    "scaled_val = scaler.transform(val_feat)\n",
    "scaled_test = scaler.transform(test_feat)"
   ]
  },
  {
   "cell_type": "markdown",
   "metadata": {},
   "source": [
    "## RandomForest"
   ]
  },
  {
   "cell_type": "code",
   "execution_count": 16,
   "metadata": {},
   "outputs": [],
   "source": [
    "n_estimators = [30, 100, 200]\n",
    "max_features = [None, 'auto', 'sqrt']\n",
    "max_depth = [None, 10, 30, 100]\n",
    "min_samples_split = [2, 5]\n",
    "min_samples_leaf = [1, 2, 4]\n",
    "bootstrap = [True, False]\n",
    "\n",
    "grid = {'n_estimators': n_estimators,\n",
    "               'max_features': max_features,\n",
    "               'max_depth': max_depth,\n",
    "               'min_samples_split': min_samples_split,\n",
    "               'min_samples_leaf': min_samples_leaf,\n",
    "               'bootstrap': bootstrap}"
   ]
  },
  {
   "cell_type": "code",
   "execution_count": 17,
   "metadata": {},
   "outputs": [],
   "source": [
    "# Create a list where train data indices are -1 and validation data indices are 0\n",
    "scaled_train_val = np.concatenate((scaled_train, scaled_val))\n",
    "labels_train_val = np.concatenate((train_labels, val_labels))\n",
    "split_index = [-1 if x in range(len(scaled_train)) else 0 for x in range(len(scaled_train_val))]\n",
    "\n",
    "# Use the list to create PredefinedSplit\n",
    "pds = PredefinedSplit(test_fold=split_index)"
   ]
  },
  {
   "cell_type": "code",
   "execution_count": 18,
   "metadata": {},
   "outputs": [],
   "source": [
    "grid_search = GridSearchCV(estimator=RandomForestClassifier(n_jobs=4), param_grid=grid, cv=pds, verbose=10, n_jobs=8)"
   ]
  },
  {
   "cell_type": "code",
   "execution_count": 19,
   "metadata": {},
   "outputs": [
    {
     "name": "stdout",
     "output_type": "stream",
     "text": [
      "Fitting 1 folds for each of 432 candidates, totalling 432 fits\n"
     ]
    },
    {
     "data": {
      "text/plain": [
       "GridSearchCV(cv=PredefinedSplit(test_fold=array([-1, -1, ...,  0,  0])),\n",
       "             estimator=RandomForestClassifier(n_jobs=4), n_jobs=8,\n",
       "             param_grid={'bootstrap': [True, False],\n",
       "                         'max_depth': [None, 10, 30, 100],\n",
       "                         'max_features': [None, 'auto', 'sqrt'],\n",
       "                         'min_samples_leaf': [1, 2, 4],\n",
       "                         'min_samples_split': [2, 5],\n",
       "                         'n_estimators': [30, 100, 200]},\n",
       "             verbose=10)"
      ]
     },
     "execution_count": 19,
     "metadata": {},
     "output_type": "execute_result"
    }
   ],
   "source": [
    "grid_search.fit(scaled_train_val, labels_train_val)"
   ]
  },
  {
   "cell_type": "code",
   "execution_count": 22,
   "metadata": {},
   "outputs": [
    {
     "data": {
      "text/plain": [
       "{'bootstrap': True,\n",
       " 'max_depth': 10,\n",
       " 'max_features': 'sqrt',\n",
       " 'min_samples_leaf': 1,\n",
       " 'min_samples_split': 2,\n",
       " 'n_estimators': 100}"
      ]
     },
     "execution_count": 22,
     "metadata": {},
     "output_type": "execute_result"
    }
   ],
   "source": [
    "grid_search.best_params_"
   ]
  }
 ],
 "metadata": {
  "kernelspec": {
   "display_name": "pt1.8-cuda11.1",
   "language": "python",
   "name": "pt1.8-cuda11.1"
  },
  "language_info": {
   "codemirror_mode": {
    "name": "ipython",
    "version": 3
   },
   "file_extension": ".py",
   "mimetype": "text/x-python",
   "name": "python",
   "nbconvert_exporter": "python",
   "pygments_lexer": "ipython3",
   "version": "3.8.5"
  }
 },
 "nbformat": 4,
 "nbformat_minor": 4
}

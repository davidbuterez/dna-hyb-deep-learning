{
 "cells": [
  {
   "cell_type": "code",
   "execution_count": 1,
   "metadata": {},
   "outputs": [],
   "source": [
    "%load_ext autoreload\n",
    "%autoreload 2"
   ]
  },
  {
   "cell_type": "code",
   "execution_count": 2,
   "metadata": {},
   "outputs": [],
   "source": [
    "%autoreload"
   ]
  },
  {
   "cell_type": "code",
   "execution_count": 3,
   "metadata": {},
   "outputs": [],
   "source": [
    "import torch\n",
    "import optuna\n",
    "import os\n",
    "import numpy as np\n",
    "import pandas as pd\n",
    "import deepdish as dd\n",
    "import torch.nn as nn\n",
    "import pytorch_lightning as pl\n",
    "\n",
    "from torch.nn import functional as F\n",
    "from pytorch_lightning.callbacks import ModelCheckpoint, EarlyStopping"
   ]
  },
  {
   "cell_type": "code",
   "execution_count": 9,
   "metadata": {},
   "outputs": [],
   "source": [
    "import seaborn as sns\n",
    "import matplotlib.pyplot as plt\n",
    "from sklearn.preprocessing import MinMaxScaler\n",
    "from sklearn.metrics import confusion_matrix, precision_recall_fscore_support, roc_curve, auc, matthews_corrcoef, make_scorer"
   ]
  },
  {
   "cell_type": "code",
   "execution_count": 26,
   "metadata": {},
   "outputs": [],
   "source": [
    "def get_scaled_abl(ft):\n",
    "    unpack = list((*ft,))\n",
    "    tr_selection = train_features[unpack].values\n",
    "    vl_selection = val_features[unpack].values\n",
    "    ts_selection = test_features[unpack].values\n",
    "    scaler = MinMaxScaler()\n",
    "    scaler = scaler.fit(np.concatenate((tr_selection, vl_selection, ts_selection), axis=0))\n",
    "    return scaler.transform(tr_selection), scaler.transform(vl_selection), scaler.transform(ts_selection), unpack"
   ]
  },
  {
   "cell_type": "code",
   "execution_count": 20,
   "metadata": {},
   "outputs": [],
   "source": [
    "def report(y_test, y_pred):\n",
    "    cm = confusion_matrix(y_test, y_pred)\n",
    "    cmn = cm.astype('float') / cm.sum(axis=1)[:, np.newaxis]\n",
    "\n",
    "    ax = plt.subplot()\n",
    "    sns.heatmap(cmn, annot=True, fmt=\".4f\", ax=ax)\n",
    "\n",
    "    ax.set_xlabel(\"Predicted labels\")\n",
    "    ax.set_ylabel(\"True labels\")\n",
    "    ax.set_title(\"Confusion Matrix\")\n",
    "    ax.xaxis.set_ticklabels([\"Low\", \"High\"])\n",
    "    ax.yaxis.set_ticklabels([\"Low\", \"HIgh\"])\n",
    "    for text in ax.texts:\n",
    "        text.set_size(13)\n",
    "    plt.show()\n",
    "\n",
    "    stats = precision_recall_fscore_support(y_test, y_pred, average=None)\n",
    "    mcc = matthews_corrcoef(y_test, y_pred)\n",
    "    false_positive_rate, true_positive_rate, thresholds = roc_curve(y_test, y_pred)\n",
    "    roc_auc = auc(false_positive_rate, true_positive_rate)\n",
    "    \n",
    "    print(\"Precision: %.4f  %.4f\" % tuple(stats[0]))\n",
    "    print(\"Recall: %.4f  %.4f\"  % tuple(stats[1]))\n",
    "    print(\"F1-Score %.4f  %.4f\"  % tuple(stats[2]))\n",
    "    print(\"MCC %.4f\" % mcc)\n",
    "    print(\"AUROC %.4f\" % roc_auc)"
   ]
  },
  {
   "cell_type": "code",
   "execution_count": null,
   "metadata": {},
   "outputs": [],
   "source": []
  },
  {
   "cell_type": "code",
   "execution_count": 4,
   "metadata": {},
   "outputs": [],
   "source": [
    "train = dd.io.load('../../splits/train.h5')\n",
    "val = dd.io.load('../../splits/val.h5')\n",
    "test = dd.io.load('../../splits/test.h5')\n",
    "y_train = np.load('../../splits/y_train.npy')\n",
    "y_val = np.load('../../splits/y_val.npy')\n",
    "y_test = np.load('../../splits/y_test.npy')"
   ]
  },
  {
   "cell_type": "code",
   "execution_count": 5,
   "metadata": {},
   "outputs": [],
   "source": [
    "y_train = y_train * 100\n",
    "y_val = y_val * 100\n",
    "y_test = y_test * 100"
   ]
  },
  {
   "cell_type": "code",
   "execution_count": 6,
   "metadata": {},
   "outputs": [],
   "source": [
    "df_feat = pd.read_csv('../../datasets/dataset_extracted_features.csv')"
   ]
  },
  {
   "cell_type": "code",
   "execution_count": 7,
   "metadata": {},
   "outputs": [
    {
     "data": {
      "text/html": [
       "<div>\n",
       "<style scoped>\n",
       "    .dataframe tbody tr th:only-of-type {\n",
       "        vertical-align: middle;\n",
       "    }\n",
       "\n",
       "    .dataframe tbody tr th {\n",
       "        vertical-align: top;\n",
       "    }\n",
       "\n",
       "    .dataframe thead th {\n",
       "        text-align: right;\n",
       "    }\n",
       "</style>\n",
       "<table border=\"1\" class=\"dataframe\">\n",
       "  <thead>\n",
       "    <tr style=\"text-align: right;\">\n",
       "      <th></th>\n",
       "      <th>Seq1</th>\n",
       "      <th>Seq2</th>\n",
       "      <th>Aln</th>\n",
       "      <th>GC1</th>\n",
       "      <th>GC2</th>\n",
       "      <th>SingleCon1</th>\n",
       "      <th>SingleCon2</th>\n",
       "      <th>PairCon1</th>\n",
       "      <th>PairCon2</th>\n",
       "      <th>SingleMFE1</th>\n",
       "      <th>SingleMFE2</th>\n",
       "      <th>Yield</th>\n",
       "      <th>Label</th>\n",
       "    </tr>\n",
       "  </thead>\n",
       "  <tbody>\n",
       "    <tr>\n",
       "      <th>0</th>\n",
       "      <td>AGTACAAGTAGGACAGGAAGATA</td>\n",
       "      <td>TATCTTCCTGTCCTACTCGTACT</td>\n",
       "      <td>106</td>\n",
       "      <td>39.130435</td>\n",
       "      <td>43.478261</td>\n",
       "      <td>0.999957</td>\n",
       "      <td>0.999974</td>\n",
       "      <td>0.000022</td>\n",
       "      <td>0.000013</td>\n",
       "      <td>0.000000</td>\n",
       "      <td>0.000000</td>\n",
       "      <td>0.974025</td>\n",
       "      <td>1</td>\n",
       "    </tr>\n",
       "    <tr>\n",
       "      <th>1</th>\n",
       "      <td>GAGTTCCGGTTGCCTTTCA</td>\n",
       "      <td>GAGTTCCGGGTGCCTTTCA</td>\n",
       "      <td>12</td>\n",
       "      <td>52.631579</td>\n",
       "      <td>57.894737</td>\n",
       "      <td>0.999844</td>\n",
       "      <td>0.999739</td>\n",
       "      <td>0.000078</td>\n",
       "      <td>0.000130</td>\n",
       "      <td>0.000000</td>\n",
       "      <td>0.000000</td>\n",
       "      <td>0.000193</td>\n",
       "      <td>0</td>\n",
       "    </tr>\n",
       "    <tr>\n",
       "      <th>2</th>\n",
       "      <td>TCTGGAACTAGTGCAATTTAGC</td>\n",
       "      <td>TCTAAATTGCACTAGTTCCAGA</td>\n",
       "      <td>101</td>\n",
       "      <td>40.909091</td>\n",
       "      <td>36.363636</td>\n",
       "      <td>0.999556</td>\n",
       "      <td>0.999598</td>\n",
       "      <td>0.000222</td>\n",
       "      <td>0.000201</td>\n",
       "      <td>0.000000</td>\n",
       "      <td>0.000000</td>\n",
       "      <td>0.991153</td>\n",
       "      <td>1</td>\n",
       "    </tr>\n",
       "    <tr>\n",
       "      <th>3</th>\n",
       "      <td>GGCGCGCGACGCGACATCCGATAAGA</td>\n",
       "      <td>TCTTATCGGATCTCGCGTCGCGCGCC</td>\n",
       "      <td>121</td>\n",
       "      <td>65.384615</td>\n",
       "      <td>65.384615</td>\n",
       "      <td>0.999455</td>\n",
       "      <td>0.999183</td>\n",
       "      <td>0.000273</td>\n",
       "      <td>0.000408</td>\n",
       "      <td>-2.595847</td>\n",
       "      <td>-1.870977</td>\n",
       "      <td>0.999227</td>\n",
       "      <td>1</td>\n",
       "    </tr>\n",
       "    <tr>\n",
       "      <th>4</th>\n",
       "      <td>GTGTACCATACCATGAACGCCGGA</td>\n",
       "      <td>TCCGGCGTCATGGTATGGTACAC</td>\n",
       "      <td>110</td>\n",
       "      <td>54.166667</td>\n",
       "      <td>56.521739</td>\n",
       "      <td>0.998893</td>\n",
       "      <td>0.999652</td>\n",
       "      <td>0.000554</td>\n",
       "      <td>0.000174</td>\n",
       "      <td>0.000000</td>\n",
       "      <td>0.000000</td>\n",
       "      <td>0.996585</td>\n",
       "      <td>1</td>\n",
       "    </tr>\n",
       "    <tr>\n",
       "      <th>...</th>\n",
       "      <td>...</td>\n",
       "      <td>...</td>\n",
       "      <td>...</td>\n",
       "      <td>...</td>\n",
       "      <td>...</td>\n",
       "      <td>...</td>\n",
       "      <td>...</td>\n",
       "      <td>...</td>\n",
       "      <td>...</td>\n",
       "      <td>...</td>\n",
       "      <td>...</td>\n",
       "      <td>...</td>\n",
       "      <td>...</td>\n",
       "    </tr>\n",
       "    <tr>\n",
       "      <th>2556971</th>\n",
       "      <td>AGCAAGGCACAGGACTTAGTACCAAA</td>\n",
       "      <td>TTTGGTACTAAGTCCTGTGCCGCT</td>\n",
       "      <td>113</td>\n",
       "      <td>46.153846</td>\n",
       "      <td>50.000000</td>\n",
       "      <td>0.999938</td>\n",
       "      <td>0.999916</td>\n",
       "      <td>0.000031</td>\n",
       "      <td>0.000042</td>\n",
       "      <td>-0.317577</td>\n",
       "      <td>0.000000</td>\n",
       "      <td>0.995240</td>\n",
       "      <td>1</td>\n",
       "    </tr>\n",
       "    <tr>\n",
       "      <th>2556972</th>\n",
       "      <td>CAGGCTGAGACCTAACTCTTTAGCC</td>\n",
       "      <td>GGCTAAAAGGTTAGGTCTCAGCCTG</td>\n",
       "      <td>110</td>\n",
       "      <td>52.000000</td>\n",
       "      <td>52.000000</td>\n",
       "      <td>0.999786</td>\n",
       "      <td>0.999896</td>\n",
       "      <td>0.000107</td>\n",
       "      <td>0.000052</td>\n",
       "      <td>0.000000</td>\n",
       "      <td>0.000000</td>\n",
       "      <td>0.973733</td>\n",
       "      <td>1</td>\n",
       "    </tr>\n",
       "    <tr>\n",
       "      <th>2556973</th>\n",
       "      <td>CATATCAACTCCAGGAATCCTT</td>\n",
       "      <td>AAGGATTCCTGCAGATGATATG</td>\n",
       "      <td>92</td>\n",
       "      <td>40.909091</td>\n",
       "      <td>40.909091</td>\n",
       "      <td>0.999334</td>\n",
       "      <td>0.998677</td>\n",
       "      <td>0.000333</td>\n",
       "      <td>0.000662</td>\n",
       "      <td>0.000000</td>\n",
       "      <td>0.000000</td>\n",
       "      <td>0.529762</td>\n",
       "      <td>1</td>\n",
       "    </tr>\n",
       "    <tr>\n",
       "      <th>2556974</th>\n",
       "      <td>GAATGCAGAGTTCGATGTCGGT</td>\n",
       "      <td>ACCAGTACACATCGAACTCTGCATTC</td>\n",
       "      <td>96</td>\n",
       "      <td>50.000000</td>\n",
       "      <td>46.153846</td>\n",
       "      <td>0.999855</td>\n",
       "      <td>0.999893</td>\n",
       "      <td>0.000073</td>\n",
       "      <td>0.000053</td>\n",
       "      <td>0.000000</td>\n",
       "      <td>0.000000</td>\n",
       "      <td>0.984665</td>\n",
       "      <td>1</td>\n",
       "    </tr>\n",
       "    <tr>\n",
       "      <th>2556975</th>\n",
       "      <td>CCGTTGGCATCTGCTACGCTGCTCAG</td>\n",
       "      <td>CTGAGCAGCGTAGCAGACGCCAACGG</td>\n",
       "      <td>121</td>\n",
       "      <td>61.538462</td>\n",
       "      <td>65.384615</td>\n",
       "      <td>0.999917</td>\n",
       "      <td>0.999944</td>\n",
       "      <td>0.000042</td>\n",
       "      <td>0.000028</td>\n",
       "      <td>0.000000</td>\n",
       "      <td>-1.775886</td>\n",
       "      <td>0.999737</td>\n",
       "      <td>1</td>\n",
       "    </tr>\n",
       "  </tbody>\n",
       "</table>\n",
       "<p>2556976 rows × 13 columns</p>\n",
       "</div>"
      ],
      "text/plain": [
       "                               Seq1                        Seq2  Aln  \\\n",
       "0           AGTACAAGTAGGACAGGAAGATA     TATCTTCCTGTCCTACTCGTACT  106   \n",
       "1               GAGTTCCGGTTGCCTTTCA         GAGTTCCGGGTGCCTTTCA   12   \n",
       "2            TCTGGAACTAGTGCAATTTAGC      TCTAAATTGCACTAGTTCCAGA  101   \n",
       "3        GGCGCGCGACGCGACATCCGATAAGA  TCTTATCGGATCTCGCGTCGCGCGCC  121   \n",
       "4          GTGTACCATACCATGAACGCCGGA     TCCGGCGTCATGGTATGGTACAC  110   \n",
       "...                             ...                         ...  ...   \n",
       "2556971  AGCAAGGCACAGGACTTAGTACCAAA    TTTGGTACTAAGTCCTGTGCCGCT  113   \n",
       "2556972   CAGGCTGAGACCTAACTCTTTAGCC   GGCTAAAAGGTTAGGTCTCAGCCTG  110   \n",
       "2556973      CATATCAACTCCAGGAATCCTT      AAGGATTCCTGCAGATGATATG   92   \n",
       "2556974      GAATGCAGAGTTCGATGTCGGT  ACCAGTACACATCGAACTCTGCATTC   96   \n",
       "2556975  CCGTTGGCATCTGCTACGCTGCTCAG  CTGAGCAGCGTAGCAGACGCCAACGG  121   \n",
       "\n",
       "               GC1        GC2  SingleCon1  SingleCon2  PairCon1  PairCon2  \\\n",
       "0        39.130435  43.478261    0.999957    0.999974  0.000022  0.000013   \n",
       "1        52.631579  57.894737    0.999844    0.999739  0.000078  0.000130   \n",
       "2        40.909091  36.363636    0.999556    0.999598  0.000222  0.000201   \n",
       "3        65.384615  65.384615    0.999455    0.999183  0.000273  0.000408   \n",
       "4        54.166667  56.521739    0.998893    0.999652  0.000554  0.000174   \n",
       "...            ...        ...         ...         ...       ...       ...   \n",
       "2556971  46.153846  50.000000    0.999938    0.999916  0.000031  0.000042   \n",
       "2556972  52.000000  52.000000    0.999786    0.999896  0.000107  0.000052   \n",
       "2556973  40.909091  40.909091    0.999334    0.998677  0.000333  0.000662   \n",
       "2556974  50.000000  46.153846    0.999855    0.999893  0.000073  0.000053   \n",
       "2556975  61.538462  65.384615    0.999917    0.999944  0.000042  0.000028   \n",
       "\n",
       "         SingleMFE1  SingleMFE2     Yield  Label  \n",
       "0          0.000000    0.000000  0.974025      1  \n",
       "1          0.000000    0.000000  0.000193      0  \n",
       "2          0.000000    0.000000  0.991153      1  \n",
       "3         -2.595847   -1.870977  0.999227      1  \n",
       "4          0.000000    0.000000  0.996585      1  \n",
       "...             ...         ...       ...    ...  \n",
       "2556971   -0.317577    0.000000  0.995240      1  \n",
       "2556972    0.000000    0.000000  0.973733      1  \n",
       "2556973    0.000000    0.000000  0.529762      1  \n",
       "2556974    0.000000    0.000000  0.984665      1  \n",
       "2556975    0.000000   -1.775886  0.999737      1  \n",
       "\n",
       "[2556976 rows x 13 columns]"
      ]
     },
     "execution_count": 7,
     "metadata": {},
     "output_type": "execute_result"
    }
   ],
   "source": [
    "df_feat"
   ]
  },
  {
   "cell_type": "code",
   "execution_count": 8,
   "metadata": {},
   "outputs": [],
   "source": [
    "train_features = df_feat.loc[(df_feat['Seq1'].isin([item[0] for item in train])) & (df_feat['Seq2'].isin([item[1] for item in train]))]\n",
    "val_features = df_feat.loc[(df_feat['Seq1'].isin([item[0] for item in val])) & (df_feat['Seq2'].isin([item[1] for item in val]))]\n",
    "test_features = df_feat.loc[(df_feat['Seq1'].isin([item[0] for item in test])) & (df_feat['Seq2'].isin([item[1] for item in test]))]"
   ]
  },
  {
   "cell_type": "code",
   "execution_count": 10,
   "metadata": {},
   "outputs": [],
   "source": [
    "train_feat = train_features[['Aln', 'GC1', 'GC2', 'SingleCon1', 'SingleCon2', 'PairCon1', 'PairCon2', 'SingleMFE1', 'SingleMFE2']].values\n",
    "val_feat = val_features[['Aln', 'GC1', 'GC2', 'SingleCon1', 'SingleCon2', 'PairCon1', 'PairCon2', 'SingleMFE1', 'SingleMFE2']].values\n",
    "test_feat = test_features[['Aln', 'GC1', 'GC2', 'SingleCon1', 'SingleCon2', 'PairCon1', 'PairCon2', 'SingleMFE1', 'SingleMFE2']].values"
   ]
  },
  {
   "cell_type": "code",
   "execution_count": 11,
   "metadata": {},
   "outputs": [],
   "source": [
    "train_labels = train_features[['Label']].values.squeeze()\n",
    "val_labels = val_features[['Label']].values.squeeze()\n",
    "test_labels = test_features[['Label']].values.squeeze()"
   ]
  },
  {
   "cell_type": "code",
   "execution_count": 12,
   "metadata": {},
   "outputs": [],
   "source": [
    "scaler = MinMaxScaler()\n",
    "scaler = scaler.fit(np.concatenate((train_feat, val_feat, test_feat), axis=0))\n",
    "scaled_train = scaler.transform(train_feat)\n",
    "scaled_val = scaler.transform(val_feat)\n",
    "scaled_test = scaler.transform(test_feat)"
   ]
  },
  {
   "cell_type": "code",
   "execution_count": 13,
   "metadata": {},
   "outputs": [],
   "source": [
    "torch.set_default_tensor_type(torch.FloatTensor)\n",
    "torch.set_default_dtype(torch.float)"
   ]
  },
  {
   "cell_type": "code",
   "execution_count": 47,
   "metadata": {},
   "outputs": [],
   "source": [
    "class LightningWrapper(pl.LightningModule):\n",
    "    def __init__(self, num_batches=1024, lr=0.00021889729263244634, dropout=0.32964090436497967):\n",
    "        super(LightningWrapper, self).__init__()\n",
    "        \n",
    "        def lin_block(in_dim, out_dim, dropout):\n",
    "            return nn.Sequential(\n",
    "                nn.Linear(in_dim, out_dim),\n",
    "                nn.ReLU(),\n",
    "                nn.Dropout(dropout),\n",
    "            )\n",
    "        \n",
    "        self.num_batches = num_batches\n",
    "        self.lr = lr\n",
    "        self.dropout = dropout\n",
    "        \n",
    "        self.lin = nn.Sequential(\n",
    "            lin_block(5, 117, self.dropout),\n",
    "            lin_block(117, 18, self.dropout),\n",
    "            lin_block(18, 7, self.dropout),\n",
    "            lin_block(7, 19, self.dropout),\n",
    "            lin_block(19, 1, self.dropout),\n",
    "        )\n",
    "        \n",
    "        self.out_predictions = []\n",
    "        self.save_hyperparameters()\n",
    "\n",
    "    def forward(self, x):\n",
    "        return self.lin(x.float()).squeeze()\n",
    "\n",
    "    def training_step(self, batch, batch_nb):\n",
    "        x, target = batch\n",
    "        output = self.forward(x)\n",
    "        loss = F.binary_cross_entropy_with_logits(output, target.float())\n",
    "        \n",
    "        self.log(\"train_loss\", loss)\n",
    "        return loss\n",
    "\n",
    "    def validation_step(self, batch, batch_nb):\n",
    "        x, target = batch\n",
    "        output = self.forward(x)\n",
    "        loss = F.binary_cross_entropy_with_logits(output, target.float())\n",
    "        \n",
    "        self.log(\"val_loss\", loss)\n",
    "        return loss\n",
    "    \n",
    "    def test_step(self, batch, batch_nb):\n",
    "        x, target = batch\n",
    "        output = self.forward(x)\n",
    "        self.out_predictions.append(output)\n",
    "        loss = F.binary_cross_entropy_with_logits(output, target.float())\n",
    "        \n",
    "        self.log(\"test_loss\", loss) \n",
    "        return loss\n",
    "\n",
    "    def configure_optimizers(self):\n",
    "        return torch.optim.Adam(self.parameters(), self.lr)\n",
    "\n",
    "    def train_dataloader(self):\n",
    "        return torch.utils.data.DataLoader(\n",
    "            list(zip(tr, train_labels)),\n",
    "            batch_size=self.num_batches,\n",
    "            shuffle=True,\n",
    "        )\n",
    "\n",
    "    def val_dataloader(self):\n",
    "        return torch.utils.data.DataLoader(\n",
    "            list(zip(vl, val_labels)),\n",
    "            batch_size=self.num_batches,\n",
    "            shuffle=False,\n",
    "        )\n",
    "    \n",
    "    def test_dataloader(self):\n",
    "        return torch.utils.data.DataLoader(\n",
    "            list(zip(ts, test_labels)),\n",
    "            batch_size=self.num_batches,\n",
    "            shuffle=False,\n",
    "        )"
   ]
  },
  {
   "cell_type": "code",
   "execution_count": 18,
   "metadata": {},
   "outputs": [
    {
     "name": "stderr",
     "output_type": "stream",
     "text": [
      "GPU available: True, used: True\n",
      "TPU available: None, using: 0 TPU cores\n",
      "LOCAL_RANK: 0 - CUDA_VISIBLE_DEVICES: [0]\n"
     ]
    }
   ],
   "source": [
    "early_stopping = EarlyStopping('val_loss', patience=3)\n",
    "\n",
    "trainer = pl.Trainer(\n",
    "    gpus=[0],\n",
    "    callbacks=[early_stopping],\n",
    "    min_epochs=3\n",
    ")\n",
    "\n",
    "model = LightningWrapper()"
   ]
  },
  {
   "cell_type": "code",
   "execution_count": 19,
   "metadata": {},
   "outputs": [
    {
     "name": "stderr",
     "output_type": "stream",
     "text": [
      "\n",
      "  | Name | Type       | Params\n",
      "------------------------------------\n",
      "0 | lin  | Sequential | 3.6 K \n",
      "------------------------------------\n",
      "3.6 K     Trainable params\n",
      "0         Non-trainable params\n",
      "3.6 K     Total params\n"
     ]
    },
    {
     "data": {
      "application/vnd.jupyter.widget-view+json": {
       "model_id": "",
       "version_major": 2,
       "version_minor": 0
      },
      "text/plain": [
       "Validation sanity check: 0it [00:00, ?it/s]"
      ]
     },
     "metadata": {},
     "output_type": "display_data"
    },
    {
     "data": {
      "application/vnd.jupyter.widget-view+json": {
       "model_id": "68fed052ffeb431491b16849f889704d",
       "version_major": 2,
       "version_minor": 0
      },
      "text/plain": [
       "Training: 0it [00:00, ?it/s]"
      ]
     },
     "metadata": {},
     "output_type": "display_data"
    },
    {
     "data": {
      "application/vnd.jupyter.widget-view+json": {
       "model_id": "",
       "version_major": 2,
       "version_minor": 0
      },
      "text/plain": [
       "Validating: 0it [00:00, ?it/s]"
      ]
     },
     "metadata": {},
     "output_type": "display_data"
    },
    {
     "data": {
      "application/vnd.jupyter.widget-view+json": {
       "model_id": "",
       "version_major": 2,
       "version_minor": 0
      },
      "text/plain": [
       "Validating: 0it [00:00, ?it/s]"
      ]
     },
     "metadata": {},
     "output_type": "display_data"
    },
    {
     "data": {
      "application/vnd.jupyter.widget-view+json": {
       "model_id": "",
       "version_major": 2,
       "version_minor": 0
      },
      "text/plain": [
       "Validating: 0it [00:00, ?it/s]"
      ]
     },
     "metadata": {},
     "output_type": "display_data"
    },
    {
     "data": {
      "application/vnd.jupyter.widget-view+json": {
       "model_id": "",
       "version_major": 2,
       "version_minor": 0
      },
      "text/plain": [
       "Validating: 0it [00:00, ?it/s]"
      ]
     },
     "metadata": {},
     "output_type": "display_data"
    },
    {
     "data": {
      "application/vnd.jupyter.widget-view+json": {
       "model_id": "",
       "version_major": 2,
       "version_minor": 0
      },
      "text/plain": [
       "Validating: 0it [00:00, ?it/s]"
      ]
     },
     "metadata": {},
     "output_type": "display_data"
    },
    {
     "data": {
      "text/plain": [
       "1"
      ]
     },
     "execution_count": 19,
     "metadata": {},
     "output_type": "execute_result"
    }
   ],
   "source": [
    "trainer.fit(model)"
   ]
  },
  {
   "cell_type": "code",
   "execution_count": 21,
   "metadata": {},
   "outputs": [
    {
     "data": {
      "application/vnd.jupyter.widget-view+json": {
       "model_id": "218c5a7a737540bb934206e7b697b5da",
       "version_major": 2,
       "version_minor": 0
      },
      "text/plain": [
       "Testing: 0it [00:00, ?it/s]"
      ]
     },
     "metadata": {},
     "output_type": "display_data"
    },
    {
     "name": "stdout",
     "output_type": "stream",
     "text": [
      "--------------------------------------------------------------------------------\n",
      "DATALOADER:0 TEST RESULTS\n",
      "{'test_loss': tensor(0.3980, device='cuda:0')}\n",
      "--------------------------------------------------------------------------------\n"
     ]
    },
    {
     "data": {
      "text/plain": [
       "[{'test_loss': 0.3980419337749481}]"
      ]
     },
     "execution_count": 21,
     "metadata": {},
     "output_type": "execute_result"
    }
   ],
   "source": [
    "trainer.test()"
   ]
  },
  {
   "cell_type": "code",
   "execution_count": 22,
   "metadata": {},
   "outputs": [],
   "source": [
    "predictions = torch.sigmoid(torch.cat(model.out_predictions))\n",
    "predictions = torch.gt(predictions, 0.5).int()"
   ]
  },
  {
   "cell_type": "code",
   "execution_count": 23,
   "metadata": {},
   "outputs": [
    {
     "data": {
      "text/plain": [
       "torch.Size([255701])"
      ]
     },
     "execution_count": 23,
     "metadata": {},
     "output_type": "execute_result"
    }
   ],
   "source": [
    "predictions.shape"
   ]
  },
  {
   "cell_type": "code",
   "execution_count": 24,
   "metadata": {},
   "outputs": [
    {
     "data": {
      "image/png": "[encoded data removed]",
      "text/plain": [
       "<Figure size 432x288 with 2 Axes>"
      ]
     },
     "metadata": {
      "needs_background": "light"
     },
     "output_type": "display_data"
    },
    {
     "name": "stdout",
     "output_type": "stream",
     "text": [
      "Precision: 0.9713  0.9137\n",
      "Recall: 0.8811  0.9797\n",
      "F1-Score 0.9240  0.9455\n",
      "MCC 0.8728\n",
      "AUROC 0.9304\n"
     ]
    }
   ],
   "source": [
    "report(test_labels, predictions.cpu().numpy())"
   ]
  },
  {
   "cell_type": "markdown",
   "metadata": {},
   "source": [
    "### Aln-GC model"
   ]
  },
  {
   "cell_type": "code",
   "execution_count": 31,
   "metadata": {},
   "outputs": [],
   "source": [
    "tr, vl, ts, cols = get_scaled_abl(['Aln', 'GC1', 'GC2'])"
   ]
  },
  {
   "cell_type": "code",
   "execution_count": 33,
   "metadata": {},
   "outputs": [],
   "source": [
    "model_aln_gc = LightningWrapper()"
   ]
  },
  {
   "cell_type": "code",
   "execution_count": 34,
   "metadata": {},
   "outputs": [],
   "source": [
    "early_stopping_aln_gc = EarlyStopping('val_loss', patience=3)"
   ]
  },
  {
   "cell_type": "code",
   "execution_count": 35,
   "metadata": {},
   "outputs": [
    {
     "name": "stderr",
     "output_type": "stream",
     "text": [
      "GPU available: True, used: True\n",
      "TPU available: None, using: 0 TPU cores\n",
      "LOCAL_RANK: 0 - CUDA_VISIBLE_DEVICES: [0]\n"
     ]
    }
   ],
   "source": [
    "trainer_aln_gc = pl.Trainer(\n",
    "    gpus=[0],\n",
    "    callbacks=[early_stopping_aln_gc],\n",
    "    min_epochs=3\n",
    ")"
   ]
  },
  {
   "cell_type": "code",
   "execution_count": 36,
   "metadata": {},
   "outputs": [
    {
     "name": "stderr",
     "output_type": "stream",
     "text": [
      "\n",
      "  | Name | Type       | Params\n",
      "------------------------------------\n",
      "0 | lin  | Sequential | 2.9 K \n",
      "------------------------------------\n",
      "2.9 K     Trainable params\n",
      "0         Non-trainable params\n",
      "2.9 K     Total params\n"
     ]
    },
    {
     "data": {
      "application/vnd.jupyter.widget-view+json": {
       "model_id": "",
       "version_major": 2,
       "version_minor": 0
      },
      "text/plain": [
       "Validation sanity check: 0it [00:00, ?it/s]"
      ]
     },
     "metadata": {},
     "output_type": "display_data"
    },
    {
     "data": {
      "application/vnd.jupyter.widget-view+json": {
       "model_id": "0fcccae94106491c900423bb297bb7c6",
       "version_major": 2,
       "version_minor": 0
      },
      "text/plain": [
       "Training: 0it [00:00, ?it/s]"
      ]
     },
     "metadata": {},
     "output_type": "display_data"
    },
    {
     "data": {
      "application/vnd.jupyter.widget-view+json": {
       "model_id": "",
       "version_major": 2,
       "version_minor": 0
      },
      "text/plain": [
       "Validating: 0it [00:00, ?it/s]"
      ]
     },
     "metadata": {},
     "output_type": "display_data"
    },
    {
     "data": {
      "application/vnd.jupyter.widget-view+json": {
       "model_id": "",
       "version_major": 2,
       "version_minor": 0
      },
      "text/plain": [
       "Validating: 0it [00:00, ?it/s]"
      ]
     },
     "metadata": {},
     "output_type": "display_data"
    },
    {
     "data": {
      "application/vnd.jupyter.widget-view+json": {
       "model_id": "",
       "version_major": 2,
       "version_minor": 0
      },
      "text/plain": [
       "Validating: 0it [00:00, ?it/s]"
      ]
     },
     "metadata": {},
     "output_type": "display_data"
    },
    {
     "data": {
      "application/vnd.jupyter.widget-view+json": {
       "model_id": "",
       "version_major": 2,
       "version_minor": 0
      },
      "text/plain": [
       "Validating: 0it [00:00, ?it/s]"
      ]
     },
     "metadata": {},
     "output_type": "display_data"
    },
    {
     "data": {
      "application/vnd.jupyter.widget-view+json": {
       "model_id": "",
       "version_major": 2,
       "version_minor": 0
      },
      "text/plain": [
       "Validating: 0it [00:00, ?it/s]"
      ]
     },
     "metadata": {},
     "output_type": "display_data"
    },
    {
     "data": {
      "application/vnd.jupyter.widget-view+json": {
       "model_id": "",
       "version_major": 2,
       "version_minor": 0
      },
      "text/plain": [
       "Validating: 0it [00:00, ?it/s]"
      ]
     },
     "metadata": {},
     "output_type": "display_data"
    },
    {
     "data": {
      "application/vnd.jupyter.widget-view+json": {
       "model_id": "",
       "version_major": 2,
       "version_minor": 0
      },
      "text/plain": [
       "Validating: 0it [00:00, ?it/s]"
      ]
     },
     "metadata": {},
     "output_type": "display_data"
    },
    {
     "data": {
      "text/plain": [
       "1"
      ]
     },
     "execution_count": 36,
     "metadata": {},
     "output_type": "execute_result"
    }
   ],
   "source": [
    "trainer_aln_gc.fit(model_aln_gc)"
   ]
  },
  {
   "cell_type": "code",
   "execution_count": 37,
   "metadata": {},
   "outputs": [
    {
     "data": {
      "application/vnd.jupyter.widget-view+json": {
       "model_id": "4c1e462cd7c54f338be18d0744d38d36",
       "version_major": 2,
       "version_minor": 0
      },
      "text/plain": [
       "Testing: 0it [00:00, ?it/s]"
      ]
     },
     "metadata": {},
     "output_type": "display_data"
    },
    {
     "name": "stdout",
     "output_type": "stream",
     "text": [
      "--------------------------------------------------------------------------------\n",
      "DATALOADER:0 TEST RESULTS\n",
      "{'test_loss': tensor(0.4087, device='cuda:0')}\n",
      "--------------------------------------------------------------------------------\n"
     ]
    },
    {
     "data": {
      "text/plain": [
       "[{'test_loss': 0.4087185859680176}]"
      ]
     },
     "execution_count": 37,
     "metadata": {},
     "output_type": "execute_result"
    }
   ],
   "source": [
    "trainer_aln_gc.test()"
   ]
  },
  {
   "cell_type": "code",
   "execution_count": 38,
   "metadata": {},
   "outputs": [],
   "source": [
    "predictions_aln_gc = torch.sigmoid(torch.cat(model_aln_gc.out_predictions))\n",
    "predictions_aln_gc = torch.gt(predictions_aln_gc, 0.5).int()"
   ]
  },
  {
   "cell_type": "code",
   "execution_count": 39,
   "metadata": {},
   "outputs": [
    {
     "data": {
      "image/png": "[encoded data removed]",
      "text/plain": [
       "<Figure size 432x288 with 2 Axes>"
      ]
     },
     "metadata": {
      "needs_background": "light"
     },
     "output_type": "display_data"
    },
    {
     "name": "stdout",
     "output_type": "stream",
     "text": [
      "Precision: 0.9451  0.9267\n",
      "Recall: 0.9025  0.9592\n",
      "F1-Score 0.9233  0.9427\n",
      "MCC 0.8667\n",
      "AUROC 0.9309\n"
     ]
    }
   ],
   "source": [
    "report(test_labels, predictions_aln_gc.cpu().numpy())"
   ]
  },
  {
   "cell_type": "markdown",
   "metadata": {},
   "source": [
    "### Aln-GC-MFE model"
   ]
  },
  {
   "cell_type": "code",
   "execution_count": 41,
   "metadata": {},
   "outputs": [],
   "source": [
    "tr, vl, ts, cols = get_scaled_abl(['Aln', 'GC1', 'GC2', 'SingleMFE1', 'SingleMFE2'])"
   ]
  },
  {
   "cell_type": "code",
   "execution_count": 48,
   "metadata": {},
   "outputs": [],
   "source": [
    "model_aln_gc_mfe = LightningWrapper()"
   ]
  },
  {
   "cell_type": "code",
   "execution_count": 49,
   "metadata": {},
   "outputs": [],
   "source": [
    "early_stopping_aln_gc_mfe = EarlyStopping('val_loss', patience=3)"
   ]
  },
  {
   "cell_type": "code",
   "execution_count": 50,
   "metadata": {},
   "outputs": [
    {
     "name": "stderr",
     "output_type": "stream",
     "text": [
      "GPU available: True, used: True\n",
      "TPU available: None, using: 0 TPU cores\n",
      "LOCAL_RANK: 0 - CUDA_VISIBLE_DEVICES: [0]\n"
     ]
    }
   ],
   "source": [
    "trainer_aln_gc_mfe = pl.Trainer(\n",
    "    gpus=[0],\n",
    "    callbacks=[early_stopping_aln_gc_mfe],\n",
    "    min_epochs=3\n",
    ")"
   ]
  },
  {
   "cell_type": "code",
   "execution_count": 51,
   "metadata": {},
   "outputs": [
    {
     "name": "stderr",
     "output_type": "stream",
     "text": [
      "\n",
      "  | Name | Type       | Params\n",
      "------------------------------------\n",
      "0 | lin  | Sequential | 3.1 K \n",
      "------------------------------------\n",
      "3.1 K     Trainable params\n",
      "0         Non-trainable params\n",
      "3.1 K     Total params\n"
     ]
    },
    {
     "data": {
      "application/vnd.jupyter.widget-view+json": {
       "model_id": "",
       "version_major": 2,
       "version_minor": 0
      },
      "text/plain": [
       "Validation sanity check: 0it [00:00, ?it/s]"
      ]
     },
     "metadata": {},
     "output_type": "display_data"
    },
    {
     "data": {
      "application/vnd.jupyter.widget-view+json": {
       "model_id": "ca1d93ae8f364c2ea8064407273cbe78",
       "version_major": 2,
       "version_minor": 0
      },
      "text/plain": [
       "Training: 0it [00:00, ?it/s]"
      ]
     },
     "metadata": {},
     "output_type": "display_data"
    },
    {
     "data": {
      "application/vnd.jupyter.widget-view+json": {
       "model_id": "",
       "version_major": 2,
       "version_minor": 0
      },
      "text/plain": [
       "Validating: 0it [00:00, ?it/s]"
      ]
     },
     "metadata": {},
     "output_type": "display_data"
    },
    {
     "data": {
      "application/vnd.jupyter.widget-view+json": {
       "model_id": "",
       "version_major": 2,
       "version_minor": 0
      },
      "text/plain": [
       "Validating: 0it [00:00, ?it/s]"
      ]
     },
     "metadata": {},
     "output_type": "display_data"
    },
    {
     "data": {
      "application/vnd.jupyter.widget-view+json": {
       "model_id": "",
       "version_major": 2,
       "version_minor": 0
      },
      "text/plain": [
       "Validating: 0it [00:00, ?it/s]"
      ]
     },
     "metadata": {},
     "output_type": "display_data"
    },
    {
     "data": {
      "application/vnd.jupyter.widget-view+json": {
       "model_id": "",
       "version_major": 2,
       "version_minor": 0
      },
      "text/plain": [
       "Validating: 0it [00:00, ?it/s]"
      ]
     },
     "metadata": {},
     "output_type": "display_data"
    },
    {
     "data": {
      "application/vnd.jupyter.widget-view+json": {
       "model_id": "",
       "version_major": 2,
       "version_minor": 0
      },
      "text/plain": [
       "Validating: 0it [00:00, ?it/s]"
      ]
     },
     "metadata": {},
     "output_type": "display_data"
    },
    {
     "data": {
      "application/vnd.jupyter.widget-view+json": {
       "model_id": "",
       "version_major": 2,
       "version_minor": 0
      },
      "text/plain": [
       "Validating: 0it [00:00, ?it/s]"
      ]
     },
     "metadata": {},
     "output_type": "display_data"
    },
    {
     "data": {
      "application/vnd.jupyter.widget-view+json": {
       "model_id": "",
       "version_major": 2,
       "version_minor": 0
      },
      "text/plain": [
       "Validating: 0it [00:00, ?it/s]"
      ]
     },
     "metadata": {},
     "output_type": "display_data"
    },
    {
     "data": {
      "application/vnd.jupyter.widget-view+json": {
       "model_id": "",
       "version_major": 2,
       "version_minor": 0
      },
      "text/plain": [
       "Validating: 0it [00:00, ?it/s]"
      ]
     },
     "metadata": {},
     "output_type": "display_data"
    },
    {
     "data": {
      "application/vnd.jupyter.widget-view+json": {
       "model_id": "",
       "version_major": 2,
       "version_minor": 0
      },
      "text/plain": [
       "Validating: 0it [00:00, ?it/s]"
      ]
     },
     "metadata": {},
     "output_type": "display_data"
    },
    {
     "data": {
      "application/vnd.jupyter.widget-view+json": {
       "model_id": "",
       "version_major": 2,
       "version_minor": 0
      },
      "text/plain": [
       "Validating: 0it [00:00, ?it/s]"
      ]
     },
     "metadata": {},
     "output_type": "display_data"
    },
    {
     "data": {
      "text/plain": [
       "1"
      ]
     },
     "execution_count": 51,
     "metadata": {},
     "output_type": "execute_result"
    }
   ],
   "source": [
    "trainer_aln_gc_mfe.fit(model_aln_gc_mfe)"
   ]
  },
  {
   "cell_type": "code",
   "execution_count": 52,
   "metadata": {},
   "outputs": [
    {
     "data": {
      "application/vnd.jupyter.widget-view+json": {
       "model_id": "98dc6351594d4903ae26bb8536a59f98",
       "version_major": 2,
       "version_minor": 0
      },
      "text/plain": [
       "Testing: 0it [00:00, ?it/s]"
      ]
     },
     "metadata": {},
     "output_type": "display_data"
    },
    {
     "name": "stdout",
     "output_type": "stream",
     "text": [
      "--------------------------------------------------------------------------------\n",
      "DATALOADER:0 TEST RESULTS\n",
      "{'test_loss': tensor(0.3977, device='cuda:0')}\n",
      "--------------------------------------------------------------------------------\n"
     ]
    },
    {
     "data": {
      "text/plain": [
       "[{'test_loss': 0.39765822887420654}]"
      ]
     },
     "execution_count": 52,
     "metadata": {},
     "output_type": "execute_result"
    }
   ],
   "source": [
    "trainer_aln_gc_mfe.test()"
   ]
  },
  {
   "cell_type": "code",
   "execution_count": 53,
   "metadata": {},
   "outputs": [],
   "source": [
    "predictions_aln_gc_mfe = torch.sigmoid(torch.cat(model_aln_gc_mfe.out_predictions))\n",
    "predictions_aln_gc_mfe = torch.gt(predictions_aln_gc_mfe, 0.5).int()"
   ]
  },
  {
   "cell_type": "code",
   "execution_count": 54,
   "metadata": {},
   "outputs": [
    {
     "data": {
      "image/png": "[encoded data removed]",
      "text/plain": [
       "<Figure size 432x288 with 2 Axes>"
      ]
     },
     "metadata": {
      "needs_background": "light"
     },
     "output_type": "display_data"
    },
    {
     "name": "stdout",
     "output_type": "stream",
     "text": [
      "Precision: 0.9559  0.9233\n",
      "Recall: 0.8967  0.9678\n",
      "F1-Score 0.9254  0.9450\n",
      "MCC 0.8718\n",
      "AUROC 0.9323\n"
     ]
    }
   ],
   "source": [
    "report(test_labels, predictions_aln_gc_mfe.cpu().numpy())"
   ]
  }
 ],
 "metadata": {
  "kernelspec": {
   "display_name": "pt1.8-cuda11.1",
   "language": "python",
   "name": "pt1.8-cuda11.1"
  },
  "language_info": {
   "codemirror_mode": {
    "name": "ipython",
    "version": 3
   },
   "file_extension": ".py",
   "mimetype": "text/x-python",
   "name": "python",
   "nbconvert_exporter": "python",
   "pygments_lexer": "ipython3",
   "version": "3.8.5"
  }
 },
 "nbformat": 4,
 "nbformat_minor": 4
}
